{
  "nbformat": 4,
  "nbformat_minor": 0,
  "metadata": {
    "colab": {
      "name": "text_summariser_pytorch.ipynb",
      "provenance": [],
      "machine_shape": "hm",
      "authorship_tag": "ABX9TyNp33RX5mRcHBOut3dzstP7",
      "include_colab_link": true
    },
    "kernelspec": {
      "name": "python3",
      "display_name": "Python 3"
    },
    "widgets": {
      "application/vnd.jupyter.widget-state+json": {
        "0a3b98bc25ff43ee935d8059e68f0c1c": {
          "model_module": "@jupyter-widgets/controls",
          "model_name": "HBoxModel",
          "state": {
            "_view_name": "HBoxView",
            "_dom_classes": [],
            "_model_name": "HBoxModel",
            "_view_module": "@jupyter-widgets/controls",
            "_model_module_version": "1.5.0",
            "_view_count": null,
            "_view_module_version": "1.5.0",
            "box_style": "",
            "layout": "IPY_MODEL_4c34a09c591c43c5a10ffecc3e789f22",
            "_model_module": "@jupyter-widgets/controls",
            "children": [
              "IPY_MODEL_31967aab6dc244fba05a06239a3420db",
              "IPY_MODEL_3963a4a8dcee4f2d8deb9a36feef6e3e"
            ]
          }
        },
        "4c34a09c591c43c5a10ffecc3e789f22": {
          "model_module": "@jupyter-widgets/base",
          "model_name": "LayoutModel",
          "state": {
            "_view_name": "LayoutView",
            "grid_template_rows": null,
            "right": null,
            "justify_content": null,
            "_view_module": "@jupyter-widgets/base",
            "overflow": null,
            "_model_module_version": "1.2.0",
            "_view_count": null,
            "flex_flow": null,
            "width": null,
            "min_width": null,
            "border": null,
            "align_items": null,
            "bottom": null,
            "_model_module": "@jupyter-widgets/base",
            "top": null,
            "grid_column": null,
            "overflow_y": null,
            "overflow_x": null,
            "grid_auto_flow": null,
            "grid_area": null,
            "grid_template_columns": null,
            "flex": null,
            "_model_name": "LayoutModel",
            "justify_items": null,
            "grid_row": null,
            "max_height": null,
            "align_content": null,
            "visibility": null,
            "align_self": null,
            "height": null,
            "min_height": null,
            "padding": null,
            "grid_auto_rows": null,
            "grid_gap": null,
            "max_width": null,
            "order": null,
            "_view_module_version": "1.2.0",
            "grid_template_areas": null,
            "object_position": null,
            "object_fit": null,
            "grid_auto_columns": null,
            "margin": null,
            "display": null,
            "left": null
          }
        },
        "31967aab6dc244fba05a06239a3420db": {
          "model_module": "@jupyter-widgets/controls",
          "model_name": "IntProgressModel",
          "state": {
            "_view_name": "ProgressView",
            "style": "IPY_MODEL_1422e8958c734022979dece0364fba49",
            "_dom_classes": [],
            "description": "Training epoch 1: 100%",
            "_model_name": "IntProgressModel",
            "bar_style": "success",
            "max": 1002,
            "_view_module": "@jupyter-widgets/controls",
            "_model_module_version": "1.5.0",
            "value": 1002,
            "_view_count": null,
            "_view_module_version": "1.5.0",
            "orientation": "horizontal",
            "min": 0,
            "description_tooltip": null,
            "_model_module": "@jupyter-widgets/controls",
            "layout": "IPY_MODEL_83413e99f6044df6897d3269cae7dfc8"
          }
        },
        "3963a4a8dcee4f2d8deb9a36feef6e3e": {
          "model_module": "@jupyter-widgets/controls",
          "model_name": "HTMLModel",
          "state": {
            "_view_name": "HTMLView",
            "style": "IPY_MODEL_371f7e6c8c624a23a1ed4f7524b3dc9e",
            "_dom_classes": [],
            "description": "",
            "_model_name": "HTMLModel",
            "placeholder": "​",
            "_view_module": "@jupyter-widgets/controls",
            "_model_module_version": "1.5.0",
            "value": " 1002/1002 [04:18&lt;00:00,  3.87it/s]",
            "_view_count": null,
            "_view_module_version": "1.5.0",
            "description_tooltip": null,
            "_model_module": "@jupyter-widgets/controls",
            "layout": "IPY_MODEL_351e88d2bf2f46b597c85bca51c13c61"
          }
        },
        "1422e8958c734022979dece0364fba49": {
          "model_module": "@jupyter-widgets/controls",
          "model_name": "ProgressStyleModel",
          "state": {
            "_view_name": "StyleView",
            "_model_name": "ProgressStyleModel",
            "description_width": "initial",
            "_view_module": "@jupyter-widgets/base",
            "_model_module_version": "1.5.0",
            "_view_count": null,
            "_view_module_version": "1.2.0",
            "bar_color": null,
            "_model_module": "@jupyter-widgets/controls"
          }
        },
        "83413e99f6044df6897d3269cae7dfc8": {
          "model_module": "@jupyter-widgets/base",
          "model_name": "LayoutModel",
          "state": {
            "_view_name": "LayoutView",
            "grid_template_rows": null,
            "right": null,
            "justify_content": null,
            "_view_module": "@jupyter-widgets/base",
            "overflow": null,
            "_model_module_version": "1.2.0",
            "_view_count": null,
            "flex_flow": null,
            "width": null,
            "min_width": null,
            "border": null,
            "align_items": null,
            "bottom": null,
            "_model_module": "@jupyter-widgets/base",
            "top": null,
            "grid_column": null,
            "overflow_y": null,
            "overflow_x": null,
            "grid_auto_flow": null,
            "grid_area": null,
            "grid_template_columns": null,
            "flex": null,
            "_model_name": "LayoutModel",
            "justify_items": null,
            "grid_row": null,
            "max_height": null,
            "align_content": null,
            "visibility": null,
            "align_self": null,
            "height": null,
            "min_height": null,
            "padding": null,
            "grid_auto_rows": null,
            "grid_gap": null,
            "max_width": null,
            "order": null,
            "_view_module_version": "1.2.0",
            "grid_template_areas": null,
            "object_position": null,
            "object_fit": null,
            "grid_auto_columns": null,
            "margin": null,
            "display": null,
            "left": null
          }
        },
        "371f7e6c8c624a23a1ed4f7524b3dc9e": {
          "model_module": "@jupyter-widgets/controls",
          "model_name": "DescriptionStyleModel",
          "state": {
            "_view_name": "StyleView",
            "_model_name": "DescriptionStyleModel",
            "description_width": "",
            "_view_module": "@jupyter-widgets/base",
            "_model_module_version": "1.5.0",
            "_view_count": null,
            "_view_module_version": "1.2.0",
            "_model_module": "@jupyter-widgets/controls"
          }
        },
        "351e88d2bf2f46b597c85bca51c13c61": {
          "model_module": "@jupyter-widgets/base",
          "model_name": "LayoutModel",
          "state": {
            "_view_name": "LayoutView",
            "grid_template_rows": null,
            "right": null,
            "justify_content": null,
            "_view_module": "@jupyter-widgets/base",
            "overflow": null,
            "_model_module_version": "1.2.0",
            "_view_count": null,
            "flex_flow": null,
            "width": null,
            "min_width": null,
            "border": null,
            "align_items": null,
            "bottom": null,
            "_model_module": "@jupyter-widgets/base",
            "top": null,
            "grid_column": null,
            "overflow_y": null,
            "overflow_x": null,
            "grid_auto_flow": null,
            "grid_area": null,
            "grid_template_columns": null,
            "flex": null,
            "_model_name": "LayoutModel",
            "justify_items": null,
            "grid_row": null,
            "max_height": null,
            "align_content": null,
            "visibility": null,
            "align_self": null,
            "height": null,
            "min_height": null,
            "padding": null,
            "grid_auto_rows": null,
            "grid_gap": null,
            "max_width": null,
            "order": null,
            "_view_module_version": "1.2.0",
            "grid_template_areas": null,
            "object_position": null,
            "object_fit": null,
            "grid_auto_columns": null,
            "margin": null,
            "display": null,
            "left": null
          }
        },
        "d3c796b65200458280a6f5252410853f": {
          "model_module": "@jupyter-widgets/controls",
          "model_name": "HBoxModel",
          "state": {
            "_view_name": "HBoxView",
            "_dom_classes": [],
            "_model_name": "HBoxModel",
            "_view_module": "@jupyter-widgets/controls",
            "_model_module_version": "1.5.0",
            "_view_count": null,
            "_view_module_version": "1.5.0",
            "box_style": "",
            "layout": "IPY_MODEL_080b0334587746db9e0517e7d6587c85",
            "_model_module": "@jupyter-widgets/controls",
            "children": [
              "IPY_MODEL_2842fc16448c4d2bb948f585e407d778",
              "IPY_MODEL_6b8e539d17964906a9fb48850c2e846e"
            ]
          }
        },
        "080b0334587746db9e0517e7d6587c85": {
          "model_module": "@jupyter-widgets/base",
          "model_name": "LayoutModel",
          "state": {
            "_view_name": "LayoutView",
            "grid_template_rows": null,
            "right": null,
            "justify_content": null,
            "_view_module": "@jupyter-widgets/base",
            "overflow": null,
            "_model_module_version": "1.2.0",
            "_view_count": null,
            "flex_flow": null,
            "width": null,
            "min_width": null,
            "border": null,
            "align_items": null,
            "bottom": null,
            "_model_module": "@jupyter-widgets/base",
            "top": null,
            "grid_column": null,
            "overflow_y": null,
            "overflow_x": null,
            "grid_auto_flow": null,
            "grid_area": null,
            "grid_template_columns": null,
            "flex": null,
            "_model_name": "LayoutModel",
            "justify_items": null,
            "grid_row": null,
            "max_height": null,
            "align_content": null,
            "visibility": null,
            "align_self": null,
            "height": null,
            "min_height": null,
            "padding": null,
            "grid_auto_rows": null,
            "grid_gap": null,
            "max_width": null,
            "order": null,
            "_view_module_version": "1.2.0",
            "grid_template_areas": null,
            "object_position": null,
            "object_fit": null,
            "grid_auto_columns": null,
            "margin": null,
            "display": null,
            "left": null
          }
        },
        "2842fc16448c4d2bb948f585e407d778": {
          "model_module": "@jupyter-widgets/controls",
          "model_name": "IntProgressModel",
          "state": {
            "_view_name": "ProgressView",
            "style": "IPY_MODEL_c8e2c1cbeb6440429a84b878aea5fa8c",
            "_dom_classes": [],
            "description": "Training epoch 2: 100%",
            "_model_name": "IntProgressModel",
            "bar_style": "success",
            "max": 1002,
            "_view_module": "@jupyter-widgets/controls",
            "_model_module_version": "1.5.0",
            "value": 1002,
            "_view_count": null,
            "_view_module_version": "1.5.0",
            "orientation": "horizontal",
            "min": 0,
            "description_tooltip": null,
            "_model_module": "@jupyter-widgets/controls",
            "layout": "IPY_MODEL_2d803eccc18a468dada7ff09f3741e18"
          }
        },
        "6b8e539d17964906a9fb48850c2e846e": {
          "model_module": "@jupyter-widgets/controls",
          "model_name": "HTMLModel",
          "state": {
            "_view_name": "HTMLView",
            "style": "IPY_MODEL_95aa630de4f44e8e89c63d1b1c2bbdec",
            "_dom_classes": [],
            "description": "",
            "_model_name": "HTMLModel",
            "placeholder": "​",
            "_view_module": "@jupyter-widgets/controls",
            "_model_module_version": "1.5.0",
            "value": " 1002/1002 [04:18&lt;00:00,  3.88it/s]",
            "_view_count": null,
            "_view_module_version": "1.5.0",
            "description_tooltip": null,
            "_model_module": "@jupyter-widgets/controls",
            "layout": "IPY_MODEL_7230d28d19ab47d788cc1b16e82a25ce"
          }
        },
        "c8e2c1cbeb6440429a84b878aea5fa8c": {
          "model_module": "@jupyter-widgets/controls",
          "model_name": "ProgressStyleModel",
          "state": {
            "_view_name": "StyleView",
            "_model_name": "ProgressStyleModel",
            "description_width": "initial",
            "_view_module": "@jupyter-widgets/base",
            "_model_module_version": "1.5.0",
            "_view_count": null,
            "_view_module_version": "1.2.0",
            "bar_color": null,
            "_model_module": "@jupyter-widgets/controls"
          }
        },
        "2d803eccc18a468dada7ff09f3741e18": {
          "model_module": "@jupyter-widgets/base",
          "model_name": "LayoutModel",
          "state": {
            "_view_name": "LayoutView",
            "grid_template_rows": null,
            "right": null,
            "justify_content": null,
            "_view_module": "@jupyter-widgets/base",
            "overflow": null,
            "_model_module_version": "1.2.0",
            "_view_count": null,
            "flex_flow": null,
            "width": null,
            "min_width": null,
            "border": null,
            "align_items": null,
            "bottom": null,
            "_model_module": "@jupyter-widgets/base",
            "top": null,
            "grid_column": null,
            "overflow_y": null,
            "overflow_x": null,
            "grid_auto_flow": null,
            "grid_area": null,
            "grid_template_columns": null,
            "flex": null,
            "_model_name": "LayoutModel",
            "justify_items": null,
            "grid_row": null,
            "max_height": null,
            "align_content": null,
            "visibility": null,
            "align_self": null,
            "height": null,
            "min_height": null,
            "padding": null,
            "grid_auto_rows": null,
            "grid_gap": null,
            "max_width": null,
            "order": null,
            "_view_module_version": "1.2.0",
            "grid_template_areas": null,
            "object_position": null,
            "object_fit": null,
            "grid_auto_columns": null,
            "margin": null,
            "display": null,
            "left": null
          }
        },
        "95aa630de4f44e8e89c63d1b1c2bbdec": {
          "model_module": "@jupyter-widgets/controls",
          "model_name": "DescriptionStyleModel",
          "state": {
            "_view_name": "StyleView",
            "_model_name": "DescriptionStyleModel",
            "description_width": "",
            "_view_module": "@jupyter-widgets/base",
            "_model_module_version": "1.5.0",
            "_view_count": null,
            "_view_module_version": "1.2.0",
            "_model_module": "@jupyter-widgets/controls"
          }
        },
        "7230d28d19ab47d788cc1b16e82a25ce": {
          "model_module": "@jupyter-widgets/base",
          "model_name": "LayoutModel",
          "state": {
            "_view_name": "LayoutView",
            "grid_template_rows": null,
            "right": null,
            "justify_content": null,
            "_view_module": "@jupyter-widgets/base",
            "overflow": null,
            "_model_module_version": "1.2.0",
            "_view_count": null,
            "flex_flow": null,
            "width": null,
            "min_width": null,
            "border": null,
            "align_items": null,
            "bottom": null,
            "_model_module": "@jupyter-widgets/base",
            "top": null,
            "grid_column": null,
            "overflow_y": null,
            "overflow_x": null,
            "grid_auto_flow": null,
            "grid_area": null,
            "grid_template_columns": null,
            "flex": null,
            "_model_name": "LayoutModel",
            "justify_items": null,
            "grid_row": null,
            "max_height": null,
            "align_content": null,
            "visibility": null,
            "align_self": null,
            "height": null,
            "min_height": null,
            "padding": null,
            "grid_auto_rows": null,
            "grid_gap": null,
            "max_width": null,
            "order": null,
            "_view_module_version": "1.2.0",
            "grid_template_areas": null,
            "object_position": null,
            "object_fit": null,
            "grid_auto_columns": null,
            "margin": null,
            "display": null,
            "left": null
          }
        },
        "6dd0c6493ee6452da13589cd09501b5a": {
          "model_module": "@jupyter-widgets/controls",
          "model_name": "HBoxModel",
          "state": {
            "_view_name": "HBoxView",
            "_dom_classes": [],
            "_model_name": "HBoxModel",
            "_view_module": "@jupyter-widgets/controls",
            "_model_module_version": "1.5.0",
            "_view_count": null,
            "_view_module_version": "1.5.0",
            "box_style": "",
            "layout": "IPY_MODEL_6282fe7dd35b4b21a32dc99066e84ab8",
            "_model_module": "@jupyter-widgets/controls",
            "children": [
              "IPY_MODEL_815e9928732b4f6caa2241a907ed8e06",
              "IPY_MODEL_0cbba9a3937e418cab6cda856c68eb00"
            ]
          }
        },
        "6282fe7dd35b4b21a32dc99066e84ab8": {
          "model_module": "@jupyter-widgets/base",
          "model_name": "LayoutModel",
          "state": {
            "_view_name": "LayoutView",
            "grid_template_rows": null,
            "right": null,
            "justify_content": null,
            "_view_module": "@jupyter-widgets/base",
            "overflow": null,
            "_model_module_version": "1.2.0",
            "_view_count": null,
            "flex_flow": null,
            "width": null,
            "min_width": null,
            "border": null,
            "align_items": null,
            "bottom": null,
            "_model_module": "@jupyter-widgets/base",
            "top": null,
            "grid_column": null,
            "overflow_y": null,
            "overflow_x": null,
            "grid_auto_flow": null,
            "grid_area": null,
            "grid_template_columns": null,
            "flex": null,
            "_model_name": "LayoutModel",
            "justify_items": null,
            "grid_row": null,
            "max_height": null,
            "align_content": null,
            "visibility": null,
            "align_self": null,
            "height": null,
            "min_height": null,
            "padding": null,
            "grid_auto_rows": null,
            "grid_gap": null,
            "max_width": null,
            "order": null,
            "_view_module_version": "1.2.0",
            "grid_template_areas": null,
            "object_position": null,
            "object_fit": null,
            "grid_auto_columns": null,
            "margin": null,
            "display": null,
            "left": null
          }
        },
        "815e9928732b4f6caa2241a907ed8e06": {
          "model_module": "@jupyter-widgets/controls",
          "model_name": "IntProgressModel",
          "state": {
            "_view_name": "ProgressView",
            "style": "IPY_MODEL_b4a1d3b1c36340cdb9ba0e776ad1958e",
            "_dom_classes": [],
            "description": "Training epoch 3:  82%",
            "_model_name": "IntProgressModel",
            "bar_style": "",
            "max": 1002,
            "_view_module": "@jupyter-widgets/controls",
            "_model_module_version": "1.5.0",
            "value": 819,
            "_view_count": null,
            "_view_module_version": "1.5.0",
            "orientation": "horizontal",
            "min": 0,
            "description_tooltip": null,
            "_model_module": "@jupyter-widgets/controls",
            "layout": "IPY_MODEL_e6e08973d4344b9a91c55a1b0c82e5c5"
          }
        },
        "0cbba9a3937e418cab6cda856c68eb00": {
          "model_module": "@jupyter-widgets/controls",
          "model_name": "HTMLModel",
          "state": {
            "_view_name": "HTMLView",
            "style": "IPY_MODEL_9316779e49884298a038f426dcf78923",
            "_dom_classes": [],
            "description": "",
            "_model_name": "HTMLModel",
            "placeholder": "​",
            "_view_module": "@jupyter-widgets/controls",
            "_model_module_version": "1.5.0",
            "value": " 819/1002 [03:31&lt;00:47,  3.88it/s]",
            "_view_count": null,
            "_view_module_version": "1.5.0",
            "description_tooltip": null,
            "_model_module": "@jupyter-widgets/controls",
            "layout": "IPY_MODEL_0257b796f33c442298b8235b3888ac63"
          }
        },
        "b4a1d3b1c36340cdb9ba0e776ad1958e": {
          "model_module": "@jupyter-widgets/controls",
          "model_name": "ProgressStyleModel",
          "state": {
            "_view_name": "StyleView",
            "_model_name": "ProgressStyleModel",
            "description_width": "initial",
            "_view_module": "@jupyter-widgets/base",
            "_model_module_version": "1.5.0",
            "_view_count": null,
            "_view_module_version": "1.2.0",
            "bar_color": null,
            "_model_module": "@jupyter-widgets/controls"
          }
        },
        "e6e08973d4344b9a91c55a1b0c82e5c5": {
          "model_module": "@jupyter-widgets/base",
          "model_name": "LayoutModel",
          "state": {
            "_view_name": "LayoutView",
            "grid_template_rows": null,
            "right": null,
            "justify_content": null,
            "_view_module": "@jupyter-widgets/base",
            "overflow": null,
            "_model_module_version": "1.2.0",
            "_view_count": null,
            "flex_flow": null,
            "width": null,
            "min_width": null,
            "border": null,
            "align_items": null,
            "bottom": null,
            "_model_module": "@jupyter-widgets/base",
            "top": null,
            "grid_column": null,
            "overflow_y": null,
            "overflow_x": null,
            "grid_auto_flow": null,
            "grid_area": null,
            "grid_template_columns": null,
            "flex": null,
            "_model_name": "LayoutModel",
            "justify_items": null,
            "grid_row": null,
            "max_height": null,
            "align_content": null,
            "visibility": null,
            "align_self": null,
            "height": null,
            "min_height": null,
            "padding": null,
            "grid_auto_rows": null,
            "grid_gap": null,
            "max_width": null,
            "order": null,
            "_view_module_version": "1.2.0",
            "grid_template_areas": null,
            "object_position": null,
            "object_fit": null,
            "grid_auto_columns": null,
            "margin": null,
            "display": null,
            "left": null
          }
        },
        "9316779e49884298a038f426dcf78923": {
          "model_module": "@jupyter-widgets/controls",
          "model_name": "DescriptionStyleModel",
          "state": {
            "_view_name": "StyleView",
            "_model_name": "DescriptionStyleModel",
            "description_width": "",
            "_view_module": "@jupyter-widgets/base",
            "_model_module_version": "1.5.0",
            "_view_count": null,
            "_view_module_version": "1.2.0",
            "_model_module": "@jupyter-widgets/controls"
          }
        },
        "0257b796f33c442298b8235b3888ac63": {
          "model_module": "@jupyter-widgets/base",
          "model_name": "LayoutModel",
          "state": {
            "_view_name": "LayoutView",
            "grid_template_rows": null,
            "right": null,
            "justify_content": null,
            "_view_module": "@jupyter-widgets/base",
            "overflow": null,
            "_model_module_version": "1.2.0",
            "_view_count": null,
            "flex_flow": null,
            "width": null,
            "min_width": null,
            "border": null,
            "align_items": null,
            "bottom": null,
            "_model_module": "@jupyter-widgets/base",
            "top": null,
            "grid_column": null,
            "overflow_y": null,
            "overflow_x": null,
            "grid_auto_flow": null,
            "grid_area": null,
            "grid_template_columns": null,
            "flex": null,
            "_model_name": "LayoutModel",
            "justify_items": null,
            "grid_row": null,
            "max_height": null,
            "align_content": null,
            "visibility": null,
            "align_self": null,
            "height": null,
            "min_height": null,
            "padding": null,
            "grid_auto_rows": null,
            "grid_gap": null,
            "max_width": null,
            "order": null,
            "_view_module_version": "1.2.0",
            "grid_template_areas": null,
            "object_position": null,
            "object_fit": null,
            "grid_auto_columns": null,
            "margin": null,
            "display": null,
            "left": null
          }
        }
      }
    },
    "accelerator": "GPU"
  },
  "cells": [
    {
      "cell_type": "markdown",
      "metadata": {
        "id": "view-in-github",
        "colab_type": "text"
      },
      "source": [
        "<a href=\"https://colab.research.google.com/github/bhaveshsingh0206/Text-Summmariser./blob/master/text_summariser_pytorch.ipynb\" target=\"_parent\"><img src=\"https://colab.research.google.com/assets/colab-badge.svg\" alt=\"Open In Colab\"/></a>"
      ]
    },
    {
      "cell_type": "code",
      "metadata": {
        "id": "BtIN1Msz7ify",
        "colab_type": "code",
        "colab": {}
      },
      "source": [
        "# Loading file from Drive\n",
        "import pydrive\n",
        "from pydrive.auth import GoogleAuth\n",
        "from pydrive.drive import GoogleDrive\n",
        "from google.colab import auth\n",
        "from oauth2client.client import GoogleCredentials\n",
        "# https://drive.google.com/file/d/1ghQHoCxCEqrq_RUiHkukps-gsZwsH__A/view?usp=sharing"
      ],
      "execution_count": 0,
      "outputs": []
    },
    {
      "cell_type": "code",
      "metadata": {
        "id": "Nw2R2SjE7yIE",
        "colab_type": "code",
        "colab": {}
      },
      "source": [
        "auth.authenticate_user()\n",
        "gauth = GoogleAuth()\n",
        "gauth.credentials = GoogleCredentials.get_application_default()\n",
        "drive = GoogleDrive(gauth)"
      ],
      "execution_count": 0,
      "outputs": []
    },
    {
      "cell_type": "code",
      "metadata": {
        "id": "ztxCZXGi7zsV",
        "colab_type": "code",
        "colab": {}
      },
      "source": [
        "\n",
        "# downloaded = drive.CreateFile({'id':\"1ghQHoCxCEqrq_RUiHkukps-gsZwsH__A\"})   \n",
        "# downloaded.GetContentFile('final_model.pt') \n",
        "downloaded = drive.CreateFile({'id':\"1FfO8fsNXnenTfsq7skCgZpv6PBBQhjpa\"})   \n",
        "downloaded.GetContentFile('glove.6B.100d.txt')  "
      ],
      "execution_count": 0,
      "outputs": []
    },
    {
      "cell_type": "code",
      "metadata": {
        "id": "1lzqFM4M7-kW",
        "colab_type": "code",
        "colab": {}
      },
      "source": [
        "downloaded = drive.CreateFile({'id':\"13JdWTJ4hSKpUQnOlAxmzTdjNVUjco4fV\"}) \n",
        "downloaded.GetContentFile('DF.csv') "
      ],
      "execution_count": 0,
      "outputs": []
    },
    {
      "cell_type": "code",
      "metadata": {
        "id": "_muqZmn68BAN",
        "colab_type": "code",
        "colab": {}
      },
      "source": [
        "word2Vec = {}\n",
        "with open('glove.6B.100d.txt') as f:\n",
        "  for line in f:\n",
        "    line = line.rstrip().split(' ')\n",
        "    word = line[0]\n",
        "    embedding_vector = line[1:]\n",
        "    word2Vec[word] = embedding_vector"
      ],
      "execution_count": 0,
      "outputs": []
    },
    {
      "cell_type": "code",
      "metadata": {
        "id": "REXKxp0F8IFm",
        "colab_type": "code",
        "colab": {
          "base_uri": "https://localhost:8080/",
          "height": 204
        },
        "outputId": "f33c06e4-4eec-41bc-9e32-5790c1edede0"
      },
      "source": [
        "import pandas as pd\n",
        "dataset = pd.read_csv('DF.csv')\n",
        "dataset.head()"
      ],
      "execution_count": 6,
      "outputs": [
        {
          "output_type": "execute_result",
          "data": {
            "text/html": [
              "<div>\n",
              "<style scoped>\n",
              "    .dataframe tbody tr th:only-of-type {\n",
              "        vertical-align: middle;\n",
              "    }\n",
              "\n",
              "    .dataframe tbody tr th {\n",
              "        vertical-align: top;\n",
              "    }\n",
              "\n",
              "    .dataframe thead th {\n",
              "        text-align: right;\n",
              "    }\n",
              "</style>\n",
              "<table border=\"1\" class=\"dataframe\">\n",
              "  <thead>\n",
              "    <tr style=\"text-align: right;\">\n",
              "      <th></th>\n",
              "      <th>headlines</th>\n",
              "      <th>article</th>\n",
              "    </tr>\n",
              "  </thead>\n",
              "  <tbody>\n",
              "    <tr>\n",
              "      <th>0</th>\n",
              "      <td>India reports more than 5,000 coronavirus case...</td>\n",
              "      <td>The total number of coronavirus cases in India...</td>\n",
              "    </tr>\n",
              "    <tr>\n",
              "      <th>1</th>\n",
              "      <td>Because of few jokers, COVID-19 is spreading: ...</td>\n",
              "      <td>Salman Khan has condemned the attack on medica...</td>\n",
              "    </tr>\n",
              "    <tr>\n",
              "      <th>2</th>\n",
              "      <td>45% districts without a COVID-19 case, 27 dist...</td>\n",
              "      <td>The government on Thursday announced that 45% ...</td>\n",
              "    </tr>\n",
              "    <tr>\n",
              "      <th>3</th>\n",
              "      <td>68-yr-old UP man suffering from cold declared ...</td>\n",
              "      <td>A 68-year-old man from Uttar Pradesh's Amroha,...</td>\n",
              "    </tr>\n",
              "    <tr>\n",
              "      <th>4</th>\n",
              "      <td>Lockdown is like pause button, will not defeat...</td>\n",
              "      <td>Addressing the media via video on Thursday, Co...</td>\n",
              "    </tr>\n",
              "  </tbody>\n",
              "</table>\n",
              "</div>"
            ],
            "text/plain": [
              "                                           headlines                                            article\n",
              "0  India reports more than 5,000 coronavirus case...  The total number of coronavirus cases in India...\n",
              "1  Because of few jokers, COVID-19 is spreading: ...  Salman Khan has condemned the attack on medica...\n",
              "2  45% districts without a COVID-19 case, 27 dist...  The government on Thursday announced that 45% ...\n",
              "3  68-yr-old UP man suffering from cold declared ...  A 68-year-old man from Uttar Pradesh's Amroha,...\n",
              "4  Lockdown is like pause button, will not defeat...  Addressing the media via video on Thursday, Co..."
            ]
          },
          "metadata": {
            "tags": []
          },
          "execution_count": 6
        }
      ]
    },
    {
      "cell_type": "code",
      "metadata": {
        "id": "vfvbd3T3R7Bx",
        "colab_type": "code",
        "colab": {}
      },
      "source": [
        "SOS_token = '<start>'\n",
        "EOS_token = '<end>'\n",
        "PAD_token = '<pad>'\n",
        "UNK_token = '<unk>'\n",
        "\n",
        "SOS_idx = 0\n",
        "EOS_idx = 1\n",
        "UNK_idx = 3\n",
        "PAD_idx = 2"
      ],
      "execution_count": 0,
      "outputs": []
    },
    {
      "cell_type": "code",
      "metadata": {
        "id": "s2d8pTbNR7Ey",
        "colab_type": "code",
        "colab": {}
      },
      "source": [
        "class Corpus:\n",
        "  def __init__(self):\n",
        "    self.index2word = {\n",
        "        0: SOS_token,\n",
        "        1: EOS_token,\n",
        "        2: PAD_idx,\n",
        "        3: UNK_token\n",
        "    }\n",
        "    self.indices = 4\n",
        "    self.word2index = {word:k for k,word in self.index2word.items()}\n",
        "\n",
        "  def index_words(self, sent):\n",
        "    for word in sent:\n",
        "      self.index_word(word)\n",
        "\n",
        "  def index_word(self, word):\n",
        "    if word not in self.word2index:\n",
        "      self.word2index[word] = self.indices\n",
        "      self.index2word[self.indices] = word\n",
        "      self.indices += 1\n",
        "  \n",
        "  def unidex_words(self, indices):\n",
        "      return [self.index2word[index] for index in indices]"
      ],
      "execution_count": 0,
      "outputs": []
    },
    {
      "cell_type": "code",
      "metadata": {
        "id": "aE-gOf5cTlln",
        "colab_type": "code",
        "colab": {}
      },
      "source": [
        "from spacy.tokenizer import Tokenizer\n",
        "from spacy.lang.en import English\n",
        "nlp = English()\n",
        "tokenizer = Tokenizer(nlp.vocab)\n",
        "toknizers = {\n",
        "    'hin': \"\",\n",
        "    'eng': tokenizer\n",
        "}"
      ],
      "execution_count": 0,
      "outputs": []
    },
    {
      "cell_type": "code",
      "metadata": {
        "id": "KTr-aJAdR7Ht",
        "colab_type": "code",
        "colab": {}
      },
      "source": [
        "def prepareCorpus(min_count, tokenizer, sents, language = 'eng'):\n",
        "  freq_words = {}\n",
        "  sents_tokenized = []\n",
        "  for sent in sents:\n",
        "    if language == 'eng':\n",
        "      sent_tokenized = [w.text.lower() for w in tokenizer(sent)]\n",
        "    else :\n",
        "      sent_tokenized = [w for w in sent.split(' ')]\n",
        "    sents_tokenized.append(sent_tokenized)\n",
        "    for word in sent_tokenized:\n",
        "      if word not in freq_words:\n",
        "        freq_words[word] = 1\n",
        "      else:\n",
        "        freq_words[word] += 1\n",
        "  # print(freq_words)\n",
        "  for i, sent_tokenized in enumerate(sents_tokenized):\n",
        "    sent_tokenized = [t if freq_words[t] >= min_count  else UNK_token for t in sent_tokenized]\n",
        "    sents_tokenized[i] = sent_tokenized\n",
        "  return sents_tokenized"
      ],
      "execution_count": 0,
      "outputs": []
    },
    {
      "cell_type": "code",
      "metadata": {
        "id": "gHhP21IkR7KL",
        "colab_type": "code",
        "colab": {}
      },
      "source": [
        "def read_corpus(sents):\n",
        "  corpus = Corpus()\n",
        "  for sent in sents:\n",
        "    corpus.index_words(sent)\n",
        "  return corpus"
      ],
      "execution_count": 0,
      "outputs": []
    },
    {
      "cell_type": "code",
      "metadata": {
        "id": "IE9x0dVYR7Mt",
        "colab_type": "code",
        "colab": {}
      },
      "source": [
        "source_sequences = prepareCorpus(1, tokenizer=toknizers['eng'], sents=dataset['article'])\n",
        "target_sequences = prepareCorpus(1, tokenizer=toknizers['eng'], sents=dataset['headlines'])"
      ],
      "execution_count": 0,
      "outputs": []
    },
    {
      "cell_type": "code",
      "metadata": {
        "id": "y3TbANP8R7PT",
        "colab_type": "code",
        "colab": {
          "base_uri": "https://localhost:8080/",
          "height": 54
        },
        "outputId": "ed04fb1a-0820-4535-e553-29e2a4f6ca22"
      },
      "source": [
        "print(target_sequences[0])"
      ],
      "execution_count": 13,
      "outputs": [
        {
          "output_type": "stream",
          "text": [
            "['india', 'reports', 'more', 'than', '5,000', 'coronavirus', 'cases', 'in', '5', 'days,', 'total', 'cases', 'rise', 'to', '12,759']\n"
          ],
          "name": "stdout"
        }
      ]
    },
    {
      "cell_type": "code",
      "metadata": {
        "id": "Kqs7WSyMR7R1",
        "colab_type": "code",
        "colab": {
          "base_uri": "https://localhost:8080/",
          "height": 34
        },
        "outputId": "209c11ef-d951-474f-9da5-2e6c56b12147"
      },
      "source": [
        "dataset['headlines'][0]"
      ],
      "execution_count": 14,
      "outputs": [
        {
          "output_type": "execute_result",
          "data": {
            "text/plain": [
              "'India reports more than 5,000 coronavirus cases in 5 days, total cases rise to 12,759'"
            ]
          },
          "metadata": {
            "tags": []
          },
          "execution_count": 14
        }
      ]
    },
    {
      "cell_type": "code",
      "metadata": {
        "id": "ehKt2QNBR7Uf",
        "colab_type": "code",
        "colab": {}
      },
      "source": [
        "source_vocab = read_corpus(source_sequences)\n",
        "target_vocab = read_corpus(target_sequences)"
      ],
      "execution_count": 0,
      "outputs": []
    },
    {
      "cell_type": "code",
      "metadata": {
        "id": "SSmXXJPQR7ZQ",
        "colab_type": "code",
        "colab": {
          "base_uri": "https://localhost:8080/",
          "height": 34
        },
        "outputId": "5bd1d9ff-d46f-4839-b483-bb754af23bc7"
      },
      "source": [
        "print(len(target_vocab.word2index))"
      ],
      "execution_count": 16,
      "outputs": [
        {
          "output_type": "stream",
          "text": [
            "57772\n"
          ],
          "name": "stdout"
        }
      ]
    },
    {
      "cell_type": "code",
      "metadata": {
        "id": "5w3I9miOZb0Z",
        "colab_type": "code",
        "colab": {}
      },
      "source": [
        "DIMENSIONS = 100"
      ],
      "execution_count": 0,
      "outputs": []
    },
    {
      "cell_type": "code",
      "metadata": {
        "id": "UjqhrHgXR7ci",
        "colab_type": "code",
        "colab": {}
      },
      "source": [
        "import numpy as np\n",
        "num_words = len(target_vocab.word2index)\n",
        "out_of_vocab = []\n",
        "target_embedding_matrix = np.zeros((num_words, 100))\n",
        "for j,k in target_vocab.word2index.items():\n",
        "  if k < num_words:\n",
        "    embedding_vector = word2Vec.get(j)\n",
        "    if embedding_vector is not None:\n",
        "      target_embedding_matrix[k] = embedding_vector\n",
        "    else:\n",
        "      out_of_vocab.append(j)\n"
      ],
      "execution_count": 0,
      "outputs": []
    },
    {
      "cell_type": "code",
      "metadata": {
        "id": "1ADdHL4NR7gz",
        "colab_type": "code",
        "outputId": "4380430d-e289-41b3-e95c-28361d25d4af",
        "colab": {
          "base_uri": "https://localhost:8080/",
          "height": 54
        }
      },
      "source": [
        "print(out_of_vocab)"
      ],
      "execution_count": 19,
      "outputs": [
        {
          "output_type": "stream",
          "text": [
            "['<start>', '<end>', 2, '<unk>', 'days,', 'jokers,', 'covid-19', 'spreading:', '45%', 'case,', 'days:', '68-yr-old', '+ve', 'button,', 'virus:', 'ex-commando,', 'attacks,', \"india's\", 'pandemic:', 'facility:', 'place,', 'yrs,', 'safety:', 'who,', 'india,', 'zomato', 'guj', 'case;', \"can't\", 'less:', \"'in\", \"eye'\", 'storm:', \"man's\", 'disease:', 'conferencing,', '\\xa0', 'govt;', \"we'll\", 'thing:', \"it'll\", 'harjeet', 'nihangs', \"kerala's\", '0.5%', \"world's\", '5%:', '19-yr-old', '+ve,', 'non-hotspot', 'areas,', 'districts?', \"uttarakhand's\", \"'food\", \"vans'\", 'homeless,', 'covid-19:', '550-bed', \"up's\", '22:', 'together:', 'chairman,', '30%', 'agra,', 'karnataka;', 'rajasthan,', \"state's\", 'colour:', \"'misguided'\", 'family:', \"son's\", 'bottle,', 'night,', 'cases,', '1,578;', 'lockdown?', '650;', 'hospital;', 'house,', 'cctv:', \"didn't\", 'lockdown,', 'hospitals:', \"pradesh's\", \"patient's\", 'transmission,', 'outbreaks:', \"hasn't\", 'districts,', 'crucial:', 'guwahati,', 'himanta', 'up,', '10,000;', 'hours,', '11.41%:', 'team,', 'baseless:', \"odisha's\", '₹500', 'shelters,', 'dhabas,', '₹1,000', \"labourers'\", 'accounts:', '83%', 'driving,', '75%', 'walking:', 'mgnrega', 'resume,', 'distance:', 'hotspots,', 'non-hotspots', 'far:', 'testing,', 'tests?', 'self-isolates', 'lockdown:', 'event,', 'years:', 'ppes', 'jurists,', 'journo', \"migrants'\", 'year,', 'firms,', 'lockdown;', \"meghalaya's\", 'dies,', '₹2,000', 'indore,', 'dcw', 'aarogya', 'users,', 'it,', 'it-enabled', '50%', 'interest,', 'enforced:', ' ', 'dharavi,', '60:', 'sanitisation', 'closed,', \"j'khand\", 'rumours,', \"let's\", 'rekha:', 'halls,', 'malls,', '184,', 'pradesh,', '11,000;', '260;', '969,', 'hotspot?', 'today,', \"doesn't\", 'lockup,', \"don't\", 'worry:', 'arrangements:', 'india:', 'economy,', '1.9%', 'fy21:', 'praise,', 'aid:', \"pm's\", 'unacceptable:', \"could've\", 'tweet:', 'hrs:', \"won't\", 'september:', 'today:', 'hyd', 'tiktok', 'viral,', \"pak's\", 'norms:', 'day:', '350,', '10,815', 'dogs:', 'drones,', 'can,', 'tomorrow:', 'javadekar', 'wage-related', 'issues,', \"workers'\", '3:', \"experts'\", \"covid-19's\", 'transmission:', 'necessity,', 'authorities:', 'home,', 'essentials,', \"'timely\", \"tough'\", 'homeless:', \"k'taka\", \"'full\", \"marks'\", 'study,', 'back;', \"troops'\", 'fake:', \"modi's\", 'denmark:', 'missiles,', '$155', 'police:', 'ayushmann', '₹29,352', '₹50l', 'seized,', 'palghar:', '5,353', 'case?', 'places;', '₹200', \"cong's\", '3,', 'e-ticket', 'cec,', \"int'l\", 'must:', 'measures,', 'isolation:', 'cbse,', \"should've\", \"'data,\", \"sentiment'\", 'escalate,', 'swiftly:', 'coronavirus,', 'domestic,', 'severe:', 'aayog', 'restrictions,', 'cry,', 'country:', 'there:', 'president,', 'improvement:', \"indians'\", 'lives:', 'nations:', 'nagar,', 'classes:', \"mp's\", '20:', 'them:', 'recover,', \"weren't\", 'taken:', 'you,', 'employees:', 'birth,', 'delivery:', 'infection-free', 'baby,', 'millions,', \"'smart'\", 'upgrade:', 'beds,', 'patients:', 'ex-union', 'rajasekharan', '324,', '9,352', 'nfsa', 'sept:', 'districts:', 'odd-even', \"delhi's\", \"'aarogya\", \"setu'\", 'jump,', 'media:', 'traced:', \"haven't\", 'days?', 'are:', '-ve', 'bags,', \"rajasthan's\", 'visa,', 'e-visa', 'order,', \"wasn't\", 'mizoram,', 'punjab,', '1:', 'martyred,', \"j&k's\", '₹74l', \"day's\", 'extended,', 'start,', 'enough:', '847,', '95-yr-old', 'fund,', 'earlier:', \"govt's\", \"b'luru\", 'easily:', 'assam,', 'red,', 'zones,', 'work:', 'sitharaman', 'majority:', '2.7;', 'materials:', 'palaniswami', 'worker,', 'disturbed:', 'delhi?', 'row,', 'day,', '9,000;', '7.5-hour', 'successful:', 'cycling,', \"'pan\", \"masala'\", \"kanika's\", 'sealed,', \"'she\", \"now'\", 'hydroxychloroquine', 'day;', '39,', \"'attempt\", \"murder'\", '15,583', 'cluster?', 'safe:', 'workers,', 'pradesh:', \"city's\", 'monday:', '25-yr-old', '1,000;', '8,447', 'delhi-ncr,', 'chandigarh,', 'pm-cares', 'camps:', '181,', \"we've\", '20%', 'care,', 'panic:', 'csr:', 'needed:', 'j&k,', 'parents,', 'china,', 'japan,', 'too:', '40+', 'world:', 'months:', 'promoted:', 'reported,', \"mother's\", '₹1', 'gurugram', \"'red\", \"zones'\", 'indore;', 'confirmed?', 'china:', \"'chinese\", \"virus'\", 'work;', 'me:', '65-yr-old', \"'markaz'\", \"'special\", \"operations'\", 'yukti', \"students'\", \"policeman's\", 'punjab;', 'badly:', 'disgusted,', '3-yr-old', '468,', '8,000;', \"'sorry'\", 'suspended:', '₹28,256-cr', 'yojana:', 'us:', 'secy', 'duty:', 'hcq', 'crisis;', '17,143', '1,100-mark,', \"'stigmatisation'\", 'objectionable:', 'fake,', 'tablets:', 'him,', \"'neither\", 'said,', \"me'\", 'slums,', '242,', '7,529', '30,', 'cooperate:', 'time:', \"would've\", '8.2l', '15:', 'jahaan', 'hai,', \"it's\", 'bhi:', 'up;', 'violations;', '‘namaste', 'trump’', 'power:', 'minister,', 'gear,', \"plant's\", 'doctors,', 'nurses,', 'doing:', \"'no\", 'mask,', \"fuel'\", '₹5,000', 'extended:', 'convalescent-plasma', 'covid-19?', 'mouth,', 'stones,', 'home;', \"punjab's\", 'delhi,', '18-yr-old', 'road;', 'indeed:', '24x7:', 'factories,', '48-yr-old', 'ex-cji', \"gogoi's\", 'aerocity', 'unilateral,', \"t'gana\", 'medicines,', 'fishing,', 'ex-ias', 'away,', 'surjewala', '7,447,', '378;', '₹50', 'coronavirus-free:', 'pak,', \"b'desh\", 'borders:', '15,663', 'friday,', '2.76%', '₹5k', \"cm's\", '26-yr-old', '₹1-cr', 'weapons,', \"employees'\", '30%,', '20,473', 'evacuated,', 'abroad:', 'up:', 'mark,', '6,761', 'future,', '1,', 'selfies,', 'india?', 'lifesaver:', 'iit-ropar', 'notes,', \"hospital's\", 'dharavi;', 'event:', 'yet:', 'j&k;', '207:', 'bihar;', 'alone:', \"'india\", \"first'?\", 'error,', \"'cluster\", \"transmission'\", 'singapore:', 'karnataka,', \"'who\", \"you'\", 'mumbaikars', 'raazi', \"alia's\", 'gully:', \"kailash's\", 'tweet,', \"'singer\", '#metoo', \"predator'\", 'unnecessarily,', 'masakali', '2.0:', 'reported:', '1,400-km', 'sambit', 'held,', 'month,', 'available:', 'hydroxychloroquine,', 'needle,', 'far,', 'ventilator:', 'service,', '₹16,700', \"nation's\", 'seriousness:', 'mumbai,', '₹3', 'ppe,', 'differently-abled', 'duties:', 'bulletins:', 'coronavirus:', 'duty,', 'ventilators,', 'now:', 'meals,', 'centre,', 'worrisome,', '357,', 'recovered:', '6,000,', '9,968', '28,', 'km,', 'ppes,', \"i've\", 'breathe:', 'indian-origin', \"chhattisgarh's\", '16,002', 'attack:', '₹35', \"manipur's\", 'quiet:', 'fight:', 'wb:', '88%', '14:', 'inshorts', 'men,', 'part:', \"china's\", '₹3.5', \"he's\", 'soldier:', '5,865,', 'hours:', 'fact-check', 'discharged;', '76k', '72-yr-old', '₹15,000', \"'can\", \"human'\", 'drop:', '3-5%', 'false:', 'carrier:', 'localities?', '13:', '81-yr-old', 'ministers,', 'gujarat,', 'machine,', \"'doing\", \"nation'\", 'markaz:', 'himself,', \"parents'\", 'bhopal,', '9,', 'hotels,', \"goa's\", 'recovers,', 'soon:', 'hospital:', 'selfies', \"'home\", \"remedy'\", \"they're\", \"'spreading\", \"covid-19'\", '413:', 'influenza,', 'staff,', '32-yr-old', '50%:', '57-yr-old', '348,', '100%', '15?', '15,', 'true:', 'morning:', '5,734;', 'maharashtra,', 'kerala,', 'buying,', 'delivered:', 'flat,', 'caste,', 'religion:', 'test:', 'labs,', 'humanity:', \"'financial\", \"censorship':\", '25,727', 'days;', '1,27,919', \"govil's\", 'account,', \"'responding\", \"positively'\", 'australia,', 'spain:', '5,274,', 'emergency,', 'masks,', 'masks:', 'charges:', 'future:', 'yediyurappa', 'shab-e-barat', 'me,', 'projects:', 'citizens,', '5,000;', 'amritsar,', 'phases:', 'york;', 'nurse,', 'offers:', 'supply:', \"gujarat's\", \"'retaliation'\", 'drug,', 'sanjivani', 'pune,', 'whatsapp,', 'cure,', 'hotspot:', '124,', '4,789', '99;', '314:', '550;', \"'bhilwara\", \"model'\", 'cases?', 'haryana,', 'stones:', \"'covid\", \"facilities'\", 'govt?', 'first,', \"'yamraj'\", 'iit-g', 'led-based', 'sanitising', '4.0:', '12,584', 'class,', 'economy:', 'countries?', '2009,', '8.97%', 'bareilly;', 'coronavirus?', 'app,', '10-month-old', \"nadu's\", 'project:', 'yet,', 'speculate:', \"'catastrophe'\", 'averted:', '₹4,500', 'clapping,', 'lamps:', \"'puja'\", 'bengaluru-based', 'anti-brahmin', 'region-wise', \"sunday's\", 'lights-off', 'event?', \"'go\", \"go'\", 'athawale', 'delhi:', '62%', 'police,', 'mamata,', 'hotspots:', 'this:', \"trump's\", \"'retaliation\", \"warning'\", 'booked:', 'retaliation:', 'sc,', \"'demonise'\", 'residence,', \"i'm\", 'time,', '4,421,', 'hydroxychloroquine:', 'recovery;', '1.5l', 'korea,', 'there,', \"u'khand\", 'tripura:', 'covid-19,', \"he'll\", 'mlas,', 'mp;', \"'murder\", \"charge'\", 'warning,', 'show-up', 'garba,', \"bjp's\", 'crackers:', \"'test\", \"treat'\", 'mantra:', 'mplads', 'funds:', '621,', '4,281,', '24-week-old', '14-month-old', 'woman,', 'pregnant,', \"'light\", \"diyas'\", 'covid-19;', \"aren't\", 'rahulji,', 'politician:', \"diya'\", 'public:', 'diwali:', \"'9\", 'pm,', \"mins'\", '96,264', 'icu,', 'korean-style', 'availability:', \"gambhir's\", 'demonetisation', 'scale:', 'gear:', 'it:', '#9pm9min', 'weeks:', 'digilocker', 'rise:', 'people:', 'war,', \"opp'n\", 'ahead:', 'claims:', \"'disinfection\", \"tunnel'\", 'obedience:', 'ambani,', 'sunday;', 'mps,', 'shab-e-barat:', 'far?', \"crpf's\", 'raveesh', 'fwice', 'rajinikanth,', 'b,', 'farmers,', 'class:', 'siddaramaiah', 'event?:', 'quarantine:', '4,000;', 'exams:', 'sunday:', 'who:', 'facebook,', 'nothing:', \"centre's\", \"'chennai\", \"express'\", 'licensed:', 'charge:', 'iit-m', '3d-prints', \"'jeevan',\", 'maridhas', 'infection,', \"b'wood\", 'candles,', 'sun;', 'lights,', 'appeal;', '314;', '3,577,', '500;', 'self-quarantines', \"there's\", \"bengaluru's\", '193;', '45,', 'march:', '52-80', 'behaviour:', 'aimim', 'insult:', 'states:', 'olx', \"'for\", \"sale'\", '40-50%', '(bhu)', 'schools,', 'situation:', 'hyderabad,', '₹25,000', '37-yr-old', 'man,', 'patient,', 'chhattisgarh:', 'bhupesh', 'date:', 'news,', 'chambers,', \"'up\", 'covid', \"fund'\", '8-yr-old', 'hours;', 'nayanthara', '₹20l', 'fefsi', 'lamps,', 'pm:', 'actors,', 'models:', '75,', '3,374;', '537;', 'trump,', 'india-us', 'help,', 'more:', 'rules:', 'you:', 'news:', \"'cova'\", 'groceries,', 'test,', 'ayushman', 'ayush-related', 'border,', 'brothers:', 'battle:', 'jamaat?', 'self-quarantine', 'licking,', \"'from\", 'speech,', 'locus-standi', 'j&k:', 'friday:', 'transmitted:', '227:', 'bmc,', 'spat,', 'staff:', 'paracetamol,', 'back:', 'jamaat:', 'videos,', 'countries:', \"nath's\", 'presser,', \"kits'\", 'failure:', 'alcohol,', 'rwas', \"b'luru,\", 'states,', 'distribution:', \"srk's\", '₹1l', \"'following\", \"idol's\", \"footsteps'\", 'axes,', 'sanitisers', '5:', 'icus,', 'homes:', \"'coronavirus\", \"helmets'\", 'function;', '26k', 'home-quarantined', 'to:', \"min'\", 'ex-pm', \"'aao\", \"jalayein'\", '22-yr-old', \"husband's\", 'deepika,', 'card-holding', 'quickly:', \"biotech's\", 'allowed:', 'car-truck', '2,902,', '2,547,', 'order:', 'mysuru', 'believe:', 'msgs', \"5'\", 'humans,', 'animals:', '₹11,092', \"minister's\", 'quarantined;', '2.8l', 'sanitiser', 'gimmicks:', '500,', \"himachal's\", 'jalandhar,', '₹17,287', 'kovind', 'chicken,', 'bhubaneswar,', '5;', 'rajasthan;', \"'ramayan'\", 're-telecast', 'info:', \"charles'\", 'ipc,', 'act:', 'thursday,', 'tv,', \"'covid-19\", \"waste'\", 'waste:', 'vision,', 'moment:', 'guild,', 'iftpc,', 'world,', 'comparison:', 'hansal', '43%:', 'health,', 'food,', 'death,', '2,301,', '24hrs:', \"bihar's\", 'early,', 'courageous:', 'lunch,', 'nsa:', 'signs,', 'pants:', 'participants:', 'yay!', 'here:', 'taapsee', 'economists:', \"sonia's\", 'insensitive:', 'sadhguru', 'basis:', 'politics:', '2,000,', '$1', 'minutes:', 'telangana,', 'jamaat,', 'chatbot', 'centres:', 'suffer:', 'usko', 'khelke:', '6-hitting', 'attacked,', \"'we\", \"job'\", 'wonders,', 'video-conference', 'governors,', '52-yr-old', \"mumbai's\", 'dharavi:', \"attendees'\", 'testing:', \"'human\", \"humans',\", 'jump:', '309;', 'yourself,', 'islam:', 'tracing,', 'isolation,', 'goa:', 'phones:', \"s'porean\", \"'corona',\", 'quarantined:', 'suits,', 'placed:', '50,', '1.7l', \"year's\", 'indians:', 'home:', '9-yr-old', 'migrants:', \"arunachal's\", \"what's\", 'state-wise', 'footing:', '₹35,000', 'allowance:', '13,', '1,834;', '2,000-kg', '47,951', 'people,', 'evacuated:', 'bengaluru,', \"'walk\", \"groceries'\", 'vacations,', 'centre:', 'players:', 'injury:', \"'applied\", \"mathematics'\", 'commerce,', 'e-comm', 'issues:', \"days'\", 'workers:', 'patients,', 'cr:', 'two/four', 'arrested:', 'don’t', 'trend:', '25,429', 'cm,', 'clinics,', 'indias-', 'survival:', \"'prepared\", \"worst'\", '1,637;', 'authorisation:', 'markaz,', 'hospitalised:', 'govt:', 'dad:', \"jaitley's\", '₹5l', 'shut,', \"people's\", '85-yr-old', 'meme,', \"fool's\", '12kg', 'rice,', '100,', '1,397,', 'finding,', 'contain:', \"fools'\", 'mp:', 'csir,', 'dst,', 'dbt:', '21:', 'gatherings:', \"paine's\", 'car;', \"mcdonald's\", 'wonderful:', \"'yoga\", \"nidra'\", '₹54', 'items,', 'forward:', 'aimplb', \"nadella's\", '₹2', 'reduced,', '7.1%', 'village,', 'hrs,', 'people’s', 'areas:', '60%', 'backbone:', 'challenge:', 'tuesday,', '36%', 'capacity:', 'law:', 'multi-feed', 'common:', 'of:', 'punjab:', 'symptoms:', \"months'\", 'him:', '93-yr-old', 'coronavirus-triggered', 'recession:', \"t'gana's\", 'nicobar,', 'road,', 'shelters:', \"warriors'\", '₹4', 'licences,', '14,', \"daughter's\", 'blacklisted:', 'water:', \"'disinfecting'\", 'ops,', 'diljit', '₹20', 'holidays:', '24-yr-old', '1,251;', \"victims'\", 'jln', 'return:', 'selfie', 'coronavirus;', 'phones,', 'list:', 'dm,', \"markaz's\", '₹45', 'name:', 'poor:', 'discipline:', 'gujarat;', 'this?:', \"uncle's\", 'ration:', 'sakte', 'jao:', 'donated,', 'tamasha:', 'bihar,', 'bill:', 'lnjp,', '242-bed', 'nizamuddin,', 'humko,', 'harana', 'hai:', '38,442', \"singh's\", 'virat,', '1,071;', '₹611', 'emerge:', 'corona:', 'ventilators:', 'delhi?:', 'test;', \"'missing\", \"kids'\", 'coronavirus-related', \"nations'\", 'rajkummar', 'shilpa,', '₹21l', 'mylab', 'essential,', \"'modi\", \"kitchen'\", 'delhiites', '₹1k', 'flee:', 'passengers:', \"don'ts\", 'pandemic?', \"victim's\", 'rent,', 'ladakh:', 'toll:', 'panic,', 'outbreak:', \"'korauna'\", 'wages,', \"month's\", 'rent:', \"isn't\", '₹151', 'fund:', 'dakhave', 'bhosle,', 'kit?', '34,931', '₹73', 'esther-abhijit', '9-step', \"'real\", \"hero'\", '8,795', 'shortage;', \"labourer's\", 'mysuru,', \"'foreigners'\", 'adityanath', 'funerals:', '979,', 'ramayan;', 'naked,', '₹51', 'sales:', 'coronavirus-hit', 'iran,', '10%', \"'shri\", \"ram..'\", '₹501', \"'nothing\", \"little'\", '₹55', '₹1.5', 'condition:', '₹25', '2-yr-old', 'ward,', 'whatsapp/email', \"you're\", 'tapaswi:', \"'pre-emptive,\", \"pro-active':\", 'afghanistan:', 'open,', 'release:', \"lockdown's\", 'purpose:', 'million,', 'better:', '834,', '9-month-old,', '873;', 'ramayan,', 'maha,', '₹18k', \"helmet'\", 'work,', '₹1,300cr', '₹21.7cr', \"'sneeze\", \"virus';\", 'fire:', 'sanitiser,', \"you're,\", 'good:', 'dcp,', \"'operation\", \"namaste'\", 'curfew,', 'sena,', 'bjp,', '70-yr-old', '23,', 'macau,', 'fighter:', \"'zindagi\", \"jaye'\", 'weak:', 'notice:', 'naravane', 'spreads,', \"'solidarity\", \"trial'\", 'cure:', 'months,', 'monitoring:', 'studies:', 'journos,', 'coverage:', 'guidelines,', 'zero:', 'swiggy,', '75bps', '4.4%', '700;', \"kher's\", \"she's\", 'health;', 'newly-married', 'council:', 'responsibility:', 'girlfriend;', 'divorce,', 'eviction,', 'month:', '90%', 'operate,', \"where's\", 'then?', '‘ramayan’', 'prabhas,', 'mahesh,', 'goa,', \"'not\", \"father'\", 'personified:', 'prayagraj', \"gujral's\", 'haryana:', '694;', 'wife:', 'ex-nz', '63-yr-old', 'ventilator,', '₹7,500', '23-yr-old', 'noida,', 'trucks,', '700-bed', \"'fever\", \"clinics'\", 'vends', 'rice/wheat', 'hospital,', 'normal?', \"'shoot\", \"sight'\", '₹100', '₹182', '₹202', '₹1.7', 'direction:', '75-yr-old', 'pm-kisan', 'rising,', 'stabilising:', 'nagpur,', 'swiggy', \"s'pore;\", '649;', 'grocery,', '₹1cr', 'malaria,', 'prescription:', 'e-passes', 'commute:', 'shortage,', 'yrs:', 'wife,', '17-yr-old', 'negative:', 'friend,', 'call:', \"mufti's\", 'cruel:', 'manufacture,', '24*7', 'karnataka:', '606,', 'cases;', \"'navratri':\", 'godwoman', 'gathering,', 'inside:', 'mankading', \"'corona\", \"challenge'\", 'nurses:', 'jail:', \"'corona'\", 'food:', 'minister;', 'mandate:', 'digvijaya', 'cured/discharged', 'worst-affected', '₹2/kg', '₹3/kg', 'son,', \"c'garh\", 'apr,', 'duty;', 'orders:', '\"china', 'virus\"', '+ve;', \"mizoram's\", '89%:', 'orders,', 'pm’s', 'decision,', \"we're\", 'hurt:', 'bangladesh,', \"'diabolical\", \"mindset':\", \"ram's\", 'detailed:', '21,804', '1-9,', 'homes,', 'market:', 'what,', 'self-medicate', 'flipkart', \"'truck'\", 'npr,', 'crisis:', 'please,', \"pune's\", 'kit,', \"items'\", 'installations,', 'graffitis', 'bagh,', 'tickets,', \"you'll\", 'automatically:', '1,000,', 'tonight:', 'planes,', \"doctor's\", 'retweeted', 'vital:', 'leaders,', 'tips,', 'experience:', 'important:', 'houses,', 'roads:', 'sanitisers,', 'himself:', \"'lakshman\", \"rekha',\", 'worse,', 'co-ro-na', \"'koi\", \"nikale':\", 'policeman,', 'modi,', '₹48', 'cr,', \"'sack\", 'irani,', \"goyal':\", '₹3,280', 'cr-relief', '27,', '2018-19', '30:', 'aadhaar', 'sentiment:', \"'taali\", \"bajao'\", 'look:', 'airport;', 'kapoor:', 'emergency:', 'goods,', 'march,', 'april,', 'creativity:', 'housie', 'ago:', 'i&b', 'brains:', 'loss:', 'north-east,', 'curfew:', 'ex-j&k', 'chef,', 'firs,', 'challaned', 'returned,', 'alarmingly:', 'anti-caa', 'protests,', 'seriously:', 'jails:', 'families,', 'tejashwi', 'chouhan-led', 'advisory:', 'tonight,', '31:', \"'plan\", \"c'\", '49,735', 'camera-based', \"'janata\", \"curfew';\", 'ration,', 'quarantine,', '30;', 'malaysia:', 'level:', 'bengal,', 'week,', 'flights:', 'gutkha', 'delhi;', \"'thali\", \"banging'\", 'done,', 'matters:', 'challenge,', 'solutions:', \"'i'm\", \"society's\", \"enemy'\", \"banks'\", 'kolkata:', '₹7,704', 'sector,', 'let-linked', 'outfit,', \"stupidity's\", 'seriously;', 'yourself:', '31,', 'uber,', 'videoconferencing:', 'violators:', '₹1,000,', 'mask?', 'equipment,', 'decongesting', 'kerala;', 'nagar;', '68-year-old', 'self-isolation', \"'what\", \"historic'\", \"lucknow's\", 'raped,', 'services/establishments', 'varanasi,', 'aligarh,', 'thaali', 'father,', 'mother,', 'tests:', '5%', 'hospitalisation:', 'gratitude,', 'victory:', \"'fighters'\", 'respect:', 'boycotting,', 'ias,', 'homicide,', '\\u2066wanted:', \"curfew'\", 'services,', '31;', 'clap,', 'casualty:', '13,000,', '3,00,000', 'scare,', 'borders,', 'exams,', '36,000:', 'jamia,', '9pm:', 'well:', '₹3,000', \"accused'\", 'swara,', 'am-4', '40%', 'govt,', 'wagers,', 'help:', '67-yr-old', 'amsterdam-delhi', 'land:', 'retest,', \"'baari\", \"barsi'\", 'fashion:', 'screening;', 'bhutan,', 'nepal,', '3-month-old', '2.5-yr-old', '72l', '7.5kg', 'elderly,', 'journeys:', 'citizens:', 'raje,', 'kanika,', 'jordan,', 'autos,', 'others,', 'us-return', 'self-isolate,', 'train,', 'thailand,', \"nirbhaya's\", 'students,', 'punishment:', 'nirbhaya', \"convicts'\", 'people;', 'gurugram,', 'prez,', '50-yr-old', 'away:', '$2,000', '₹100:', 'fear,', 'coronavirus-infected', 'fully,', 'discharged:', 'paytm', 'cremated:', 'covid-19-hit', 'capfs', '5,500-bed', 'april:', 'justice:', '223;', 'close,', 'ex-raj', \"balconies?'\", 'speech;', '₹50,000', 'am-10', \"'lackadaisical\", \"boomer'\", 'parliament;', 'shops,', 'hindi,', '-ve,', 'self-quarantine,', 'married;', 'mukerjea', 'record:', 'spain-returned', 'quarantine;', '$1-mn', \"maharashtra's\", 'pharmacy,', 'offices,', '69-yr-old', 'spread:', 'on,', 'game:', 'prevailed:', 'mother:', 'minimum:', 'drunk:', 'ayodhya:', 'mela:', 'state:', 'btp,', 'polls:', 'rupani', 'truth:', 'message:', 'gangrape', 'am,', 'modi?', 'surgical/disposable', \"curfew':\", 'immunity,', 'outbreak?', 'sneezing,', 'london-return', \"'today\", \"justice':\", 'god,', 'hanging:', '₹15', 'crowding:', '65,', \"'long\", \"nirbhaya'\", 'chanted,', 'smile:', \"'janta\", 'week:', '20+', 'banned:', 'crowds,', 'necessary,', 'check-ups,', 'surgeries:', 'evidence:', 'scarcity:', 'ii:', 'conference:', 'path:', 'earliest:', \"'cleanliness\", \"workers':\", 'buses,', \"'dabbawalas'\", '10,', '25%', \"mukesh's\", 'plea,', \"'shame'\", \"quarantine'\", 'deboarded', 'nation:', 'kia;', 'employees,', 'wedding:', \"gzb's\", 'sun,', 'viruses:', 'anti-sexual', 'panel:', \"ex-cji's\", \"convict's\", 'theatres,', 'gyms,', 'bars,', 'mains,', 'couple,', '1-km', 'tactics:', \"'well\", \"said!'\", 'canada-return', 'mattress,', \"judges'\", 'chamber,', '₹38,000', \"hyderabad's\", \"'visa\", \"temple'\", '₹2.11', 'indonesia-return', 'iran:', \"homes'\", 'cases:', \"'anti-coronavirus\", \"juice',\", 'supermarkets,', 'open:', '2,00,000', 'mode:', 'bhima-koregaon', 'required:', 'travel:', '20-30%', \"chennai's\", 'washermanpet', \"'our\", \"best'\", 'military:', \"'kovind,\", 'covid,', \"it'\", 'headline,', 'iit-d', '\\u2009', 'confirm:', '₹10', '₹500/litre', 'uk-return', 'scare:', 'ex-mp', 'lifted,', 'defaced,', 'ambedkar;', 'dues,', 'fraud:', \"'don't\", \"widow'\", '₹27', \"'work\", \"home'\", 'impressive:', '65l', '2.35l', 'beds:', 'urgently:', 'tourists,', 'monuments,', '29-yr-old', 'riots:', 'judiciary:', 'falls;', 'cold,', 'rights:', 'papers:', \"judiciary's\", 'impartiality:', 'colleges,', 'awaited:', '63;', 'iit-kanpur', 'afghanistan,', 'weather:', 'uk-returned', 'coming:', 'oath:', 'spot:', 'men:', \"shirdi's\", 'captive:', 'integrity:', 'tested:', 'action:', 'rooms,', '54.5%', 'tech-driven', \"'chinese',\", \"'corona,\", \"corona'\", 'equality,', 'life:', 'cji', \"faiz's\", \"'hum\", \"dekhenge',\", 'language:', 'siddhivinayak', 'eu,', '-10.5%', \"visitors'\", 'gathering:', \"conspiracy'\", \"jnu's\", 'legacy:', 'aishe', 'chandrababu:', 'malik,', '30-yr-old', \"families'\", '2019-20:', 'turns:', 'kindergarten,', 'called,', 'hiv,', 'iran;', 'court,', 'banned,', 'students:', 'euthanasia:', '₹23', 'pickpocketers', 'terror;', 'pressure:', 'heads,', '₹74cr', 'prepare,', \"'using'\", 'exam;', 'statements;', 'party,', 'genius:', 'petrol,', 'riots,', 'soon,', 'changes:', 'bank,', 'inefficient:', \"'azad\", \"party'\", \"rwanda's\", 'kochi-dubai', 'flight,', '₹4-lakh', \"'flee'\", 'fears:', 'sanitizer,', \"grandma's\", 'kartapur,', '21-yr-old', 'mall;', 'virus,', '35l', \"protesters'\", '₹1.38', 'jee,', '₹1.2', 'crowds:', '4,000+', 'journos', 'ceremony,', 'bus,', \"'truth\", \"dare'\", 'treatment:', \"mahasabha's\", 'gaumutra', 'properly:', 'disaster,', 'again;', 'held:', 'modesty,', 'punished:', 'times:', 'sp,', 'adityanath,', \"student's\", 'sub-jail', \"'jittega\", \"punjab'\", \"i'll\", '-ve:', \"dad's\", 'mrp:', 'party:', \"scindia's\", 'ex-husband,', \"'false'\", 'unforgivable:', \"'ditching\", \"mistake'\", '44%', 'electricity:', 'modi:', \"goddess'\", 'idol,', \"fighter's\", 'are,', 'india;', 'indians,', 'foreigners:', 'france,', 'agents,', \"gandhiji's\", 'clothes,', 'certificate:', 'anti-npr,', 'everyone:', 'incomplete:', '1.4k', 'rejection:', \"car's\", 'hold,', 'jd(u)-bjp', 'ex-bjp', 'sengar', '10-yr', \"survivor's\", \"shouldn't\", 'lightly:', 'namaste,', \"'outbreak',\", \"'epidemic'\", \"'pandemic'?\", 'jyotiraditya', 'chinmayanand,', \"sengar's\", \"'name\", \"shame'\", 'turmeric,', 'lemon,', 'raveena,', 'farah,', 'firs:', 'caa,', 'npr:', 'problem,', 'doors,', 'blessings:', '24:', 'vaccine:', 'rioters:', 'violence:', 'bjp:', 'own,', 'sonia,', 'leaders;', \"police's\", \"'doubtful':\", 'scindia,', 'pradyot', 'meeting,', 'necessary:', \"sharma's\", 'spicejet,', 'cm;', 'change:', '28,979', 'year:', \"telangana's\", \"'thank\", \"india':\", 'b’luru', 'issue:', 'banks,', 'falls:', 'muslim,', 'registered,', \"lal's\", \"'chela'\", 'cm:', 'burning:', 'be,', 'reality:', 'hussain,', 'retweets', 'anytime:', 'shahrukh,', 'riot,', 'visa-on-arrival', 'banks:', 'npci', \"bank's\", \"'misconduct'\", \"'welcome\", \"maharaj':\", \"'virus'\", 'maharashtra:', 'team:', '1.75l', 'birds,', 'crime:', 'go:', 'jaipur,', \"countries'\", 'stable,', 'recovery:', 'saudi,', '12:', \"wouldn't\", 'sober:', '16-yr-old', \"omar's\", '₹60/litre', 'hotel,', 'sidelined,', 'modi-shah:', 'cancelled,', \"'anti-party\", \"activities'\", 'myanmar,', 'bisahu', 'cong,', 'opposition:', \"jyotiraditya's\", \"boy's\", '₹11,234', '2004-19:', 'balloons,', \"'coronavirus'\", 'du:', 'mahua-based', '₹700', \"b'luru:\", 'nithyananda', 'dead,', 'monkeys,', 'gym?', 'muzzled:', \"mlas'\", 'off,', 'bengaluru:', 'priyanka,', \"'bunty-babli'\", \"thackeray's\", 'malayalam;', 'l-g,', '101-year-old', \"iaf's\", 'sooryavanshi', '35-yr-old', \"m'luru\", 'jammu;', '42:', '4,', 'further:', '98-yr-old', 'karthiyani', \"congress'\", 'wasnik', \"hussain's\", 'crisis,', 'jd(u)', \"leader's\", \"gandhi's\", \"winner's\", '₹15-lakh', 'i-t', 'invited,', \"kashmir's\", 'chase,', \"metro's\", 'liberty:', \"women's\", 'years?:', 'tears,', 'accounts?', 'protests:', 'flats,', 'boy,', 'atm,', \"founder's\", \"javadekar's\", 'knowledge:', 'transplant,', 'shame:', \"christ's\", 'certificate,', 'die?', 'italy,', 'video,', 'password,', \"'new\", \"india'\", 'women,', \"'tokenism\", \"theatrics':\", 'iltija', 'invite,', 'foetus,', 'dogs,', 'crore:', 'kolkata,', 'acts,', 'off:', 'husband,', \"8-year-old's\", 'nadu,', 'sunanda,', 'joy:', \"anupam's\", 'welcome:', 'funding,', '₹25k', 'ex-official', 'inside,', 'killed,', 'car-tractor', 'cocaine-filled', 'parts,', 'balaji:', '₹1,300', \"shahrukh's\", 'tiktok,', 'likee', 'justice,', 'end:', \"kashmir';\", 'uae,', \"they've\", 'before:', 'jio,', 'airtel,', 'muslims:', 'akbaruddin', 'watch:', 'black-marketing', \"'namaste':\", 'dark,', 'tone:', 'attack,', 'honour:', '48-hrs', 'asianet,', \"'kbc',\", \"'close\", \"end',\", \"'aarti'\", 'festivals,', 'malls:', \"kolkata's\", 'rbu', \"'obscene\", \"distortion'\", 'lyrics:', \"'right'\", '\\u2009 ', \"chandigarh's\", 'salary,', '202%', 'pending:', 'model:', '62-yr-old', \"'ignoring'\", '₹6', 'holi:', \"wuhan's\", \"'leave\", \"notice'\", 'italy:', \"tmc's\", 'anbazhagan', 'pleas,', 'pehlu', 'passports:', 'kaur,', \"time's\", \"'100\", \"year'?\", \"'brahmin-only'\", 'pak-bound', 'use:', \"ovaries'\", 'function,', 'girth:', 'tanks,', 'out;', 'lasers:', \"'greatest\", \"time'\", \"'pope\", \"vatican':\", 'adhir', \"'real'\", 'julka', 'names,', '₹550-crore', 'limit:', 'teacher,', '24.97%', \"'do\", \"dye':\", 'muralidhar', 'videograph', \"'havan'\", 'census,', 'peak:', 'responsibly:', \"magazine's\", \"'women\", \"year'\", 'breathalyzers:', 'bengaluru-mangaluru', 'strife-ridden', 'despair:', '28-yr-old', \"'frequent\", \"cuts'\", 'unnecessary:', 'assosiation', 'car,', \"'titanic\", \"captain'\", 'safe;', 'meat:', 'fssai', 'coronavirus-free', 'time?', '11-yr-old', 'privileged:', 'doval', 'unity,', 'dead;', 'transfer,', '17:', \"officer's\", 'murder,', 'comments:', 'sainiks', \"'safe\", 'attendance:', '28,529', '29:', 'surrender:', 'girlfriend,', \"'lucknow\", \"jail'\", '2019-20,', '8.5%', 'fy20', 'gairsain', \"dog's\", 'photo,', \"'will\", \"court'\", \"'world's\", \"mommy'\", '2,44,001', 'pocso', 'courts:', 'returned:', \"'unnecessary\", \"checking'\", '13-yr-old', 'girl,', 'watches,', '₹2.29', \"'namaste'\", 'patient:', 'sensitised,', \"bansal's\", 'stations,', 'pain;', 'back,', '₹446.52', 'genocide,', 'riot:', '15-yr-old', 'cow-dung', 'law,', 'ride;', 'chandrayaan-3', '2021,', 'violence,', 'riot-hit', \"wife's\", '7yrs', 'secularism,', 'streets:', 'lokpal?', '1%', '2018-19:', 'regularises', 'colonies,', \"gupta's\", 'zoo,', \"anushka's\", 'cage,', 'cheat;', '70%', '3.5l', 'riteish', 'song,', \"'hindu\", \"bhai'\", 'virus-free', 'seminar:', \"chowdhury's\", 'office,', \"'justice\", \"street'\", 'remark:', 'media,', 'italians,', 'radio,', 'iran-returned', '15,013', \"'clean\", \"chit'\", 'down,', 'attack;', 'barrier,', 'rage,', '65,621', 'development:', 'books,', 'mumbai:', 'court;', \"matter'\", 'self-protection:', \"'giving\", \"accounts'\", '101-yr-old', 'fadnavis', 'sabha:', 'jai:', 'country-made', 'night:', '₹400', 'income,', 'biz:', 'her:', \"ex-actress'\", \"'responsible'\", 'aghadi', \"'shut'\", 'pro-caa', 'rally;', 'detention:', 'stress:', \"'forces'\", \"'free\", \"kashmir'\", \"'y'\", 'hatred,', 'birthday,', '#nosir', \"'thinking\", \"media'\", 'us,', 'responsible:', \"'tiger\", \"hai'\", '6-month-old', 'packs:', 'supriyo', \"'rap'\", 'peace,', 'unity:', '4-yr-old', 'daughter,', '1-yr-old', \"yogi's\", 'event;', 'delivery;', 'benefits:', 'tareekh', 'tareekh:', '80,', 'prepared,', 'queries,', 'minorities,', 'muslims?:', 'parliament:', 'ls;', \"'bjp\", \"bachao'\", 'riots;', 'execution,', 'approach:', \"'goli\", \"maro'\", \"shah's\", '6-yr-old', 'drug-laced', 'sunday,', 'accounts,', 'washroom,', 'bjp-led', \"'bharat\", \"chowk'\", 'crowdfunds', '₹71l', 'criminals:', 'culprit,', 'convicts?:', 'wi-fi,', 'bangles:', '₹6,000', 'nose:', \"mamata's\", \"maaro...'\", 'bengal:', \"'snake'\", 'burnt:', 'gandhi,', '98.2%', 'pro-pak,', 'anti-modi', \"k'taka,\", \"pawan's\", 'officer,', 'gupta:', '12-yr-old', 'assam;', \"'kar\", \"sevaks'\", \"'panic\", \"buttons'\", 'chaos,', 'job:', \"jadeja's\", 'catch,', \"'is\", \"haath?'\", 'grassroots:', \"'friend'\", 'uddhav,', \"sena's\", 'saamana', \"'hate-filled\", \"situation'\", 'burning,', 'communalism:', 'drain,', 'begins,', 'genocide:', 'hyd;', '10-yr-old', 'inaction:', 'lying,', 'half-knowledge', 'dangerous:', \"'desh\", 'gaddaron', \"ko'\", \"'restaurant\", \"wheels'\", 'surgical,', 'strikes:', 'premises,', '2017-2019:', 'kitne', 'bikay:', '₹1,452', 'slips,', 'devprayag', \"kumar's\", 'corruption,', 'hindus,', 'one:', 'bagh;', 'businessman,', 'wife;', \"anees'\", 'us-taliban', 'rpsf', 'protesters,', \"anyone's\", 'sanction:', 'speech:', 'ex-delhi', 'thousands,', '200:', 'parvesh', 'constable,', 'ex-cong', 'jahan,', 'luggage,', \"maaro'\", 'station,', 'wrong:', \"aap's\", 'birthplace:', \"kanhaiya's\", 'babies,', 'wounds:', \"'intriguing,\", \"mysterious':\", 'victims:', \"government's\", 'cured:', '₹12.5', \"'namaste\", \"trump'\", 'movement,', \"'bom'\", 'tag,', 'gun-wielding', 'conference;', 'trial:', 'meghalaya,', \"'karo-na'\", 'obc,', 'marathas:', 'paper-setter', 'exam,', 'era:', 'terrorist:', 'online:', 'requirements:', 'tahir,', 'absconding:', '4.7%', 'q3,', \"quarter's\", '5.1%', 'misinformation:', 'rajdharma:', 'valentine’s', \"jawan's\", \"'come\", \"pakistani'\", 'on-spot', 'leaders:', 'amanatullah', \"'5\", \"rajdhani',\", \"brother's\", \"'4\", \"late'\", 'filed:', 'channels:', 'anti-govt', 'peace:', \"'clinching\", \"evidence'\", 'case:', 'mishra,', \"thakur's\", 'statements:', 'ghaziabad,', 'gujarat:', 'recently,', 'relaxed:', 'commissioner,', 'amulya', 'japanese,', 'ever:', 'jaffrabad', 'came,', 'spoke,', 'ipad,', 'trump:', 'rape:', \"'miracle\", \"baby'\", \"teacher's\", \"'passionate\", \"mentor'\", 'temple,', \"priest's\", 'violence-hit', \"'only'\", 'tahir:', 'comment:', \"'women-friendly'\", 'shops:', 'emerged,', 'close:', 'happening,', 'pakistani,', 'infiltrators:', \"mns'\", 'option:', 'hardik', 'mood:', \"country's\", 'branch,', 'normal,', 'present:', 'pictures,', 'detention,', 'remarks,', 'bread,', 'shut:', 'cabinet:', 'interference,', \"'selective\", \"misleading'\", 'guilty,', '₹10l', 'out:', 'virus-hit', 'shameful:', \"muralidhar's\", \"'raj\", \"dharma',\", 'shah:', \"bhagat's\", \"muslim'\", \"floyd's\", \"aziz's\", \"'sab\", \"jaayega'\", \"'mobile\", \"youth'\", \"rss'\", 'silenced:', \"'baat\", \"ki'\", 'idea,', 'terror,', 'incorrect,', 'misleading:', 'word,', 'house:', 'suicide,', 'leadership:', \"kamra's\", 'indigo,', 'bombs,', 'balle!:', \"melania's\", 'animals,', 'be:', \"tomorrow's\", 'northeast,', 'arrested,', 'seelampur', \"jai'\", 'khan,', 'laughable:', 'caution:', 'options,', 'other:', \"mishra's\", 'employee,', 'court:', '₹5', \"'bright\", \"future'\", 'nimhans', 'ex-cm', \"mehbooba's\", \"ncp's\", 'ex-prez', \"mediators'\", 'report:', 'passage,', 'alarming,', 'in:', \"pujari's\", '1994,', 'ghost:', 'idea:', \"'ghus\", \"maarenge':\", 'ex-air', \"'best\", \"before'\", 'lady:', \"ex's\", 'marriage,', 'anti-romeo', 'statement:', '21,', 'bridge,', \"'mental\", \"illness'\", 'rahman,', \"kejriwal's\", 'jafrabad', 'road:', 'at,', 'kejriwal,', 'sisodia,', 'owaisis', 'caa:', 'khaas', 'state-sponsored,', 'mobs:', 'hindus:', 'freedom:', 'passport,', '$20', \"'godman'\", 'indian,', 'governments:', 'gosht', 'biryani,', 'alishaan', \"president's\", 'care:', 'pakistan-backed', 'nrc,', 'advisors:', \"disney's\", 'hotstar', \"show's\", 'heart:', 'visit:', \"'inciting\", \"violence'\", '$3', 'deals,', 'deployed:', 'school;', 'namaste!', 'school:', '15,358', \"'pakistan\", \"zindabad'\", 'wall,', 'airlines:', 'virus;', 'soil:', 'anti-muslim:', 'else,', '7;', 'civilians,', 'taj:', 'detained;', 'die,', 'right,', 'anti-national:', 'restaurants,', 'murthal', 'approval:', 'cpcb', 'man:', 'chats,', 'delhi-lucknow', 'highway,', '12hrs', 'mahal:', 'seize,', 'accomplished:', 'height:', 'worthwhile:', 'scs/sts', '2019:', 'honour,', 'stone-pelting', 'format:', 'acquitted,', 'spectacular:', 'tolerated:', \"pushkar's\", \"rjd's\", '85%', 'manmohan,', \"'beast'?\", \"mahal's\", '₹8l/night', 'lift,', 'terrorism,', 'indian-style', 'words:', 'mosque,', 'punjab’s', \"'taj\", \"awe'\", \"'three\", \"monkeys'\", 'vandalised,', 'tmc,', 'democracy:', 'chaiwala,', 'champion:', 'years,', \"'grand':\", 'points,', \"'guest\", \"god'\", 'arrival,', \"'waiting\", \"arrival'\", 'idlis', 'ddlj:', 'inspiring:', 'specially-abled', 'divyangs', 'symbol,', \"nehru's\", \"'negative\", \"traits'\", 'pages,', '$8:', 'tendulkar,', '16-year-old,', \"'born\", \"rape'\", 'tonne-tana-tonne', 'talk:', 'vegetables,', 'jaffrabad,', 'babarpur', 'personally:', 'ship,', 'peaceful,', 'pro-caa,', \"veerappan's\", 'africa:', 'labourer,', '₹5-crore', 'prayagraj,', \"'wait\", \"over'\", 'harassment:', 'had:', 'bagh-like', 'hyd:', \"khan's\", 'thief,', \"floor's\", 'fastag', 'ashram?', 'behave,', 'worse:', 'evacuation:', 'indian:', \"muslims'\", \"why's\", 'stature:', 'ours:', 'ram,', 'hanuman,', 'kaam:', 'knife-point', 'viral:', 'pathan,', \"salman's\", \"'key\", \"agra'\", 'abdullahs,', 'mufti,', 'rajnath;', '₹7', 'kashmir,', '2020:', \"'kashmir\", \"lockdown'\", 'him;', 'superpower?:', \"'molester'\", 'plantation:', \"'mohalla\", \"'bum-bum\", \"lahiri'\", 'built,', 'cong:', 'irani:', 'instability:', '64-yr-old', '10ft', 'globally,', 'locally:', \"sarpanch's\", 'pune;', 'trips?', \"aimim's\", \"nrc's\", 'weakness:', 'topis', 'against:', 'v-c', 'privacy:', 'body:', 'say:', \"'pak\", \"businessman's\", 'invite;', 'terrorism:', 'ex-bsp', \"mla's\", 'conductor,', 'ex-andhra', 'leona,', 'slogan?', \"'stolen'\", 'suffered,', 'compromise:', 'calls:', 'rape-accused', \"'dus\", \"bahane'\", 'evening:', 'non-veg', \"'sentiments'\", \"goyal's\", \"'mini\", \"portugal'\", 'reference:', '34-yr-old', 'noida-faridabad', 'vandalises', 'ex-hockey', 'captain,', 'de!', \"'nitish\", 'vadh', \"2020'\", \"yadav's\", \"worker's\", 'ahmedabad:', 'ivanka,', '3,350-tonne', 'mukti,', \"mukti'\", '2024:', 'sitharaman,', 'samvidhan,', 'pathan:', \"'so\", \"liberals'\", \"'fail'\", 'marksheet', 'junction,', \"army's\", '1947:', \"'which\", \"you?';\", 'rally,', \"'progressive\", \"forces'\", '\"skin\"', 'childbirth,', \"'badi\", \"se':\", 'reason:', 'enabling:', 'maurya,', '₹8l/', '27-yr-old', 'afp’s', 'beer,', 'haryana;', 'citizenship:', 'jaiye', 'chacha:', \"waris'\", \"cr'\", 'context:', 'unscientific:', '70l', \"'mahapariksha'\", 'horrific,', 'sickening:', \"'nrc\", \"survey'\", 'driver,', \"passenger's\", 'iit-madras', 'live;', \"'marine\", \"one'\", 'schizophrenic,', '₹16', \"pakistan's\", 'isi:', \"hitler's\", \"'happiness\", \"class':\", 'uphaar', 'ex-punjab', 'dig,', 'trust:', \"'offensive'\", '371:', \"'indian\", \"2'\", 'others:', \"'teesta\", \"protesters',\", 'criticism?:', \"terror':\", \"'slowdown':\", 'ex-principal', 'clinic,', \"'model\", 'dean,', \"'jal\", \"samadhi',\", 'lakh,', \"flight's\", 'mla,', 'spa,', \"'lashkar-e-taiba'\", 'fort,', 'traffic,', 'sheet:', 'chennai,', \"tiwari's\", 'deepfake', 'voters:', 'poet,', 'ended:', \"'litti\", \"chokha'\", 'tea:', \"'hunar\", \"haat'\", 'knife-point,', 'alive:', \"'compartmental'\", 'ex-tmc', \"paul's\", 'death:', \"major's\", \"'howdy\", \"modi'\", 'visit,', \"smell'\", 'ideas:', 'sindhushree', 'inx', '9yrs;', \"baby's\", \"'why\", \"asthana',\", '1,000-yr-old', 'all-granite', '2-wheelers', \"'regressive'\", 'citizenship,', 'uidai', 'ex-goa', 'drugs,', \"'bhasmasura'\", 'kindness:', \"fernandes'\", \"master's\", \"who's\", 'kotnis,', 'help?', 'appear:', 'leg,', 't-shirt;', 'chidambarams', '₹2.66', 'mp,', 'siren;', 'on:', 'forehead,', \"jai':\", 'ex-commissioner', 'lot:', 'knows:', \"today's\", 'questions:', 'tatkal', \"corridor's\", 'battles,', 'price:', \"'picnic\", 'mahakal', 'bachchan,', \"'fighting\", \"death'\", \"'muslim\", \"janmabhoomi'\", 'angry,', 'scindia?:', 'now?:', 'ex-mumbai', \"'insulting,\", \"threatening'\", '₹5.12', 'budget,', 'sanatani', 'hindu,', \"others'\", 'religions:', '6+23', 'forever:', '5-month-old', 'terror:', 'ex-top', 'anti-india', 'activities:', 'proxy,', 'sharjeel', 'parrikar', 'hyderabad;', \"'cyanide'\", 'forms:', 'takeoff,', 'gun,', 'innocent:', 'awesome:', 'chennai;', 'tweeting:', 'someone:', 'elgaar', 'memory:', 'meenakashi', \"sc's\", 'supermarket,', 'shikoh,', 'for?', 'passengers,', \"'extremely\", \"patriotic'\", 'mukerjeas', 'didn’t', 'probe:', '₹30,000', \"'make\", 'strip-search', 'army:', 'elections:', \"uddhav's\", 'area:', 'ex-jharkhand', 'time;', \"chief's\", \"'divorce\", 'criminal,', 'chinese?:', 'trials?', '₹92,466', '₹388', 'garibi', 'chupao', 'plan:', 'odisha,', 'nehru,', '370,', 'pro-pak', 'ban,', 'truck,', 'agra-lucknow', 'cbi,', 'happens:', 'assam:', '₹10,000', \"shiva's\", 'permanent:', 'oath;', 'exemptions:', 'security,', \"'jai\", \"ram'\", 'kejriwal:', \"'little\", \"mufflerman'\", \"hindu's\", 'status:', '15-ft', 'sand,', 'launches,', '₹1,254', 'arrogance:', '6-inch-long', 'live-streaming,', '₹2.46', '63-ft', 'relatives,', 'provocation:', 'safari,', 'iit-m,', \"'character'\", 'chandrachud', 'seat:', 'rapidly:', 'group:', \"'disputed'\", 'ironic:', \"ex-cec's\", 'free,', 'free:', \"tejashwi's\", 'hi-tech,', 'holder:', 'rescue,', 'v-day,', \"boyfriend's\", 'auto-rickshaw', 'intentions:', 'society:', 'sa,', \"'win\", \"polls'\", 'fair:', 'birthplace,', 'camp:', '27mn', 'followers,', '44mn', 'cpi,', \"'purify'\", \"'fortuner'\", \"'fortune',\", 'maaro', 'yaar:', 'runway,', '43-yr-old', '20-yr-old', \"martyrs'\", 'families:', 'worry,', 'cpi(m)', 'oman,', \"valentine's\", \"portugal's\", 'marshals,', 'ramayana-themed', 'budgeting:', 'protest,', 'says,', \"'fight\", \"back'\", 'anti-nationals:', 'parent,', 'normalcy;', 'lathi-charge', 'clash,', 'quick,', 'interfere:', 'trip;', 'faesal', 'verdict:', 'fb,', 'peacefully,', 'dubai,', 'meet:', \"case's\", 'marriage:', \"vinay's\", 'runway:', \"'3\", \"ton'\", \"'tumhe\", 'tumhari', 'aukaat', 'dikha', \"dungi':\", 'pulwama:', 'attack?:', 'warming:', 'pattnaik', 'jem,', 'forces:', 'forget,', 'forgive:', 'indianoil', 'xtrapremium,', 'trap:', 'gift:', \"protestors'\", 'most:', 'ceos,', 'grindr:', 'screwdriver,', \"swaraj's\", 'govt-funded', 'madrasas,', 'tols', 'schools:', \"'baraat'\", 'wedding,', 'martyrdom:', 'cities?', 'villas,', 'cars:', 'pachauri,', 'teri,', 'raping,', 'cong-ruled', \"constable's\", 'metro,', 'challenging:', 'disappointing,', '46-yr-old', \"body's\", 'lawyers,', \"malang's\", 'release,', \"'poor\", \"light'\", \"chacko's\", \"dikshit's\", 'hike,', '5-19,', 'liberals:', 'excited:', \"'promoting\", \"job',\", 'route:', 'breath:', 'singh:', 'ceremony:', 'victory,', 'courses:', \"geelani's\", '₹13', 'terrorist,', 'tukde-tukde', 'gang:', 'newly-elected', '₹64.26', 'man?', 'light:', 'foot,', '8-month-old', 'decisions:', '₹67,000', '₹12', \"'have\", \"son',\", 'tampered:', 'foot-over', 'collapses,', 'rights?:', 'rifles,', '12,061', 'mangaluru', 'pro-kannada', 'e-cigarettes', \"abdullah's\", 'convoy,', 'polls?', 'vehicle,', 'offline,', \"'drugs'\", \"'kem\", 'chho,', \"trump!'\", \"'howdy,\", 'non-subsidised', '₹144.5/cylinder', '₹45l', 'groundnuts,', 'ex-special', \"commissioner's\", 'madrasas:', 'vijayvargiya', 'cm-designate', 'elections,', '21,697', 'votes,', 'increased:', 'loss,', 'pakistan:', \"rana's\", \"'jan\", \"baat'\", \"'mann\", \"baat':\", 'win;', 'voltage:', 'ex-arunachal', 'kalikho', \"pul's\", '₹75,000', \"'wrongdoer\", \"pardoned'\", 'vehicles;', 'sabha?', '₹1.1l', 'hanuman:', 'seats,', 'atishi', 'patparganj,', 'kalkaji', 'row:', \"supporter's\", 'get-up', 'defeat:', \"do'\", \"couldn't\", 'aap:', '22k', 'votes:', 'mufflerman:', 'results:', 'mandate,', 'revive,', 'congress:', '$2.6', 'staffer,', 'snacks,', \"'tukde\", 'tukde', \"gang':\", '9.7%', 'rewarded:', '24,', 'in,', 'girls:', \"lone's\", 'nervous,', 'seats:', 'chest,', 'tomorrow,', 'jd(s)', \"kumaraswamy's\", 'progress:', 'collapse,', 'doctors:', 'them?', 'protest:', \"'tamso\", \"jyotirgamaya':\", \"'dharna'\", 'ex-wife,', 'strength?:', \"america's\", 'ncb;', 'identity,', 'calls,', 'numbers;', 'all:', 'culprits:', 'pokhriyal', 'stalker,', 'football-sized', \"woman's\", \"'hanuman\", \"chalisa'\", 'patna,', 'jharkhand,', 'partitioned:', '62.59%', 'turnout,', \"'shooter'\", 'polls,', 'offered:', 'shocking:', 'visually-impaired', '2022:', 'chaupal', 'friends:', \"'jhumka\", \"re'\", '200-kg', \"'jhumka'\", 'fest:', 'haryana-up', \"patna's\", \"guru's\", '10+', \"'missing'\", '54.65%', 'fail,', \"'impurity'\", 'nice:', 'aspirations:', 'right:', 'dead:', 'ganga:', \"pdp's\", \"infant's\", \"karnataka's\", 'budgam,', 'passport-free', '₹1,371', 'crore;', 'highest:', 'andhra-born', \"'state\", \"disaster'\", 'advani,', 'shikara,', 'lock-up:', '1st-time', 'later,', \"can't:\", 'parliament?', 'wuhan:', 'bike-borne', \"judge's\", 'northeast:', 'varsity,', 'cavity,', '111-yr-old', 'bangladesh-born', 'vibrations,', 'l-g', 'baijal,', '21-storey', 'world’s', 'loc:', 'signboards:', \"'hindu-muslim'\", 'fluorescent,', 'chapatti:', 'way:', \"'tubelight'\", \"rahul's\", \"'dande'\", 'ls,', 'promises:', 'abdullah,', 'mufti:', \"tihar's\", 'emotionally:', '47,', 'wages:', 'omar,', 'psa:', \"groom's\", \"bride's\", 'adhir:', 'rijiju', 'parents:', 'updation', 'osd,', 'officers:', 'communal,', 'rashtra?:', \"sisodia's\", '₹2-lakh', 'feet:', 'distraction:', 'divorce:', 'langoors;', 'rape-murder', '56-yr-old', 'partner,', '₹4.5', '51-yr-old', 'kissing,', 'e-visas', \"aide's\", 'tak:', 'regime:', \"'provoking'\", '₹19', 'suicide:', '48%', '2021:', '33-yr-old', 'vigilant:', 'tejasvi', 'partition:', 'songs,', 'jd(s)-cong', \"'gaali-proof':\", 'lynched,', 'child-lifting', 'posts:', \"'abdul\", \"razzak'\", '5-storey', 'slippers,', 'kochi,', 'fundamental:', \"university's\", 'gate:', 'child,', 'mindset:', \"'terrorist'\", 'bihar:', 'possible:', \"'aap\", \"member'\", 'humans:', '₹165', 'lobby,', 'expo,', '1-year-old', 'mandir?', '5-yr-old', \"'sewak'\", \"shooter's\", '105-yr-old', '74.5%', 'chickens:', '60-yr-old', '₹70l', \"4-month-old's\", 'convicts:', 'trust;', 'janambhoomi', 'muslims,', 'essential:', 'gita,', 'nrc:', 'lathicharge', 'am:', 'aadhaar:', '₹30', 'cricket,', 'lone,', \"us'\", 'anti-caa,', \"cms'\", 'horse-cart', 'mumbai-ahmedabad', 'drunk,', 'magic:', 'member?:', 'play:', 'everything,', 'mid-air,', '₹1,200', \"'sustainable\", \"fee'\", '₹1l:', 'members:', 'improved:', 'voluntary:', 'capital:', 'ex-friend,', 'cash,', '1948:', \"godse's\", 'winter:', 'exposed:', 'guide:', \"journalist's\", \"'you're\", \"propaganda'\", \"'mehboob'\", 'controversy:', 'aulad', 'hain:', \"hegde's\", \"'gandhi'\", 'cancer,', 'shocks,', 'tracks,', '10:', 'kannada,', \"girl's\", 'chinmayanand', 'symptoms,', 'violence;', 'promised:', 'ex-up', 'crorepatis:', 'babri,', 'cab;', 'mistake:', \"'unsafe'\", 'show:', 'out,', 'destroy:', 'again:', \"'honk\", \"more'\", \"cow's\", 'anantkumar', 'container,', \"relative's\", 'boots,', 'goggles:', 'pro-sharjeel', 'tour,', '₹14-lakh', 'bullets:', 'pakistan,', 'pakistani:', 'rai:', 'budget:', 'league:', 'phone,', '₹17', 'experiment:', \"kishor's\", 'i-pac', 'roadside,', \"rape-accused's\", 'veerappan’s', 'hyper-nationalism:', 'woman;', 'tied,', 'bursts;', \"'drama'\", 'consent:', 'odisha;', 'scooty', 'kerala:', 'fired:', 'taxed:', 'water,', 'exercise,', 'pro-amaravati', 'airport,', \"bomber's\", \"sangh's\", 'rashtra:', 'upbringing?', 'sayani', \"vivek's\", \"'shaheen\", \"bagh'\", 'sidhu,', 'mankirt', '₹600', 'camp,', 'humare', 'hinduo', 'chalegi:', 'kamra:', 'weddings:', '23-65', 'ghaziabad;', 'land,', '10km,', 'tired:', 'nipah,', 'personnel,', \"farmers'\", '2020-21', 'non-taxpaying', '‘writer', 'movements’', 'changes,', 'same:', 'kids,', \"haldiram's\", 'noida;', 'lic,', '$433', '2022,', 'msmes', \"'a\", \"cities',\", '₹4,400', '2020-21?', 'step-motherly', '₹3.6', '10%:', '₹85,000', '₹53,700', 'year?', '33.4°c,', '₹25l', \"ex-boyfriend's\", \"22-yr-old's\", 'citizens;', 'late:', 'aap,', 'custody,', 'dung,', '86-yr-old', '2019,', 'humara', 'khilte', 'jaisa:', 'degree-level', 'institutes:', 'bodies:', 'milk,', 'meat,', \"'nirvik'\", '2024;', 'tejas-like', '₹12,300', 'swachh', 'protesters:', \"npr-nrc-caa'\", 'strong,', 'contained:', 'liquor,', 'clean:', 'cousin:', 'hanged:', \"#modimadness',\", \"'person\", \"citizen'\", 'strongly,', 'defensive:', 'shoot:', 'manifesto;', 'pollution,', 'guns:', 'juvenile,', 'genuine:', '6.1%', '6.8%,', 'fever:', 'slogans,', 'cliches:', \"prez's\", \"ke'\", 'incomprehensible:', 'rule:', 'strike;', '₹23,000', \"'de-saffronise'\", 'bisaria', \"krishna's\", \"'political\", \"overtones'\", 'done:', '42-yr-old', 'mangalsutra', \"girlfriend's\", 'neck,', 'crows,', 'nadu;', '6-6.5%', 'seconds,', 'react:', 'dates:', 'historic,', 'vision:', \"shooter?'\", 'thakur:', 'firing:', 'children,', 'shooting,', '11:', 'tajinder', '370:', \"patnaik's\", 'sena:', \"'even\", \"minute'\", 'resignation,', '₹22/kg', 'ports:', \"akshay's\", 'spared:', 'malaysia,', 'eruption;', 'sedition?', 'lodged,', 'godse,', 'ideology:', 'stimulus,', 'gods:', \"'yeh\", \"azadi';\", 'grylls:', 'gopinathan', \"'inflammatory'\", \"'misunderstanding'\", 'cleared:', \"'rioting'\", 'reason,', 'cheetah?', 'influence:', 'prayers:', 'vistara', 'anyway,', \"un's\", \"'assam'\", 'complete:', 'behaviour?', 'module:', \"friend's\", 'kumar:', 'hamare', \"do':\", 'games:', \"airlines'\", 'birth:', 'opening,', 'shringla', 'regulations:', 'whatt', 'phuck', 'mumbai-delhi-shanghai', \"'op\", \"vanilla'\", 'undertrial', 'tactics,', 'nashik,', \"'torture\", \"order'\", 'queues,', 'bagh:', 'chandranshu', \"'dogs'\", 'anti-nationals', 'bullet,', 'biryani:', 'again,', 'did:', 'walk:', \"'illicit\", \"relationship'\", 'modiji', 'n-e:', \"'samvidhaan'\", \"'hindi\", \"company's\", \"'unacceptable'\", 'biopic,', 'jdu', 'jalebis:', 'saal*n', '₹10k', \"'i\", \"kejriwal'\", 'sticker,', \"'youth\", \"too',\", 'jd(u):', \"'are\", 'coward,', \"nationalist'\", 'flight;', \"'advises'\", \"indigo's\", 'portal,', 'kanhaiya:', 'pak:', 'body,', \"'historical\", \"injustice':\", 'first:', 'disintegration:', \"sharjeel's\", 'overreact:', 'exposure:', 'eco-sensitive', \"kejriwal':\", 'bail,', 'unemployment:', 'lawyers:', \"guv's\", 'university,', \"'governor\", 'brides,', 'box,', 'lover:', 'officials,', 'taranjit', 'sedition-accused', \"'cut\", '₹77', 'fee:', \"ed's\", \"'1947-like\", \"conditions':\", 'film,', 'active,', 'pok:', '₹12,000', \"spokesperson's\", \"'magic\", \"chamchagiri'\", 'daughters:', 'unstable:', \"'greta\", 'licypriya', '1,000-kg', '₹1.25', '4-wheeler', '2-wheeler,', 'stir:', 'bangladeshi,', 'interference:', \"imam's\", 'brother,', 'succeed:', 'mini-island,', 'harmony:', 'constitution:', 'quran,', 'legislation:', 'tigmanshu', \"dhulia's\", 'r-day,', 'last:', 'unhurt:', 'anti-national,', \"'chhapaak'\", \"lawyer's\", 'liars:', 'charges,', '₹7l', \"puja'\", 'howrah,', 'internet,', 'r-day', 'burqa-clad', 'dancing,', '11-km', 'win:', \"baat'?\", 'hizbul,', 'handmade,', \"'encyclopedia\", \"forest'\", 'shri?', '72%', 'classroom;', \"2020's\", 'shri-awardee', 'bodies?', 'caa-nrc', 'tapped,', 'new:', 'stories:', 'constitution,', 'principles:', \"hind',\", 'shri,', \"biryani'\", \"assembly's\", 'next:', 'breached,', 'isro,', 'scientists:', 'raj,', 'kumaraswamy,', 'ulfa(i)', \"universities'\", 'ladakh,', 'shutdown:', \"'langar\", \"baba',\", \"'chacha\", \"sharif'\", 'jaitley,', 'swaraj,', 'shri:', \"h'yana\", 'illegal:', \"'nia\", \"stooges'\", 'bhima-koregaon:', 'heeba', 'protestors,', \"'mob\", \"lynching'\", '₹250', 'burqa,', 'cough,', \"'seditious'\", 'sad:', 'nia,', 'jaunpur,', 'franchise:', \"bolsonaro's\", 'jvm(p)', \"'kaun\", \"crorepati'\", \"'ola\", 'call,', \"anti-national';\", \"'bagga\", \"jagah'\", 'room,', \"seniors'\", 'sign,', '41,', '1,300?', 'government:', 'bobde', \"'india-pak'\", '₹1.3', 'culture:', 'phone-tapping', \"'cm\", \"bihar'\", '12-hr', 'battlegrounds:', 'execution:', 'rates:', 'theory:', \"mustn't\", 'functioning:', 'politicians:', 'imposition:', 'wifi:', 'blame:', 'canada;', 'sex,', 'petitions:', 'bolsonaro', 'pride:', \"'most\", \"wanted'\", \"economist's\", 'sweat,', \"that's\", 'glows:', 'index,', 'prepared:', \"tanaji's\", 'godoli', 'film:', 'islamophobia:', 'candidates:', \"modi',\", \"'rowdy\", \"didi':\", 'endlessly:', \"'chindi\", \"chor':\", \"gang'\", \"b'deshi\", 'poha:', 'roots:', 'state,', \"'mini-pakistan\", \"delhi'\", 'instead:', '₹200cr', 'amaravati:', 'uniform,', 'faujis,', 'immaterial:', \"ancestors'\", 'anything:', 'say,', \"'trouble\", \"engine'\", \"'hindutva',\", \"'colour':\", 'now,', \"'kerala\", \"water'\", 'rivers:', 'slogans:', 'arms:', \"ambani's\", 'info;', 'rejected,', \"states'\", 'gesture:', 'style:', 'savarkar,', 'hindutva:', 'rehearsals?', 'monsters:', \"jaising's\", \"'forgive\", \"rapists'\", 'religion,', 'word:', \"'azadi'\", 'apps:', '₹21', 'muhsin,', 'posthumously?', 'rape,', \"'woman\", \"day'\", 'hanging;', 'sc:', 'wish,', \"'they\", \"yet'\", 'mid-day:', \"bose's\", 'venom,', 'kangana:', \"actress'\", 'jaising', 'documents:', 'flag,', 'ideals:', 'bellandur', 'houses:', 'meerut:', 'transfers,', 'postings:', \"'mein\", \"kampf'\", 'gandhis,', 'tharoor,', 'trauma:', 'ncpcr', 'hema,', 'mayawati,', \"'vyommitra',\", 'half-humanoid', \"chavan's\", \"'flawed\", \"democracy'\", 'consent;', '9,156', 'plea:', 'debate:', 'nationalists,', 'motivated:', 'punjabi-origin', 'dispute:', 'clown,', 'anti-caa-nrc', 'rahul,', 'jjp', 'bezos,', 'mahal;', 'yadav,', \"'using\", \"language'\", 'funds,', 'self,', \"adani's\", '₹45,000-crore', 'buses:', 'jawan,', 'speak:', 'rao,', 'azad,', 'almirah', 'crimes,', 'taimur:', \"saif's\", \"'concept\", \"'tanhaji'\", 'shivaji,', 'youth,', 'ticket,', 'mins:', \"jharkhand's\", \"'illegal\", \"bangladeshis'\", 'projections:', 'systems,', 'room:', \"tulsi's\", \"taliban's\", 'fall:', \"'naukri\", \"charcha'\", 'jobless:', 'praying:', \"andhra's\", '3-capitals', \"'open\", \"free'\", \"unit's\", 'scapegoat:', \"davinder's\", 'gopinath:', 'affidavit,', 'met,', 'reasonable:', '7-storey', 'surat;', '35kg', '₹14', 'guj,', 'mentally-challenged', 'snow,', 'cry:', 'office:', '4.8l', 'posters,', \"'monkeys',\", \"'dogs':\", 'profession:', \"'portuguese',\", \"there'll\", 'popular:', '22,277', \"ceo's\", 'pay:', 'revamp,', 'inclusive:', 'scooter:', 'capitals,', 'ready:', 'field,', \"rajinikanth's\", 'technology-free:', '6-ft', '2.8-inch', 'maoists,', '82%', 'sem:', 'jnusu', 'de-radicalisation', 'equally:', 'jd(u),', 'visits:', \"'zalim'\", \"'halwa\", \"ceremony'\", 'injury,', 'motivation:', 'nadda,', 'president?', \"suspect's\", '3-capital', 'anymore,', \"surjewala's\", 'alone,', \"boards'\", \"'pariksha\", 'numbers:', 'chandrayaan-2', 'landing,', 'went:', '#withoutfilter', 'non-confirmation', 'happen:', \"banerjee's\", 'cap,', \"couple's\", 'it?', \"rawat's\", \"'deradicalisation\", \"camps'\", 'claim:', '55-yr-old', '‘human', 'chain’', \"member's\", \"'dirty\", \"films'\", \"'link'\", 'hyperloop', 'released,', '$50', \"nsa's\", 'kashmir:', 'bru-reang', \"'guarantee\", \"card',\", 'rautela', 'azmi,', 'mataram:', '3,924', '₹40l', 'brother;', 'pok,', 'want:', \"'forged'\", 'matter:', 'capf', 'accidents,', '2014-2018', 'hcs:', \"'sex,\", \"masturbation'\", 'marathon,', \"'jal,\", 'jeevan,', \"hariyali'\", 'films:', \"'unending\", \"amazon':\", 'pubg,', 'daughters,', 'cherry-picked:', \"'5th-gen\", \"dynast'\", \"shabana's\", 'distressing,', 'it’s', 'unconstitutional:', 'jaising:', 'acid-burnt', 'act?', 'disguise:', 'e-mobility', 'pakistan-origin', \"'mysterious'\", 'udhampur:', 'unit:', '2018,', '17.1%', 'announced,', 'blockade:', 'gandhi:', \"'self-made'\", 'jogi,', \"help's\", \"baba's\", 'killer:', 'policemen,', \"'qawwali\", \"chalegi'\", \"modi!'-style\", \"who'll\", 'de-radicalise', 'sp:', 'once:', 'two-child', 'sadhvi', '97-year-old', \"'yo\", \"air',\", \"caa'\", \"pakistan'\", 'pictures:', 'misconstrued,', '₹65l:', \"'hanging\", \"deliberately'\", 'india’s', \"queen's\", 'ratna:', \"'doctor\", \"bomb'\", \"hc's\", 'politics,', 'dhankhar', \"'two\", \"circus',\", 'nia:', '2025:', \"'savdhaan\", '6.5-km', 'cake,', 'resolution,', 'wasted:', \"isro's\", 'gsat-30', 'goyal’s', 'helmet:', \"'bruised'\", '₹300', 'kalaburagi', 'process,', \"raut's\", 'aaditya', 'stamp:', \"kalyan's\", 'station;', 'legs,', 'stone-pelters', 'bend:', 'found;', \"'visionary\", \"initiatives'\", \"who've\", 'daily:', 'leaves:', \"dmk's\", 'negligence:', \"'indira\", \"don'\", 'remark,', \"'cong\", \"hurt'\", 'lala:', 'attacks:', 'cp,', \"accused's\", \"rupee's\", '₹6k', '₹3.49', 'un:', \"border':\", 'dismissal,', 'sites;', 'mumbai-bhubaneswar', '₹88', 'j-k', 'sher-e-kashmir', 'dalits:', \"'powerless':\", \"'slap'\", 'patriotism:', 'inch:', 'data:', 'request:', 'all-men', 'conviction,', 'life,', 'funding:', 'dj,', 'karachi:', 'lakdawala', '$10', 'image,', 'anti-india,', 'gurumurthy', 'independence:', 'review:', '41-yr-old', 'yjhd', 'character:', 'wb,', \"'jinnah-wali\", \"azadi'\", 'jailed:', 'century:', 'jagadesh', 'woman:', \"muslims?':\", 'lover;', 'times,', '₹1.37l', 'wage:', \"arjuna's\", 'petition:', 'constitutional:', 'enemies:', \"'historic\", \"step':\", 'nowadays,', 'separated:', 'bhogi', '₹26,000', 'challan', \"'khan',\", 'strident:', 'rooftops:', 'ratul', \"puri's\", \"'look\", \"into'\", 'dung:', 'post:', 'ethos:', \"'ghoonghat'\", 'maharaj:', 'udayanraje', 'ex-chancellor', \"'abide\", \"'content\", \"demand'\", 'trains,', \"'baazigar'\", 'educated:', 'lekhi', \"'eunuch',\", 'chief,', 'seizure,', \"devgn's\", 'professional:', \"deepika's\", \"'three-wheeler'\", '14-yr-old', 'naidu,', '7.35%', 'december,', \"i'd\", 'ceo:', 'nadella', 'apolitical,', \"'sweetie'\", 'attackers:', 'needless,', 'justification:', 'singh,', 'terrorists?', \"v-c's\", 'temple:', 'macron:', 'dog,', 'sorted,', 'justified:', 'tiranga', \"'inauspicious'\", 'flag:', \"commission's\", 'sibal,', 'shehla', \"'islamist\", \"extremism'\", 'jnu,', 'negativity:', 'policy,', 'fintech', 'companies:', 'college,', 'gets:', \"station's\", 'ago,', \"'lage\", 'chhapaak', \"father's\", 'caa;', 'azad:', \"temple's\", \"'my\", \"stinks'\", 'caller,', '₹63,900', 'walk,', 'probed:', \"sultan's\", 'later:', 'tax-free,', 'loc,', 'ride,', 'outfits:', 'felicitates', 'bicycle,', \"caa's\", 'lines:', \"'water\", \"march'\", 'that:', 'vain:', '2018:', 'ncrb', 'video:', \"'murga'\", '₹1.7l', '₹50,000,', '₹84-crore', 'border:', 'secretaries,', 'holidaying,', '₹1,450', '61%', \"qaboos'\", '#newpassword', 'twitter,', \"'eggshell'\", 'pakistan-occupied', 'scattered:', '19-storey', 'abc-', 'allegiance,', 'belief,', 'consolidation:', 'jallad', \"navy's\", 'passage:', '$5:', 'panicking:', 'deepika:', \"chhapaak's\", \"minor's\", 'gangrape,', 'success:', 'same-gotra:', 'manjha', 'saddened:', 'agitation,', 'met:', 'hostel:', 'doubts:', 'seemapuri', '(amendment)', 'caa-like', 'ka:', 'traitor:', 'environment,', 'believing,', 'jallad,', 'convicts?', 'unmasked:', 'risk,', 'selectively:', '4:', 'pak-china', 'drill:', 'parts:', \"'jinnah\", 'waali', 'gangraped', '2021?', '5,433,', 'malware:', \"'jnu\", \"traitor',\", \"'left\", 'doesn’t', \"dissent'\", \"tukde'\", 'scared,', 'attacked:', 'pro-peace,', '$1.3', \"ngo's\", \"lankesh's\", 'matriculates', \"kejriwal?'\", 'anger:', 'absconders;', 'van,', '₹15k', 'juvenile:', \"sitharaman's\", 'continue:', 'situation,', 'de-escalates', 'us-iran', 'unnecessary,', 'wasteful:', 'ex-bureaucrats', '41%', 'wealth,', '8%:', 'thackeray:', 'utility,', 'bath;', 'lathicharged,', '5yrs?', \"hasn't:\", \"laxmi's\", 'stops:', 'envoys,', 'country,', 'capabilities:', \"nationalism'\", 'escape:', '19:', 'gandhiji:', 'goondaism:', \"'holy\", \"path'\", \"holiday'\", 'lucknow:', \"vc's\", \"stephen's\", '6hrs', 'upset:', \"unions'\", '₹27.68l,', 'faculty:', 'patparganj', 'area,', \"laureate's\", 'bandh,', \"'it\", \"gunpoint'\", \"noida's\", 'esic', 'cyberabad', \"'jihadis'\", \"quiet'\", 'vc:', 'shimla,', 'democracy,', 'anywhere:', 'hang?', 'solution:', 'tanushree', 'here?', 'padmaavat,', 'support:', 'padukone:', 'rods:', 'walls?', 'iit-guwahati', 'relief:', 'de-escalate', 'campus:', \"staff's\", 'missing;', 'adults:', \"iran's\", 'non-necessary', 'iraq:', 'campus,', '₹234-cr', 'ashfaque', 'head:', 'surrounded,', 'wardens;', 'resigned:', 'intent:', 'rss,', 'strike,', \"'consequences'\", \"'unlawful\", \"assembly'\", 'gulf:', 'conflicting,', 'varsity:', '64%', 'ysrcp', 'rod:', 'actress-activist', \"jmm's\", 'guj;', 'placard,', 'twitter;', 'manhandling,', 'beginning;', 'maliwal', 'women:', '‘jai', 'ram’', \"'pehredar',\", 'assam-like', \"honge':\", 'sugar:', \"cities'\", 'left:', \"dal'\", \"'ah\", \"ah'\", 'kashyap,', 'pannu,', 'pockets:', 'idli,', 'gaganyaan,', '9-judge', 'hoon,', '1984,', 'poster;', 'bedroom,', \"'surrender\", \"kijiye':\", \"'situation\", \"university'\", 'scared:', \"'darbar':\", 'mom:', 'alien,', 'sainikis:', '₹3.9', 'character,', \"muslim's\", 'chinmayi', 'youth:', 'irom', 'aside,', 'ego:', 'range:', 'says:', 'dissent:', '₹1,038', 'lathi-charged', \"kovind's\", \"'ghost\", \"children'\", '$5', 'phase,', 'higher:', \"'tukde-tukde'\", 'jnu:', \"abvp's\", \"'guiding'\", '₹1.05-cr', 'strength:', 'goons,', 'vc,', 'promises,', \"matter':\", \"germany's\", '8,', \"'kaat\", 'denge', \"tujhe'\", 'congress,', 'oppn', 'visually-challenged', 'intolerance:', 'pinarayi', 'goons:', 'anarchy:', 'jnu?:', 'passenger,', 'strike:', 'iim,', 'mba:', 'debarshi', 'cellphones,', 'chargers,', 'battlefields:', 'oppress:', 'manner:', \"defaulters'\", 'immediately:', 'injured,', 'asaduddin', 'security:', 'forehead:', 'campus;', 'netflix:', 'jamia:', 'brutally:', 'broken:', 'around:', 'concept,', 'voices:', 'condemnable;', 'secured:', 'manifesto:', 'monday,', 'fianceé', \"'long'\", 'nose,', 'ambulance;', 'demonetisation:', 'ex-iaf', 'kidnapped,', 'subscription,', 'portfolios,', 'abhinandan', 'rafale,', 'different:', 'door,', \"tanushree's\", 'bank:', 'assembly:', 'rlsp', 'growth:', 'floods,', 'repeal:', 'reprehensible:', \"lama's\", \"'foreigner',\", '80%', '17%:', 'arrest,', 'iit-bombay', \"'untouched\", \"undamaged':\", 'nrc-caa:', 'ex-foreign', \"'sun\", \"om',\", 'brahmins:', 'disgraceful:', \"'we're\", '80%,', \"17%'\", 'anti-dalit,', 'anti-poor:', 'crane,', 'enough,', \"j'khand:\", \"'sp\", \"rioters'\", 'secularism:', \"they'll\", 'deported:', 'tower?', \"'politics'\", 'bangladesh-bound', '1,68,500', '₹8.92', 'cleric,', 'ridiculous:', 'both:', 'mind:', '12%,', 'low:', 'storage:', '260mn', 'light-yrs', \"kota's\", 'deaths,', 'levels:', \"gurugram's\", \"'innovate,\", 'patent,', 'produce,', \"prosper':\", 'feet,', '20-foot-tall', \"'smog\", \"tower'\", \"'mazhab':\", 'ambassador:', 'awareness:', 'homosexual:', 'political,', 'misguided:', \"freaks'\", 'diet:', 'eve;', '32,393', 'rescued,', 'son:', \"firefighter's\", \"interpol's\", 'godse:', \"krishna'\", 'brought:', 'resign,', 'validity:', 'rajasthan:', 'resign:', \"'caa',\", \"'unnao'\", 'baby:', 'fire,', 'force,', 'iit,', 'beef:', 'go,', \"'one\", \"card'\", 'jaipur-delhi', \"grandad's\", 'grave;', '139?', 'firefighters,', 'edited:', 'funny:', 'satyagrahis:', \"bengal's\", \"'done\", \"so'\", 'irresponsible:', \"'preemptive\", \"terror'\", 'nepali:', 'drinking,', 'faulty?', '₹160', '₹380', 'pan-india', 'tiger,', 'zeal:', \"personnel's\", 'priority:', 'info,', 'visual,', '₹6,300', 'challan:', \"'gaganyaan'\", 'mission:', 'chandrayaan-3,', 'ongoing:', '1+1+1', '7,', 'lane,', \"'iconic'\", 'signed,', '₹487', 'efforts:', 'lady;', 'hat:', \"voters'\", '₹1000', 'happened:', 'chance:', 'siren,', 'bumrah', \"'say\", \"drugs'\", 'hiked,', 'tn:', 'nda,', 'people-powered', 'bypolls,', 'slowdown:', 'source:', 'non-it', 'foot:', 'uddhav;', \"'disturbed\", \"area',\", 'shoes,', \"'india'\", \"sister's\", 'rajan,', 'bjp-jd(u)', 'declined:', 'ex-pak', 'ex-pornstar', \"solidarity'\", \"leaders'\", 'guilty:', 'overconfident:', 'castro,', 'mob,', 'pigs,', \"aayog's\", \"people'\", 'chair:', 'cost:', \"'chitrangada'\", \"'ghazwa-e-hind'\", \"'black\", \"box'\", 'aadhaar-pan', 'list,', 'padavi', 'again?', 'fares:', \"'130\", \"hindus'\", 'years?', 'forest,', '2017:', 'varanasi-bound', \"'power\", \"rangers'\", 'tracks?', 'fridge,', 'rupay,', 'industry:', 'delayed,', 'diverted,', 'nail:', '₹15.35l', \"'uneasiness'\", 'anti-national?', 'retire:', 'anti-dalit:', 'colonies:', 'oraon,', 'alam,', 'bhokta', 'amruta', 'pathalgadi', 'bouquets,', '₹6,100', \"school's\", '2026:', 'kyc', 'going:', 'him?', 'ji:', \"'mitron',\", 'stopped:', \"pak'\", \"sp's\", \"'rangoli'\", \"pakistan's:\", 'numbers,', 'hota:', \"'manhandling'\", \"'red'\", 'years;', \"rushdie's\", '₹130', 'condemnable,', 'unfortunate:', \"assam's\", 'language,', 'pejavara', 'vishwesha', 'gabbars', 'lions:', 'business:', 'tense:', 'adgp', 'sp’s', '‘go', 'dabaya:', \"'chargesheet'\", 'trading:', 'head’s', 'officials;', 'plots,', \"'happy\", \"boss'\", 'chikna', 'dawood;', '26/11:', 'boy;', 'coin:', 'iit-hyderabad', 'delays,', \"'anger-free\", \"'save\", 'constitution-save', 'prices:', \"season's\", '2.4°c', 'centres,', \"'great',\", \"'violent\", \"cry'\", 'rioters’', 'k’taka', '₹2.4', 'withdrawal:', '₹6l', \"kishor'\", \"he?'\", 'ghosts:', 'refugees:', 'chief’s', 'corrupt:', \"'paanch\", 'behaal,', 'chahiye', 'burnol:', 'angel:', \"'hajji\", \"sahab'\", \"samjhiye'\", 'skullcaps,', 'trouble:', 'aalia-malia-jamalia', 'explosives:', \"aishwarya's\", \"'dowry'\", 'bus;', \"ghalib's\", 'anniversary,', 'cards:', 'ready,', \"vet's\", \"acp's\", 'chhattisgarh;', 'isis,', \"cmo's\", '54,917', 'ola,', 'rules;', 'attention:', 'sentiments:', 'may:', 'jabalpur;', \"everyone's\", \"'bhoot\", \"vidya'\", 'centre?', \"lie'\", 'adultery:', \"'bahadur'\", 'ex-isro', 'scientist,', 'ex-girlfriend,', \"du's\", 'anybody:', \"opposition's\", 'bjp-backed', \"nrc'\", 'retreat:', \"jd(u)'s\", 'shit:', '₹1.5l', \"pm's,\", 'grave,', \"'rusticate'\", 'chancellor,', \"'disown'\", \"'liar'\", 'cong-led', \"'tukde-tukde\", 'cool,', 'burns,', 'chills:', \"chidambaram's\", '₹2.5l', 'subsidy,', 'farming:', 'neck-deep', 'agenda,', \"s'pore\", 'standard-floor', 'clothes:', 'shot:', 'coming,', 'bharatnet', 'vp,', 'savitribai', 'joining,', \"'voice\", \"heard'\", 'thackeray-turn:', 'bjp-jjp', 'mall:', \"'terrorist,\", \"back,'\", 'cheruvathur', 'ceasefire:', '2020,', \"railways'\", '166-yr', 'history:', 'meme;', \"'enjoy'\", 'opportunity:', \"one's\", \"vajpayee's\", 'laluji', 'leh-manali', \"'atal\", \"region's\", 'fortunes:', \"broken'\", 'self-defence:', 'bells,', 'jumlas', 'scam,', 'ex-ceo,', 'ranga-billa,', 'angithi', \"winter?',\", 'boyfriend,', '₹13.53l', \"'violent'\", 'lies:', 'bombs:', '₹18l', 'salman,', 'rukh,', 'casteist', 'anti-mandal', 'jalota', 'anniversary;', 'live,', 'bharat:', '₹14l', 'amu:', 'differences:', 'hour:', \"tendulkar's\", \"'x'\", 'argument,', 'discrimination,', \"'religion\", \"issue'\", '₹6,000-cr', 'bhujal', 'yojna', \"'ram\", \"mecca':\", 'menstruation:', \"'jingle\", \"bells'\", 'christmas;', 'farm,', \"'extreme\", \"spell'\", 'hostels;', '74%', '₹71,543', 'fy19:', 'truth,', 'santa,', '25-ft', 'nahi,', 'bano:', 'psa,', 'jharkhandi', 'pics,', 'stone-pelting;', 'chidambaram,', \"someone's\", 'danger:', 'breakfast,', 'stations?', \"'unfulfilled'\", 'jmm-led', 'prospering:', 'declaration,', \"required'\", \"'sold\", \"bjp'\", '3-4%', 'taxes,', 'jagee', \"flat's\", 'raftaar', 'caa?', \"netaji's\", \"'provocative'\", \"'inquilab\", \"'kicked\", \"out'\", '2014:', 'post,', 'ex-maruti', '₹110', 'jamshedpur-east', 'congress-jmm-rjd', 'barhait', 'allies?', 'raghubar', 'pawar,', 'wedding;', \"'next\", \"mecca',\", 'liquor:', \"'oxygen\", \"parlour'\", \"'martyrs':\", \"'clothes'\", 'family,', 'test-fires', 're-postmortem', '25,', 'jharkhand:', \"siddharth's\", \"'groping\", \"15-yr-old';\", 'kaagaz', \"dikhayenge':\", \"grover's\", 'anti-nrc', \"constitution's\", \"'wanted'\", \"'rioters'\", 'illiterate,', 'puncturewalas:', 'flights,', 'koche', 'defeat,', 'ji,', 'mission,', \"gaganyaan's\", 'cord,', '1a:', 'dented,', 'daryaganj', 'cong-jmm-rjd', '(east)', 'jaaved', 'jaaferi', 'game;', \"'caa\", \"chi'\", '74-yr-old', 'app;', \"'samsung'\", '₹8', 'stolen,', 'delay;', \"newborn's\", 'kong-flagged', 'beaten;', 'persecuted:', 'listen,', 'upsssc', 'neighbours:', 'alert,', \"'jinko\", 'azadi,', 'unko', 'real:', \"centre'\", 'bond:', 'chief-designate', 'hyderabad:', 'rats,', 'squirrel,', 'gaddaro', 'victim,', 'wheelchair,', 'mangaluru:', 'identity:', \"'myanmar\", \"kms'\", \"parineeti's\", \"'beti\", \"bachao...'\", \"'expose\", \"lies'\", 'vest,', 'godhra-like', 'patience:', 'changed?', 'policemen:', 'anti-drone', 'teams,', 'tree,', 'gandhiji,', \"politician's\", \"boots'\", '7-judge', 'murdering,', 'mumbai-nagpur', 'nanjundan', 'pakoras', 'freely:', 'buffaloes,', 'ban:', 'dumb,', 'photoshoot,', 'number:', 'uncles,', \"permission'\", 'inaccurate:', \"'nair'\", \"'urban\", \"naxal'\", '3.5k', 'enacted:', '11;', 'protest;', 'sprayed:', \"they'd\", 'beard:', \"'confusion'\", 'banwari', \"driver's\", 'ko,', \"senator's\", 'tea,', 'pre-1971', 'poll:', \"'un-monitored\", \"referendum'\", \"dcp's\", \"'caa+nrc\", \"discriminatory',\", 'pained:', \"'maun\", \"vrat'\", \"provided':\", 'ambedkar,', 'legacy,', 'region:', 'nepal:', \"mukerjea's\", 'region,', \"supporters'\", 'detained:', 'siddharth,', \"farhan's\", \"mukherjee's\", \"iim-b'lore\", '65%', \"'whattay'\", 'draft:', \"ljp's\", 'suppress:', \"'ache\", 'beete', \"saal...'\", \"'plot\", \"pm'\", 'police;', 'lucknow;', 'went,', 'bengaluru;', 'e-wallet', 'fee,', '₹1.6l', 'maha:', 'jayapal', 'semester:', 'hacked,', 'terrorists:', \"law's\", 'eyes:', 'jidd', 'minorities:', '8hrs', 'jam,', 'gurugram-delhi', 'cars,', 'police?', 'award:', 'doorstep:', 'jasola', '20-100', 'soul:', 'guts,', 'un-monitored', 'well,', \"child's\", 'claim,', 'property:', \"'govt\", \"historian':\", \"guha's\", 'sms,', 'jobs,', 'employed:', 'mid-interview', 'panicking,', 'voice:', 'students;', 'jamia;', 'example,', \"'internet\", \"natural'\", '2003:', 'pollution-linked', 'deaths:', 'gahp', \"'dry\", '144,', '₹26', 'mazumdar-shaw', 'christian,', 'muslim:', 'booked,', \"'bibha'\", \"professors'\", 'uk:', 'room;', 'roti-salt', \"srinagar's\", 'hindu-muslim,', 'india-pak', 'concerns:', \"'bharatvarsh'\", 'destroyed:', 'person:', 'mangoes:', \"mangoes?'\", 'challenges:', 'narayanasamy', '2019?', \"'an\", \"darkness'\", 'site,', '210-kg', 'chomsky,', 'intentionally:', 'shillong,', \"jagan's\", 'act,', 'rejected;', \"men's\", 'ex-congress', 'trust,', 'bookings;', 'emis:', '₹18,000', '80;', 'monster:', '38-yr-old', 'pregnancy;', 'happy:', 'min:', \"lagoo's\", 'demise:', 'jail,', 'semi-high', 'something,', 'protests;', \"'learn\", 'her,', 'dharna', 'parts;', 'property,', 'sight:', '6p/minute', 'train;', 'provided:', 'martyrs:', 'tehseen', 'amaravati,', 'capitals:', 'guidelines:', 'gas,', 'bail;', 'aligarh:', \"'guv\", \"who';\", \"plane's\", 'deploy,', 'shoulders:', 'constable:', 'speaking:', 'parineeti', 'discriminatory,', 'values:', 'autocratic:', \"'spineless'\", 'tweet;', \"'absolutely'\", 'savdhaan', \"youths'\", 'minds,', 'sites:', 'pakistanis:', \"satellite's\", \"wef's\", 'massacre:', 'naravane,', 'chief?', 'planned,', 'shells:', \"hc?'\", 'population,', '1,000:', 'freed:', \"rohatgi's\", 'saddening:', \"'crocodile\", \"tears'\", 'stripped,', 'shut;', 'principal,', \"ministers'\", '6-month-work', 'express:', 'expert,', 'elaborate:', \"'law\", \"land'\", 'absolute,', 'restrictions:', 'individuals:', 'ex-agp', 'modi-led', 'overcrowding,', 'can’t', 'ncp,', 'today?', \"h'wood\", \"'fascist'\", \"haasan's\", '₹2l', 'powerful,', 'frontline:', 'streets,', 'alankrita', 'rajkummar,', 'entry,', '₹49,000', 'distressing:', 'brotherhood;', 'rumours:', \"'nehru'\", 'video;', \"celebs'\", 'pm;', \"'jamia\", \"warzone'\", 'shirt,', 'stop,', 'hear:', 'suv,', 'resumed:', 'jihadists,', 'released:', 'millia:', 'mumbai;', \"payal's\", 'unwise,', \"savarkar's\", 'views:', 'fires:', 'savarkar:', 'kiss,', 'form;', 'shell:', \"'suitable\", \"matches'\", '₹15,400', 'soon;', \"'va'\", \"'rishabh\", 'pant,', \"pant'\", 'top-scores', 'hair,', '1000%', 'decision:', 'standards:', 'rahul:', 'ripun', 'house;', \"'muslims\", \"property',\", 'blood,', 'rs,', 'officials:', 'dance:', 'sold:', '7-yr-old', 'toilet;', 'licences:', \"gwalior's\", 'unconscious,', 'delhi-ncr', \"'rape\", 'is:', 'officers;', 'war:', '2,000;', 'shirdi,', 'dairy,', 'ganga,', 'revered,', 'nationwide:', 'in-laws,', 'cpi(m),', \"'namami\", \"gange'\", 'schoolgirl,', 'jammu-srinagar', \"'sabka\", 'sath,', 'sabka', \"vikas':\", '₹100/kg', 'pyaaz', 'mumkin', 'secretariat,', 'aerobridge', \"parrikar's\", 'mouth:', '12yrs', 'slowdown,', 'icu:', 'ex-cea', '40-yr-old', 'vote:', \"'achhe\", 'aane', \"hai':\", 'non-registration', 'like,', 'bills:', '2035:', \"'lavishly'\", 'nagaur,', \"'discriminatory'\", 'choice:', 'divisive,', '₹11', 'ujjwala', '₹5/litre', 'online,', '3-camera', 'uk,', 'activist,', 'apologising:', 'upsc:', 'non-bjp', 'cms:', \"'historic'\", 'bills,', 'myself:', 'apologise,', \"capital':\", \"'rahul\", 'maafi', \"maango'\", 'stepfather:', \"committee's\", 'accused:', 'anti-cab', 'disaster-resilient', \"raped?'\", \"'big\", \"danger'\", 'member:', 'fraud;', '₹1.1', 'contribution:', 'bill,', 'feature:', \"startup's\", \"cemetery'\", \"'unnao\", \"consequences'\", \"bangladesh's\", 'women?', \"'bachha'\", 'diabetes,', 'cholesterol:', '12,660', '18:', 'thunderstorms,', 'removed:', 'am-1', 'resignation:', \"'you've\", \"left':\", 'step:', 'ministry,', \"hazarika's\", 'concert;', \"burning'\", 'assam-services', 'cab-nrc', 'cab:', \"'orwellian\", \"state':\", 'untrue;', 'masjid,', 'owner,', 'cabbie,', '₹73l', \"'demanding\", \"girls'\", 'down:', 'chain-snatcher,', 'misled:', 'unwise:', \"'phenomenon'\", 'ex-sc', 'wb;', \"'reassuring'\", 'pic,', 'svdv', 'burnt,', 'credibility:', \"college's\", 'varthaman', \"'nagrikta'\", 'acceptable:', '125-105', 'pubg', 'nationalism:', 'dreams:', '2015:', \"'muslim-mukt'\", 'included:', 'firearms,', 'nirmohi', \"'delhi\", \"pollution'\", 'betrayal:', 'gaya:', 'afghan,', '2016:', \"is'\", 'agenda:', 'lanka,', 'bill;', \"jinnah's\", 'grave:', 'rebirth,', 'angry:', 'counted:', 'east:', 'risat-2br1', 'tripura,', 'breasts,', 'her;', 'blot:', \"prof's\", 'wi:', 'iimb', 'rape;', 'youths,', '-20°c', 'onions:', '₹20,000', 'ukg', 'old,', 'abortions:', '700%', 'women;', 'vagina,', 'dhoti,', '2-month-old', 'tabrez', 'overjoyed:', '22,557', '1990:', 'kmph,', 'faulty:', \"court's\", 'hard:', \"'partition'\", 'kalyug,', 'penalty:', \"bhu's\", 'firoze', 'dept,', 'eve-teasing', 'interest:', 'nod:', \"pslv's\", 'otps', '40l', '₹15.13', 'gifts:', 'won’t', 'clear:', 'shah?', \"'golden\", \"tweet'\", 'extra:', \"india',\", 'street,', \"nirmala's\", \"onion-garlic'\", 'childish:', '₹252', 'molested,', \"fate'\", 'appointment:', 'jain,', \"'panipat'\", 'ashamed:', 'cab,', 'patriots,', \"'47:\", '311-80', 'rs:', 'aadhaar,', 'bypolls', 'secular,', 'partners:', \"paytm's\", 'shekhar,', \"innov8's\", 'check-up,', 'pics;', 'plastic-wrapped', 'theatres:', 'auto;', 'seniors;', 'score,', \"'maun-vrat'\", '₹25/kg', 'cong-jds', 'door:', 'rainfall:', 'withdraw:', 'sabha,', '20-hr', 'fir,', 'rapes,', 'id;', 'jeera', 'jewar', \"'cab'\", 'driver:', 'disappointing:', 'rapist:', \"capital'\", 'hypocrisy:', \"fadnavis'\", \"'mentally\", \"disturbed':\", 'either:', \"cji's\", 'yr,', 'side:', \"'largely\", \"ineffective':\", 'favour,', \"y'day\", 'thinking:', '₹2.25', 'worth,', 'mute:', 'job,', 'prisoners:', 'warangal,', \"'zero\", \"fir'\", '15-25,000', 'nirbhaya,', 'happened?', 'security;', \"'panipat',\", \"director's\", 'factory;', '43,', \"horrific'\", \"tailor's\", 'happy,', 'raped:', 'sush-ill', 'abki', 'paar:', \"'abruptly\", \"withdraw'\", 'charge-sheets', 'harassment-free', 'revenge:', 'pollution:', 'donkey,', 'engineer,', 'cut,', \"budget'\", \"hall's\", 'raped;', \"'shokh\", \"sabha'\", 'encounter:', 'shielded,', 'link:', '82-km', 'india-bangladesh', '₹474', 'survivor,', 'bahut', 'kanjoos', 'tu:', 'saddening,', '9:', 'thok', 'diya,', 'theek', 'kiya:', 'phogat', 'god:', 'celebrating:', 'inquiry:', 'gorhe', 'daughter:', 'directions:', \"'arthik\", \"ghotala',\", \"'hang\", \"month',\", 'recover:', 'weapons:', 'sajjanar', 'offices:', 'slave:', 'expenses,', 'nithyananda:', 'responsibilities:', 'sow,', 'reap:', 'questioned:', 'system:', 'nursery,', 'encounters:', 'example:', 'aaye,', 'durust', 'aaye:', 'defence-tech', 'murder?', '50-min', 'gangraping', 'hyd-like', '2008,', \"criminals'\", 'farooq;', 'past:', \"mayawati's\", 'rakhis', '₹10-meal', \"'balasaheb\", \"anna-rath'\", \"manmohan's\", \"blame':\", 'inspiration:', 'considered:', 'gang-rape,', 'prosecuted,', \"nithyananda's\", 'whereabouts:', '₹193', 'renovate,', \"'superfine'\", '₹180', 'onion,', 'garlic,', 'meat;', 'saved:', 'cctvs,', 'buttons,', 'dtc,', 'eats,', 'clueless:', 'verification:', 'borewell', 'beaches:', 'tnpcb', 'pichai,', 'nadella,', 'indian-americans', \"asia's\", \"'too\", \"optimistic':\", '₹3.15', '34.6%', '28.7%', 'recession,', 'mid-2020', '1.1%', 'quarters:', 'supplies:', 'epfo', 'debt,', 'uncertainty:', 'self-driving', 'zoox', '9%', '$2.8', 'aleris', '₹4,250', 'puri,', \"'great\", '3%', \"'essential\", \"business'\", '$24', '5.91%', \"'blessing\", \"disguise'\", 'msmes:', 'indoco', '11.7l', 'sector:', '$234.4', 'zoom,', 'hangouts:', 'steps:', '$2.8-billion', 'csr,', 'biggest-ever', 'dhfl', 'dmart', \"kong's\", 'alcohol:', 'yes:', '$1.4', 'zydus', '₹15,841', \"byju's\", 'prosus', '6.14%', '2019-20', 'compensation:', 'depression,', '$2.2', 'promoters,', 'farmhouse,', '$1bn', '31,000,', \"traders'\", 'vietnam,', \"'drastically\", \"altered'\", 'outlook:', 'finances:', '₹280', \"bang':\", 'makemytrip', '₹73.5', 'mauritius-based', '4.5%', \"uk's\", 'motorcycles:', \"'clown'\", '$990', 'package,', \"'force\", \"majeure'\", 'stronger:', \"investors'\", '₹7.9', '2.75%', '1.6%', 'fiscal,', 'damani,', 'poonawalla', 'quarter:', '18%', 'lifetime:', '₹3.2', '$300', 'reserves:', '10-30%', 'rollaway', '32%', 'coal:', '₹1.33', '23%', '$408', \"reliance's\", 'fpis', 'wwii:', 'min,', '₹430', 'irdai', 'flipkart,', 'amazon:', 'russia,', \"'very,\", \"close'\", 'deal:', 'notice,', 'tongs,', \"singapore's\", '$3.7', \"'modern\", \"piracy':\", 'radhakishan', 'company,', '₹267', 'ex-infosys', '2%', 'cuts:', '21%', '₹9.93', '$1.7', 'notification,', 'payment:', '$4.1', 'trillion,', 'fy21', '4%', \"articulate'\", '$6', 'aiib', 'working,', 'money:', 'wework', '$3b', 'bailout:', '₹4,000', '26%', \"moody's\", \"novartis'\", 'post-corona', 'uae-based', 'yusuffali', '₹150', 'lufthansa,', 'stake:', '₹3,045', '47%', '9.2%', '5.45%', '62m', 'recovery,', '$34', 'march-quarter:', 'ongc,', 'ioc,', '₹97,597', '₹65', 'lower,', '25-31,', '$590', 'superyacht,', \"'promising'\", 'gowns,', 'firms:', '₹60', 'they’ll', 'disruption:', 'lockdowns:', '2020-21:', 'humanity,', 'diesel,', '6,00,000', 'china-made', \"'defective'\", \"dot's\", 'demand:', '₹2000', \"3-months'\", 'softbank-backed', 'oneweb', 'bankruptcy,', 'suzuki,', 'moratorium;', 'stable:', 'coai', 'flow,', 'access:', '2009:', \"governor's\", '2.5%', '$5tn', \"rbi's\", 'borrowers?', 'resolved:', '8,600-mark', 'bail:', \"sellers'\", 'bs-iv', \"zoom's\", \"users'\", \"'biased'\", 'govt-led', 'employers,', \"'multi-billion\", \"dollars'\", 'sensex,', \"salary'\", 'imf,', 'lower:', '₹31,000', '$120', 'billion:', 'service:', '$3-3.6bn', 'april-june:', 'aircraft,', 'coca-cola,', 'pay-cut', '$300m-investment', \"didi's\", 'drivers,', \"'crisis\", \"package'\", 'indusind', 'share-backed', '25-35%', 'higher,', 'mca-21', 'registration,', 'declaration:', 'make,', 'e-rickshaws', \"'dmw'\", 'md,', 'retires;', 'sumant', 'kathpalia', '7,9,10', 'breaker,', 'samsung,', 'oppo,', 'grofers', \"'essential'\", 'loans:', \"goair's\", 'weeks?', '$225', '$18', 'impact:', 'dopt', 'activity:', '₹40,995', '$8.1', 'motocorp', 'ril;', \"tyres'\", '15-25%', \"uber's\", 'coronvirus-hit', 'cities,', 'allowances,', \"'insurmountable'\", 'prices,', \"retail':\", \"apple's\", 'm-cap', '$5.35', '$481.9', 'week;', 'low,', '75-mark', '$6.5', 'shelter-in-place', 'aggregators,', \"panel's\", 'schemes:', '3.2%', '₹93.89', 'providers:', 'drops,', 'network:', '₹397', '₹82,300', '$200', '$1,000', 'remotely:', '30,579,', '9,000-mark', 'may,', '₹5.50', '₹64.15', 'chandra,', 'goyal,', 'gehlaut', 'nrai', '$60', 'shares:', 'strong:', 'withdrawals:', '₹9.74', \"depositors'\", 'safe,', '26:', 'notch;', '31,390;', 'founder:', '54%', 'neft,', 'imps,', '₹47,000', 'apple,', '$600', '₹3,354', 'possible,', '₹658,', '13%', '₹755', '2.26%', 'jobs:', \"berkshire's\", 'bank?', \"unilever's\", '17%', '$331', '₹3/litre', 'kapoor,', '12%', '18,', 'notified:', 'prices?', '₹18,564', '₹40,000', '$8', '$5.7', 'bn:', '2.91%', '$27.65', '₹4.22', 'mahindra,', '₹2,100', 'pts,', 'market,', 'zerodha', '₹7,250', '₹11.4', 'entered?', \"kapoor's\", 'banks;', '₹10,796', '6.58%', '₹25,900', \"process':\", 'lending,', 'rates;', 'feb,', 'wonderla', 'to14', '₹6.5', \"dispenser';\", \"'absolutely\", \"question'\", 'sbi,', '13%,', '1991?', '₹4,300', 'ravneet', \"sector's\", 'raising,', '7%', \"'challenging\", \"circumstances'\", 'capitalised:', '₹2,450', '₹34,000-cr', 'data;', 'partner:', 'women-made', 'allows:', 'phonepe', 'upi,', '@ybl', \"'baby':\", 'debit/credit', \"cards'\", '16?', 'performers:', 'saturday:', 'capitalised,', '₹662', 'bonds:', 'indiabulls', \"goldman's\", 'role:', '₹50,000?', 'shetty,', \"'gold\", \"scheme'\", 'outage,', '₹21,533', 'sc-ordered', '₹265cr', '49%', 'zero,', \"sbi's\", 'bizarre:', \"nephew's\", '₹8,000', 'value,', '35%', '2014,', 'aware:', '₹46,000', 'stake,', 'ex-ceo', \"bank',\", \"depositor's\", '2017,', '₹152', '₹10,340-crore', 'ipo,', 'largest,', \"'panicking'\", 'exports:', 'a/c,', '$113', 'sbi-led', '$12bn', \"airways'\", 'laundering;', \"kochhar's\", 'psbs', 'acko', 'cryptocurrency,', 'disinfection:', 'streak,', '50bps', 'impact;', \"swiggy's\", 'cryptocurrency', 'careful:', '₹1,470', 'ingredients,', 'shaktikanta', '₹3,043', 'dept:', 'outbreaks?', \"'substantial'\", 'trade:', 'ceo,', 'bid:', '₹10.52', \"beer's\", \"'coronacoin'\", 'developed,', '$444', 'ipads,', 'servers,', '₹400cr', 'quality:', \"bezos'\", \"meril's\", 'india-made', '₹13,000', '  ', 'story,', 'motors,', \"mahindra's\", '₹12.82', 'april-january', '8.3%', '₹1.05', \"blackstone's\", '$803', 'pay,', '₹2,769', \"tyagi's\", 'sessions,', 'demand,', '8%', 'bs-vi', 'agrovet', 'dues?', 'kidzee', 'learn:', 'ex-rbi', 'frauds:', '128.5%', '₹7.67', 'panagariya', \"ministries'\", 'want,', 'tell:', \"kathpalia's\", \"tesla's\", \"alibaba's\", '$46', '$139', 'components,', 'dues:', 'haven:', 'divine,', '15-20%', 'related-party', \"'why'\", \"not':\", \"'disappointing'\", 'billions,', 'reciprocity:', \"branson's\", '$73', '40,363,', 'obama:', 'gone,', 'gb:', 'gates:', '1,500-kg', 'startup,', 'nayara', \"'gifts'\", 'berth:', \"'100%\", \"prepared'\", \"musk's\", '$250', 'million:', 'gmr-groupe', 'infratel', 'closure,', 'pro-business,', 'pro-crony', 'policies:', \"france's\", '₹10,780', 'victoria’s', '$1.1', \"airtel's\", '92%', 'mid-2021:', '₹4,458-cr', 'biyani-led', '₹1,976,', '500%', '₹9,000', 'cr-ipo', 'group,', 'westinghouse,', 'npcil', 'wadhawan', '₹19,950', 'oct-nov', '$30', 'dipali', \"portugal's,\", 'suitcases:', \"motors'\", 'nissan:', 'fails:', 'den,', 'network18', '₹425', 'non-promoter', 'executives?', \"uae's\", '$19.6', 'jiosaavn', \"'station':\", 'railtel', 'airways:', '₹1,000-1,200', 'period:', 'nclat', \"itc's\", 'pickup,', 'trade?', '20,', 'dube,', '₹2,500', 'dot:', 'april-march', 'parody:', '30-50%', '₹90,000', '6-7%', 'lic:', 'adani,', 'ahmedabad,', 'lucknow,', '₹2,197', 'fees,', '5.4%', '6.6%', 'rajnish', 'bsnl,', 'nclt', '₹584', \"murthy's\", 'sunak', '0.126%', 'hands,', 'tax:', 'left,', \"telcos'\", '$411', 'agra-born', 'penny:', 'seattle-bengaluru', 'palmolein', 'imports:', 'slow,', 'divisions:', '₹6,439', 'forecast,', '283%', '₹679', 'april-sept', 'intermiles', 'educomp', 'solutions,', '₹1,955', \"chile's\", '23.7%', 'scheme,', 'fly-by-night', 'figure:', \"canada's\", \"'chhotu'\", '7.59%', 'january,', '$27', \"africa's\", \"reddy's\", '₹1,850', 'ex-nissan', 'bonus:', 'oil,', 'sarthak', 'behuria', '0.3%', '₹1,780', 'ex-boss', 'ghosn,', '$91', \"'₹4,600-cr'\", 'yacht:', '91-year-old', '$13', 'pink-green', 'world?', 'simplus', 'tata,', 'high,', '₹1.55', \"freshers'\", '18%,', '$2', 'share,', '$35', 'bipul', 'web,', '$3.5', 'trials:', 'perhaps,', 'overruled,', '$100mn', \"'clearly\", \"on':\", \"gulf's\", 'iim-a', 'rajpal,', '$100-bn', 'unit,', \"tata's\", '₹3,600', 'policybazaar', 'fy19', 'musk-led', 'spin-off,', 'vehicles:', '₹822', '₹75', '200%', 'toys:', '₹12*/day', '5.15%', \"'bigil'\", '$5.9', 'curbs:', 'thrives,', 'soapmakers', \"'socialist'\", 'fine,', \"'fair\", \"skin'\", 'ads,', 'untrue:', \"green's\", '₹3,632', '$75', '₹710', 'nadu:', '₹5,500', \"russia's\", 'strategy:', \"ford's\", \"'master'\", \"kohli's\", '39%', '₹1,700', 'crore,', 'rohit:', '$1.8', \"companies'\", '$4.5', 'dettol', 'metal-air', '₹10l-₹1', 'cap:', \"'suspended\", \"sandwiches'\", '₹1,035', 'canteen:', '₹3.57', \"libra's\", '₹1,400', \"'prevailing\", \"conditions'\", 'duties,', 'protectionism:', '$19', 'co-lending:', \"'mentor'\", \"'temporary',\", 'sale:', 'dicgc', '₹70', 'srk,', '$162b', 'alibaba,', \"zuckerberg's\", \"dropbox's\", '$13.5b', 'mansion:', 'apollo,', 'cement:', 'losses,', '₹492.28', '₹507', '52-week-low', 'govt’s', '2050:', 'fernandes,', 'worldline', 'ingenico', '$8.6', 'dipam', '6%', '₹3.37', 'regime?', '₹21,000', 'budget-day', 'taxes:', 'optimistic:', 'ceos?', 'longest-ever', 'most-valued', 'targets,', 'boost:', '₹18,600', 'startups,', \"nda's\", 'kept:', 'mathrani', 'concerns,', '$420', '$173', '₹8-10', 'valuation:', '$4', 'bribery,', 'brackets:', 'rates,', '₹5-7.5', 'deductions?', 'established:', 'companies,', '$284', '2014-19:', 'bharatnet:', '₹22,000', 'non-gazetted', 'harassment,', \"taxpayers'\", \"'actively\", \"pursued':\", 'offences:', '₹2.1', 'tracks:', \"'bahi\", \"khata'\", 'thalis', \"survey's\", \"'thalinomics'\", 'gst:', 'overstated,', 'gun:', '₹99,300', 'krishna,', \"ibm's\", 're-enters,', \"'gst\", \"architect'\", '97%', '₹2.8', '₹13,700', \"refinery's\", '₹5,583', 'urbanclap,', 'low-pain', '108-year-old', \"'money\", \"lending'\", 'business,', 'temasek-like', 'ceos:', 'slowest-ever', 'abidali', 'neemuchwala', 'resigns,', '₹12,700', 'borrowers:', \"kotak's\", 'shareholding,', 'destroyed,', '₹225', 'samsungs', '34%', 'billion,', 'subsidies:', '€2.9-billion', '₹1,738', 'lecture:', 'realme', 'debit,', '$2.3', 'joined:', 'sept,', 'navinder', 'sarao,', \"'flash\", \"crash',\", '$14', 'buffett,', 'teenager,', 'construction,', 'stores,', 'gangwal’s', 'stress,', 'target:', '52%', '₹1,614', 'ex-volkswagen', 'phillips,', 'empire:', \"'copycat'\", 'brand,', '$400', 'budget?', \"brazil's\", 'dutch-made', '₹70,000', 'hdfc:', 'late,', '65:', 'assurance:', 'plans:', '₹8,372', 'aptech:', '168%', '₹496', \"sebi's\", 'failure,', 'bryant?', \"haftar's\", \"libya's\", '$50,000', \"italy's\", '$708', \"mall's\", 'fortis:', 'april-december', '40%:', '₹220', \"'tide'\", 'stressed,', 'interups', '$462', '158%', '₹4,146', \"shock'\", 'fm,', 'velammal', '₹532', \"street's\", \"film's\", 'vehicle:', \"walmart's\", 'temporary,', '$6bn', '$31.5', '$36.4', \"'you\", \"stupid',\", 'tesla:', \"'diverse'\", 'director:', 'non-telecom', 'reforms:', '5-10%:', 'grounding:', '20-25%', 'method,', \"'wow'\", 'inoffensive,', 'understand:', 'agreement:', '#jamal:', 'true,', \"'throwbacks'\", 'thursdays:', 'economics:', '7-8%', 'cannot:', \"harvard's\", 'ozone-eating', '₹439', '₹580', 'startups:', 'motors’', '₹6,641', 'jul-sept', 'period,', '39.5%', 'successor:', 'temasek,', '$500', 'moneytap', 'file:', '$100', '$346', 'volkswagen,', '₹650', 'airports:', 'calling,', 'auctioned?', 'expensive?', 'imo-compliant', 'fuel,', \"standstill'\", 'sher-gil,', '₹18', 'ending:', \"facebook's\", 'co-living', 'international,', '₹3,592', \"'made\", \"finance's\", 'msme', 'fairer,', 'deals:', '#plankforindia', '9.99%', '3.7%', '18.6%', 'fun:', 'max:', '4-yr', 'reliance,', 'diversified:', 'forecast:', \"imf's\", 'govt-run', 'irfc', '₹48,000', 'overhauled:', 'sms:', 'vodafone,', 'laughter:', \"internet'\", 'blocked:', 'tae-moon', 'tae-moon,', \"samsung's\", 'misconception:', \"'moving\", \"experience';\", 'e-rickshaw;', \"earth's\", 'population:', 'wealth:', 'suri,', 'retaliate:', '42,273,', 'paid:', \"mallya's\", 'davos:', '₹3,550', 'gigafactory', 'merkel,', 'baroda,', 'unitech:', 'urbanclap', 'sale,', '$10,000', 'bottle:', '$8bn', '$6.8mn', 'limits:', 'ex-md', '₹162', '33%', '₹7,416', 'palms,', 'hand:', \"you've\", \"microsoft's\", 'over,', 'nokia:', \"australia's\", '₹6,750', 'arnab-led', \"broadcasters'\", '₹62,773', 'm-cap;', \"'dear\", \"comrade'\", 'rashmika', \"mandanna's\", 'dinner:', 'india-born', 'amazon,', 'basket:', 'pakadna', 'mushkil', 'namumkin', '10l', 'biased:', \"billionaire's\", \"bazaar's\", '₹205', 'jailed,', '₹410', 'luxuries:', '₹92,000', '17-bedroom', \"'fall\", \"disrepair':\", 'deficit,', 'gdp:', 'farhan,', '₹11,640', '₹365*/month', \"to'\", \"ellison's\", '$1.6', \"president':\", \"us':\", 'delays:', 'metal,', 'gold,', '222%', \"banker's\", 'china-backed', 'plane-maker', 'bbc:', 'accordingly:', 'discounts:', 'amazon?', 'wrong,', \"'currency\", \"manipulator'\", 'fy20:', 'opposing?', 'bouquet:', '2.59%', 'bonuses:', \"allcargo's\", 'tonnes:', '₹2,826', 'highs;', \"'ill-advised',\", \"'respect\", \"rights'\", 'hq:', 'crash:', '41,893;', 'series:', '#stopadani,', '₹64l,', \"guard's\", '$29.4', \"'greenshoe\", \"option'\", '$9', 'deposit:', '₹3,000cr', '₹256', 'venezuela,', \"vivekananda's\", '45-bedroom', '₹1,900', 'surname,', \"edelweiss'\", 'rashesh', \"boeing's\", '$62', 'complaints:', '19%', '₹2,000-cr', 'contract,', 'bse,', 'enterprises,', 'insurance:', \"'madrasis'\", \"'diva':\", '$1.2', 'braich', 'spgp', 'work?', 'baht,', \"'stupid',\", \"'fools'\", 'payu', 'paysense', '$185', 'japan:', \"notice':\", 'mid-2020s:', 'quits,', 'finvest', '₹5,850', 'murugappa', \"group's\", '12,311,', \"'cold,\", 'greedy,', \"dictator':\", 'gm,', 'pornhub', 'followers:', \"'confess\", \"you':\", '₹65.5', '$240', 'peak,', \"malaysia's\", \"'ashamed'\", 'mariwala', 'neelachal', \"lebanon's\", 'power,', '₹104', 'cancelled:', '94-yr-old', 'plant,', '2.44%', '₹536.25', '24°c', 'living,', 'diesel-emission', '₹41,096', 'plant:', \"sons'\", 'chairmanship:', 'do,', \"ford's,\", 'answer:', 'fy25', 'mukherjee,', 'sahara:', 'baseless,', 'expand:', 'east,', 'designed:', '$2.9', '7,44,000', 'monetisation:', \"firm's\", '₹1.23', 'gap:', 'decades:', \"aramco's\", '1.7%,', 'aayog,', '₹22,500', 'tata-mistry', 'argentina:', 'record,', \"cook's\", '₹83', '$80', '$48', 'commander,', '91%', 'months?', '₹13,572', 'fail:', 'needs:', \"mistry's\", '₹2.35', 'hdfc,', '51.2%', 'jiomoney:', '$69.16', \"'double\", 'irish,', \"sandwich'\", 'lebanon?', 'suzuki-led', '₹3,715', 'box:', 'eve,', 'reinstatement?', 'surprised:', 'goldman,', 'varde-led', \"rattanindia's\", '₹6,575', '38%', '₹750', 'bitcoin,', \"decade's\", 'asset,', '90,00,000%', '$3.4', '₹1.03', 'talgeri', 'phase-one', 'session,', '14%', 'backpack,', 'books:', \"'privileged\", \"childhood'\", '₹102', \"'flees'\", 'buyer,', 'bps,', '1970s,', \"'good\", \"many'\", '$122', 'venture:', 'central,', 'slabs:', 'rupay', 'card,', 'coal,', '₹87,905', '₹800', '₹27,000', 'well-positioned,', 'communication:', 'arm,', 'il&fs', '₹770', 'cancellations:', '₹1.13', 'h1:', 'restored,', 'profit:', 'pronab', '₹8.7', \"cs'\", 'lsr;', \"domino's\", 'f/a-18', 'form,', 'users:', \"'ebkray'\", 'tough:', '₹64,419', 'm-cap,', '₹215', 'image:', \"lee's\", 'growing,', \"amazon's\", 'packages:', 'targets:', 'kalanick', \"japan's\", \"'economic\", \"super-ministry':\", \"twist'\", '₹883', 'benefits,', '₹230', 'economies?', '$290,', '₹241', 'racket,', 'cannabis-infused', 'drink:', '30%:', 'bytedance', \"'ladies\", \"gentlemen'\", \"'urgent'\", '₹7,000', \"dubai's\", 'rinfra', '₹1,250', '$17', '67%', 'qci', 'each:', 'berlin:', 'capital,', 'slabs,', 'stabilises:', 'cairo:', 'tbz', '8,305', 'airwaves,', '₹5.2', 'spending,', 'trade,', '₹1.72', '₹17.5cr', 'proud:', '$7-mn', '₹1,721', \"wto's\", 'consumption,', \"panther's\", 'probe,', 'shutdowns:', 'ayurved', '₹4,350', '4.6%', 'kochhar’s', 'shouldn’t', 'entertained:', 'net-banking', 'mokashi', 'sintex', 'industries’', 'ashmita', 'oppressive:', 'youtuber,', '₹184cr', 'tariffs,', '₹5.7', 'weeks,', 'bureaucracy:', '28%', 'ruling:', '₹5,250', \"il&fs'\", '$350', 'embibe', '90.5%', 'funtoot', '₹71', '41,352', '$680-mn', '₹42,000-crore', \"'jio-bp'\", 'costs:', '₹35,298', 'imf:', '$300,000', 'partnership:', \"'dictating'\", '5.8%', '4.9%', 'lenders,', '41,263', '$145m', 'problem:', 'supervision,', 'suspicion:', '10.5%', 'november,', '0.58%', 'easemytrip', '₹510cr', 'papers,', '₹255cr', 'firm:', 'impractical:', '₹5,000-crore', '₹2,617', 'fy19,', '₹4,240', 'pan-aadhaar', \"industries'\", 'nowfloats', '₹141', 'shivinder', 'stores:', '5.54%', 'ujjivan', '₹90', 'audit:', 'nfra', '$130', \"'phase\", \"baroda's\", '$1.9', 'google,', \"glassdoor's\", \"paypal's\", '2-wheeler', 'mistake,', 'koovs', \"biyani's\", \"rcom's\", 'tower,', 'assets:', 'investments:', '₹10,700', '₹3,200', 'hurun?', 'trilium', 'globally:', '₹11,932', 'citax', \"holdings'\", '$22', 'igst', 'brookfield,', 'pichai-led', 'bezos:', \"'fake'\", '₹60,570', 'shayari', 'mobile,', 'interested:', '₹4,900', 'nod;', '15%', 'stock:', 'volcker,', 'inflation,', 'blackstone:', 'chin:', 'restored:', 'animal,', 'crazy:', '$20m', '2000:', 'gcx', '6%:', 'jaigarh', \"hiranandani's\", 'h-energy', 'passion,', 'have:', 'us-like', 'ciaz,', 'ertiga,', 'xl6', '$3.9', '6.6,', '5.8,', '$2.3b', 'bn,', '₹14,000-crore', '₹21,500', '₹8,556', \"2019's\", 'subscribed,', '$15bn', '$25.6', \"carrier's\", '₹41', \"korea's\", \"chairman's\", \"'tax\", \"gap'\", 'vrs:', 'desmond-hellmann', 'niif', 'nbfc', '₹22,527', 'groww', 'structure:', 'alphabet:', 'climb:', 'product:', 'google?', \"'league\", \"legends'\", 'notes:', 'ask,', '₹1,770', 'steel,', \"etf'\", '6,', '$52', '₹1,100', 'debt:', 'expected:', 'absurd:', 'mths:', 'impressions:', \"'technical\", \"glitch'\", 'anti-govt:', '78%', 'balance:', \"sign',\", \"intel's\", 'e-pharmacies', 'inventory:', \"'stressed'\", 'nse,', 'karvy', \"broking's\", 'cigarettes,', 'bidis?', '42%', \"'multi-billion'\", '$900', 'upa-2:', 'shah,', '₹120/kg', '4.5%:', 'nehru:', 'braich,', 'board’s', 'blockchain', 'discounting:', '₹3,200-crore', '$1.39', 'nissan,', 'renault,', \"buffett's\", '6.5-year', 'counterparts:', \"maker's\", \"'verified',\", 'entrackr', 'cybertruck', '2020;', 'couriers;', 'unacceptable,', '8-9%:', 'mukesh,', '$450', \"'pig'\", \"officers'\", 'cups,', 'dhfl,', 'april-october', '102.4%', 'bpcl,', 'mrpl', 'china-led', 'join:', 'carlyle,', 'cards,', \"owner's\", 'sunteck', 'saree,', 'college:', \"john's\", \"chain's\", 'growth?', \"network18's\", 'privatised:', '₹1,216', '41,130', 'aramco,', \"adnoc's\", '$70', '₹2,200', 'advances,', '₹10-lakh', 'sizes,', '₹139', '$7', 'buyers:', '₹729', 'sebi,', \"parliament's\", '₹21,246', \"xerox's\", 'offer,', \"'significantly\", \"undervalued'\", 'giphy', \"'baby\", \"yoda'\", 'girl:', 'bravery,', 'hurt,', '₹1.81', 'salcomp', \"nokia's\", '$642', 'nov,', '11,', 'rate?', \"watsa's\", \"'tea'\", \"'latte'\", '$16', 'daffco', 'applicants:', 'added,', 'category:', '40,857,', '12,000-mark', '40,889,', '12,073', 'technology:', 'street:', '1,46,000:', \"cafe's\", \"automakers'\", '₹74.66', 'litre,', \"'forced'\", 'over-regulation:', 'f***ing', \"cybertruck's\", '$10-billion', '$768', 'jan-mar', 'modicare', '$98.5', \"zee's\", \"him'\", 'ex-icici', 'unbelievable:', '9.3%', 'piramal,', 'aircraft:', 'privatised,', '53%', '₹63,000', \"fortune's\", \"'would\", \"assistant?':\", 'andhra:', '16.5%', 'zee,', '3,800%', \"'2g-mukt'\", '66%', '20%:', '₹42,000', 'firm,', \"'out\", \"question':\", \"'telecom-like\", \"monopoly':\", '$19.47', 'corp:', 'profitable:', '$12', 'loan:', '40,769', '$1b', 'downtime:', 'down;', 'stagflation,', 'professor,', 'laundering,', '$2.5', 'amlani', '2018-19,', '₹95,800', 'tesla,', 'shapoorji', 'aquaguard', '51%', \"opec's\", '2011:', 'incred', \"capital's\", 'slump,', 'e-cigarette', '₹9.5', 'bottom:', 'steel:', \"'quality'\", '₹30,142', \"firms'\", '$33.5', \"well'\", 'china-us', '12%:', 'operations,', 'zero-carbon', '2030:', 'monetise', 'huawei:', 'rajneet', '₹50,922', '$10-bn', 'nowfloats:', '51%:', 'jetprivilege', 'rebrands', 'ex-fortis', \"fortis'\", 'discount:', 'ex-promoters', 'malvinder,', 'contempt:', '₹23,045', '7.4%', 'october,', 'april-june', '27%', \"co-founders'\", 'airline:', 'medplus', \"'facebook\", \"pay'\", 'instagram,', 're-check', 'scooter-sharing', 'space:', '149-year-old', 'munjal,', 'hemendra', '5.6%,', '$38', 'expectations:', 'marijn', '₹462.6', 'jlr,', 'geely,', 'bmw:', '₹300-crore', '₹22l', '4.2%', 'july-september', '$38.4', \"singles'\", 'sec,', 'germany,', '0.28%', '2-month-long', 'startup:', 'karnani', \"tele's\", \"agro's\", \"dhabi's\", '$150', '4.3%', 'veteran,', 'launch,', '69:', 'glasses,', \"billionaires'\", \"'negative'\", 'britannia,', 'emami,', '₹4,850', '$68-mn', 'compliance:', '24%', '₹1,355', \"'kiranas'\", '$15', 'november-end:', 'priyanka-backed', \"gail's\", '46%', '₹1,064', '$14.5', \"'stable'\", \"thiel's\", 'ex-general', 'vape', 'popularity;', 'best,', 'anarock', '40,676', 'ipo:', 'demonetised,', 'hoarded:', 'recyling', 'hp,', 'july:', 'rcep', 'of?', 'infosys:', '$37', 'awards,', '$675,000', \"relief'\", '40,607,', 'fujifilm,', '57-yr', '₹7,200', 'pact:', '$95', '76%', '₹10,749', 'microgrids', '₹1,830', \"ceos'\", 'variable:', \"'jugaadus'\", 'agreement,', \"'against\", \"conscience'\", '40,301,', 'smog,', 'relieved:', '86%:', \"'consensual\", 'wholesale:', '₹9', '₹87', \"brand's\", 'fosun:', 'investment:', \"'stick\", \"sports'\", 'airpods', '$2.1', \"suzuki's\", 'refinery:', '$3.6', 'airtel-jio', 'bonds,', '$500bn', 'money?', '$14.3', 'eu-india', '8.5%,', '5.2%', 'jan:', '63%', '₹17,231', 'october:', 'retail:', '₹95,380', \"oil's\", '₹563', 'announcement:', '₹3.4', '$64', 'bn;', '29%', 'revenue,', '$205.9', 'hand,', 'cashbacks,', '40,392', '2g,', 'investor,', 'illegal,', 'diwali,', \"'malicious'\", 'tears:', 'cognizant,', '₹533', 'profit,', 'fitbit:', '₹10.5', '86%', 'customers:', 'goodwin:', 'temporary:', \"'davos\", \"desert'\", '$33', '$68', 'company:', '$132', 'post-diwali', '₹21,700', 'mistakes,', 'oyo,', 'goibibo', 'itself:', 'tiffany:', 'muhurat', 'motocycles', 'money,', '70-80%:', 'courts,', 'management:', 'inbev,', 'carlsberg,', 'dhanteras', '₹6,500', '₹28,000', \"thailand's\", 'noida-based', 'pnb,', \"gvk's\", '₹7,614', '₹655', 'rate:', 'survive,', 'ex-apple', \"bolivia's\", '₹229.7', 'rankings?', '₹5,400', 'verdict,', 'crowns,', \"'lucky\", \"oil'\", \"'humbly\", \"accept'\", 'wework,', 'losses:', 'mca:', 'ranking:', 'predict:', 'kkr’s', '₹217', 'merged;', '$3.8', '$33.1', 'deliveries,', 'innovation:', 'railways:', 'turkey,', 'leelaventure', \"'leela'\", 'maxs', \"'solvency\", '189:', 'dec-end:', 'objectively:', '₹1,359', 'share:', '₹53,000', 'store:', 'myth:', \"'unethical\", \"practices'\", 'madrasis', 'points:', 'industries:', 'sequoia-backed', 'stovekraft', 'ex-puma', '63%,', '₹11,518', '25%,', 'sides:', 'ex-jet', 'regulators:', 'little:', \"secy's\", 'cryptos:', 'didi,', 'resigns:', 'medialab', 'huffpost:', '26.8%', '₹6,345', 'e-auction', '₹466', 'nov:', 'ampsolar', 'surgery,', 'karti:', 'left-leaning,', '6%,', '$7.5', '₹996', 'q2,', '$2.4', 'ex-coo', '18.3%', '₹11,262', '₹7,985', 'powerupcloud', \"offer'\", 'sanctions,', '₹306', '10-15%', 'brexit', 'exist,', \"lanka's\", 'opens,', \"'worst\", \"phase'\", 'singh-rajan:', '22%', '₹630', 'bofaml', \"'the\", \"laundromat'\", 'opponents:', 'rover:', 'pmc:', 'hdil', '$4-bn', 'outdated:', 'blackstone,', 'sanctions:', '₹2,626', '0.1%', '$250-mn', 'nobel?', 'ai-based', \"'weird',\", 'tariffs:', 'banerjee,', 'economics?', 'booking.com', '₹1,848', '₹81,781', \"'loan\", \"mela':\", '₹3,830', '6.5%', '₹645', \"jayakumar's\", '37.4%', 'owners:', 'kolkata-born', 'abhijit,', '3.99%', '₹120', \"dukandaar's\", 'attitude:', 'fabindia', 'pa,', \"'textpectation',\", \"'errorist':\", 'lamborghini:', 'ex-chairman,', 'commitments:', \"power's\", '₹4,025-cr', 'smoothly:', '0.33%', '1.08%', 'indians?', 'second-richest', 'mastercard,', 'billionaire,', '$600mn', '$2.35b,', '72nd:', 'difficulties,', \"'kanoon':\", 'savings:', 'penniless,', 'chief:', '2,', 'way,', \"'conceals'\", '$53', 'modi-xi', 'head,', \"'suit-boot\", \"sarkar'\", 'imagination:', \"'mud\", \"board'\", 'mistry,', '9.8%', '₹22,629', '₹8,042', 'ballantine’s', '$11', 'boeing,', '$39', 'ex-promoter', '₹2,400', \"airbus'\", '1,000th', '₹16,500', 'ex-ranbaxy', 'shivinder,', '₹740', 'long-lasting,', 'asians:', 'haldiram', 'kwality', 'coo,', 'jasneet', 'bachal', 'breaches:', '₹1,383', '5%,', \"'diwali\", \"gift'\", 'jewellery:', \"'terrorise'\", 'paise/minute', 'anmol,', 'anshul', 'apr-sept:', 'germany’s', 'delvis', '₹164', 'calls?', '2.1%', 'term:', '₹14.20', '56%', \"'repression\", \"minorities'\", \"softbank's\", \"siddhartha's\", '₹1.8', 'account;', \"residents'\", 'bungalow,', 'yacht,', '$1.236', 'mongolia’s', 'worldwide:', '58,322', 'e-assessment', '71.03', \"gmr's\", 'e-cars', 'drivers:', 'parable:', \"'homemaker':\", '3.5%', 'jet,', '10.7%', 'waryam', '₹4,355', \"ramdev's\", \"family's\", 'pledged,', \"chandra's\", 'reliability:', 'e-wallets', '$362.5', '$434.6', 'lakshminarayanan', 'rakesh,', '₹3,500cr', \"irctc's\", '₹645-cr', '₹72,000', 'approach,', 'focused:', 'kgs:', '$6.7', 'wto:', '6.9%', 'collapse:', 'investments,', '68%', '$69', 'planes:', 'ericsson,', 'three:', 'rides,', 'entity:', 'eesl', 'choksi,', 'expects:', 'couple-friendly', 'discounts;', 'seconds?', 'deliveries;', 'fraud,', '₹2.7', \"goat's\", 'protectionist,', \"'proxy\", \"juul':\", \"b'desh,\", 'taxibot', 'oil:', '8-yr', '₹2.32', 'tn,', \"products'\", 'cut:', '₹91,916', '₹2.68', 'august:', 'crack-checks', '19.18%', 'arcil', '₹640', 'hour,', 'sony,', \"bhardwaj's\", 'homeshop18', '₹200-cr', \"'non-production\", 'agriculture,', '21.54%', 'rnam', 'cpses', 'e-cigarettes:', 'cpsus', 'vendor,', '₹30,000-crore', '$5-tn', 'goal:', 'zinetac', '₹80', 'musk,', 'dispute,', 'kumar,', 'trivago', 'quarter,', '₹105cr', 'lakh:', 'secure:', 'brookfield:', 'secrets:', '₹145', '₹2,717', \"'desperate'\", '₹88.2', 'q1:', 'itc’s', \"hotels'\", '₹790-cr', 'kpmg,', 'ey,', 'businesses:', 'gojek', 'gurgaon,', '100+', '₹27,800', \"oyo's\", 'oyo:', 'gap,', 'bridge:', 'now-bankrupt', 'crook,', '38,593;', '11,440', '₹3.8', 'points;', 'rcom;', \"corp's\", '₹36,800', 'scss:', 'spicexpress', 'markets:', '26,', 'tax,', 'sums:', 'hyundai,', 'aptiv', '₹24', 'reform:', '₹22', 'diesel:', '8.65%', \"pfizer's\", '178-yr-old', 'collapses;', 'fruitful:', 'crisis-hit', \"'mired\", \"trap'\", 'delhi-istanbul', 'package:', 'much:', 'presently,', 'capital’s', '₹17,000', \"'d'\", 'tellurian', 'historic:', '2040;', 'criticise,', 'suggestions:', 'attempt:', 'techcircle', '$85', \"'stronger\", \"ever':\", 'budgets:', 'shares,', '2.3%', \"'credit\", \"negative'\", '$40', 'tokenised', 'uber:', '$3-bn', 'chair,', 'cell:', '₹1,800', 'vaping', 'exigencies:', '$46.8', 'bp,', 'shamianas', 'addictive,', 'debating:', \"'mirae'\", 'iifl', 'exchanges,', 'kapoor-owned', 'unlikely:', 'production,', \"eu's\", '€13', \"'defies\", 'reality,', \"sense':\", \"'pedo\", \"guy'\", 'tax;', 'floors,', 'lenskart,', 'motors:', 'history?', '$6.6', 'stc,', \"'like\", \"ashes'\", 'panels,', 'rise,', 'assets,', 'ex-sbi', \"'cennergi'\", '$106', 'beardo', 'sachets,', 'heart,', 'young:', \"saudi's\", 'resume:', 'continues:', 'tinda', 'masala,', \"obc's\", 'surprise,', 'predictions:', \"assets'\", '₹20,830', \"passengers'\", '$127', '2019-end', 'mscb', '₹4,600-crore', 'shortage:', \"arm's\", 'shamed:', 'nha,', 'center,', 'tv+', \"'infinity\", \"dining'\", 'dubai-like', '$850/tonne', 'warsaw-delhi', 'altico', \"infosys'\", 'non-personal', '₹530', \"exchanges'\", \"flipkart's\", '₹68,000', 'demits', '0.8%', '$440mn', 'ayushmann,', 'magicbricks', '3.21%', 'prosus,', \"naspers'\", '$138bn', 'itc-managed', '₹40', 'one97:', '₹2,600', 'gravity:', 'created:', '₹7,300', \"hospitals'\", '3.6%', '₹725', \"nirav's\", '₹140', 'rfid-enabled', 'fairmed', 'zeel', \"'salmonella'\", 'apprente', 'drive-thrus', 'everything:', 'product,', \"'one-sided'\", '#boycottmillennials', \"'ola-uber'\", 'process:', \"'many,\", \"billions'\", \"'boneheads'\", \"'or\", \"less':\", '6.7%', 'disqualification:', '2.8%', 'co-founder,', '₹38', \"'volfefe'\", 'crax', '₹852', '₹3,438', 'debt-laden', 'saikawa', 'idfc', \"dec'18:\", 'year-ban', '₹7,800', '$98', '₹31,898', 'q1;', 'sical', 'e-voting', 'nicotex', '#webelieveyoucan', 'maruti,', '$108', 'amazonbasics', 'chandrayaan-2:', 'ex-starbucks', \"'people\", \"money'\", 'ratios,', '$126', 'branches,', '₹8,500cr', '₹3,700', '₹4,450', 'lenders:', \"'true\", \"rajya':\", \"netease's\", '₹2/litre', 'aircel-maxis,', 'though:', 'cot,', 'eurokids', \"'severe'\", '$700', '₹19,700', '₹2,743', 'in-principle', 'aircel-maxis', '$170', 'oct:', 'crunch,', 'deliver:', '73%', 'seven-year,', 'conditions:', 'esr,', 'july,', '7.3%', '$1.5', 'buyback,', '$6.1', '₹485', '5%?', '750mw', 'phonemaker', 'automobiles:', '36,085', 'auto-generate', 'addressed:', 'deadline:', '₹98,202', '₹9000', '₹47.10', 'fm-led', 'al-falih', 'announcement?', '55%', '₹201.5', \"'karmayogi'\", \"'iron\", \"age'\", 'ridership,', '₹1.09', '₹1.17', 'sc;', \"md's\", 'merger:', 'omcs', '₹16,000', 'infusion,', '₹11,700', 'market-linked', 'small,', 'please:', 'fraud-hit', \"'isis'\", \"'aziz'\", 'cars;', '$96.5', '93%', '121%', '205mw', '31%', 'fy17', \"'jio'\", \"jio's\", 'fy22,', '2023:', \"mody's\", 'consequences:', 'single-brand', 'toyota,', 'prevention,', 'prevention:', '₹6,270', 'ai:', 'brazil,', '31.7%', 'suggestion,', 'd2c', 'global:', \"sindhu's\", '₹1.76l', 'piech,', '12-brand', 'empire,', 'humiliate,', '₹1.76', '8.9%', 'gdp,', 'used:', 'agm,', \"'main\", \"na'\", 'e-pharmacy', 'medlife', 'ex-cummins', 'mankeshwar', \"'policy\", \"nudges'\", '₹10,675', 'dollar,', 'gangaiah', 'hegde,', 'siddhartha,', 'cricketer,', 'superhero:', '$16bn', '$4bn', '$44', \"handsets'\", 'margin:', 'teacher:', 'networks:', 'talks:', '₹1.11', '$5-trillion', 'investors,', \"thapar's\", 'removal:', \"'kulhad'\", 'kotak,', 'demise,', 'anyone:', 'peter,', \"'take\", \"care'\", '$550-billion', \"'wrong'\", '$75-billion', 'alliance:', 'fy19?', 'enemy,', 'jinping,', 'agm:', 'laddoo', 'draconian:', 'malegam', \"dollar's\", 'bhujiawala', 'bean,', 'control:', 'economies:', \"indrani's\", 'arrest?', 'cheaper:', 'offence:', '3.58%', '₹745', \"'unprecedented\", \"crisis'\", 'e-cigarettes,', 'bailouts:', 'making:', 'wagonr', '6.2%', '6.8%', \"'realigning'\", '₹500-₹600', \"clients'\", '9.5-acre', \"'hundreds\", \"dollars':\", 'intelligent:', \"'papa\", \"mujhe'\", 'floccinaucinihilipilification:', \"jet's\", 'hyd,', 'ebiz.com', '₹74,000', 'takkar,', \"idea's\", 'ceo?', 'ccd:', \"'unauthorised\", \"transactions'\", '$31', '58.2%', 'lanka’s', 'balesh', 'apple:', 'hybrid,', \"'logout'\", '₹354-crore', 'no-fee', \"'non-threatening'\", 'taxpayers:', '₹50,000-cr', '₹4,970', 'chargesheet,', '₹570', \"'complexities\", \"issues'\", 'nets,', \"love'\", 'hanging,', \"'bigger\", \"enron'\", 'liquidation,', '₹12,600', \"'loud\", \"clear':\", 'sundaram-clayton', '₹521cr', 'huawei’s', 'short:', 'rates?', \"'jhakaas',\", 'loan,', \"epstein's\", 'protest-hit', 'ones:', \"department's\", '₹3,225', '₹83,000', 'viacom,', 'deductible,', \"'necessary\", \"countermeasures'\", 'ex-axis', '$13.43', 'nation,', 'advantage:', 'isha,', 'kong,', '₹38,470', '₹28', \"ril's\", \"commerce'\", \"vedanta's\", \"'very\", \"stage':\", 'pvr,', \"'jio\", \"first-day-first-show'\", \"pig's\", '30.9%', '3.15%', '36,958,', '11%', 'o2c', 'enterpise', 'gigafiber', '₹700/month', 'eggs,', '₹20.09', \"tv's\", 'kalanithi', 'maran,', '₹87.5', 'd-mart', '₹875', 'manufacturing:', \"agarwal's\", '78.66%', 'petrochems', \"'muni\", \"bonds'\", 'watsa-backed', 'betzel', '3.3%', '$108bn', '$5.2', '496%', 'gaushalas', 'biggest,', '₹262', 'deloitte,', 'no-jurisdiction', 'incident,', \"homebuyers'\", 'dealings:', 'surcharge:', 'affle', '₹702', 'ties,', \"models'\", 'sued:', 'steelbird', \"fm's\", 'failures,', \"'accept\", \"'balanced':\", '₹2,230', '$121', 'no-deal', 'infrastructure’s', 'us-india', 'ties:', '$117', '158-year-old', 'revoked:', '₹10,206', '9-10%', \"videocon's\", '$336', 'inbev’s', '₹2.5cr', 'dirt-filled', '10,862', \"ccd's\", '₹89,535', '₹658-crore', '87.6%', 'fynd', '₹295', 'renault:', 'desperate:', 'cyclical,', '₹36,970;', \"shareholders'\", 'violations:', 'guruprasad', 'dpiit', 'reapproach', '₹25,000-cr', 'dhfl:', 'fy25:', \"households'\", 'fy18:', 'third-richest', 'coins?', '₹1.02', '₹2,866', 'lithium,', \"poisoning'\", 'cognizant’s', 'debashis', 'mindtree’s', '20-yr', 'risks:', 'tabooed:', 'units,', '$53.8', \"'cool':\", '33.5%', \"'letter\", \"siddhartha'\", 'indiaplaza', \"mittal's\", '₹442', \"hoteliers'\", '₹4,224', '₹3,500', 'self-esteem:', '61.4%', 'entrepreneur:', 'indiabulls,', 'comcast,', 'entertainment:', 'entrepreneur,', 'fishy,', 'kidnapped:', 'seen:', 'department:', \"he'd\", 'investment,', 'heavens:', 'marriott,', \"rolls-royce's\", 'letter:', 'evs:', 'solution,', \"'trans-fat-free'\", \"ma's\", '3-min', '$290bn', '1.6cr', \"b'wood,\", 'productive:', 'refinitiv', '₹514', 'ministry:', '$4.3', '₹1,908', '2024-25', 'achievable:', '₹36l', 'amrapali:', \"'majority'\", 'google-parent', '$9bn', '$25bn', 'worldwide;', \"'excessive\", \"self-promotion'\", 'ga8', 'nutrela', '₹1,720', '$86', 'reliance-aramco', '₹5.88cr', \"home-buyers'\", \"raymond's\", 'vijaypat', 'tharoor:', 'amrapali-like', '₹3,680', 'overseas:', 'dhoni,', \"daisy's\", 'retirement:', '₹3,050', '$16.9', \"promoters'\", '43%', '₹1,195', 'ex-pepsico', 'board:', 'snapdeal', 'nusli', \"wadia's\", 'celebrities:', 'cryptocurrencies', 'bosnia,', 'stalled:', 'nbfcs,', '₹35,970,', 'banking,', '₹1,500', 'ncds:', '32.7%', '₹1,360', \"4'\", \"'bad\", \"loan'\", 'over:', 'results,', 'bacq', '₹32,380', \"utilities'\", '₹5,568', '₹25,200', \"ultratech's\", \"birla's\", '18.8%', '₹15.53cr', '₹26.29cr', \"m&m's\", '$270', 'flags:', 'hiring,', 'honking:', 'bse-listed', 'busted,', '₹340', '300%', 'total:', \"co-founder's\", '$377', 'menu,', 'ebix', '₹2,320', 'lymbyc', '₹688.3', '₹113.8', '12.6%', '₹2,387', '₹585', '259-yr-old', 'person,', '$620', \"enterprises'\", 'ex-south', '200l', 'scrapyard:', '1000-ft', \"'tulip'\", '$7.3', 'indigo:', '$172', 'embarrassed:', 'cryptokart', '81%', 'vakrangee', '$850', 'sarvita', '$650', 'mindtree,', \"l&t's\", 'length:', 'se,', 'plus,', 'baggage:', 'critical:', '£50', 'mazumdar-shaw,', \"godrej's\", 'dustbin:', \"taxi's\", '5-yr', '₹2,577', \"'anxious'\", 'bpsl', \"effect'\", \"lufthansa's\", '5.3%', '₹3,802', '2.02%', 'talc:', 'risk:', 'anshula', 'losers:', 'quess', '₹1,775', 'benefit:', 'barak-8', 'mentored,', 'lawyer:', \"'woke'\", 'intolerance,', \"'paan\", \"dukaan'\", 'regressive:', '$5.8', 'tethyan', '3.18%', '₹222', '₹2,223', 'q4,', 'runwal', 'pinnacle,', \"mulund's\", 'debt?', \"nigeria's\", 'jpmorgan-owned', \"'googles\", \"amazons'\", '₹372', '$5-bn', 'revenues:', '17.5%,', 'violation:', 'suzlon:', \"infra's\", \"choksi's\", '₹24.8', '$34-bn', 'deal;', '$123-mn', \"guests'\", \"'voluntarily'\", 'surrenders,', 'sex:', 'viable,', '₹11,600', 'cryptocurrency:', 'fairfax-backed', '₹500-cr', '₹8,131', '₹3,805.15', 'smuggling:', '$57', 'hospitalised,', '₹50,000:', '₹1,500-crore', 'divorced,', '9.4%', \"bmw's\", '₹1,', '₹2,', '₹5,', '₹10,', '12.5%', 'aviation,', 'narayani:', 'couplet,', \"'arthashastra'\", 'ipad:', '₹1,05,000', '2-hour-long', '₹30,400', 'wine,', 'ex-barclays', '₹68', '₹235cr', '35%:', '2024,', \"'study\", '95%', 'open-defecation', '9.6cr', 'investor-friendly:', 'intermediary:', \"grid'\", 'msmes,', '₹350', 'archaic,', '2018-2030:', 'incentives:', 'cloth,', 'auspicious:', 'expectancy:', 'airports,', 'booths:', 'thought:', 'hinduism,', 'islam,', 'bottles,', 'urjit', 'airways,', 'indiamart', \"'detroit\", \"evs':\", 'sales,', '₹3,770', '₹46.60', 'kg,', 'closure?', 'birla,', 'cover?', 'onstage,', \"avast's\", 'iacocca,', 'chrysler,', 'roads,', '$9.8', 'institute:', 'kalaari-backed', 'rubique', '₹3,275', 'acquired:', '₹14,500', 'so:', 'mahindra;', 'repeat,', 'rhymes:', \"patanjali's\", \"'kimbho'\", 'hold:', 'beijing’s', 'starfish-shaped', 'completed,', 'increase:', 'heroes:', '₹42', 'chappal', '₹99,939', 'coinrecoil', 'crackdown:', 'indinfravit', \"sadbhav's\", '₹6,610', 'morea,', '₹8,100', 'semis:', 'gates,', 'defaults,', '$426.42', 'hcl,', 'cyient', \"steel's\", '$34-billion', \"'sin'\", 'abp,', 'hindu:', 'projects,', 'koinex', '7.9%', 'musk’s', 'costa,', 'rishad', \"premji's\", 'adigroup', \"'agriculture'\", 'rigs,', '₹9,800cr', '₹7,635', '$32', 'fat,', '₹448', 'plane,', \"dlf's\", '₹2,250', 'financial:', '$22-million', 'tech:', \"jaipuria's\", '₹2,238', \"activist's\", 'versova-bandra', \"cognizant's\", '₹2,912', 'india-uk', \"indiamart's\", '$1.85', \"zealand's\", 'policy:', 'ravanan', 'dhanuka', \"labs'\", 'kachori', '₹2,000-3000:', '$490', \"'impossible'\", 'karunesh', '$63', 'hero,', 'bajaj,', 'niti’s', '9.1%', '₹226', 'jv,', '4-4.5%', 'else:', '10.61%', 'l&t:', 'ends:', \"'personal\", 'delhi-mumbai,', 'delhi-howrah', \"fila's\", '$830', 'return,', \"jewels'\", \"renault's\", '$3.3', 'ex-chairman:', '₹64,700', 'fiscal:', '₹900', 'revival,', 'demerging', 'insurers:', 'promoter,', 'relents:', '2017-mar', '6-yr', 'patna:', 'frightening:', 'facebook’s', 'iran-controlled', \"bhandari's\", 'manulife,', 'anti-profiteering', \"authority's\", 'dream11', 'gambling,', 'skill:', '‘halwa', 'ceremony’', 'ifci', 'ccil', 'shein,', 'evasion:', '$26,', '$15.7', '₹25,622', 'uneconomical:', '122%,', 'student,', '$190', \"'independent\", \"judgement'\", \"paribas'\", 'traction:', \"pnb's\", \"bankers'\", '$282', 'mindtree;', 'options:', 'collateral-free', 'introduced:', 'lunchbox:', 'crew;', 'rudratej', '₹6,400', 'growers:', \"adidas'\", 'three-stripe', 'invalid,', '$44-billion', 'saudi-backed', '$100-billion', '₹1,347', 'liquidity,', '₹475', 'prannoy,', '₹1,550', 'ex-directors', 'mit-wpu', \"sotheby's\", 'drahi', 'income:', 'e-tailers', 'operators:', '9.96%', 'max,', '₹1,800cr:', \"huawei's\", 'investigation,', 'fit:', 'walls,', 'crypto:', 'agencies,', '₹3,301', \"'mistake'\", 'track,', 'yashovardhan', 'rti,', '$135', \"ndtv's\", 'agri-tech', 'gamaya', 'mallya,', 'windows,', \"pig'\", 'ex-chemistry', '$10.5', '$84', 'solved:', 'hexaware', 'mobiquity', '₹1,270cr', \"pwc's\", 'unjustified:', \"ex-cea's\", \"neemuchwala's\", '₹2.05', 'hands:', '$7.9', 'ansals', 'flipkart’s', 'fair,', \"directors'\", \"'organised\", \"crime'\", 'hk,', '$7.7-billion', '3.05%', 'board,', \"max's\", '₹2,000cr;', \"pepsico's\", '$26.2', '₹98,000', \"'bizarre':\", '$120.5', 'kulmeet', 'aadhar', 'finance,', 'surprising:', 'thyssenkrupp,', 'rob:', 'fy12', 'fy17:', 'ex-aviation', \"friend'\", 'talwar:', '40:', 'retest:', 'unrealistic,', 'tvs,', 'g20:', \"nbcc's\", 'infra:', 'hinduja,', 'holders:', \"'chor\", 'customers;', \"'powerless'\", 'wars:', '₹93', '₹5,030', 'welfare:', 'icai-like', '₹276', '₹3,559', 'light-touch', 'competition,', 'pre-budget', 'taxation:', \"'competitive\", \"level':\", 'underdeveloped:', 'journey:', 'kalantri', 'premji,', \"wipro's\", 'chairman?', '₹2.2', 'manpasand', 'loans,', \"'one-day\", \"default'\", 'keventers', \"'default'\", '₹2,800', 'acquihires', 'lanka:', 'industry,', 'arm:', '7.2%', '₹69,394', 'burger,', 're-auction', 'technegroup', '₹312', \"monopoly'\", 'operator,', 'renault-fiat', '$35bn', '1-year-low', '51%,', 'high:', \"vistara's\", '7.5%', 'spicejet:', 'zenfone', 'kerala-born', '#kutoo', '₹31', 'batliboi', 'remedy:', 'cdpq', '₹1,244', '₹250cr', 'rebound:', '₹10,000-crore', '3.88%', \"fiefdom':\", '₹71,500', '₹5,200', '$4.9', 'may;', 'honda,', 'privileges?', 'ex-eveready', '₹32', 'eater,', 'restaurant:', 'exorbitant:', '₹500-crore', '₹107', 'intervening:', \"'unreliable\", \"entities'\", 'bbnl', '2017-18:', 'jaishankar,', 'sons,', 'minister?', \"'net\", 'nirmala?', \"'hacks'\", 'godhwani', '\\u200a ', '\\u200a', 'contacts,', 'deal,', \"'naked\", \"terrorism'\", 'fincorp:', \"paper's\", 'buy:', '₹930', '₹12l', \"customer's\", 'war?', 'watchlist,', '₹260', \"hero's\", 'africa,', \"shanghvi's\", \"brother-in-law's\", '16%', '₹969', 'reducing:', '₹1,550cr', \"'market\", \"weakness'\", '₹245', 'manappuram', '₹132', 'ex-vodafone', 'e-vehicle', 'precious:', 'jar,', 'discipline,', '$110', '400%', '₹1,050', 'goyal:', \"airline's\", 'brand:', 'hudco', '₹4,750', 'stimulus:', 'listing:', \"issue',\", '₹644', '₹3.86', 'iphone:', '₹17.4l', 'amul,', 'bcci:', 'properties:', 'warplanes,', '₹4,483', '₹600-800', '$271mn', \"interglobe's\", '₹590', 'sanction,', 'defaulters:', 'founder,', 'offloaded;', 'sourabh', 'damage,', 'ban?', 'politicians,', 'nonsense:', 'nsso,', '₹1.54l', 'badrinath,', '₹937', 'maker’s', 'director,', '737,', 'pension,', '₹3,300cr', '₹316', \"'developing'\", 'tag:', '1000-point', 'gain,', 'leader:', 'transformation,', \"'single\", \"place'\", \"fairfax's\", 'health:', 'ifc,', 'verlinvest', \"oliver's\", '₹94l', '39%,', \"oriflame's\", '49.9%', 'wirecard', \"'divorce'\", 'vedanta,', 'walmart:', '9.9%', '₹625', 'towers,', 'deposits,', 'railtel,', 'position:', 'huawei,', 'inevitable:', \"sikka's\", 'fall,', 'aloo,', '₹24.67', 'high;', '69.73', 'intel,', 'qualcomm,', 'maruti:', 'restructuring,', '₹1,117', \"scoot's\", \"vendors'\", '5.59%', 'may-end:', 'fda,', 'sensodyne', 'wayfair', 'payments,', 'growth,', 'slightly:', 'buyout;', 'big:', 'bakshi,', 'pincus,', \"j&j's\", 'downgrade,', 'lixil', \"'silent\", \"cafe'\", 'sons:', 'shirts,', 'threat,', 'taliban:', \"arr'\", 'plate,', 'model,', \"etihad's\", \"nilekani's\", '₹1.44', '99%', \"spencer's\", \"nature's\", 'taj,', '₹2,150', 'lse,', '1st-ever', '$13mn', 'luckin', '$561', 'assessment,', 'energy:', \"kobe's\", \"gavaskar's\", '80%:', 'champs,', 'ipl:', 'enormous:', 'ronaldo,', 'delay:', 'kohli:', 'said:', 'shocked:', \"wisden's\", 'bowlers:', 'ex-india', 'happen,', 'restructuring:', 'ex-chelsea', 'disappointed:', 'bhaker', \"hayden's\", 'sponsors,', 'kits:', 'jadeja,', 'bravo:', 'jadeja:', 'viswanath,', 'azharuddin,', 'laxman:', \"'top\", \"artists'\", 'number,', 'ipls:', \"dhoni's\", 'bleak:', 'karthik:', 'bonetti,', 'goalkeeper,', 'chance,', '₹1,079', 'ball:', 'ball-tampering', 'love:', 'nagal', 'fit,', 'no.1', \"murray's\", \"'100-volley'\", 'players,', \"players'\", 'ex-ipl', 'lkr', 'produced:', 'weight-training:', 'ex-trainer', 'exit,', 'width:', \"afridi's\", 'themselves:', \"guardiola's\", '₹61l,', \"akhtar's\", 'ind-pak', \"mushtaq's\", 'pawns,', 'fixing:', 'yuvraj,', 'talk,', 'massive,', 'inadmissible:', \"footballers'\", \"a's\", '36,', 'spectators,', '₹59', 'flawless,', 'formats:', 'smith,', 'warner:', 'hafeez,', 'batsman,', 'conversation:', 'easy:', \"kaif's\", \"sachin's\", '241*:', 'scapegoats:', \"liverpool's\", 'criticism,', 'table-toppers', 'nba,', 'knicks,', 'fight,', 'doors:', 'big,', 'spin-friendly', 'ganguly,', 'cricket:', \"ronaldo's\", \"'wink'\", 'position,', 'maximise:', 'hanuma', 'vihari', 'appreciate,', 'shafali', 'xi,', '186-run', 'indefinitely,', 'cup-linked', 'ex-marathon', \"djokovic's\", 'tight:', 'barcelona,', 'donate,', 'rohit,', 'ex-srh', 'jayasuriya,', \"warne's\", \"bumrah's\", 'over;', 'genius,', 'talent:', 'league,', \"'man\", \"match'\", 'ex-liverpool', \"feeling'\", '89-year-old', 'psl,', 'india-returned', 'assess,', \"dortmund's\", 'captain:', '23-august', 'ranchi:', 'juventus,', 'june:', \"knicks'\", \"spurs'\", \"'pressure'\", 'odis:', 'tests,', 'cummins,', 'starc,', 'bumrah,', 'boult:', 'sharma:', \"pcb's\", 'dybala', 'race:', 'hobbies:', 'strolls:', 'lives,', 'spirit:', '50:', '₹52', \"'advice'\", 'vice-chairwoman', 'piedt', 'warner,', 'raina,', 'buttler:', \"psl's\", \"laxman's\", 'leg-spin:', 'self-isolated', 'ashwin,', '₹7.8', 'practice,', 'cup:', \"haryana's\", 'fifa-who', \"pant's\", \"'indoor\", \"workout'\", 'sincerity:', \"madrid's\", '140*', 'bedade', \"'sexual\", \"shaming'\", 'since:', 'bhuvneshwar', \"puducherry's\", 'semis,', 'improves:', 'cricketers,', 'unavoidable:', \"'lets\", 'joke,', 'exhausted:', 'pandya,', 'stokes;', \"'aise\", 'kaise,', \"stokes':\", \"rr's\", \"'right\", \"fit'\", \"ganguly's\", 'balls,', \"cup's\", \"'player\", \"shot'\", 'planned:', \"'euro\", 'city,', 'coughs,', \"hafeez's\", 'pietersen,', 'hunters:', \"poonam's\", \"'extra\", \"talent':\", 'rcb:', \"rcb's\", \"'guess\", \"player'\", 'destructive?', 'sports;', 'kxip,', 'std:', \"'global\", 'self-isolate', 'arrest:', 'kock:', 'sehwag:', 'dying,', 'complicated:', 'hotels:', 'happens,', 'anushka-virat', 'sindhu,', \"ecb's\", '100-ball', 'zalmi', 'bat:', 'olympian,', 'messi,', 'carrom:', '200,', 'underway:', 'pigs:', 'pakistan-india', 'sense:', 'dulquer', \"fanboying'\", 'end,', 'key:', 'mcg:', \"league's\", 'hudson-odoi', \"delegation's\", 'postponed:', 'aggression,', '52-ball', 'unbroken?', \"owners'\", 'meeting?', 'kxip', 'season:', 'sport:', 'dravid,', 'due:', \"maxwell's\", 'engagement,', \"valencia's\", 'responsible,', 'self-quarantined', \"'shushing'\", 'title,', 'chennaiyin', 'aberration,', \"vertonghen's\", 'robbed,', 'play,', 'f**k', \"happening'\", 'india-south', 'pandemic,', \"sala's\", 'fast,', 'bats,', 'cats:', \"'stay\", \"safe'\", \"chelsea's\", 'rio,', 'cancellation:', \"ipl's\", 'postponement,', 'runs;', \"sa's\", '400+', \"odis'\", '86,174', 'mi-csk', 'opener:', 'sorry:', 'mandhana', 'saliva,', \"how'll\", 'india-sa', 'retirement,', 'ex-cricketer', 'autographs:', 'selfies:', 'mumbai-maharashtra', 'runs,', 'australia-nz', 'villiers,', 'post-mortem,', 'jhulan', 'final?', 'tournament,', \"ronaldinho's\", 'nadal,', 'djokovic,', \"barcelona's\", 'entertainer:', 'matter,', 'result:', 'panghal,', 'lovlina', 'wow!', 'something:', '+91kg', 'torch-lighting', 'hasan,', 'ex-captain', 'wc:', 'fastest-ever', 'final,', \"pandya's\", 'subcontinent,', \"'joru\", \"ghulaam':\", 'cup?', 'kitbag', 'public,', '5,292', 'run-getter', '16,', 'hit:', 'harmanpreet', \"final'\", \"dev's\", 'legend:', 'ellyse', \"perry's\", 'sl-wi', 'india-australia', '24,875', 'confidential:', 'marmite:', \"johnson's\", 'panghal', 'chhetri:', \"ain't\", 'fans,', 'playing:', 'janneman,', 'series,', 'brainer:', \"eng's\", 'woakes,', 'final:', 'already:', 'rubbish:', \"fans'\", 'crease:', 'threat:', 'bravo,', 'sixes,', 'rishikesh,', 'sometimes:', 'mid-tour', \"'deceived'\", \"rooney's\", \"nepal's\", 'no.2', 'favour:', 'akmal,', 'wt20i', 'individuals,', 'pacers:', 'nothing,', 'ipl,', \"champions'\", 'before-and-after', 'joshi,', \"selectors'\", 'ngidi', 'spot,', 'rahane,', 'zaman:', 'bhuvi', \"chahar's\", '£350', \"ponting's\", 'player,', 'high-fives,', 'fist-bumps:', \"'two'\", 'technique,', 'tons:', 'line:', 'hundred,', 'behaviour,', 'eyes,', \"c'ship\", 'yrs?', 'guy:', 'side,', 'satisfying:', 'style,', 'substance,', 'odis,', 'shortcomings:', \"c'ships\", 'surreal:', 'wkts,', 'letdown,', 'wilder-tyson', 'average;', 'shami,', 'regularly:', \"latham's\", 'fare:', 'game,', \"non-striker's\", 'madjozi', 'rabada', 'ball,', 'tail-ender', 'errors:', 'no.6', 'dutee', 'mbappe', 'kullar', \"football's\", 'scores,', 'objects,', \"nz's\", 'games,', 'win,', 'thief:', 'barehanded,', 'ex-landlords', '₹92', \"'n****r'\", \"lynn's\", \"'releasing'\", 'trash-talker', 'sports:', \"ali's\", 'juventus-inter', 'anustup', \"shafali's\", 'heung-min', 'jemimah', 'guard,', 'aaryan', \"'turbo\", \"touch',\", 'liver,', 'cancer:', 't20s?', 'spots,', 'variations,', '2:', 'dismissal:', \"bryant's\", 'months;', 'fearless:', \"indonesia's\", 'clash:', 'ex-jiu-jitsu', 'conditions,', \"history's\", 'ranchi,', 'yesterday,', 'eye,', \"'limited\", \"drs'\", 'india-eng', \"'overrated',\", 'mvd,', 'aggressive:', \"'bowler's\", \"'there's\", \"team'\", 'reasons:', 'neesham', '₹30-lakh', '18-kg', 'ring-walk', \"3'\", 'ex-brazilian', 'surface,', 'match,', \"'careless'\", \"team's\", 'loss?', \"'soo-chin'\", 'they:', \"'sholay'\", 'name,', 'selection:', 'love,', 'bryant,', 'memorial,', \"'crying\", \"jordan'\", 'fakhar:', '40-yr-long', 'career,', 'active:', 'federer,', \"b'desh's\", 'hardik,', 'shikhar,', 'roger,', \"federer's\", 'kohli,', 'dhawan,', '7-match', 'binny,', 'nowhere:', 'mayanti', 'rope,', 'not:', '2961', \"'greedy'\", '₹2.5', '₹6.2', \"opponent's\", 'sachin,', \"gayle's\", 'victories?', 'ranveer,', \"'83':\", \"sushil's\", 'started:', \"wilder's\", 'finishes,', \"jayaram's\", 'saurashtra,', 'yashasvi', 'subramaniyam', 'won:', '‘monkey', 'gestures’', 'cold;', \"sins'\", 'bump,', \"'2.5\", 'jasprit', 'rockstar,', \"williamson's\", 'scandal,', 'bowler:', 'over-rate', 'first-ball', \"c'ships,\", 'neymar,', 'fixtures:', 'mithali', \"rivals'\", '17-run', 'dugout,', 'wickets:', 'ghungroo', 'gaye:', 'career;', 'candidate;', 'sharath-sathiyan', 'vinesh', 'tricky,', 'india-nz', 'silver,', \"leganes'\", \"'mother\", \"brother'\", 'ronaldo:', 'shameelah', 'mosweu', '‘flight', 'risk’', \"cricket's\", \"'hate\", \"tweets'\", 'system,', 'exit:', '2-yr', 'outside:', \"fan's\", 'gifted,', 'organised:', '305-kmph', 'crash,', 'goosebump', \"dravid's\", 'dravid:', '10-min', \"bird's\", 'stadium,', 'flörsch,', 'award?', 'harrdy', 'under-19,', \"gowda's\", 'weights,', \"'mere\", \"hogi'\", 'toilet,', \"jitendra's\", 'gill,', 'agarwal,', 'shaw:', 'richards,', \"'carried\", 'onions,', \"'2\", '7-foot-5-inch', 'dunk,', 'broad,', '2020?', 'teammates:', \"olympics'\", 'level,', 'life-changing:', \"maguire's\", \"'kick'\", \"batshuayi's\", 'extraordinary:', 'plessis,', 'wise:', \"'indian'\", 'cup,', 'dost:', \"sivaramakrishnan's\", \"selector's\", 'found,', 'limo,', 'weekend,', 'feels:', 'cricketer:', '1cm', \"'infructuous'\", \"'unofficial'\", '₹33', 'boult,', 'patel,', 'olympics,', 'form:', 't20i,', 'trophy:', '#newdecadenewrcb', 'yuzvendra', 'smart,', 'benched:', 'keech,', \"'faster'\", 'ticket:', \"boycott's\", 'bhawna', 'improve:', \"verstappen's\", \"'he's\", 'ex-man', 'helped:', 'no.7', 'mad,', \"'did\", \"cup':\", 'reserve,', 'seasons,', '₹235', 'story:', 'racist,', \"dele's\", 'shubman', 'stay:', 'chawla:', \"bcci's\", \"sir's\", 'brain:', \"'workload'\", 'club:', 'quarterfinals,', 'captaincy:', 'edulji', 'enrique,', 'lolwut:', 'why:', 'become:', 'history,', \"gentleman's\", 'knee:', 'logo?', 'knock:', \"opener's\", 'watermark,', 'drinks,', 'bench:', \"yashasvi's\", \"'yaha\", \"sikandar'\", 'rehab,', \"'every\", \"hindi'\", 'anushka:', \"'acing\", \"marriage'\", 'madrid:', 'yesterday:', \"bishnoi's\", \"'mystery'\", 'variation,', 'accounts;', 'his:', '₹192', 'serious:', \"babar's\", 'abbas:', \"'racial\", \"abuse'\", 'nicely:', '4-odi', 'learn,', '€50,000', '19-yr-olds', \"men's,\", 'goalkeeper:', 'gone:', 'cool:', \"warner's\", '50+', 'mecca:', 'gayle,', 't20s:', \"format's\", 'name-blackcaps,', 'work-whitewash:', 'wc-winning', 'legends:', 'wcs,', 'nz,', \"astle's\", 'workload:', \"archer's\", 'ex-american', 'dirty:', 'mid-tournament', '26-kg', 'shock,', 'footage:', 'dimensions,', 'nz:', \"cummins'\", \"edition's\", \"jaiswal's\", 'leg-side:', \"'shoulder-before-wicket'\", 'lesson:', 'wcs?', \"kashmir',\", '$1,000:', 'pool,', '107*', 'gnanasekaran', 'j-lo,', \"shakira's\", 'porn;', '$867', 'target,', 'out?', 'nz-india', 'semi-final,', 'federer-nadal', 'boundary,', \"cricketer's\", 'note,', 't20is:', \"chahal's\", 'anderson,', 'lead,', \"neesham's\", 'relationship,', 'athiya:', 'play?', 'nqweni', 'rand?', \"'favourite\", \"corner'\", 'dravids,', 'gopichands', 'tennis:', 'picked:', 'bumrah:', 'copy:', 'fielding:', \"basketball'\", 'marnus', 'myself,', \"b'day,\", \"'kohli\", \"disgraces':\", 'kid,', 'special:', 'jofra', 'football:', \"dalmiya's\", \"mayanti's\", 'alisson', 'baptises', \"fred's\", 'real,', 'i’d', '35:', 'olympic-qualified', \"rider's\", 'babes?', \"'he\", \"rules'\", 'gappa', 'maldives,', 'wikipedia,', 'middle,', 'tour:', \"stranger's\", 'knife:', '88*(64)', 'p***s', 'black,', 'that’s', 'skin:', 'bavuma', 'tournament:', 'priyam', 'icc-approved', 'wickets,', 'for:', 'bouncer,', \"okay?'\", 'shaw,', '2nd-most', 'joking:', '1st-class', 'middle:', \"rohit's\", 'slam:', 'aadat', \"bash's\", 'odi,', 'kapoor’s', 'commentator,', 'oval:', \"samson's\", 'six-stopping', 'ragra:', '2nd,', 'speedboat,', 'comeback:', \"'ben\", \"chiefs'\", 'version,', 'version:', 'shakira,', 'dhoni:', \"'on\", \"shoulders'\", \"barca's\", \"sterling's\", 'eclub', 'kom,', 'zealand,', '5-match', 'record-extending', \"'friendship'\", 'mindsets:', \"'devastating\", 'cough:', 'khan:', 'long:', \"broad's\", 'teammates,', \"face?'\", 'french,', 'a**:', 'trainer,', \"'where\", \"fat?';\", 'dream:', 'damien,', '25yrs', \"'time\", \"heals'\", \"'koffee\", \"karan'\", 'selector:', 'top,', \"everything's\", 'fine:', 'non-striker', 'legal,', 'underarm:', 's**t', \"'mankading'\", \"'mankad'\", 'moody,', 'kiwis:', 'cac,', 'honesty:', 'krejcikova', 'khelo', 'ashraf,', \"champ's\", 'ighalo', 'mankads', 'fitness,', 'fielder,', 'akshay,', 'whitewash:', '127/2,', 'empty,', \"shardul's\", 'mid-way,', 'no:', \"'world\", 'strange,', 'argentina,', 'top;', 'lal,', 'visibility:', 'chand:', '2nd-highest', 'fingernails:', 'mladenovic,', 'ex-eng', 'captain;', 'queens:', 'kobe,', 'bat,', 'jealous:', 'clubbing:', 'face,', '4-hr', '4-set', \"'aisa\", 'lagta', 'apunich', \"hai!'\", 'guard:', \"shami's\", 'sixes:', \"'punter'\", 'ex-australia', \"mamba'?\", 'deduction?', 'devastated,', 'match:', \"young':\", \"'duck'\", \"'it's\", \"heartbreaking'\", 'g***u', 'face:', '26-year-long', 'match-winner', 'pain,', 'double-headers', 'kyrgios', 'park:', \"mamba':\", \"ok?':\", 'panda,', 'macho:', 'minutes,', 'lot,', 'bus:', 'through:', 'lbw?', 'sbw:', '5-set', '226*(213)', '301*(391)', 'aunt:', 'isl:', 'bagan-atk', \"words',\", \"'rip\", \"legend',\", 'bryant’s', 'was:', 'bowler,', 'manjrekar;', 'gianna:', 'things:', 'awarded,', 'tinder:', \"career's\", 'heartbroken:', 'mortality:', \"o'neal's\", 'basketball:', 'nca:', '\"13', 'kohli-ya?\"', 'ind-nz', 'award,', \"'no,\", \"it':\", 'mountain;', 'raiji', \"'duplicate'\", 'sweep,', \"'f*****g\", '4-eyed', \"c**t'\", 'retires:', \"'kya\", \"g***u'\", \"'what's\", \"up?'\", 'chicharito', \"dream'\", 'wwe,', 'ex-ufc', 'wicket,', 'wicketkeeping,', \"bale's\", \"kyrgios'\", 'technique:', \"pujara's\", \"'four-eyed\", 'sheeran;', 'misbah-ul-haq', 'too,', 'natural:', 'wc,', '58*(29)', \"much':\", '106m', 'neser', 'barty,', 'fifty,', '71(37)', 'sucked:', 'excuse:', 'kiss;', \"bolt's\", 'match?', \"biopic's\", 'scripting:', 'gauff', 'tsitsipas', 'pre-quarterfinals', 'divij', 'sivaramakrishnan,', 'chauhan,', 'khurasiya', 'liverpool:', 'job?', 'honoured:', \"'broken\", \"jaw'\", 'kkr,', 'obsession,', 'ambition:', \"game'\", \"lions'\", \"'animals'\", 'clown:', 'nice,', 'preparation:', \"bellerín's\", 'know:', 'state-kansas', 'snub:', 'headlines:', 'rock-chahal', 'replacement:', \"'spirit\", \"cricket'\", 'joint-second', \"dhawan's\", 'pant:', 'lbw,', 'round;', 'gunneswaran', 'training:', 'kmph:', 'round,', 'apurvi', 'chandela,', 'divyansh', 'meyton', 'idolise', 'zidane,', 'child:', 'death;', \"'quick'\", 'chhetri,', 'dinner;', \"'chamcha',\", 'bharta', 'nikal', 'diya:', 'question:', \"keeper's\", 'banana,', \"bumrah'\", 'banner,', 'ex-aus', \"'unfair'\", \"icc's\", 'prajnesh', 'open?', 'odi?', 'words,', 'comeback,', 'karun,', 'ton,', \"chanderpaul's\", 'tagenarine', '66*(274)', 'revolver,', 'auction:', 'can:', \"rabada's\", \"casemiro's\", 'f*ck:', \"mcgregor's\", 'odi:', 'kuldeep,', 'anushka;', \"funny'\", 'krk;', 'nadkarni,', \"'hero'\", \"root's\", \"nadkarni's\", 'laughed,', 'cried,', 'goosebumps:', 'asleep:', \"'strange\", \"metal':\", 'johnson,', 'umpire,', 'list?', 'satterthwaite,', 'tahuhu', 'finished,', \"'great'\", 'squad,', 'charulata,', 'bcci;', 'vocal:', 'fc,', \"'that's\", \"kid's':\", 'fan:', 'career:', 'williams,', \"'me\", \"lol'\", 'warner-finch', \"it'd\", \"'surprised\", 'sit,', 'stand,', '2019;', 'do:', 'zampa:', \"'2019\", \"cricketer'\", 'rajkot,', '1983,', \"'senorita'\", 'jhulan,', 'romance,', 'picture,', \"kohli?'\", \"'beautiful'\", '2018-2019?', 'bushfires,', 'high-fiving', \"'babysitter'\", 'sleep,', 'feeling:', 'valverde;', 'setién', 'australia:', 'biopic:', 'mutually:', \"surgery':\", \"once',\", 'handle:', 'dive:', 'stoinis', 'krishna:', 'trophies,', 'barcelona:', 'ex-barca', \"firmino's\", 'mine:', '2-0,', \"'shady\", \"pakar'\", 'deewaar-like', 'sell:', 'sl?', 'wall:', 'chahal,', 'gora:', 'curse:', \"'damn'\", 'factor:', 'feel:', 'ex-skipper', 'light,', \"bowler's\", 'chholle', 'bhature', 'focus:', 'punjab-delhi', 'everybody:', \"'baggy\", \"green'\", \"away'\", 'good,', \"'easy\", \"cricket':\", 'nonsense,', 'training,', \"'mc\", \"sydney'\", 'crore?', '‘f***ing', 'knobhead’', \"'cricket,\", 'talent,', 'confidence:', \"umpire's\", \"tottenham's\", 'filled:', 'barca-atletico', 'shoes:', '50-ball', 'philander,', \"'f***ing\", \"knobhead'\", 'ladkiya', 'itna', 'uthati', \"'weightlifting'\", 'jewels:', 'bradman,', \"'adaab'\", 'throat-cutting', \"'fitness\", \"morning'\", 'root,', 'gloves,', 'come:', 'unbelievable,', 'sarbjeet', 'innings:', 'holkar,', \"nataša's\", 'constantly,', 'fitness:', '2010,', \"karim's\", 'racquet,', '5,', \"'nayi\", \"lo'\", \"iyer's\", \"shreyas'\", '101-m', \"stokes'\", 'victory?', \"'tom\", \"jerry'\", \"'six\", \"sixes'\", 'confident,', 'aggressive,', 'tanhaji', \"else's\", 'city:', '1st-leg', \"siraj's\", 'black;', 'died:', 'swing,', 'cover-up:', '3-0?', 'dryer,', 'guwahati;', '₹3.7', 'rain,', 'india-sl', 'best:', \"'vande\", \"mataram'\", 'delay,', \"'c**k'\", \"labuschagne's\", \"lehmann's\", \"'f**k\", \"iran'\", \"kkr's\", 'space,', 'x,', 'y,', \"z's\", 'legend,', \"'83:\", 'five-for', 'blew-out', 'balloon:', \"khabib's\", 'meeting:', 'cricket?', 'engagement:', \"hardik's\", 'unpardonable,', '27-28,', 'age:', 'wires;', 't20s,', 'knockouts:', 'varane', \"aus'\", \"wade's\", 'hamstring,', 'criticise:', \"persie's\", 'evolve:', 'pathan’s', 'passion:', 'hardik:', 'shubman,', 'yorker,', 'tv:', 'leg-byes?', 'trials,', 'tokyo:', 'shami-bumrah', 'combinations:', 'stanković?', 'sodhi,', 'auction,', \"shastri's\", \"'ridiculous'\", 'surprise:', 'opinions:', 'excellent,', 'english,', 'baari:', 'rain:', 'throat-slashing', 'gesture,', 'madness:', 'krunal', 'aim:', \"'spying'\", 'standards,', 'healthy:', 'commentator:', \"heart'\", \"'performance\", \"decade'\", 'bushfire,', \"affected'\", 'gajaba', 'run-scorers', 'ozil:', 'huge:', 'olympics:', 'switzerland,', 'freezing:', 'wicket-taking', 'ganguly’s', 'meet,', 'decade,', \"'camel'\", 'bbl,', \"2010s';\", 'australians,', 'forgotten:', 'commentary,', 'australia?', 're-appoint', 'spanish:', 'ex-east', \"tammy's\", 'zareen:', 'athiya;', 'emojis', \"sunday',\", 'appeal,', 'juniors,', 'apki', 'ungli', 'nahi:', 'hearts,', 'kaneria:', 'restaurant,', 'nikhat,', 'deal?', 'irritated:', 'trophy,', 'ex-cricketers,', 'sheep:', 'markram', \"boult's\", \"'how\", \"jump'\", \"eagles'\", '90th-minute', 'boult’s', 'pad,', 'season,', 'pukki,', 'puking,', 'ex-windies', 'behind:', 'zareen,', 'doors;', \"tiwary's\", 'shape,', 'mess:', \"akram's\", \"manjrekar's\", 'sibling:', 'messi:', 'griezmann', 'debut:', 'ex-csk', 'satwik-chirag', 'medal:', 'message,', 'garbage:', \"photographer's\", 'sa-england', \"rashid's\", 'sakta', 'coach,', 'apologise;', \"b'desh:\", '80,473', 'anxiety,', 'squad:', \"'tujh\", 'dikhta', 'phogat,', 'decade;', 'suryakumar', '₹15.5', 'aus:', 'ground:', 'hoped:', 'father-figure:', 'point:', 'drawn,', 'level?', 'maanla', 'sl,', 'lagne', \"teammates'\", 'seaside,', 'break,', 'scheduling:', 'jadeja’s', \"leicester's\", 'sachin-sourav', 'rohit-kohli:', 'venue:', \"'santa\", \"claus',\", 'thigh:', 'auction?', 'aryaman', 'memes,', 'breaking,', 'inswingers', \"fleming's\", 'spurs:', 'women’s', 'desperation:', 'initially,', 'che!', 'human:', \"morgan's\", 'purchase:', 'auctions,', 'nba-style', 'header,', 'animated?', 'hetmyer', '₹140.3', 'tambe,', \"auction's\", '₹6.75', 'panipuri,', \"sana's\", 'maxwell:', '39-ball', '₹10.75', \"wada's\", 'addiction:', 'structure,', 'khitta', \"rahul-rohit's\", 'tons,', \"kuldeep's\", 'speed,', 'lynnsane:', '₹11.5', '₹8.4', 'live:', 'auctions?', 'edmeades,', 'wi,', 'mystery:', 'garg,', '₹1.9', 'harshal', 'dimuth', 'curran,', '₹5.5', 'utd,', 'shreyas-rishabh', 'sachin-ajay', '84-yr-old', \"'marry\", 'poster,', 'greet,', 'released;', '₹470', \"vaughan's\", \"'only\", 'padh', 'ho:', \"'monkey'\", 'ant,', 'boy:', \"'bak***d'\", 'player:', 'sarpreet', 'arsenal-city', \"'nazi'\", \"arsenal's\", \"'deceived\", \"news':\", 'china’s', 'india-wi', 'hustle,', 'ganguly-shastri', 'bhelpuri', 'mirchi,', 'diapers,', 'rathour', \"test's\", \"salah's\", 'buffalo,', 'hat-trick,', \"bayern's\", \"smith's\", 'dickwella,', \"sl's\", 'dickwella', 'gulbadin', \"'mafia\", \"circle'\", \"ferguson's\", \"bucknor's\", 'hockey?', 'title:', 'ex-argentina', 'sarri', 'ex-spinner', '500-goal', 'ex-wicketkeeper', 'karachi?', 'rain-hit', '2-1,', 'actors:', \"azharuddin's\", 'asad,', \"mirza's\", 'married,', 'anniversary:', 'haasan,', 'ex-ac', 'paine:', \"'crazy'\", 'window:', 'batting:', 'ribs,', \"'dhoni\", 'praised;', 'breastfeeds', '80:', 'asaduddin-anam', \"nada's\", \"raj's\", \"bailey's\", '9-match', 'rashford,', \"butt's\", 'last-ball', \"doubles'\", 'appeal:', 'dedication,', 'f*****g', 'headaches:', \"'racist\", \"gesture'\", '7-t20i', 'doomed:', 'pink-ball', 'doping,', 'poorly,', \"mothers'\", 'laps:', 'age-fudging', 'ground;', 'walsh:', '₹4.68', \"'dhoni'\", \"indies'\", 'united:', 'dubious:', 'bowling:', 'tri-nation', \"betis'\", 'maara', 'ko:', \"'amar\", \"anthony'\", 'married:', \"'dangerous'\", 'dialogue:', \"'virat\", 'ched,', \"ched'\", \"'notebook'\", 'crowd:', 't20i;', '0,', 'cute:', 'batsman:', 'difficult:', 'bairstow,', 'plane:', 'trick,', 'sachin:', 'started,', \"friday',\", 'umpires,', 'maar,', 'thoda:', \"bowler',\", 'victoria,', 'satwik-chirag,', 'opener,', 'dhawan:', 'moroe', '1st:', 'rankings:', \"'vultures':\", 'stump:', 'imam-ul-haq', \"chappell's\", \"'kailaasa'\", 'innings,', \"lord's\", 'meerut-born', 'shafali,', 'chapter:', 'pandya:', \"messi's\", 'yr:', 'dev:', \"d'or;\", 'scam:', \"'phere'\", 'wedding?', 'dating:', 'no-balls:', 'gujarat?', '235:', 'mauka,', 'landline:', 'ex-bcci', \"she'll\", \"mcc's\", 'd/n', 'adhm', 'ashrita', 'hitter,', \"lara's\", '400*:', '335*', 'office-bearers,', 'run,', 'portugal,', \"'pedestrian'\", 'stuff:', 'warner’s', 'minute,', 'smat', 'crown,', 'agenda-driven:', 'selectors:', \"engineer's\", \"bradman's\", 'un...believe....able,', 'sathiyan', 'pitches:', 'arsenal:', 'nagal,', 'hasn’t', 'bear:', 'pak’s', 'ponting,', \"shaw's\", 'another,', 'only,', 'father:', \"pacer's\", 'no.4', 'losing,', 'devdutt', 'padikkal', \"'whispering\", \"death'?\", 'catch:', 'semi,', 'talking:', \"ibrahimović's\", 'vandalised;', \"'judas'\", '₹21,600', 'stokes,', 'asher-smith', \"harris'\", 't20is,', 'buddy:', \"hughes'\", 'helm:', 'batting,', 'zealand-england', 'championship?', 'injuries,', 'longer:', 'january:', 'me;', 'wt20,', 'abused:', 'abhishek,', 'backing:', 'respect,', 'burden:', 'warne,', 'muzumdar', 'born:', \"'dada's\", \"legacy'\", 'stupid:', 'england-nz', 'grip:', 'nehwal,', 'swap:', \"spectator's\", 'emotional,', 'hurts:', 'santner', \"b'desh?\", \"dada's\", \"india-b'desh\", '₹1.4l,', \"'frustrated\", 'kohli-led', 'batted:', 'think:', \"naseem's\", 'pic?', 'amir:', \"boxer's\", 'one-punch', 'kipchoge,', 'dalilah', 'dragons:', \"got's\", 'overs,', '174/3', \"'seven'\", 'smith?', 'backwards:', \"rahim's\", '59*', '1-handed', 'deadly:', 'utd:', 'rashford', 'carlsen,', '200+', 'over-reacted:', \"'smiling\", \"face'\", 'emoji', 'd-n', 'sunset?', 'teams:', \"mom's\", 'helmet-less', 'jalebis', 'pitch:', \"'ginger\", 'kam,', \"zyada':\", \"'chai\", \"dada'\", 'played:', 'test?', 'edge:', '29-year-old:', 'manu,', 'elavenil,', 'kidambi', 'srikanth,', 'eight-pack', \"'men\", \"tomorrow'\", \"'f**k'\", 'doubles:', \"'partner\", 'red-ball', 'changing:', 'signings,', \"united's\", '₹3,570', 'research:', \"kazakhstan's\", 'schedule:', \"cavani's\", \"classy'\", 'rupaye', 'pepsi,', \"sexy'\", 'lynn,', 'srk:', 'punjabi,', \"spinner's\", \"williams'\", \"kohli'\", '0.8-0', 'comfort,', 'rehab:', '‘logical’:', 'kkr:', 'mi:', 'dance;', 'debut,', 'nam-hee', \"'let\", \"talk'\", \"'hai\", \"mirchi'\", 't20:', 'sir,', 'cooker:', 'table,', 'side-hug', 'match-fixers,', 'ddca', 'ringing:', 'skipper:', \"'shut\", \"up'\", 'bodyguard,', \"nehwal's\", 'rr,', 'joint-fastest', '343-run', 'leg-side', 'saw,', 'conquered:', 'hui:', 'annaprashana', \"children's\", \"'white\", \"pitch'\", 'open;', \"bbl's\", \"chopra's\", 'photoshops', \"mandhana's\", 'lipstick,', '264-run', 'no-ball,', 'mentally,', 'match-fixing,', 'defender:', 'mominul', 'runs:', '\"disturbance\"', 'relax:', 'natraj', 'shot,', '6-wicket', \"'audible\", \"obscenity'\", 'confused:', 'suryakiran', 'brighton,', \"yusuf's\", \"mahmudullah's\", \"'proper\", \"boring'\", 'maddinson', 'nz-eng', 'miscommunication:', 'finals,', '₹2.65', 'white-ball', 'overs:', 'stumps,', 'stumping;', 'matches,', 'suchith', 'females:', \"'thanks\", \"bhavesh'\", \"raina's\", \"virat's\", 'wardrobe,', 't-shirts:', 'praneeth', 'satwiksairaj,', 'unfollow', \"finisher's\", 'larger:', 'no-balls,', \"'waste\", \"money':\", 'one-trick', 'pony:', \"b'day;\", 'amicably:', 'bangladesh:', '8ft', 'silent:', \"journo's\", 'dating,', 'on-field:', 'confirmed,', 'jadhav,', 'giggs,', \"'bafta\", \"scotland'\", \"'devastated'\", \"club's\", 't20is?', 'give:', '$1mn,', 'mercedes,', 'apartment,', \"b'day:\", 'decide:', 'men’s', \"shaheen's\", 'nets;', 'shakib:', 'mafia:', 'seconds:', '$4.42', 'pic:', 'wicketkeeper,', 'matter?', 'dying:', 'coach:', \"farokh's\", 'issues?', 'tours:', 'chamber:', 'xhaka', '2-match', 'performance:', 'anything,', 'icc:', \"shakib's\", 'coffee:', \"'being\", \"parent',\", 'report,', 'mahmudullah,', 'agreed:', \"afghanistan's\", 'chants,', \"'pugam\", \"pugai'\", 'rules,', 'lucky,', 'harsh:', 'shakib,', 'selfie,', '2-yr-ban', 'not,', 'suffering:', 'modi;', 'pic;', \"'can't\", \"'control'\", 'ganguly:', '100*,', '99/9', 'lightning,', 'often:', 'decade:', 'matchweek', '10?', 'race,', 'shetty-rankireddy', 'wins,', 'babita,', 'yogeshwar', 'calm:', 'rested,', 'bangladesh;', 'shoelaces:', 'chubbier:', 'qualifiers,', 'koushik', 'jersey:', \"'2019',\", \"cup',\", \"'england'\", \"'jesus\", \"saves'\", 'field:', 'abd,', 'jonga', '13-yr-long', \"coa's\", '₹3.62', \"nadal's\", 'den:', 'self:', 'nominees,', 'range,', 'rang:', \"umesh's\", '137-kmph', 'elgar,', 'bcci,', 'kock,', 'sa?', 'here,', 'hello:', \"msd's\", 'azam:', 'brexit:', '1,500th', 'tour-level', \"hundred'\", 'sheffield,', 'ton;', 'xisca', \"bodi's\", 'journalists,', 'peasy,', 'squeezy:', \"'ride\", \"horse'\", \"harbhajan's\", \"'saala':\", \"'saala'\", 'pathetic:', \"challenging'\", 'aapki', 'niraali', 'bhrata:', 'khubsurat', 'dohra', 'shataq,', \"zareen's\", 'toss,', \"'insensitive'\", \"sarfaraz's\", 'ex-sa', 'shahbaz,', 'debut?', '95*,', '224/3', 'retired:', 'suarez,', 'leader,', 'misbah,', 'sarfaraz:', 'barca,', 'federations:', \"swift's\", \"down'\", 'yashasvi,', 'rule,', \"important'\", 'upset,', 'robbed:', 'karva', 'chauth;', 'why,', 'selectors,', 'rijiju,', 'united’s', 'dysfunctional:', 'atmosphere:', 'bowl-out', 'wt20', '88th-min', 'salutes,', 'england-bulgaria', 'president:', 'tournaments:', \"watson's\", 'hacked;', 'concern:', 'readmits', 'anger,', 'goals;', 'rosogollas:', 'hampered:', 'attempt,', 'sankat:', 'retired,', 'overnight:', \"spain's\", 'run;', 'medal,', 'ground,', 'stands,', \"'give\", \"roof'\", '42.2-km', '4,738', \"ashwin's\", '4-for', '275,', '326-run', 'leg-spinner,', '140-kmph', 'hundred?', 'watching:', '254*', 'tejinderpal', 'praggnanandhaa', 'boring,', \"player's\", '36/3', '150,', 'left-handers,', '273/3', 'tsitsipas,', 'hafeez:', \"cafu's\", 'half,', '9-run', \"dube's\", 'trial,', 'treated:', 'wins:', \"ex-teammate's\", 'sheoran', 't-shirt:', 'destroyers:', \"executive's\", 'ok:', '75*', 'overflowing,', 'xi:', 'glasses:', \"'puppet\", \"terrorists'\", 'ministry’s', 'karke', \"aaya'\", '8yr', '₹81l', 'skills:', 'kanjak', 'advice,', 'watchman:', 'home-like', 'lucky:', \"murali's\", 'fall-out:', \"traore's\", 'virat:', '132-131', '395,', 'draft,', 'aapse', 'paayega:', 'b*******d:', 'running;', 'london,', 'brugge:', \"kirsten's\", \"milner's\", '95th-min', \"basketball's\", 'hussey,', 'sweets,', 'brahmin:', 'launched,', \"'welder'\", 'dark:', 'knew:', 'call-up,', '385/8', 'line,', '502/7;', '39/3', 'describe:', \"gehlot's\", 'drop,', 'daughters;', \"'kabir\", \"singh'\", 'w**re', 'mediocrity:', 'rain-truncated', '202/0', \"teammate's\", '₹54l', 'watch,', \"drake's\", 'padta:', 'shahzad,', 'marijuana,', 'karachi,', 'pak-sl', 'fraser-pryce', 'ranks:', 'heat,', \"sexy',\", \"'hot'\", '$200mn', \"rock'\", 'cl:', 'fraudulently:', 'wrestlers,', 'worlds,', 'early:', \"villiers'\", 'them,', 'semi:', 'kapil-led', \"medvedev's\", \"inzamam's\", 'sochi,', 'c’ships', 'tabla:', \"'rapping\", \"knuckles'\", \"madhavan's\", \"griezmann's\", '₹926-crore', 'excuses,', 'yogeshwar,', '140-kg', 'malinga-like', 'asfak', '₹17.75-lakh', 'slot:', \"srinivasan's\", 'tnca', 'thing,', 'another:', 'traveller;', 'minds:', 'wrist-spinners:', 'footballer?', 'laga:', 'standard:', 'setback:', \"'tuk-tuk\", \"batting'\", 'much,', 'unfair:', 'cute,', 'unforgettable:', '£627', \"bairstow's\", '52*', \"'funny'\", \"winners'\", 'controlled,', 'fracture,', 'racists:', 'srinivasan’s', \"ferrari's\", 'thunberg,', 'himself;', 'understatement:', 'chick,', 'concentration:', 'balidaan', \"cricketers'\", 'fame,', 'cricket-themed', 'dads;', 'newly-promoted', 'breakthroughs,', 'batsmen:', 'vinesh,', 'dananjaya', 'willow:', \"yuvraj's\", \"praneeth's\", 'russell,', 'dhoni’s', 'accepted:', \"d'ors\", 'hope:', \"dipa's\", \"pogba's\", 'special,', 'neymar’s', 'careless:', \"bananas'\", 'hiv+:', \"'destroyed'\", 'slams:', 'lara,', 'sangakkara:', \"karthik's\", 'apology,', 'england,', 'mistakes:', 'opportunities:', '£1.4', '£1', 'archer:', 'twice:', 'australia-west', 'u-turn,', '5-test', 'fielding?', 'weird:', 'haryana’s', 'lowest-ever', 'joint-most', 'mark:', \"porsche's\", 'bhaiya:', 'row;', 'london:', 'barca:', 'lessons,', 'vice-captaincy,', 'clijsters,', 'nba:', \"'lock\", 'great:', 'reciprocation:', 'thirimanne,', 'dasun', 'shanaka', 'incorrect:', 'onam,', 'scrutiny:', 'giggs:', \"england's\", 'contract:', 'kohli-rohit', 'england:', 'self-immolated', \"casillas'\", '€1', \"kenya's\", 'boycott,', \"may's\", \"'secret\", \"treatment':\", 'concern,', \"'cheater'\", '₹1.5-lakh', \"qadir's\", \"starc's\", 'duck,', \"tkr's\", 'crowd,', \"win'\", 'selection,', \"'bhai\", \"aaja':\", 'hoga:', 'galaxies:', '3/100', 'school,', 'jiyo', 'saal,', \"bhosle's\", 'beat:', 'science:', '2025,', '2-hr', '35-min', 'rohtak-born', \"cheat'\", '49-yr-old', 'srk-owned', 'with:', 'rocket,', 'bale,', 'ambassador,', \"malinga's\", \"'genius'\", 'greats:', \"wakhare's\", '5-for', 'paddle-sweeps', \"crowd's\", 'wouldn’t', 'i’m', 'tall,', 'heels:', 'surfaces;', '3-hr', '12-min', \"stadium's\", 'asaram,', 'shami:', 'hasin', 'iske', 'markande', 'transparent,', 'lack:', 'apart:', \"serena's\", 'lukaku:', 'consistency:', 'badminton:', 'ranking,', 'powerful:', \"'keep\", \"n'golo\", 'romelu', 'terrific:', 'ex-arsenal', \"season'\", 'europe:', 'pl-winner', 'shami;', 'sword:', '468-run', '45/2', \"hadn't\", 'wicket-taker,', 'wi-india', 'pregnancy,', 'warrior,', 'leclerc:', 'matches:', 'jinson', \"bopanna's\", 'education:', \"ham's\", \"zaman's\", '96-yr-old', 'gavaskar,', \"2023's\", '29-ball', 'wicket:', 'deswal', '264/5', 'chand’s', \"wi's\", 'rahkeem', 'ex-spain', \"enrique's\", 'fish?', 'pietersen;', 'effort:', 'bopanna-shapovalov', 'we’ve', 'ashes:', 'pts;', '24-ball', 'negatively:', 'para-shuttler', \"'group\", \"death';\", 'accessible:', 'switch-hit', \"'oh\", \"wow':\", 'frustrated:', \"'fit\", \"movement'\", 'combs,', 'wheels,', 'mendis,', 'is,', '₹80l', 'andhra,', 'gambhir’s', '‘kindergarten’', \"priyanka's\", 'photoshop,', 'afridi:', \"'mystery\", \"woman'\", 'jalaj', 'selector,', 'para-athlete', 'day?', \"wwe's\", 'winner:', \"nagal's\", 'rti:', 'kiren', 'lyon,', \"'no'\", 'boycott:', 'chinglensana', 'champ:', 'roberts,', 'president’s', 'aus?', \"bhatt's\", 'gif,', 'fined,', 'tomorrow?', 'racquets:', '2-hr-29-min', 'outswingers', 'stint:', 'affected:', 'lebron:', 'sindhu’s', 'wi?', 'relationship:', 'sister,', 'stokes:', 'sindhu:', \"line-up's\", 'formidability:', \"utd's\", 'express,', 'i’ve', 'of,', 'messi-less', \"'score\", 'father’s', 'solver,', 'century,', 'gowtham', \"'transparent'\", '134*', '1,200-km', 'tennis,', 'wit:', '93rd-minute', \"valladolid's\", '88th-minute', \"abraham's\", 'goonj', 'upcycle', 'kirsten,', 'nehra;', '5-wkt', \"'detox\", \"ego'\", \"sreesanth's\", 'sick:', 'practical:', \"skipper's\", 'faith:', 'samples:', 'warm-up:', 'rain-curtailed', '203/6', 'sreesanth-amir', '₹30l', \"misbah's\", 'smith:', '2nd-fastest', \"fc's\", \"'chip\", \"in'\", 'pre-quarters', 'saina,', '₹326.8', 'collars?', \"'bomb\", \"explosion'\", 'pace:', 'prannoy', 'lehmann,', 'saighani', 'two-fold:', 'duckhee', 'footballers:', 'marzi:', \"windies'\", 'wcsl', 'pogba:', 'run-out,', 'dev-led', 'coa,', 'mandatory:', 'flying:', 'leh,', 'das,', '2005:', 'moudgil', \"'six-pack'\", 'arsenal,', 'shastri:', 'coach?', 'barcelona’s', 'barefoot,', \"'bring\", '57;', 'nervous:', '₹48l', '2015,', 'lord’s', \"shouldn't:\", 'one-off,', 'leagues:', 'bowl:', \"nascar's\", 'coach-less', 'mountains,', 'mcc’s', \"ombudsman's\", 'deserves:', '72(41)', 'rahane:', 'cars24', 'cwg:', 'pissay', 'hundred:', 'make:', 'music,', 'dancing:', 'run:', 'sign:', 'aryabhatta:', 'cardiff-based', \"athletes'\", \"'weird'\", \"miandad's\", 'cherokee,', '6-foot-6,', 'cornwall,', 'squad?', \"nadeem's\", \"psg's\", \"uefa's\", 'bopanna,', 'australia’s', 'indies-india', 'doubt:', 'contracts,', 'eternity:', 'patience,', 'ex-epl', 'chandimal,', '₹69', \"arthur's\", 'clarity:', \"roy'll\", \"ex-scout's\", \"'unchallenged'\", '6-for,', 'review,', 'satwik', 'a-game:', \"steyn's\", 'ride:', 'indies,', \"'boundary\", \"count'\", 'dances,', 'circus:', \"schumacher's\", '£16.5', 'youngsters:', 'gt20', \"juventus'\", '£29', '2-hour,', '3-set', 'guns,', 'barça:', 'ex-brazil', 'bedi,', 'wicketkeeper:', 'no.4,', 'murray,', 'lalremsiami', 'ex-national', 'lovlina,', 'umakhanov', 'satwik,', 'ex-boxing', '18-yr', \"'arise,\", 'ex-team', 'emotional:', 'muralitharan’s', 'kohli’s', 'respected:', 'farhart', 'he’s', \"tpl's\", 'sairaj,', 'anymore:', 'hall,', 'nomination,', 'sandpapers', 'setback,', 'shaw’s', 'karega:', 'amir’s', \"'lame\", \"duck'\", 'tie?', 'let’s', 'coco,', 'shooters,', 'shastri,', 'powers:', '81-test', 'championship:', 'yuvi', '26-ball', '#ripactorvijay', 'committee,', \"'inspirational\", \"partner'\", 'issue,', 'minaur', \"country'\", 'weaknesses:', '40-ball', \"jayawardene-sangakkara's\", '624-run', 'kumble-led', 'been:', 'chand,', 'ex-australian', \"ioa's\", 'boos:', 'neymar-less', 'wicket-keeper:', 'hamilton,', \"pl's\", 'match-winner:', \"dharmasena's\", 'painkillers:', 'kidding:', \"carey's\", 'slander:', \"amir's\", 'surprising,', 'bidhuri', 'knifepoint:', 'million-a-week', 'suning:', '‘substandard’', 'langeveldt,', 'fraternity:', 'performance,', 'charge,', 'squad;', 'uniform:', 'protection,', 'winner,', 'vice-captain,', 'sacrifices:', 'post-lionel', 'momota', 'happier:', 'simranjit', \"ireland's\", \"'filth'\", 'football,', \"bailly's\", \"trouble'\", 'hot:', \"shower'\", 'ring,', 'bowled,', \"phelps'\", 'affairs,', 'league?', 'treasure:', 'quarters;', 'chess,', \"prasad's\", 'explanation:', 'rankings,', 'ireland:', 'questioned,', 'airport:', 'narine,', '200m,', '1,500m', 'eng’s', 'plays:', 'roy,', 'ex-barcelona', 'bayern:', 'announcement,', \"'nachde\", \"saare'\", 'action,', 'fascinating:', 'hiding:', \"dadagiri?'\", 'moon:', 'indies:', \"adviser'\", 'i’ll', 'really,', 'harmeet,', 'ayhika', 'perform,', 'defeats:', 'turn:', 'army,', 'sprinting,', 'shining:', 'chahar,', '1999-born', 'approved:', 'athletes:', 'stars:', 'hussey:', 'chahars', 'move:', 'shubhankar', 'timely:', \"rayudu's\", \"'3d'\", 'sport,', 'front-foot', 'lafc', 'wicketkeepers,', \"argentina's\", 'shock:', '‘limited', 'drs’', 'cricketers:', 'icc?', 'champion’s', 'jobs?', '96-year-old', '42-min', \"zimbabwe's\", 'okuhara', 'gupta,', 'grandmaster?', 'axar', \"there'd\", 'bout,', 'statistics:', 'quarters,', 'keeper:', '#sareetwitter', 'ligt', 'kumble?', 'front:', 'shooting’s', \"'bottle\", 'copa:', 'boundaries?', '2032:', \"iaaf's\", 'gahlot', 'shared:', 'boundaries:', 'tie:', 'remarkable:', \"cousin's\", 'happiness:', 'resurface,', '80-yr-old', 'two,', '₹72', \"'luck'\", 'ali,', 'wc?', \"'greatest'\", 'f**king', 'verstappen,', \"mercedes'\", 'england’s', 'unbeaten,', 'belief:', 'dog:', 'rivaba', 'gambhir,', 'finals?', 'zealand?', 'maxwell,', '6-for', 'pardeep', 'gold;', \"usa's\", 'cabal-farah', 'ex-wwe', 'wrestler,', \"sehwag's\", '₹4.5cr', 'sathiyan,', 'amalraj', 'greatest:', 'rayudu,', '#bottlecapchallenge', 'run-scorers,', 'formats,', \"'foretelling'\", \"embarrassing',\", '₹926', \"'robot\", \"umpires'\", 'a:', 'overall:', 'dharmasena,', 'liverpool’s', '‘biggest’:', \"mcgrath's\", 'ipl-style', 'semi-finals?', 'pieces,', \"farhart's\", \"strong'\", 'brilliance:', \"guptill's\", \"balochistan'\", 'aus-eng', 'unique:', '250-run', \"'sarcastic'\", 'hearts:', \"'top-class\", 'performer’', \"jamaica's\", 'spoilt,', 'smarter:', 'peak;', '29-day-old', '13,729', '6.4l', 'normalcy:', \"destruction'\", 'shirtless,', 'bed:', \"'wuhan\", \"americas':\", 'rescued:', 'lab,', 'worldwide,', 'bombers,', \"'elephant\", \"walk';\", 'social-distancing', 'rail,', 'facilities:', '99-yr-old', '₹61.45', \"'disinformation'\", 'exceptions:', 'infected:', 'sounds:', 'resources:', 'selfish:', '₹65,000', \"'fake\", \"news'\", 'accountguard', '99-year-old', \"myanmar's\", \"'battle\", \"won'\", 'belarus:', '12,107', \"'sleepwalking'\", 'disaster:', 'worst-surge', '20,000,', 'wh:', 'ex-rival', \"'ridiculous':\", 'sea:', \"'ghosts'\", \"kim's\", \"'rice\", \"atm'\", 'crashes;', 'instructor,', 'anti-epidemic', 'rwanda,', 'uganda,', '4,357,', \"rahman's\", 'evict,', 'resurgence:', 'creative:', '1,000%', \"incidents'\", 'operation:', '₹1.30l', 'poverty:', '107-yr-old', 'saudi-led', \"'blank\", \"cheque'\", '4,000,', 'lakh;', '87,320', 'all,', 'colour-blind:', \"'china-centric'\", 'damn:', 'threats,', 'marriages,', \"europe's\", 'lewinsky’s', \"iraq's\", 'pm-designate', 'most-affected', '17,669', \"'accomplice'\", 'ex-nsa', 'rotation,', 'b’desh', 'us’', 'domination:', \"china-centric',\", \"'blew\", 'kennedy’s', 'assistance:', 'gaming-addiction', 'ex-vatican', 'offences,', \"bullet'\", 'bride,', '17;', '16,523', 'bunny,', 'idiot:', 'baton-charge', 'founding:', \"'fruitless'\", \"you'd\", 'like:', 'helicopter,', 'fixed:', 'we’re', 'registered:', 'starmer,', 'party?', '50/day', \"'end\", \"spread'\", 'id:', \"'robocop'\", '7,472', '14,681', 'conflict:', 'inaccurate;', 'reputation:', \"organization':\", 'purpose,', 'imagined:', 'pakistan;', 'eruption,', 'distancing:', 're-arrests', '5,00,000:', \"hungary's\", 'sad,', \"israel's\", '6-week-old', 'climate:', 'die:', '13,155', 'italy;', '16,847', 'cop26', '1l-2.4l', 'netherlands:', '112-yr-old', 'shopping,', 'fao,', 'wto,', 'myanmar’s', 'app:', '12,428', 'flaw:', '40,000;', '\\u200bhave', 'horror:', 'pyramid,', '11,591', 'taiwan’s', 'wwii,', '$250m', 'distancing,', '3,000,', '1,64,000', 'weeks;', '12,298', \"patients'\", 'eased:', 'charles,', '812,', '85,195', \"job':\", \"trudeau's\", '108-yr-old', 'flu,', '2,640,', 'self-treatment', \"maldives'\", '97,689;', '10,779', 'harry,', \"vatican's\", 'america:', \"alive'\", \"'shook\", 'sorry,', \"peter's\", 'square,', 'afraid:', 'biggest-one', '₹75,', '2,50,000:', \"'intentionally'\", 'coronavirus-imposed', 'detail:', 'eu’s', 'open-border', \"austria's\", 'february:', \"sided'\", \"corona's\", 'shrine,', '5,00,000', 'ex-fbi', 'statement;', 'murders,', \"'want\", \"malhotra'\", \"baghdad's\", 'hubei,', 'outbreak,', 'advisories,', 'mali,', 'york:', 'microsoft,', 'contagion,', 'corner:', \"finland's\", 'ahtisaari,', 'prize,', 'senate,', 'suit,', '4,00,000', \"higher'\", 'islands;', \"'hysteria'\", 'babur-ii', 'self-medicating', 'china?', 'flame-throwers:', 'community:', 'instruction,', \"'designing'\", 'govts,', 'doctor;', 'ford,', '15,000;', '800,', 'ex-scottish', \"cia's\", 'spain,', \"'kids\", \"coronavirus'\", 'closures:', 'helicopters,', 'dec:', 'kanikas:', \"'paying\", \"price'\", '144:', 'contact-tracing', \"'chinese'\", 'paper,', 'gabbard,', 'cyber-monitoring', 'nicaragua,', 'salvador,', \"'idiots'\", \"qatar's\", 'ex-nurses,', 'window,', 'illness:', \"'wartime\", \"prez',\", \"verily's\", 'dies:', '103-year-old', '2.6l', 'baahubali', 'pub,', 'clock:', 'anti-flu', \"effective'\", 'rush,', 'anyway:', 'daily,', 'self-isolating', '₹1.40', 'climates:', \"'specially\", \"terrorist'\", 'coronavirus-affected', 'alzurfi', 'minister-designate', '7,000;', '1,80,000-mark', '$323', '1mdb', 'coalition,', \"alphabet's\", 'origins:', \"norway's\", '724,', '13,938', '₹41,800', 'buildings:', '1,50,000;', 'ex-property', 'missing:', \"'diagnosis'\", '$0', 'leave:', 'washbasins', 'handshake,', 'worldwide?', \"'stranger\", \"things'\", 'math:', '₹46', 'outbreak;', 'bans,', \"nature'\", \"manning's\", 'wuhan,', \"'controllable\", \"pandemic':\", 'russian-european', '₹1.65', 'airpod', 'try-ons', \"'right-to-be-forgotten'\", \"repair'\", 'goods:', 'nazis:', \"greece's\", 'europe,', '$25', 'museums,', 'professionals:', 'riders,', '$1mn', '291,', '$133,000', 'ceremony;', 'cruz,', 'anti-coronavirus', 'stabbing:', \"sudan's\", 'hamdok', '87-yr-old', 'air-conditioning,', 'caged:', \"appearance'\", \"'spread\", \"virus':\", \"'manipulated\", 'ship:', '89-yr-old', \"other's\", 'full,', '100;', \"king's\", 'coup:', \"'freedom\", \"palestine'\", '$8.3', \"'smart\", '2,000-year-old', \"bloomberg's\", '$500-mn', 'closed:', 'tunisia,', '+ve:', 'anxieties:', 'hinduphobia', '83-yr-old', 'ex-italy', \"newton's\", '1st-edition', 'mecca,', 'indian-orgin', 'co-creates', 'visitors,', \"bethlehem's\", 'ex-wife:', 'pets:', '3.4%', '2%:', \"'weak\", \"positive'\", \"'human-to-animal'\", \"obama's\", 'provinces:', '3,280,', \"undp's\", \"'sound\", \"roche's\", 'rate,', 'flu:', 'bloomberg,', 'campaign,', '₹16,600', \"equipments'\", 'aliexpress', 'honcharuk', \"citizens'\", \"'organ\", \"radicalisation'\", 'ex-worker', 'shove,', 'parliament,', 'bases,', 'countries;', \"merkel's\", 'measures:', 'doctor,', 'laden,', 'ex-guard', 'mall,', 'laws:', 'syria:', \"diljit's\", \"mahal'\", 'kisses:', 'fomites;', 'say?', 'assaulted;', \"aamir's\", \"'critical\", \"moment'\", \"'vicious\", \"campaign'\", 'bibi,', 'blasphemy,', \"jong-un's\", \"'serious\", \"high',\", \"'wake\", 'ex-ambassador', '360-yr-old', '169-yr-old', '$89', \"'corrosive':\", \"'low\", \"level'\", 'crop-eating', 'disneyland,', \"britain's\", '112-year-old', 'chitetsu', 'chechnya:', 'popularity:', 'kicking,', 'harry:', '₹91,000', 'twice,', 'pads,', \"today':\", \"egypt's\", 'mubarak,', 'dongre', 'watanabe,', 'infectee', 'perfect:', 'reporter,', \"'strong\", \"sperm'\", 'pools:', 'mahathir,', 'carnival,', 'caricatures,', '4;', 'bahrain,', 'syria,', \"'sugar\", \"candy'\", 'california,', \"'parasite'\", 'oscar,', \"'baahubali'\", 'king:', 'brexit,', \"'cybertorture'\", 'french-nigerian', \"america':\", \"'parasite':\", \"'cheats\", \"golf'\", '₹428', 'stone,', \"'shubh\", \"zyada...'\", 'content:', 'cities:', '₹70k', 'evacuees,', 'smart;', 'anti-trump', 'activist:', 'wijohn', 'truck:', \"reporters'\", \"'child\", \"index'\", 'emission:', \"'military\", \"time',\", '₹12k', 'month?', 'leak:', '₹121', 'neighbour:', 'separatism:', 'mh370', \"'murder-suicide'\", 'pilot:', 'him?:', \"fatf's\", \"'grey\", \"list'\", 'financing:', \"'laughing\", '9-hr', \"asia'\", \"'current\", \"wife'\", 'korea:', '₹26k', 'blacklist,', 'prison:', 'mild:', 'cruise:', 'sars,', 'coronaviruses:', \"'martyrs'\", 'viral;', 'beards,', 'azhar,', 'groped,', 'slapped,', '₹17.8', \"emperor's\", '₹53.8', '9,419', 'china;', 'infectees', 'panic-buying', \"soldiers'\", 'oscar?', \"now',\", \"'old\", 'iraq,', \"burundi's\", 'hormuz:', '3,000-year-old', \"'oldest\", \"patient'\", 'brazilian:', 'sunak,', '39-yr-old', \"saeed's\", '₹44l', 'russia:', 'island:', \"malta's\", \"'just\", \"leave',\", 'netherlands,', 'cheese:', 'kill,', 'does:', 'top-secrets', 'coconuts,', 'rainwater:', 'ourselves:', \"'covid-19'\", \"york's\", 'ex-n', 'isis:', \"scotland's\", 'doorknobs,', \"'heat\", \"salvador's\", \"threat'\", 'oscars,', 'fire;', \"syndrome',\", 'iceberg:', \"pelosi's\", 'live-streams', 'soldier,', 'live-streamed', \"'air\", \"hug'\", 'photoshopped:', 'decline;', '57%', 'sextortion:', \"'novel\", \"pneumonia'\", 'temporarily:', \"'almost\", \"hit'\", 'romney,', 'prez?', \"fast'\", 'meghan:', \"'apoplectic'\", 'murdered,', 'hyping-up', 'over-reacted', \"'western'\", 'al-raymi', 'yemen:', '24,589,', \"tencent's\", \"'trump\", \"4eva'\", 'mins,', \"nagarjuna's\", \"'wild\", \"dog'\", 'acts:', \"ex-pm's\", 'absence:', \"'weapon'\", \"tax'\", \"romania's\", \"'deal\", \"century'\", '$675', \"simpsons'\", 'ex-uk', 'toilet:', '₹437', 'libya:', 'union:', \"riddance'\", 'exist:', 'speaker,', 'anthem,', \"hunters'\", 'ex-ruler', 'mid-flight,', 'candidate,', '₹1.58', \"bonus'\", \"mexico's\", \"yemen's\", 'ex-passenger', 'gym,', \"khashoggi's\", \"'uncomfortable\", 're-wears', \"bafta's\", 'launch:', 'unmet:', '2,85,980', '2015-19:', 'i-day', 'scum:', \"men':\", \"'stalked'\", 'satellite:', 'israel,', 'nigeria,', 'zombie,', 'butthole:', \"travel'\", 'confidence,', 'winds,', 'bras,', \"'racist'\", \"syria's\", 'turkey:', \"thirty'\", \"diapers'\", \"1-yr-old's\", 'us;', \"'supreme\", \"leader'\", 'us-israeli', 'secrets,', 'published:', \"'hoor'\", 'injection:', 'accident,', \"all's\", \"soleimani's\", \"'1st\", \"recreate'\", 'lab-version', 'f***', \"'any\", \"help'\", 'election,', 'nazi-style', 'devil,', \"'impeach\", \"this'\", 'baghdad,', 'scientists,', 'aunt,', 'devastating:', \"ambassador's\", \"'pro-russian'\", 'vaccine,', 'taliban,', \"gulf'\", 'ex-softbank', 'thanks:', 'unveiled,', 'turkey;', 'vietnam;', \"'couldn't\", \"bothered'\", 'greta,', '₹3-crore', 'germany;', \"'emergency'\", 'join,', 'pak-based', \"'efforts\", \"transparency'\", 'post-brexit', 'fire-causing', \"'outlet\", 'tiktok;', 're-elected:', 'spinners,', 'link;', \"'gul\", \"makai'\", 'putin:', 'ex-defence', 'honeymoon,', 'privately:', 'midnight,', \"climate',\", 'herat:', 'disastrous:', 'americans:', 'sakellaropoulou', \"'spy'\", 'cpec', 'contracts:', \"'correct'\", 'kosovo,', 'lahore;', 'ex-interpol', \"venezuela's\", \"'major\", \"renewal':\", 'sanders,', 'baghdad;', 'al-mawli', 'al-salbi', \"building's\", 'nations,', \"'won't\", \"bin'\", 'australia;', \"'propaganda'\", 'clubs,', \"meghan's\", 'ex-cops', 'sadness:', 'golf-ball', 'upgrade,', \"jinping's\", \"'mr\", \"s**thole',\", \"'similar\", \"east'\", \"'starving'\", 'live...30', 'secs...boom:', 'iran-backed', \"'his\", \"highness'\", '₹28k', \"'your\", \"approved'\", '#seducesomeoneinfourwords,', '₹13l', '250-kg', \"'jabba\", \"jihadi'\", 'greenpeace,', 'insurance;', 'drops;', '2030,', 'obama-promoted', 'koreans,', \"musharraf's\", '19,959', \"general's\", \"'sacrifice':\", \"candidate's\", \"chapo's\", \"'el\", \"chapo'\", \"military's\", 'articles?', 'putin,', 'trump;', 'astronauts:', '25-yr', 'positions:', 'language;', 'show,', 'pompeo,', 'bedfellows?', 'missiles:', 'mishustin,', 'putin?', 'dialogue,', \"deal'\", 'd-minus:', 'phone:', 'skin,', 'spread,', 'canada:', 'earth:', '38k', 'spying:', \"taiwan's\", 'europeans,', 'chinese,', 'drought-hit', \"'megablaze'\", 'musharraf,', \"'some'\", 'sars-like', 'tehran,', 'foes:', 'william,', 'statement,', \"'bullying'\", '100ft', \"taste'\", \"'endangered'\", 'tensions:', '93-year-old', 'seatbelt,', \"oman's\", 'mourning?', 'taiwan:', \"tsai's\", 'sky,', \"fly'\", \"'aggressively\", \"approached'\", \"'unintentionally'\", 'people?', '1970,', 'destroyer,', 'queen,', \"'divine\", \"intervention',\", 'waller-bridge', 'ing-wen', \"'iranian\", \"missile'\", \"anchor's\", 'retaliated:', 'meghan,', \"27-yr-old's\", \"chest'\", 'kings:', 'tragedy:', 'harmed:', 'crashed:', 'independent:', 'killing:', 'bite:', '2016,', 'answers:', 'restraint:', \"'american\", 're-election:', 'iranians,', 'surfaces,', 'boeing:', 'qaani,', 'death?', \"'mandatory\", \"evacuation'\", 'kuwait:', \"'terrorists'\", \"'number\", 'dinner,', 'novel,', '-1°c', 'eu:', '₹576', \"humanity'\", '290:', \"sites'\", 'killing?', 'soleimani’s', \"'terrorist\", \"suit',\", \"'force'\", 'friend:', 'al-qaeda-linked', 'heritage:', 'soleimani:', 'warning:', \"'pansexual'\", 'general,', \"'death\", \"america'\", 'sites?', \"'serious'\", 'cyberattack,', 'general:', 'tongue,', \"'please\", \"hackers'\", 'muhandis,', 'strike?', '₹91', 'provocations:', \"commander's\", \"decision':\", \"'flag\", \"revenge'\", 'iranian,', \"'you'll\", 'adventurism:', 'diplomats:', 'anti-isis', 'qaani', 'soleimani,', \"'idiot',\", \"'piss\", \"off'\", \"weinstein's\", \"'anti-robocall'\", 'law?', \"'autopilot'\", 'weather?', 'airspace,', '19-month-old', \"'marree\", \"man'\", 'logical,', 'prez:', \"word':\", \"weapon':\", 'happening:', 'kuhad', \"kennedy's\", \"'bloody'\", \"'sexting'\", \"'quilt'\", 'cardboards', 'pervert:', 'ex-vp', '₹6.7', 'sadness,', 'rage:', 'gene-edited', \"oldest'\", 'tanzania:', 'bomb:', 'live-streaming', \"protester's\", \"'custody\", \"education'\", \"'positive\", \"offensive'\", '2;', '#2019in5words', \"fire'\", 'warship,', 'minnie,', 'movie:', 'bodies,', \"baghdadi's\", \"'holland'\", \"rabbi's\", \"'insulting\", \"king'\", 'barrier;', 'egg-standing', \"'ring-of-fire'\", \"marx's\", '57-year-long', 'stage,', 'phanfone', \"'decade\", \"review'\", \"teenager'\", 'idlib:', 'senators,', 'un-recognised', 'air,', \"'merry\", \"christmas'\", '₹190', 'pregnant:', \"'christmas\", 'bathroom,', 'terrorists,', 'su-57', 'cyber,', 'us-n', 'vase:', \"'goznym'\", '₹711', \"'grave\", \"mistake':\", 'wind:', 'dass,', '1960s,', 'shootings:', \"'positive'\", 'bomb-detecting', 'egypt,', 'zelenskyy:', 'govt-issued', \"gangster's\", '$738-billion', \"'pay\", \"dearly'\", 'criticism:', 'mexico;', 'ex-white', \"biden's\", 'prison;', \"model's\", \"'scar\", \"bethlehem'\", 'christmas,', 'minors:', \"'anthem'\", \"'loudspeaker\", \"bullying'\", 'car-crash', \"'drag\", \"body'\", '15-yr', \"9-year-old's\", 'intact:', \"'immediate'\", \"up':\", 'uk-us', \"assange's\", 'extradition:', \"'precautionary\", \"measure'\", 'us?', \"'p***y-grab'\", 'bragger', 'impeached,', 'kids:', \"luther's\", '41.9°c,', 'wedding-crashers', 'leave,', 'groom:', 'impeached?', 'tyre;', 'trump?', \"snowden's\", \"record's\", \"'conversion\", \"therapies'\", 'pak-lovers', \"'utterly\", '40.9℃', 'musharraf:', \"'pontifical\", \"secrecy'\", 'ex-rebel', 'found:', 'ex-malaysian', 'ex-bodyguard', '$30,000', 'ex-pakistan', 'gay;', \"'sales\", \"girl'\", \"complex'\", 'threats:', \"dictator's\", 'hostage:', 'praises,', \"'to\", \"dirt':\", \"'hostile\", 'invigilator', \"'put\", \"wall'\", 'uncrewed', 'will:', \"'crucial\", \"test'\", 'social,', 'indices:', 'manure,', 'linkedin;', '₹47', \"murdoch's\", '11-bedroom', '$88,000,', 'bathroom;', \"unesco's\", '₹860', 'ifs,', 'buts,', 'maybes:', 'johnson-led', \"'marketing\", \"gimmick':\", 'sikhs,', 'chill:', \"'penis\", \"fish'\", \"'chill'\", \"forbes'\", 'carrier,', 'dilyn', \"lawyers'\", 'airline,', 'election?', 'bougainville,', \"'brat';\", \"cosby's\", 'volatile,', 'eruption:', 'gunmen,', 'sarajevo:', 'bad:', 'abused,', 'advice:', \"reporter's\", 'marin,', 'pm?', 'chile;', \"'epstein\", \"himself'\", '₹85', 'killers,', \"sweden's\", 'ex-diplomat', \"sydney's\", \"'chernobyl':\", \"'love\", \"actually'\", 'computers:', 'erupts;', 'erupted;', \"'ice\", \"'budget\", \"resistance'\", \"'graduated':\", \"'heedless\", \"'largest'\", '100yrs', 'drill,', 'pavement:', 'mexico,', \"'evil\", \"corp'\", '$100m', \"'important\", 'site:', 'ex-deputy', \"'menstruation\", \"hut'\", 'lion,', 'strip-searched', 'fast:', \"'damn\", \"liar'\", \"'fat'\", \"netanyahu's\", \"flights'\", 'unrest:', \"'branded\", \"paedophile'\", 'nigeria:', '$185,000', 'russia-finland', 'border;', 'base,', 'head;', 'girls,', \"'two-faced':\", 'factory:', 'mumbai’s', \"'angry\", \"kids':\", 'agency,', \"capable':\", 'cybertrucks,', 'paedophile:', '9-month-old', \"newspaper's\", 'bedrooms,', 'summit;', \"'brain\", \"dead':\", 'samjiyon,', \"'epitome\", \"civilisation'\", \"'pedo'\", 'biscuits,', 'wants:', 'smartphones,', 'king,', 'bags;', 'pakistanis,', 'malaysia;', \"'highly\", \"contagious'\", \"orgasm'\", 'demeaning:', 'cook,', 'stop:', '3,000-km', \"mahdi's\", '$146', 'vietnam:', 'forest:', \"'ae\", 'hamko', \"kasam';\", \"'rapist'\", 'patients;', \"'ugly\", \"sweater'\", 'slip;', 'japan’s', \"hurry'\", 'dead?:', \"jesus'\", 'reproach,', 'bridge;', \"tiktok's\", 'debate,', \"'messy\", \"handwriting'\", 'election:', 'pak-origin', 'japan;', \"'thanksgiving'\", 'russia;', 'posts,', '12th:', \"sylvester's\", \"forgotten'\", 'broadcast;', 'indictment:', 'tuned:', \"'retro'\", 'family-sponsored', 'card:', 'projectiles:', \"'havana'\", \"kate's\", 'choked,', 'night;', 'printer,', '₹1.85', 'guinea,', 'doc:', 'surgery;', \"bajwa's\", 'troops,', 'thai-cave', 'assaulted,', 'apologise:', 'conan,', '82-yr-old', 'interests:', \"bn'\", 'bytedance-owned', 'farmers:', 'captive,', 'romania;', 'angels:', '40-ft', \"'win'\", \"'secret'\", 'mk-45', 'summit:', 'inequalities:', 'cabinet;', 'anti-meth', \"'meth.\", \"it';\", '120-yr-old', \"thunberg's\", \"'n-word'\", 'abuses,', 'scandal:', 'bushfire;', 'about:', 'sewers,', 'dutch-uk', \"'bear'\", 'trump-appointed', 'charcoaled', 'chain-smoker;', 'incidents:', 'arrows,', \"'rabid\", \"'strongly\", \"consider'\", \"'toll\", \"health':\", 'ex-intelligence', 'jaipur-muscat', 's-400s', 'aside:', 'plan,', \"'yellow\", \"vest'\", 'mysterious,', 'forest;', 'illegally:', 'stand:', '₹57,300', 'xinjiang:', 'sunrise:', 'satellite;', 'trillion:', \"'must\", 'london;', 'jews:', 'syria;', 'citizen:', 'mh17', 'touch:', \"'2nd-rate\", 'anez', 'killed:', 'angeles:', 'mujahideen,', 'hero:', 'd**k', 'vice:', 'relations:', \"fool'\", 'clerk,', \"crowe's\", \"'azadi\", 'drought:', 'kurds:', 'sahib,', 'you?', 'really?:', 'jews,', \"'revenge\", \"society';\", 'añez', \"anger';\", '69,550', 'venezuela:', 'national,', 'procedure:', \"teen's\", \"'mistake';\", \"'catastrophic'\", 'feminism,', 'american,', 'classroom,', 'soldiers:', \"'terrorism'\", \"london's\", 'nato:', 'corridor;', '#ayodhyaverdict', 'car-tracking', 'asia,', \"lover's\", \"'actively'\", 'ex-beauty', \"wall's\", 'succession:', 'ukraine,', \"mayor's\", 'gurudwara,', \"'inner\", \"workings'\", \"'tourism\", \"force'\", \"meyers'\", \"death':\", 'enrichment:', 'kurdish-led', 'sdf:', \"chan's\", 'backlash:', 'kurds,', 'cracks:', 'ex-twitter', '$9.5', 'kartarpur,', 'boundary:', 'chennai-colombo', \"'idiot'\", 'ex-isis', 'mexicans,', \"jordan's\", \"'latte\", \"levy'\", 'fur:', \"heroes'\", 'khalistani', 'ex-un', \"'reliable'\", \"'ulterior\", \"motive'\", 'corridor:', 'mid-november:', 'beirut,', 'saudi-brokered', \"lawmakers's\", \"'leader\", \"'sovereign\", \"'coal\", \"addiction':\", 'pilgrims:', 'soldiers,', 'gratitude:', 'blast:', 'affair:', 'sustainable:', 'bhavan?', \"'sawasdee\", 'passport;', 'kartarpur:', 'apec,', 'cop25', 'ny:', 'korea;', \"'conscientious\", \"disciplined'\", 'hotline,', '5yrs', \"isis'\", \"'crazy\", \"man',\", \"al-baghdadi's\", 'let,', 'jem:', 'blast;', \"envoy's\", '₹37', 'porn,', 'properly,', 'charity:', 'reward:', \"'backpacker\", '12;', \"sharif's\", 'capture,', 'americans,', 'lake,', 'domain:', 'neighbourhood:', 'refining,', 'unwell,', 'malinois,', 'baghdadi?', \"president'\", \"'tall,\", \"handsome'\", \"'secretive'\", '780-day', \"guy':\", 'crueler:', 'is-killed', 'skulls,', 'bones,', \"'austere\", \"scholar'\", 'surrender,', 'tunnel:', 'baghdadi:', 'deadline,', 'rites:', 'raid,', 'ex-miss', 'capture:', \"'extensive\", \"cheating'\", 'this,', 'pissed:', 'tunnel,', \"'severely\", \"punish'\", 'smugglers:', 'nyt,', 'subscriptions:', \"'special'\", 'acchaa', 'tyohaar:', 'star,', \"actions'\", 'ex-dictator', 'turkey-syria', 'go-jek', 'anti-pakistan', 'decriminalises', 'throne,', 'norway;', \"shark'\", 'toddler;', 'russian,', 'carter,', '95,', '‘lynching’', 'intra-afghan', 'titles,', \"'disloyalty'\", \"'chief\", \"obstacle'\", \"'fully\", 'town:', \"'joke'\", \"turkey's\", 'offensive:', 'pads:', 'mexico?', 'misunderstanding:', 'jungle,', 'sweat:', \"women'\", \"'grooming'\", \"'die-in'\", 'implemented:', 'turkey-kurds', 'argentina;', 'hog-tied', 'bhutan;', \"actor's\", 'son;', 'aggression:', 'mosque;', '9/11-inspired', 'france:', \"speaker's\", \"'meltdown',\", 'bin:', 'cummings,', 'britain,', 'age-verification', 'index;', 'fool:', \"operation'\", 'taxi,', \"xi's\", \"prisoners'\", 'saeed:', 'isis-affiliated', 'conviction:', 'abiy', '₹29', 'veshti', 'chopper,', \"tibet'\", 'manchester,', 'ahmed,', 'prize?', 'op:', \"ex-wife's\", 'presence:', 'civilians:', \"orwell's\", \"'1984'\", 'tokarczuk,', 'meet?', \"rajnath's\", \"'shastra\", 'syria?', \"beatles'\", \"al-qaeda's\", 'building,', \"'haram':\", '31-yr-old', 'amazon-owned', '₹6-crore', 'blackmail:', \"'south\", \"park'\", \"'band\", \"china'\", 'f*ck*ng', 'premise:', 'little,', 'murders?', 'oversleeping;', 'food;', 'ex-friend', \"diplomat's\", 'militants:', 'dancers,', 'angeles;', \"'obliterate'\", 'programme:', '1970-2005:', '€4', 'candidate:', 'normal:', \"'all-out\", \"war'\", '78-yr-old', \"'behaviour\", 'missile-attack', \"'mean\", \"'dead'\", 'fuel;', 'remarks:', \"nizam's\", '£35', 'pak?', 'onion:', 'crying:', 'turban,', 'canadian:', \"'vain',\", \"'snake-protected'\", 'representatives,', 'ex-vice', 'brother:', 'prince,', \"modi':\", \"'convinced\", \"powers'\", 'snakes:', 'netanyahu?', 'plants:', '35.5%', \"'coup'\", 'inauguration:', 'size:', 'hyphenating', '1999;', \"factory'\", '60-foot-high', 'rouhani:', 'ex-french', 'trump-putin', '19,', 'businesswoman:', \"'troll\", \"terroristan'\", \"store's\", \"hot';\", 'display:', 'sacrifice:', 'meddling:', 'pro-hk', 'suspension:', \"reply'\", \"imran's\", 'statesmanship:', \"'cold-blooded\", \"manner'\", 'laden:', 'china-pak', 'poongundranar', 'cartoonists:', 'address;', \"'president\", '3%:', 'affiliation:', 'brownface', 'putin-trump', 'wilson,', 'invasion,', 'buddha,', 'yudh:', 'cooperation:', 'anti-pak', 'ccit', 'visas,', \"star's\", 'british-flagged', 'joke:', 'shipping:', 'murder:', \"'basic\", \"needs'\", 'countries,', 'member,', 'transporters:', 'crime,', 'transcript:', 'earthquake,', '‘global', 'award’', 'move,', 'explain:', 'pm-trump', 'reporters,', \"'alternative\", \"prize'\", 'marry,', \"'game\", \"thrones'\", 'stage:', '37;', \"'favour'\", 'biden,', 'returns:', '$17.5', 'blunders:', 'unlawful:', 'together,', \"'hope\", 'fairly:', \"'cuban\", \"puppet':\", \"'iran's\", \"bloodlust':\", \"potential':\", 'un;', 'india-usa', 'uk-flagged', 'completed:', 'sarkar:', \"modi?'\", \"'everything\", \"pmo's\", \"kid's\", '1971:', '9/11,', \"prince's\", 'control,', 'penises,', \"'making\", \"efforts,'\", 'unga:', \"iranians'\", \"'see\", \"aliens'\", \"battlefield':\", 'ex-fukushima', 'castle,', '₹16-crore', 'makeup:', \"tunisia's\", 'spring,', 'ukraine:', '$160', \"'act\", '$229', \"'education\", \"award'\", \"'jana\", \"mana'\", 'kashmiris:', 'hot,', 'bangladeshis:', \"fun',\", 'wallet,', 'finland,', 'moon,', 'lifted:', 'face-off,', 'skirmish:', 'us-designated', \"'horny'\", 'book,', 'philippines,', \"ghani's\", 'delighted:', 'naik:', '76-yr-old', '356-m', \"'locked\", \"loaded'\", \"laden's\", \"'break\", \"pieces'\", \"regiment's\", 'cross,', '₹9-crore', \"'america'\", '11oz', 'gandhi’s', 'hulk,', 'ex-zimbabwe', \"mugabe's\", 'narratives:', '₹64', \"'tank\", 'depressed:', 'possibility:', 'trip,', \"'workplace\", \"accident'\", 'ex-european', 'pak;', 'followed:', 'jamaat-ud-dawa', 'mainstream:', 'habibie,', \"'concerned'\", \"'isis-infested\", \"island';\", 'sc-monitored', \"'moonwalk'\", 'pothole-ridden', 'taliban-afghan', \"me':\", 'super-large', 'tehrik-e', 'india-led', \"j&k'\", 'ex-mla', \"attempt'\", 'pacific:', 'kremlin,', 'pro-putin', 'advancement:', 'soft-land', \"'bold':\", 'ex-nasa', \"'secretly'\", 'azhar:', \"town';\", '9/11:', 'hopes:', 'gulf,', '56%:', 'homes;', 'destination,', \"'liberate'\", 'summit,', 'dorian,', 'ex-campaign', \"'truly\", \"ugly';\", '6-day-old', 'hostage-taker', \"colleague's\", 'mexico:', 'g7-style', \"letters'\", 'saeed,', 'kolhi', \"'dasvidaniya'\", \"'aavjo',\", 'osama:', 'balochistan:', \"'letterboxes'\", 'crimes:', 'lawful:', 'maldives:', 'chemistry:', 'meet;', \"consulate's\", '125-250gm:', 'jadhav:', \"sanders'\", 'manager:', '7:', \"'stop\", \"nagging',\", \"poland's\", 'photo-ops', '1/ltr', 'minutes;', \"'massive'\", 'patrols,', '‘automatic', 'asylum’', 'terror-free', \"'confrontation'\", 'failure;', 'pakistani-origin', 'disappearing:', 'boris:', 'lebanon:', 'statue,', 'pad:', 'friends;', 'abducted,', 'land-clearing', 'worldskills', \"'ghaznavi'\", '290km', 'gorilla,', 'muzaffarabad:', \"pakistan's,\", \"friends'\", \"'werewolf\", \"syndrome'\", 'hk:', 'govt-in-exile', 'british-iranian', 'public-funded', \"'gotten\", \"know'\", \"'rude'\", '₹143', 'insults:', \"'virgin'\", 'defences:', 'gilgit-baltistan,', 'territory:', 'c$15', 'mn,', 'treasured:', 'fire?', 'member?', \"'killer\", \"drones':\", 'spain;', \"'facial\", \"towers'\", \"'order\", \"zayed'\", '(india)', '(france):', 'diplomacy:', 'prostitution:', 'greenland:', 'trump-kim', '48-km-long', 'shopping:', 'grief:', \"'enhanced\", \"blacklist'\", 'bilaterally:', 'kashmir;', 'upskirt', 'moves:', 'mlas;', \"'anti-hindu'\", 'victim:', 'lap:', 'malviya,', \"'isi\", \"mole'\", 'fate:', \"'nayak\", \"again'\", 'venue,', 'habits,', '90%:', 'win?:', 'significant:', 'trailing,', 'vicious:', 'polarisation:', \"'discuss\", \"men'\", 'chalane', 'coats,', 'dhoti-kurta:', \"'kejriwal\", 'worker;', \"parties'\", \"'som\", \"dutts',\", \"'somdutt'\", \"bangles'\", 'taapsee,', 'richa,', \"problem'\", 'uncle:', \"'hangry'\", \"'deshbhakti'\", 'curriculum,', \"'beat\", \"sticks'\", 'shut-up', 'bombers:', 'ways:', \"'sanyog'\", \"'prayog':\", 'institutions:', '0:', 'ex-fm', 'wish:', 'sal*n', \"'something'\", 'sonia:', 'bhagirath', 'everywhere:', \"traitors';\", '1cr', \"'ind\", '₹7.6l', '₹41.79l', \"'frustrated'\", 'wives?', 'filing:', 'dalit,', 'exists,', \"hm's\", 'parasites,', 'devils:', 'terms:', 'insulting,', \"din'\", 'traits,', 'lankini', \"'violence'\", 'priyanka:', 'bees,', 'hatao', \"nitish',\", 'chaddi', 'chalayenge:', 'prasad,', 'assembly?', 'defeated:', \"'j'khand\", 'gathbandhan', 'expectation:', 'barhait,', 'upa:', 'begin,', '11.8%', 'pankaja', 'costly,', 'locker:', \"'nirbala'\", 'gujral:', 'bluff:', 'assembly,', \"mps'\", 'koregaon-bhima', 'arasakumar', 'dmk,', 'wapsi', 'assemblies:', 'rashtra,', 'cover,', \"shekhar's\", 'ajit-fadnavis', 'talks,', 'vengeful,', 'vindictive:', 'rhetoric,', 'dengue:', 'ncp:', 'blood:', 'karein', 'rasleela:', 'naxalism:', 'sitharaman:', 'bio,', \"go?'\", 'questions,', \"'migrants',\", 'patole', 'colour,', \"owaisi's\", '80-hr', 'nirmala,', 'sabla:', 'aaunga:', \"mann's\", \"alliance's\", '1.6l', 'r-day:', \"'priyanka\", 'italian?:', \"'migrants'\", \"shivaji's\", 'polls;', '3-yr', 'thackeray-led', \"'deshbakht'\", 'twisted,', 'leadership,', 'whole:', 'sena-ncp-cong', 'sena-cong-ncp', 'uddhav:', 'secular?', 'ensured:', 'ex-karnataka', \"pawar's\", 'by-polls', 'bypoll', 'aarey', 'oath-taking,', 'park,', 'sena?', 'saheb,', 'saheb:', 'josh:', 'patriot:', \"ajit's\", \"pragya's\", \"'tu\", \"mast':\", 'fadnavis,', \"naidu's\", \"'godse\", \"deshbhakt'\", 'modi-shah', \"'deshbhakt'\", 'issues;', 'ncp-congress', 'offer:', 'khadse', \"'future\", \"cm'\", 'assessment:', \"'party,\", \"split'\", 'ministers?', 'kolambkar', 'resigning:', \"person's\", 'rahul;', 'preponed', 'suryayaan', \"'maha\", \"aghadi'\", 'dada,', \"'wordoftheday'\", 'congress-ncp', 'ballot:', 'koshyari', 'iim-ahmedabad', 'prevailed,', 'horse-trading', 'ally,', 'opponent:', 'whip:', 'yours,', 'complaint,', 'cong-jmm', 'mlas:', 'sena-ncp-congress', 'horse-trading,', 'sena-congress-ncp', 'pawar:', 'satyamev', 'jayate:', \"individual's\", 'revolt:', 'ajit:', 'thoughts:', \"sick'\", 'politics;', 'kakade,', 'false,', 'darkness:', 'guv,', 'leader;', 'bjp-ncp', \"'dalali'\", 'hitman:', 'underprivileged:', 'guvs,', 'guvs', 'sinha-led', 'ajit,', 'blackmailed:', 'friendship,', 'cheated:', \"supriya's\", 'bacchon', 'li:', 'fevicol', \"fadnavis's\", 'to,', 'maharashtra?', \"'chanakya'\", \"'never'\", 'jiska', 'uski', 'cong-sena-ncp', \"'khichdi'\", 'singvi', 'backstabbed', 'pawarji', 'tussi', '5:47am,', 'split:', '₹50k', \"diligently'\", 'saudagar:', 'opportunistic,', 'srinagar,', 'silent,', \"'grand\", \"maha's\", 'sena-ncp-inc', \"indra's\", 'throne:', 'boss:', 'december:', 'minister:', 'mps:', 'principle:', 'delhi-ncr:', \"'cheating'\", \"'bury'\", 'households,', \"'pedhas'\", 'ordered:', 'bypolls:', 'propaganda:', 'nda:', 'sycophants:', 'formation:', 'assembly;', 'tihar:', 'arunachal,', 'doklam', 'promise:', 'one,', 'hc,', 'political:', \"'roughed\", 'deficit:', 'detained,', 'clogging:', 'competition:', 'bjp-sena', 'bjd,', '₹185', 'self-respect:', 'pralhad', 'api;', 'discussions:', 'eroded:', 'allies:', \"'scripted\", \"act'\", 'horse-trading:', '44,', 'cabinet,', 'triumphed:', \"'sc\", 'chowkidar', \"chor'\", 'unsatisfactory:', 'mouthpieces:', 'authors,', \"'power':\", \"'scorpion'\", 'disqualified,', \"malini's\", 'cheeks:', '59-yr', '1st,', 'sympathy,', 'hurry,', \"'maharashtra's\", \"sevak'\", 'khushbu', 'thrice:', \"choudhary's\", 'agneepath,', 'agneepath:', \"you',\", \"'mom\", \"guys':\", 'honge', \"kamyab'\", 'kharge,', 'platter,', \"aaditya's\", 'youtube:', \"sawant's\", 'accepted,', 'angioplasty,', 'positive,', '₹356', 'government,', \"delhi?'\", \"bjp-pdp's\", 'jihad:', 'matoshree', 'refused:', 'humko', 'brave:', \"seshan's\", \"'hitler\", \"dead',\", \"milk'\", 'ayodhya,', 'spg,', \"home's\", 'polluted:', 'jmm,', \"don't:\", \"'step-motherly'\", \"paswan's\", \"advani's\", 'upadhye', 'unemployed:', \"'trishul'\", 'ed,', 'demonetisation,', 'deeper:', 'pegasus:', 'pocket:', \"'prez\", \"maha'\", 'empty-handed:', \"watch'\", 'hunar', \"mughal's\", 'diktat:', 'jasoos', 'successfully:', \"'faking\", \"innocence'\", '34%:', 'ineffectiveness:', \"party's\", 'sin:', 'dooj', \"thackeray'\", 'representation:', 'ops:', 'bjp-shiv', '5yrs:', '6:', 'writing:', \"diwali's:\", 'ex-bsf', 'jjp,', \"'dushyant\", \"haryana'\", \"'recession'\", 'ads:', 'lose-lose', 'sannata', 'bhai:', 'pappa:', \"brothers'\", \"jjp's\", 'blocks,', \"janadesh':\", 'ex-bigg', 'illegitimate:', 'handicap,', 'criminal:', 'ex-maharashtra', 'bhokar', 'resigned,', 'barala', 'sampla-kiloi', '98.3%', 'wisely:', 'dhavalsinh', \"'abki\", 'baar,', \"paar'\", 'inld,', 'poklok-kamrang,', 'failed,', \"'yamuna\", \"paar':\", '6,758', 'twitterwali', 'neta,', 'ladoos,', 'statehood:', 'sidhu:', 'bijepur', \"'sex\", \"case'\", 'swabhimani', 'treatments:', \"'irresistible'\", 'vote,', 'complain:', '102-year-old', '‘most', 'honest’:', '‘evm', 'fixed’', 'al-hind', \"'picked\", 'challenge?', 'kaithal,', \"'gundaraj\", \"end'\", \"abhijit's\", 'perspective:', 'growing:', 'paper:', '₹3.5l', 'anari,', 'sevak:', '₹78l', 'ex-hindu', \"ansari's\", 'raided;', 'rally?', \"shivakumar's\", 'distrust:', 'failures:', 'modiji,', 'children:', 'invader,', 'worshipped:', 'ex-sena', \"shivaji'\", 'sukhdev,', 'om,', 'puja:', 'bhakt:', 'mla:', 'psycho:', 'disagree:', 'shortly:', \"ratna'\", 'tdp:', 'cook?', \"'nyay':\", \"kong':\", \"behaviour'\", 'ke,', 'karti,', 'flood-hit', \"ex-k'taka\", \"'all\", \"thieves'\", 'jawans,', 'countrywide:', 'politician,', \"'prevent\", \"misuse'\", \"soldier's\", 'misrepresentation:', \"shinde's\", 'cong-ncp', 'hoon:', 'lallu', \"'drunkards':\", 'summits:', 'drama:', \"mata...'\", \"'sonia\", 'empowerment:', 'advertisements:', 'hugplomacy:', \"devi's\", \"kharge's\", 'inn:', \"rajan's\", 'tawde', 'ex-haryana', 'trees:', 'farooq,', 'floods:', 'babuji', 'chalna:', 'anti-pothole', \"'anti-party'\", '36-hr', 'ex-encounter', 'nalasopara', '₹441', 'inld', \"khattar's\", '₹8.2', '₹94', \"us?'\", \"techie's\", 'encephalitis:', 'plastic-free', 'cong-jd(s)', 'worli,', \"rajoana's\", 'worrisome:', \"tamang's\", \"chautala's\", 'tehsil,', 'ambedkar-led', 'quit:', \"'mumbai\", '650mg', '500mg', 'famous:', 'seat,', 'tool:', 'cooperating,', \"'roadside\", \"speech'\", 'outsiders:', \"'helping\", 'standing,', 'concludes:', \"'momentous\", \"1st';\", \"'groupism,\", \"corruption'\", 'candidature:', 'ussr:', 'nehru-indira', \"'us\", \"visit'\", 'jats,', 'sena-bjp', '₹1.2l', 'nrc?', 'jd(s),', 'ncsk', 'term,', 'illiterate:', 'permission,', 'hijacker,', 'srinagar:', 'abroad,', 'shrinate', 'incharges', 'pulwama-like', 'hollow:', 'begun:', 'self-immolation:', 'rehabilitated:', 'convenience:', 'pawar’s', 'make-and-break', 'bahadurs', \"doin',\", 'bullock-cart', 'speed:', 'baijayant', \"'bangla'\", \"digvijaya's\", 'thefts:', 'patel:', 'healthy,', \"'sardar\", \"patel's\", \"fulfilled'\", 'cows,', 'breed:', 'equal:', 'cowards:', 'building:', 'kodela', 'groom,', \"'baraatis'\", \"gangwar's\", 'isro:', 'greatness:', \"ji's\", \"'trailer'\", \"'inspired\", 'hindiya:', 'hindustan:', \"'eunuchs'\", 'sisters,', 'exaggeration:', \"jayalalithaa's\", \"'om'\", 'millennials:', 'guj:', 'caste-ridden', 'chinmayanand:', 'strangulate', 'behave:', 'ola-uber', \"youth's\", 'fines:', 'accountable:', '123-125', 'flight:', \"development':\", 'advantageous:', 'untouchability:', 'nath,', 'khattar:', \"teachers'\", \"'mamata\", \"mp',\", \"'rupee\", \"taka'\", 'different,', \"tomar's\", 'bhavan,', 'pmay', 'extinct:', \"'ghar\", \"wapsi'\", 'mgnrega:', 'hpcc', \"celebration'\", 'slaps,', 'chaturthi:', 'bag:', 'ex-chhattisgarh', \"jogi's\", 'curtains,', 'fiasco,', 'motive:', 'cottage,', \"'commander-in-thief'\", 'units:', 'attacked;', 'trumpet:', 'ex-maha', 'ex-sena,', \"'ultimatum'\", 'excluded:', 'wayanad,', \"wb's\", 'small:', 'struggle:', \"'aam\", \"army'\", \"upa-ii's\", 'paralysis:', \"'war\", \"peace'\", 'seat-sharing', 'wire,', \"ambedkar's\", 'rsp:', 'enemy:', 'uk;', \"'praising'\", \"who're\", \"'maarak\", \"shakti'\", 'mishandled:', 'undemocratic,', 'remembered:', \"opp'n?\", 'navnitbhai', 'kateel', 'cong-left', '1,2,3...10', 'invite:', 'borne:', 'gandhi-led', 'jaitley:', 'praised:', \"cbi's\", 'lost:', 'anti-hindu,', 'depressing,', 'intimidate:', \"'cha\", \"chakra'\", 'revolution:', 'populist:', \"'ediot\", \"hitler'\", \"rss-bjp's\", \"bhagwat's\", 'stall,', 'hunted,', 'kashmir?', 'tricolour:', 'banerjee:', 'what:', 'revenge-seeking', 'departments:', 'shame,', \"faesal's\", 'democracy?', \"nizamabad's\", 'indur', 'explosion:', 'policies,', 'ex-kolkata', \"northeast's\", \"sarania's\", 'pre-poll', \"'yatras'\", 'visionary:', 'i-day:', 'circumstances:', 'wall;', 'birender', \"bhutan's\", 'opp’n', 'pro-people', 'scheme:', '₹58,000', \"chandrababu's\", 'faesal?', 'istanbul,', 'dunga:', 'cas,', 'assaulting,', 'frustration:', 'reply,', 'abrogation:', \"phoolka's\", 'badal,', 'phoolka', 'heard:', 'muslim-dominated:', 'fear:', '70-yr', 'kush:', 'lead:', \"'chintan\", \"baithak'\", 'chief;', 'survey;', 'preneet', 'opposing,', 'jashn-e-azadi', \"azad's\", 'anti-defection', 'dedicated:', 'swaraj:', \"mdmk's\", 'reaction:', \"o'brien,\", 'himachal,', 'sister:', 'harsimrat', 'ganeshi', 'chouhan,', 'panneerselvam', 'missed:', \"'muscular\", 'ut:', 'rectified:', \"opp'n,\", 'oppose:', 'warm,', 'reddy,', '5-doctors', 'mpcc', 'balasaheb,', 'vajpayee’s', 'fulfilled:', 'mourning:', \"'fifty\", \"grey'\", 'laway', 'hind:', '₹204-cr', 'evil:', \"'totally\", \"peaceful'\", 'bifurcation,', 'anti-india:', '35a:', 'accident:', 'exam:', 'lynching:', 'poll-related', 'poll-bound', 'edge,', 'last,', 'force:', 'indira,', 'drought-free', '₹22.5l', 'fragile,', 'independently:', 'maharashtra’s', 'ghanendra', 'telangana:', 'ex-ministers', 'throttle:', 'seeker:', 'blessing:', 'vishweshwar', 'kageri', 'pro-khalistan', \"'forced\", \"pic'\", 'pizzas:', 'footpaths:', 'hassle-free', \"schoolgirl's\", 'owaisi,', 'kcr:', 'session:', 'accidents:', 'sengar:', 'lynching,', 'society,', 'respond:', \"'didi\", \"bolo'\", 'jasram', 'bhawan:', 'unrest,', 'dikshit:', \"bill's\", 'conspiracy:', 'orphaned:', \"tharoor's\", 'congress-jd(s)', 'cried:', 'fearlessness,', 'means:', 'sonbhadra', \"azam's\", \"'jumma\", \"chumma':\", 'smriti,', \"'eyes'\", 'steal:', 'ex-secretaries', 'e-tendering', '20-crore-member', '₹1,000-crore', \"k'taka;\", 'wapsi:', 'disrespect:', 'resignations,', 'ls:', 'devi;', 'sincerely:', \"'bjp4ts'\", 'sisters:', 'contact,', 'asks:', 'bill?', 'compliment:', 'united,', 'groupism:', 'vaiko,', 'drive:', \"'toilet'\", 'revengeful,', 'fitting:', 'supporters,', 'infighting:', \"k'taka:\", 'uapa:', \"sex'\", 'uapa', \"'anti-people',\", 'decent:', \"'bakasur',\", 'bought:', 'biswabhusan', 'harichandan', 'club,', 'ended,', 'cheerleaders:', \"lalu's\", 'prayers,', \"'kabristan\", 'hungry:', 'karma:', 'transpired:', 'pro-bjp', 'shopkeepers:', \"'boycott\", \"shopkeepers'\", \"'animal'\", 'mediation:', 'corruption-free:', 'connections,', 'hunger:', 'tuesday:', 'forcefully:', 'rimjhim', 'mitra,', 'non-gandhi', 'evms,', 'ec:', 'rishis:', \"'kill\", \"corrupts'\", 'discrimination:', 'devvrat', 'village:', 'kalraj', \"sidhu's\", 'disgusting:', 'drains,', 'cleaned:', \"'blood\", \"nath'\", 'remark;', 'monkeys:', 'solved,', \"din':\", 'politicised:', 'bhadoo', 'suitcase-carrying', 'membership:', 'tribals:', 'anti-land', 'revanna', 'thakor,', \"'son\", \"mla'\", 'heaven:', \"'uncle\", \"nelson'\", 'self-respect,', 'clarify:', 'appeasement:', 'sheet,', 'resignations:', 'precedent:', 'inspector,', 'compromised:', 'forever,', 'own:', '₹109cr', 'mcds', 'dengue,', 'identify,', 'span:', \"ahmed's\", 'sahab:', 'raosaheb', 'danve', '(organisation)', \"gandhis':\", 'corruption:', 'mentality,', '16:', 'premises;', \"'thanked'\", 'rss/bjp', \"tdp's\", \"'jugaad'\", 'granted:', \"'pie\", \"sky':\", 'enjoyable,', 'destabilise:', 'scavengers:', 'old:', 'shivakumar,', 'republic:', 'crime?', 'soudha:', 'amethi:', 'judges,', 'bars:', 'threatened:', \"nirupam's\", 'jaanti', 'poaching:', 'perks:', 'tiware', 'uttarakhand:', 'chairman:', 'campaign:', 'padayatra', 'top:', \"deora's\", '107,', 'see:', 'kumaraswamy:', 'serve,', 'karandlaje', 'formed:', \"'country'\", 'visionless:', 'singhi', 'kamala:', \"stalin's\", 'resigning,', 'resort,', 'entities:', 'flooded,', 'vigour:', \"institutions'\", 'neutrality:', 'information:', \"standards'\", \"you're:\", 'accession:', 'parivar:', \"'representative'\", \"'unconstitutional':\", 'grapes:', 'eyewash:', 'scenario:', 'baat:', 'sukhbir,', 'hooliganism:', 'lock,', 'barrel:', 'vijayvargiya’s', 'criminals,', 'markam', \"'salute'\", 'divide,', 'unite:', \"'fascism'\", 'chai-wala', 'bjym', \"'tej\", \"sena'\", \"'change\", \"makers'\", 'shameful,', 'tragic:', 'tdp,', 'poll,', '1975,', 'cooperate,', 'advisories:', 'members,', 'enjoy:', 'effigy,', 'abdullakutty', \"'gandi\", \"naali'\", \"'ready\", \"road'\", \"'god',\", \"'lord\", \"jagannath'\", \"india';\", \"'mallyas'\", \"martyr's\", 'sabha;', 'distress:', 'lekhpals', 'practice:', 'harvesting,', 'kaleshwaram', \"t'gana:\", 'acs:', \"azhar's\", 'address,', 'ec,', \"nadda's\", 'presence,', 'discussed:', \"election'\", 'ex-party', \"deol's\", 'lelo:', 'punem', \"poll'\", 'mannequins,', 'evms:', 'anti-democratic,', 'anti-federal:', 'impartially:', 'councillors,', 'oath,', \"'withhold'\", 'shafiqur', 'nowpara', \"project's\", \"'radhe\", \"radhe'\", 'cash:', 'worker:', 'reach:', 'reversed:', \"cpi's\", 'suravaram', 'balance,', 'faces:', 'checking,', \"councillor's\", 'jignesh', 'mevani', 'document,', 'ex-congressman', 'vikhe', 'vairagyanand', \"doctors'\", 'governance:', 'asia:', 'diesel-free:', '₹5,800cr', 'rumour,', 'services:', 'jagan,', 'pragya:', 'was,', 'lathi-charged,', \"'tmc\", \"goons'\", \"'modi,\", 'masses:', 'issue-based', 'shah;', 'toy,', 'trs:', 'varanasi:', 'advisory,', 'post-poll', 'tweets:', \"'foolishly'\", 'ysrcp,', 'ex-puducherry', 'janakiraman', 'tigress,', \"'sala\", \"congressi'\", 'wayanad:', 'student:', 'realistic:', 'irrelevant:', 'numbered,', \"countdown's\", \"'scorpion\", \"shivling'\", 'attend:', 'campaigns:', 'section,', 'committees,', 'st,', '45-yr', \"tumke's\", 'audio,', \"deendayal's\", 'nitish:', 'voter:', 'anti-constitutional', \"'ramcharitmanas'\", 'lies,', 'deceit:', 'navaratri?', 'pilot,', 'hind,', \"bangla'\", 'mamata-led', 'invited:', 'patnekar', 'humse', 'takraega', 'choor', 'jaega:', 'sp-bsp', \"naqvi's\", 'kallam', 'gehlot,', 'dipping,', \"kali's\", 'bsp,', 'ex-min:', 'rank,', 'cycle:', 'sivakolundhu', \"'get\", \"soon'\", 'mamata:', 'ministers;', 'nda-led', 'odisha:', \"vidyasagar's\", 'ex-bbc', 'mimi,', \"nusrat's\", 'chits:', 'priyank', \"smriti's\", 'lawmakers,', 'crorepatis,', 'richest:', 'mosques:', \"'glorifying'\", \"'useless\", \"animal',\", 'ceiling:', 'duped:', 'uppsc', 'hut,', \"'i'\", 'sevadal', 'mamata’s', 'non-bengalis', \"'kapalbhati'\", 'quitting:', 'continue,', 'pain:', 'govts:', 'monirul', 'gunpoint:', 'abhm', 'pragya,', \"'nationalist'\", 'raghuvansh', 'padyatra', 'kin:', \"enriching'\", 'wounds,', 'actress-turned-mps', '2-nation', 'man;', 'swearing-in:', 'unhappy,', 'rjd:', 'phase:', 'hatred:', \"'suicidal':\", \"'trap'\", \"diwas':\", 'lop:', 'discourse:', 'sahasrabuddhe', 'directionless,', \"pensioners'\", \"irani's\", \"surendra's\", 'hell:', 'medication,', 'duplicate:', 'ammk', 'dhinakaran', 'bhagidari', 'chetna:', 'ideology,', \"'humiliating\", \"defeat'\", 'chandrani', 'got:', 'misdeeds:', 'kamra;', \"aiadmk's\", \"'modivaad'\", 'dynasty,', 'by-poll', 'deceit,', 'effective:', 'rejected:', 'count?', 'nyay', 'sooner:', 'counting,', 'ex-pm,', 'subhrangshu,', 'agree:', \"bjd's\", 'pinaki', 'nymph,', 'vishwamitra:', 'shahabuddin’s', 'ex-bjd', \"amu's\", 'mufti-led', 'tukde-tukde:', '100%:', 'enmity:', \"'remarkable'\", '11,714', 'collaborate:', 'command:', \"agency's\", \"sad's\", 'along,', 'cm-led', 'hard,', 'nepotism:', 'rigged:', 'backfired:', '5.57l', 'sultanpur,', '4.31l', 'fashion,', 'snaan:', 'collaboration:', \"'beyond\", \"rationale'\", \"'logon\", 'jholi', \"di'\", \"dal's\", 'deora,', 'haarta:', 'committed:', \"'unemployment\", \"lost'\", \"'offer\", \"resign'\", 'bitterly,', 'sweets:', 'election\\u200b', 'unprecedented:', \"'thief':\", 'debacle:', 'ndpp’s', 'sharingain', 'longkumer', \"nagaland's\", 'aonglenden', 'elections?', 'headquarters,', 'bohot', 'achchi', 'rahi:', \"'chowkidar'\", 'introspect:', 'bahdiya,', 'generation:', 'wave:', \"sahib's\", 'mathura,', 'luck:', \"modiji's\", 'north,', 'each,', '1984:', 'leone,', 'hogi,', 'adharm', 'naash', \"'victory'\", 'fairness,', \"'aaap',\", 'congress+', 'garnered,', 'start:', 'allegations:', 'hawan', 'cast?', 'tent,', 'gowda,', \"'fake',\", 'bjp?', 'losing:', 'saath:', 'humility:', 'evm:', 'sheila,', 'anti-bjp', '23:', \"election's\", 'tampering:', 're-polling', 'on-screen:', \"'buffoon'\", 'laddoos', \"'bogus':\", 'bengal’s', 'ex-cec', 'ramveer', \"tongue'\", 'officer:', 'rajbhar', \"rajbhar's\", 'opinion:', 'cartoons?', '23rd:', \"'foreign\", \"power'\", \"'raag\", \"darbari':\", 'rivals:', 'dadagiri:', 'commendable:', 'practices:', 'ec’s', 'obvious:', 'majority,', 'accuracy:', 'whatsapp:', \"'soopda\", \"saaf'\", \"plan'\", 'wifi,', 'ends,', 'mountains:', \"'pull\", 'vvpats', 'bjp’s', 'intervention:', 'mcc:', 'nc:', 'campaigning:', 'candidature,', 'cameras,', \"'divider\", \"chief'\", '₹3,400', 'kirron', \"'failures'\", 'moment,', 'yadav-rabri', 'parties,', 'kejriwal’s', 're-monetise', 'demonetised:', 'only:', \"lahar'\", \"qahar':\", 'bapu:', \"patriot'\", 'god-ke', 'lovers,', 'god-se', '17,000:', 'papa:', 'excellent:', 'bribing,', 'ravana:', 'meetings?', 'balakot:', 'amritsar:', 'bathinda,', 'shorts,', 'rss:', 'often,', \"'modilie'\", \"'terrorist',\", \"'extremist':\", '56-inch', \"'godse'\", \"sadhvi's\", 'nationalist:', \"'patriot'\", 'cow,', '₹1.74', \"saint'\", 'failed:', 'lie:', 'mango:', 'stringent:', 'disturbing:', \"ec's\", 'patriot,', 'abuses:', 'airstrike,', 'affection,', 'cannon,', 'ak-47:', \"statue'\", \"ganga's\", 'agent:', 'fir:', \"'gali\", 'district,', \"'modilie',\", 'misconduct:', 'publicity,', 'advertising:', 'ram:', '200-yr-old', \"'shani'\", \"'nalayak'\", 'pakodas', \"'jholi'\", 'button:', 'claims,', \"'ajay\", \"bisht'\", 'crpf:', '1989:', 'namo-namo,', 'bhim:', 'timings,', 'issue?', 'despicable:', 'hussein:', 'crores,', 'ludhiana,', \"'mockery\", \"democracy':\", \"shivraj's\", 'mahamilawatis', 'gang,', 'naxals:', '252:', 'f*ck', 'roadshow;', 'lathicharge,', 'radar?', \"aiyar's\", \"'neech'\", \"'chamchagiri'\", 'britishers:', \"'mahamilavati'\", 'personal:', \"'neech\", \"aadmi'\", \"'circus\", \"sher'\", 'thieves,', 'roadshow:', \"'chaiwala'\", 'nitish,', 'darao,', 'balatkari', \"'scolding'\", 'jagah,', 'meri:', \"bsp's\", 'bicycle:', \"bjp's:\", 'prophetic:', 'kamal’s', 'radar:', \"'cloud-radar'\", \"'cloud\", \"radar'\", 'scripted,', 'ashamed,', \"'tapasvi'\", 'arrogance,', 'sevak,', 'chowkidar,', \"wave'\", 'ethics,', \"'sonar\", \"bengal'\", \"'kangal\", \"bengal':\", 'gurdaspur:', 'meal:', 'atishi,', \"paraguay's\", 'rallies,', '104-year-old', 'orop', 'riot-monger', 'jadavpur:', \"'goonda\", \"tantra'\", 'depression:', \"'hindu'\", 'gains:', 'yes,', 'aurangzeb:', 'atop?', \"'cash-for-ticket'\", 'godhra,', 'inch,', 'mahamilavati', 'gowda:', '76-inch', 'chest:', 'netaji:', 'award-wapsi', 'rape?', \"'1984\", \"hua'\", \"'jo\", \"hua':\", 'tragedy,', \"'kale\", \"angrez':\", \"'dumb',\", '₹6,000:', \"'pamphlet'\", \"pitroda's\", '₹744:', 'gujarati:', 'sumitra:', 'accusations:', 'hua,', \"'hua\", 'killed?', 'sit-ups:', \"'guru'\", 'remark?', \"'bahut\", 'jhoothi', \"party':\", 'birth?', \"'derogatory\", \"pamphlets'\", \"'aayega\", \"hi'\", '₹3,60,000', 'account:', \"'yes'\", \"'pimp',\", \"'slap\", 'rafale:', \"'chowkidar\", 'acche', 'starting:', 'vacation:', 'monitor,', 'journos;', 'himanta,', \"ghosh's\", '\"modi', 'papa,\"', \"'duryodhan',\", \"'jallad':\", 'pakoda,', 'bhagoda', 'revert:', 'faced,', 'gentleman:', 'officer’s', 'mcc,', 'duryodhana,', 'arjuna:', \"'shahenshah'\", 'bother:', \"'modern-day\", \"aurangzeb'\", 'ex-pm:', 'airstrikes:', 'clip:', '₹50cr', 'code:', 'figure,', 'inches:', 'duryodhana:', 'u-turn:', 'wallets:', \"atishi's\", \"'bofors\", 'shehzadi', 'shehzada', 'kcr,', \"'dharna\", \"mantri':\", \"sbsp's\", \"'swayed'\", '280-seat', 'women-staffed', '₹1.46', 'vvpat', 'fabricated:', 'sultan:', 'earlier,', 'eid,', \"'blood'\", 'strongrooms', 'less,', 'sehrawat', 'sleep:', 'phrase:', 'fittingly:', 'booth;', 'nyay,', \"'goons'\", \"priority'\", \"'pappu',\", 'lyncher:', '72-hr', 'supporter:', 'kejriwal?', \"'qatal\", \"raat'\", 'saffron-clad', \"'corrupt\", \"1',\", \"kishan's\", 'trailer,', 'begin:', 'anandraj', 'perception:', \"maken's\", 'bsp:', 'regime,', 'sandoa', 'hay:', 'grins:', 'dharam:', \"munda's\", \"'naachne\", \"wala'\", 'ex-nurse', 'lying:', 'gundi:', 'brijbhushan', \"'gunda'\", 'cong-aap', 'snakes,', 'charmers:', \"'princess'\", '1999:', \"hindu'\", 'air:', 'destination:', \"sunny's\", \"'babar\", \"aulad'\", \"o'ppn\", 'mlas?', 'rallies:', 'mahabharata,', \"'babur\", \"'nukes\", \"diwali'\", 'icon:', '96.4%', '12,', \"'god's\", \"grace'\", 'aap-cong', \"chowkidars'\", 'understanding,', 'roadshow,', 'osama,', \"compromises'\", \"'dedicate\", \"upa's\", 'tenure:', \"'pm\", \"tribals'\", 'guest,', \"mataram',\", '‘thief’', \"'harvard\", \"work'\", 'reply:', 'lethargic:', 'patriotic,', 'islamabad:', 'hate:', \"islamophobia's\", 'flames:', 'chaliye', 'beta:', \"tej's\", 'jitubhai', 'chowkidar:', \"'meenakashi\", \"dekhi'\", 'laptop:', 'opinion,', 'view:', 'feroze:', \"we'd\", \"won't:\", 'unfit:', 'other,', 'activities,', 'conduct:', 'achhe', \"'yeti':\", \"'majority\", \"minority'\", 'siliguri,', 'tatas:', \"nano's\", \"shatrughan's\", '₹193cr', 'puducherry:', 'avtar,', 'seller,', 'rubbish?', 'regret:', 'star-campaigners', 'after:', '₹785cr', '₹249cr', 'batti,', 'batti:', '48-72', 'pakodewala,', 're-poll', \"'nyay'\", 'touch,', 'upa-iii', 'se:', 'changed,', \"'bahubalis'\", \"supriyo's\", 'chopra,', 'tha,', 'rahega:', 'expenses?', 'ousted:', \"'upneta'\", '‘main', 'modi’', 'nationalism,', \"'arrest\", \"encounter':\", '₹2.43', \"'goli',\", \"'gola':\", 'baaqi', \"wastage'\", \"karkare's\", 'akhtar,', 'bad,', \"'gadar'\", 'forces,', 'game?', 'bua-babua', \"'misleading'\", \"conduct':\", 'gain:', 'saint,', 'creature:', \"khanna's\", \"'slip\", 'kurta:', 'digvijaya:', 'profession,', \"known':\", 'hrs/day,', \"hai',\", 'soil,', 'teeth:', \"'bunty\", \"show':\", 'employment:', 'fundamentalism:', 'thokidar:', '₹700cr', \"'dil\", \"gaya'\", 'fauji,', 'ex-colleague', 'annapurna,', 'nomination?', '₹217cr', '₹2.51', '₹38,750', 'kanhaiya,', \"'two-men\", 'varanasi;', \"akhilesh's\", \"varanasi's\", 'rivalry,', 'bhaagti', 'voting:', \"'chop\", \"'samapt\", \"party',\", \"'bilkul\", 'samapt', 'roadshows:', 'manshahia', \"'gazab\", 'aankho', \"me',\", 'akhilesh,', \"material'\", 'rai,', 'betrayed:', 'taiyar', 'yogi,', 'payega:', \"'baap'\", 'bollywood:', 'kurtas', 'wrestler-turned-acp', '₹147cr', \"turnout'\", 'vvpats:', 'meetings:', 'yadavs,', 'voting,', '64.99%', 'slogan:', 'gurdaspur,', \"'chowkidar',\", 'cong-tmc', 'vajpayee,', \"'useless':\", 'frivolous:', 'heeraben', 'ho,', 'aapka', 'pakoras:', '₹15l,', \"strike'\", 'ieds:', 'valour,', 'kumbh:', 'rockets:', '₹4.5l,', 'ferozepur,', 'actor,', 'acting:', \"'saboot\", 'maharathy', 'dikshit,', 'bajrangbali,', 'anarkali:', 'baalon', 'diwali?', \"'karo\", \"matdan'\", \"hp's\", '\\u200fin', \"raj'\", 'beating:', \"'raul\", \"vinci':\", '₹77cr', 'karan,', \"'tum\", \"khile'\", \"'puppy',\", 'pragya;', \"'terribly\", \"afraid',\", \"'hindutva'\", 'dictionary:', \"'flop\", \"show',\", 'shivpal', 'absent;', 'brooms,', 'pens:', \"'haratanka':\", 'chowkidars', 'farzi,', 'adani?', 'lake:', 'weak,', 'view,', 'martyr:', 'thrashed,', \"'curse'\", 'funny,', 'disclaimer:', 'ouster:', 'rich:', 'acronyms,', 'liability:', '12.5cr', '5cr:', 'suspense:', 'patni-dharm', 'nibha', 'liya,', 'party-dharm', 'nibhayein:', \"shield'\", \"'underwear'\", '24yrs', 'deora:', 'saffron,', 'problems:', \"sinha's\", 'almonds:', 'check:', 'thimmakka', 'facebook;', '61.12%', \"backward',\", 'obc:', 'kamal,', \"'buffalo'\", 'retracts,', \"salim's\", \"'mogambo',\", 'rjd,', 'sin,', \"tn's\", 'baths:', 'kanimozhi,', 'son-in-law,', 'nephews,', 'patni:', 'caste:', \"'thieves'\", 'material:', 'karaya', \"dullo's\", 'khan’s', 'ploy:', 'shop,', 'khiladi,', 'blows:', 'glory:', 'mahamilawat,', 'yours:', \"kanimozhi's\", 'tiwari,', 'dc,', 'booths,', 'dignity:', 'achievements:', 'jets,', 'sbsp', 'strongroom:', 'kidney:', 'virtue:', '₹10cr', \"govt'\", \"yeddyurappa's\", '48-hr', 'ban;', 'elected:', 'bjp-congress-cpi(m)', \"'filth\", \"muck'\", 'prada:', 'u-turn?', 'show-off:', 'sedition:', \"'khaki\", \"underwear'\", 'protection:', '₹10l,', 'disrobed:', \"letter'\", 'khordha', 'oneplus', 'unboxing', 'liked,', \"birthday'\", '₹42,500', \"twitter's\", '$1.40', 'industries,', 'fareye', '‘funding', 'secured’', 'over-ear', \"google's\", 'movements,', \"'a-grade'\", 'response:', \"'giveindia'\", 'voice-controlled', \"dustbin'\", 'iit-incubated', 'sleep-tracking', '₹178', 'travel,', 'funerals,', '3d-printed', \"'bionic\", \"corals'\", 'pro-like', 'edges:', \"'flexoskeleton'\", \"'enhance'\", \"metals'\", \"ocean's\", \"'quiet\", \"mode'\", 'meetings,', \"'braille\", \"keyboard'\", 'vision-impaired', 'gisat-1', 'sprayable', \"'onmail'\", \"'campus'\", 'furbo', \"'differentiate'\", '30w', \"'living\", \"concert'\", '1,300%', 'relief,', \"toilet'\", 'butts,', \"'tuned'\", 'couples,', \"'corp.com',\", 'vaccines:', \"gates'\", \"app's\", 'nudity,', 'web:', \"'darknet'\", 'covid-19-related', 'bitcoin:', 'conferences,', \"'backpack'\", 'a+', 'displaymate', '₹1.78', \"'sleep\", \"machines'\", '₹57', \"'smartbra'\", 'anticompetitive,', 'tracker-maker', \"'worm'\", 'voysis,', 'profiles:', 'drone-based', \"sorry'\", 'yuan,', 'zoom?', 'xiaomi,', \"'neighbourly'\", 'tiktok-like', 'short-video', 'houseparty', 'phones;', '₹7.5cr', \"'smear\", 'cerf,', 'energy-harvesting', 'alleycorp,', \"user's\", 'fda-authorised', \"'face\", \"id'\", 'macbooks,', 'imacs:', 'iphone-maker', 'who’s', 'skyrora', \"'touchid'\", 'internet:', 'freshworks,', \"'anyvision'\", \"'rare'\", '₹7.3', 'gmail,', '$800', 'businesses,', 'automatically,', \"'temporarily\", \"closed'\", 'production:', 'ever,', 'load:', 'co-watch', 'whatsapp-like', 'autocorrect,', \"'fix\", 'awetoekreqt,', \"ducked'\", 'satellite-broadband', \"bigbasket's\", 'hospitals,', \"'search\", \"web'\", 'questionnaire,', 'gamers,', 'crowdsource', 'self-checker', \"'clara'\", '7,20,000', 'netflix,', 'xstream', '1gbps', 'spacex,', \"needed'\", 'never-launched', 'mi10', '108mp', \"'drastic\", \"shortage'\", \"'father\", \"hygiene'\", 'malware,', 'dunzo,', '$799', 'snapchat-like', \"xiaomi's\", 'redmi', 'sale;', '₹12,999', \"looks',\", \"'slums':\", \"'non-essential'\", 'hub,', '$1m', '$1.23', \"'smell'\", '$999', \"'dumb\", \"phone'\", 'texts:', \"'breaking\", \"bad'\", 'edtech', 'skolaro', \"'non-official'\", 'face-filtering', 'msqrd', 'focus-free', \"'inappropriate'\", 'watchdog,', \"juul's\", 'depth-sensing', \"cait's\", 'secret-sharing', \"'whisper'\", 'learning:', 'computers,', \"'worried\", 'hypercar', \"'airtag'\", 'coin-shaped', '₹3.4l', 'overstated:', \"'dumb'\", 'study-from-home', 'coronavirus-theme', 'wipes:', 'cashierless', \"'rave\", \"cave'\", 'coronavirus-themed', 'malicious:', 'wellcome,', '$125-mn', 'iphone,', 'se2', 'one-millionth', 'analytica-linked', 'directors,', 'hacking:', \"'see'\", 'reno3', \"dumb',\", '₹8.5', 'ivycap', \"'nintendo\", \"playstation'\", 'cold:', 'facts:', \"grindr's\", \"processors'\", 'unfixable:', 'iitian', 'harvests:', 'duckduckgo', 'age,', \"'mac-binding',\", 'j&k?', 'ex-waymo', '$179m', '#riptwitter', \"'fleets',\", 'waymo', '‘snowbot’', 'android,', \"spacex's\", \"'we'll\", 'libra:', 'products:', '44mp', 'punch-hole', '7t', '96%', 'dorsey:', 'ties-up', 'ai,', 'once-in-a-century', 'pathogen:', 'innovate:', 'hiring/firing', 'aws,', 'regulated:', 'keyboard:', 'paedophiles,', '$117-mn', \"nasa's\", 'isro’s', 'navic', 'movies:', \"'star\", \"wars'\", 'namya', 'joshi?', 'cashier-less', '11gb', \"'konami\", \"code'\", \"dying'\", 'lake;', '₹5.8', 'parasitic,', \"carmaker's\", \"'plague\", \"inc'\", \"ibaby's\", 'footage,', 'autopilot,', \"'feel\", \"pain',\", '$8.44', 'tds:', 'birthday:', 'ports,', 'balloon-powered', \"'5g\", \"hackathon'\", 'makemytrip,', 'skullbreaker', \"powerful'\", 'ellison’s', 'fundraiser:', \"'skullbreaker',\", \"'cha-cha\", \"slide'\", \"trek'\", 'search:', 'mind,', \"'high\", \"risk'\", 'edpb', '$1million', 'recordings:', 'recognition:', 'output,', 'bots:', 'devices:', \"'worth\", \"trying'\", 'pro-bloomberg', 'blow-dry', 'speeches:', \"'1'\", \"'doubts'\", 'blow-dried', 'tesler,', \"'cut,\", \"paste',\", 'taycan', \"buyer's\", 'udemy', 'unacademy', 'metros:', 'homelane', '$11.8', '$0:', 'energy-generating', \"phone's\", 'regulated,', \"'underwhelming'\", 'he’ll', 'hosts,', 'ex-amazon', '$10b', 'satellites,', 'tds,', 'taycan,', 'car:', 'pinterest-like', \"'hobbi'\", \"amount'\", \"cci's\", '$765', 'iphones:', '₹11,500', 'newspaper:', '7.7%', '$191', '4,000-person', 'hired,', \"rubin's\", 'intelligence-based', \"'ella'\", '98%', \"'mischievous':\", 'pcs:', \"fb's\", '₹4,600', 'lame,', 'arbitrary,', 'zuckerberg:', \"pillar's\", '$2.86', 'fears,', \"'comes\", \"hack'\", \"'steal'\", \"'amazon\", \"dating'\", \"'buy'\", 'pics:', 'igtv', \"'burrito\", \"map'\", \"maps'\", 'ford’s', 'inter-office', 'autoplaying', \"'pigweed'\", 'chrome,', \"'annoying'\", \"actors'\", 'engaged,', 'pornbots', '99-smartphone', \"pay's\", \"dyson's\", 'alphabet-owned', \"mach-e's\", \"everywhere'\", \"'iphone\", \"9'\", 'sensor:', \"'heimlich'\", 'cousin;', 'p**s', 'scams,', 'tinder,', 'bumble,', '65-86%', 'saudi:', 'dangerous,', \"'liked'\", \"vibe'\", '$837', '$20,000', 'nayel,', '₹103', '#androidhelp', '$21bn,', \"huntington's\", 'millions:', '$550', 'clayton,', \"'disruptive\", \"innovation',\", \"razr's\", 'apologises,', 'wizklub', 'models,', 'distribution,', 'pune-based', 'interviewbit', 'scamsters', 'ptsd:', 'situations:', \"bull's\", \"mit's\", \"'byte',\", '6-second', 'facebook-like', 'telegram,', \"messages'\", '2100:', \"'without\", \"pink'\", 'pixelbook', 'tencent,', 'opening:', \"'shop'\", 'instagram:', 'non-google', \"'completely'\", 'sites,', 'display,', \"'walking\", \"buddy'\", 'uber;', \"'anti-competitive\", 'ai-powered', 'homophobes,', 'screen,', 'zoom-in', 'e-stores', 'traders,', 'twitter:', '₹158', 'most-followed', 'pewdiepie', 'on-device', 'nsa,', 'port:', \"'steak'\", 'peas,', 'lazy-eye', 'e-vehicles', 'measure,', 'macbook,', \"'start\", 'happn,', 'bands,', \"'shopper'\", '14.2%', \"robot'\", \"segway's\", 'wheelchair-like', \"'bloatware'\", \"'unethical'\", \"ubtech's\", \"'yoga'\", \"'security\", 'breaks:', 'commands,', 'ai-run', \"watch's\", \"'joker'\", \"mobileye's\", \"facebook'\", \"'f***\", \"cancer'\", \"'artificial\", \"humans'\", 'do?', 'ehang', \"'ufo\", \"stick'\", '₹28,600', \"'reverse\", \"microwave'\", 'id,', 'goals:', 'popsockets', 'popgrips', 'ransomware', 'articles,', 'attraction:', 'weight,', \"'cannabis'\", \"'i'll\", 'd***', \"mn'\", '‘artificial', 'humans’', \"'avatar'\", 's-a1', '$16k', 'mozilla,', \"min's\", 'toaster:', 'mood,', 'lithium-sulfur', 'ai-enabled', 'gift,', '₹10-crore', 'facial,', \"customers'\", 'fortnite', 'segway-ninebot', 'e-invoice', 'vendors:', '$166', 'print-replica', '$439', 'alexa-powered', 'nanoleaf', '2-decade-old', \"'appstore.com'\", 'ex-exec', \"hair's\", \"volkswagen's\", \"iit-bombay's\", '5g,', 'profits,', 'deepfakes', 'maker:', 'endure:', \"mead's\", 'academics:', \"'hover-cycle'\", \"stone's\", \"bytedance's\", \"'hyperdrive'\", 'notch:', \"vacuum's\", '61-yr-old', 'avengers,', 'bundy,', 'eilish', '69%', 'whining:', '3d-print', 'replica;', \"'hopefully'\", 'bugs,', \"profiles'\", 'vein-scanning', \"'error'\", '600%', 'us-operated', 'diesels:', \"'disappearing'\", 'messages:', 'watch’s', \"'watchlist'\", 'movies,', \"'barking'\", '$820', 'mn:', \"'clamshell'\", 'making,', '-273.15°c', 'tcs,', 'remain:', '₹7.6', \"teslasuit's\", \"'spark\", \"war':\", '$3.7-billion', 'rights,', 'g-shock', \"'deepfaked'\", \"stallone's\", \"pyka's\", 'self-flying', 'crop-spraying', \"dji's\", \"'x-ray\", \"vision'\", 'reddit,', \"michelangelo's\", \"'david'\", 'crystal-within-crystal', 'made,', 'hackings', \"'decoy\", \"data':\", \"'uncrackable'\", 'zuckerberg,', \"'zuckerbot'\", \"'totok'\", 'uae;', \"'spdrman'\", \"liberia's\", 'encryption:', 'sleeping:', 'websites,', 'rivian', 't.rowe', 'price,', 'ex-nhs', 'pngs', \"'turkish\", \"family'\", '₹853', \"'find\", \"iphone'\", 'fault-finding', 'key,', 'magnet,', \"youtubers'\", \"'opaque'\", 'machine:', \"'something\", \"special'\", 'gboard', 'unfollows', 'cybertrucks', 'earn?', 'android:', \"'deleted'\", 'facebook:', 'january-march', \"dgca's\", \"billboard',\", 'entrance:', 'wechat', '‘he’s', 'prison’', '$150,000', \"santa'\", 'apple’s', \"'strandhogg',\", 'users?', 'airpods,', 'pair:', \"'tired'\", '5g:', 'wipro,', \"'warning'\", 'prep:', 'e-shuttles', '$111', 'finalised:', \"'interpreter\", 'messenger,', 'abuse:', \"employee's\", \"pewdiepie's\", 'poop-themed', \"'disgusting'\", 'emotion-detecting', '13.3:', 'design,', '51.7%', '$150-per-iphone', '$145', \"page's\", 'sold;', \"mondal's\", 'sonakshi,', 'resso', \"xdr's\", '$6,000', 'blockchain-based', \"'cryptokicks'\", 'iphones,', 'ex-staff', \"iphone's\", 'disk,', '₹5.4', 'hackerone', 'passwords:', \"response'\", \"9':\", 'vietnam-backed', 'bmw,', '7t,', \"'solar\", \"ineffective'\", 'tech,', 'a**holes:', 'zilingo’s', 'ankiti', 'coai,', \"trai's\", \"'ilikead'\", \"'popping'\", \"'suspected\", \"russia'\", '₹95,000', \"pichai's\", \"'pinchai'\", \"wsj's\", 'chip-based', \"'safer'\", \"'intuitively',\", 'spyware:', 'duolingo', 'capitalg', 'microsoft:', \"'nudity'\", \"escobar's\", \"hotel'\", \"'disabled,\", \"lgbtq+'\", '‘violating', 'policy’', 'q3:', '₹1.29', '$7.4', 'ex-rss', 'data,', 'feasible:', 'snake-bite', 'biosensor-equipped', 'gobble,', 'cybertruck,', 'jony', 'platforms:', 'reddit-style', '$4.4', 'villages,', 'viewed:', 'e-ticketing', 'rating,', \"jobs'\", '₹5.35', \"'govt-backed'\", \"26-yr-old's\", 'deep:', '$30m', 'founders,', \"'vikram'\", 'dual-sim', '$230', '$49', 'korea-based', 'upbit', '₹62l', 'separation:', 'iiit-delhi', 'google:', 'zhengfei', \"'assembled\", 'store,', 'disappear:', '$250,000', 'wearables:', 'ceo’s', 'updates:', '‘prahari’', \"'abuse'\", 'truecaller', 'nasa,', \"caltech's\", \"'transforming'\", 'reading:', 'virnetx', '5g-powered', 'innovations:', \"instagram's\", 'homogenising', 'flipspaces', '$1.15', 'boomer:', 'bugs:', \"'everyday'\", 'softbank-owned', \"'vulnerability'\", \"'edgy'\", 'leanings,', '2-factor', 'bengalureans', 'programmes,', 'downloads:', 'iphone;', \"'2020\", 'disney+', '₹220-800:', 'gates-backed', '1,000°c-plus', 'room-sized', \"game-2019'\", 'photos,', '13.2.3', 'update,', 'gaming,', 'meme-making', \"'whale'\", 'negatives:', 'micro-targeting:', 'pegasus-like', 'nykaa,', \"'near-perfect\", \"accuracy'\", \"'thousands'\", 'ios,', 'instagram-like', 'leaks,', 'pro,', '₹1.99', \"'wikitribune'\", 'vaping-related', 'apps,', 'scheme;', \"'like'\", \"chipmakers'\", 'nuvia', 'requests:', 'sensors:', 'adware-laced', 'markiplier', 'slow-loading', 'multi-currency', 'mastodon?', \"'jarvis'\", 'names:', 'twitter?', '13.2.2', 'openai', \"'believable'\", '$60,000', \"'grow'\", \"'virtually\", \"indestructible'\", \"'anti-india\", \"app'\", 'impartial:', 'rivals,', 'boon:', 'barsys', '₹10,500', \"'hijack'\", 'echo,', \"robinhood's\", '$4,000', \"'humans'\", 'logo,', \"'twitter\", \"twitter'\", 'nanosatellites', \"restaurant's\", 'headset:', '8chan', 'forum,', 'shootings,', \"'8kun'\", 'bee-like', \"'superman'\", 'coaster-sized', 'ookla', 'logo;', \"'pegasus',\", \"'camgirl'\", 'wannacry-like', \"'bluekeep'\", 'begins:', '84%', '₹105', 'coinlist', 'wave-inspired', '#teamtrees', \"'dhobi\", \"ghat'\", \"network'\", 'musical.ly', '₹4.6', \"twitter',\", 'tiktok-owner', 'double:', 'pros:', \"patrol'\", \"'transformers'\", 'jan-june:', \"stanford's\", 'whatsapp?', \"'.new'\", 'activists:', \"whatsapp's\", 'project,', 'treelon', \"animal's\", 'driver’s', 'clamshell-shaped', '5g-enabled', \"'family\", \"hat'\", \"internet's\", 'throw-bark:', '4.5-year', '₹10.6', 'robotaxis', 'pony.ai', 'noise-cancelling', '₹24,900', \"'spaceselfie'\", '‘7t', 'sale’', \"'kind\", 'robots,', '₹91l', 'transparency:', \"'smells'\", \"'quantum\", \"supremacy'\", \"'news'\", \"'search'\", 'laptops:', 'proceeding:', \"'#riseandshine'\", \"kylie's\", \"iitian's\", 'high-res', '10,000-yr', 'secs:', 'aadhaar-social', 'bezos?', 'languages,', \"momoa's\", 'full-quality', 'spicexpress,', 'invite-based', 'dsci,', 'celebs:', 'unfollow:', 'currency-pegged', 'stablecoins', 'speakers:', 'oled-screen', 'noise-cancellation', \"'sextortion'\", 'ex-google', 'police-tracking', 'want?', 'predators:', \"'clips'\", '1mn', 'chip:', 'conservatives,', '₹1,41,900', \"'gay'\", 'are;', \"openai's\", \"rubik's\", \"backdoor'\", 'retweeting', \"'click\", \"pray'\", '₹7,815', 'cam:', \"allen's\", 'deniers:', 'smartwatch', 'dual-selfie', 'designs:', 'shutdown,', \"'here\", \"stay'\", 'high-interest', \"'walk'\", \"telegram's\", '$1.7-billion', 'towns:', 'justdial', \"'colour-shifting'\", \"'mistakenly'\", \"'lawful\", \"interception'\", 'cannabis-promoting', \"'create'\", 'headsets,', \"'dark\", \"'following'\", 'mit-ibm', 'video-recognition', \"mirror'\", '\"oh', 'wow.', 'wow\"', 'always:', 'ex-tinder', 'abuse-accuser', 'defamation,', 'farting,', 'horn:', 'firework:', \"'try\", \"on'\", 'ikinema', 'harmful:', 'livestreams', '₹10.8', \"'turned\", \"gay'\", 'dual-screen', 'experience,', 'crypto,', '2,80,000', 'auto-delete', 'friends-only', \"'threads'\", 'notifications,', 'bugs;', '$8.4', 'half:', 'content,', 'ex-yahoo', 'demonetises', \"'gay',\", \"'lesbian'\", \"'memoji'\", \"meetings'\", 'dineout', 'hacker’s', '£240,000', 'amazon.in', 'unsafe:', \"'checkm8'\", \"'permanently'\", 'code-based', 'rogue,', 'drones:', 'ride-hailing,', 'food-delivery', \"'zombie\", \"proxies'\", 'delayed:', 'iamai', 'tv+:', \"tinder's\", \"ads'\", 'vr-based', \"'horizon'\", 'giants:', 'alexa-enabled', \"jackson's\", \"'bulletin'\", 'pro-lgbtq', 'os:', 'ipados', 'fact-check,', \"politicians'\", 'neurotech', 'brain-controlled', 'dollar:', 'camera,', 'music:', 'tracking:', \"giants'\", 'anti-extremism', 'imeis', 'november:', 'microturbine', 'malindo', \"contractor's\", '30t:', \"'7t'\", 'sanctions-hit', '$2-billion', 'lawsuit:', 'instagram;', 'servicefriend', \"'hide\", \"replies'\", 'state-backed', 'wannacry', 'startup-focused', 'programs:', \"'slofie'\", 'support,', 'prepones', '13.1,', 'ecg,', 'hinglish', 'smartphones:', 'ola-like', 'screenshots:', 'iit-kharagpur', 'home-rechargeable', \"'card'\", 'tv-friendly', \"'soon'\", '₹13,999', \"'clips':\", 'stick-like', 'device:', 'ml-driven', 'one-tap', 'filming:', 'oxygenos', 'bug,', 'food-centric', \"rainforest's\", 'anti-hate', 'colour-changing', \"'express'\", \"auto's\", '$699', \"'always\", '$399', \"'apple\", \"tv+'\", '₹99/month', '₹96,000', 'sheroes', 'clevertap:', 'slo-mo', \"'slofies'\", '$1.3mn', 'xs,', 'xr,', '$4.99/month', '10.2-inch', '$329', 'mini-like', 'ai:trail', 'tab:', \"centres'\", 'addresses:', \"'tay'\", 'chatbot:', 'ming-chi', 'camscanner', 'feb:', 'hr:', '16.3%,', '21.4%:', 'wunderlist', '#metoo:', 'mail,', 'in-display', '$10-million', \"'deepfakes'\", 'now-kpmg', \"dorsey's\", 'unproven,', \"acer's\", 'massager,', 'holder,', 'se-like', 'movere', 'warnermedia', 'stankey', 'square:', 'strangers:', 'eating,', 'face-swap', \"risks'\", \"inventor's\", \"form's\", 'tile-like', 'location:', \"'noise\", \"'build\", '4000th', '$13k', \"'toy\", \"story'\", '$21', 'millionaires:', 'crack,', 'chuxing', \"'ai\", 'reno2', \"'hire'\", 'concerned:', 'baidu:', \"'walkie-talkie'\", 'program:', 'emojivision', \"'emoji-photos'\", \"bell's\", 'shift:', 'xbox:', 'cruelty,', 'made:', 'self-folding', '$10bn:', 'drivers’', 'nazara', '₹44cr', 'sportskeeda', 'september,', 'tow-in', 'surfing,', 'aadhaar-linked', \"'jailbreak'\", 'alexa,', 'streaming-only', 'console:', 'ceramic,', \"'whatsapp\", 'e-scooter', 'hand-tracking', 'abuse-reporting', 'yubico', 'usb-c', 'battery,', 'sharechat', \"'iphone'\", 'dual-camera', 'chats:', 'cyberweapons:', 'maps:', \"'fear'\", \"brands'\", \"office's\", \"'illegal'\", 'events:', 'offline:', \"'adora-bots'\", 'search,', 'cameras:', \"closely'\", 'bug-finding', \"program's\", \"'google\", \"trips'\", 'boomerang-like', 'yandex.taxi', 'engine:', 'reviews:', 'location,', 'speeds:', 'rootmetrics', \"'mac\", \"book'\", 'stockx', 'stolen:', 'automobiles,', \"youtuber's\", 'connectivity:', 'segment:', '₹20.7', \"fortnite's\", '₹10.3l', 'deepmind', 'official-looking', 'achieve:', '₹7.7cr', 'streaming:', 'privacy,', 'bluetalon', 'blacklisting:', \"couples'\", '$5bn,', '$50mn', '₹12.8', '₹6,500;', '₹1,600', 'hongmeng', '₹136cr', 'leaked,', '₹700:', \"'racism\", \"exclusion':\", 'layout:', \"'this\", \"unavailable'\", 'squeezes,', \"'agricopter'\", 'faceapp', 'gaming-centric', \"seekers'\", 'age-bias', 'ntorq', 'faceapp,', 'neuralink', 'fbi,', \"'jee\", \"ready'\", 'locations;', 'ex-vine', \"'likes'\", 'hq,', \"'dragonfly'\", 'terminated:', 'blanket:', '$5b', 'fine;', '$3-million', '$4.17', 'corbató', 'password-free', 'ar/vr', 'human-mirroring', '#bottlecapchallenge,', 'sent,', 'xp,', 'pre-bookings', 'coke:', \"'agent\", \"smith':\", \"effects'\", \"'dangerous\", \"individuals'\", 'smartphone:', 'icloud.com', '$2.25', 'gm-backed', 'mortified:', 'a*****e', 'play/pause', \"'mimoji'\", 'samsung’s', '$8.5', \"'stormchaser'\", 'israeli-us', 'elastifile', \"'shoelace'\", 'badhiya:', 'spray-paint', 'sex-ring', 'macbooks:', 'category-wise', 'e-content', \"'appalling';\", 'anti-ransomware', 'live-tweeting', 'enjoyment:', \"systems'\", 'co-develop', 'co-announces', 'design:', 'airdrop-like', 'bracelet,', \"porn'\", \"'bee'\", \"'sh*thead',\", 'deepnude', 'revelation:', 'maps,', 'out-folding', 'carefully:', \"ex-employee's\", 'cnex', 'pages:', 'drive.ai', \"alzheimer's:\", \"'high-risk'\", 'systems:', 'content-sharing', \"'bye\", \"camera'\", 'slack,', 'conversations:', 'mosseri', '6z', '₹31,999', '$600,000-bitcoin', 'songwriters,', \"'surveillance'\", \"'harry\", 'potter:', \"unite'\", 'antutu', \"artist's\", 'scams:', 'haram,', '15-30%', 'unfollowed', 'fixed,', \"program'19\", \"somebody's\", \"adobe's\", 'text:', 'spark:', 'you’re', 'touching,', \"seeing'\", \"hcl's\", 'techbee', 'grid:', 'create:', \"'meaningful'\", 'skill,', '1,56,000', 'meesho', 'drunk;', '1-yr', '€250k', 'drive,', \"unity's\", \"mac's\", 'acquihire', 'drive.ai:', '₹550', 'uplus', '$4.7', 'crises,', \"'roboats'\", 'bridges,', \"jr's\", 'creator,', 'cityfurnish', '₹34cr', 'pre-installing', '₹131', \"'sight'\", \"sharechat's\", '$100-mn', 'round:', '₹32,999', 'apple?', 'outage;', 'sentiments,', \"'cheese\", \"grater'\", \"'influencers'\", 'macs?', 'hiding,', \"'silence\", \"callers'\", 'youtube,', \"oppo's\", \"'ion\", \"maiden'\", \"'normal\", \"use'\", 'rose-inspired', 'shareholders:', '1.5gb', \"itunes'\", 'page,', 'hacking,', \"'anti-spam\", '9,000-km-long', '13mp', \"'tweeter\", 'sleep-based', 'luxury:', 'ex-flipkart', 'co-built', \"'unconstitutional'\", 'hack,', 'parenting-focussed', 'healofy', 'boatheads', 'cooling™', '₹9.4', '€600', \"'microbe-grown'\", \"'globalcoin'\", 'blush,', \"slut':\", \"'.amazon'\", 'asthma-monitoring', 'sharing,', '3,300-kg', 'emotions:', \"'decency'\", 'chtrbox', '6t', 'india-specific', 'ex-security', \"qualcomm's\", '$3,000', 'doggo', 'feiliao', '₹7,500cr', \"'smartphone\", \"microscope'\", 'feb-may', '₹53cr', 'cyberattacks,', '$861', '₹5.6', 'glassdoor', '$95bn', 'gods;', 'translatotron', \"'no-spy'\", '5-seater', 'nokia,', 'tvs:', 'musk-backed', \"'re-invent'\", 'accountability:', 'zucknet', 'update:', 'wannacry,', 'affairs:', 'royole', 'hummingbird-inspired', '$75b', 'q:', 'myntra-jabong', \"'electric\", \"highway'\", '32mp', '‘experience', 'pop-up’', 'coding:', \"'domination'\", '$70bn', 'networks,', '$76,000', 'parties:', 'bounced-back', 'demands:', '$3.5-mn', '45-km', 'luxury,', 're-awards', \"'immoral'\", 'alibaba-backed', 'megvii', '$750', 'fact-checkers', 'shipping,', 'pre-orders:', 'approval,', \"'patriotic'\", \"'hey\", \"google'\", '$40m', 'ibm-backed', 'hdr10+', '5-stars', \"'mountain\", \"garbage'\", 'thumbs:', 'srinivasan,', 'coinbase,', 'myntra', 'bulusu', 'ex-googler', \"'sorry\", 'tumblr,', 'inaccurate,', \"'bonfire'\", '90,000:', 'videos:', \"eateries'\", '8-year-serving', 'seashell,', 'buying:', \"'solid\", \"sales'\", '$1tn', 'm-cap:', \"'less\", \"pressurised'\", 'private,', \"'super\", \"'backdoors'\", '$1.5b', \"crush'\", 'dicaprio-backed', '$240mn', \"harper's\", \"'inhuman'\", 'better,', \"'subscribe'\", 'bum,', 'leagoo', \"'miracle'\", 'product-selling', 'fan,', \"'wraparound'\", \"mode':\", 'promise,', 'gene-editing', 'cams,', 'thanos,', '$1-trillion', \"katrina'\", 'eye:', 'prototype,', 'raina’s', '$125mn', '98-inch', '₹0.5', \"'primary\", \"competitor'\", 'walkout,', 'pasta,', 'chat-exposing', 'smartcar', 'otonomo', '‘freedom', 'expression’', 'ma-backed', \"'996'\", 'non-tesla', 'horse:', 'grieve;', 'refund,', \"'123456'\", '2,500l', \"thing'\", 'settlement:', 'apkmirror', 'infosys,', \"'wannacry'\", \"messenger's\", 'super-easy', 'harass,', 'quote-sharing', 'highly,', 'watch-like', 'kubbra', 'unocoin', 'robot-dogs', \"tiktok'\", 'taxi-hailing', 'licence:', 'siri,', 'google-supported', \"assassin's\", '€0.5m', 'explorer,', 'unused,', '$19,', 'apple-qualcomm', \"paris'\", 'super-intelligence', 'fbi-linked', \"'africa\", \"challenges'\", 'in-search', 'board;', 'ids,', 'airpods:', '$7.7', 'taxes?', 'butt,', '7,000km', 'art,', \"'9am\", '9pm,', \"week'\", '₹156', 'mit-yale', '€30,000', \"'abusive'\", 'trint', '$4.5mn', 'copyright,', '₹6,650', 'bonus,', '1st-of-its-kind', 'tasks:', '$1.3b', '$900,000', '$12b', \"ny's\", '₹32,000', \"'video\", \"fingerprint'\", '$36', \"post's\", 'airpods-like', 'earbuds:', 'bitch,', 'lap,', \"'frequently\", \"forwarded'\", \"'safely\", \"remove'\", 'livestreams:', \"'pixel\", \"3a'\", 'mi5,', \"mcd's\", \"'stories'\", \"cfo's\", '$406m', '$36b', 'ex-actress', 'mayoori', '₹1.21', '₹54,100', 'haptik', '$143bn', \"legend's\", 'amount,', 'dogecoin', 'altaba', 'bus-tracking', 'xiaomi:', 'minute:', 'google+', 'astronomer,', 'athletes,', 'interference-free', 'chennai:', 'rover,', 'kharagpur,', 'no-visuals', \"'instagram\", \"facebook':\", \"lyft's\", \"'conversion'\", 'iran-linked', \"'superbugs'\", 'smartphone,', 'crashes?', '₹690', 'military,', 'blog,', '$30mn:', '$250mn', 'overlay-making', 'geogif', '$800m', 'downloading,', \"attacker's\", 'iphone-linked', \"'inaworldwithnotwitter'\", 'philanthropy:', '₹52,750cr', 'promising:', \"'error\", \"fixed'\", \"watchman'\", \"8'\", 'nokia-branded', 'cloth-based', 'washable,', 'most-subscribed', 'exascale', \"volvo's\", \"'care\", \"key'\", 'mosques,', '₹14,900', 'device,', \"'hello'\", 'passwords,', \"nvidia's\", \"brush'\", 'vapes', \"'mate\", \"x'\", \"spotify's\", '$127m', 'centibillionaire:', '90mn', 'subscribers,', 'holi,', '10.5-inch', \"'code\", \"ethics'\", \"zte's\", 'shrimp-inspired', \"'z'\", \"'ninja'\", 'effective,', '$31mn', \"caller's\", '$1-billion', 'rebate:', 'heartbeat:', 'winrar', 'daniels,', \"'subscribe\", \"pewdiepie'\", 'man-like', 'laptop,', 'roles:', '$19bn', \"'claws'\", '₹1.4', 'aus;', 'guarded,', 'flytrap-like', 'reddit.com', '$45mn', \"estonia's\", 'wanted:', \"'tim\", \"apple'\", \"inventors'\", 'winning:', 'celebrating,', '192-megapixel', 'qutoutiao', '‘twttr’', 'royalties:', 'slaughter,', \"room'\", 'patents:', '2,200-sq-foot', 'bhavnagar,', \"'bolo'\", 'like-rate', '48mp+5mp', \"'tributes'\", 'mit,', 'samsung-owned', 'webauthn', 'kernel,', 'upgrad', \"b'lore\", 'canada,', 'moldova:', 'phone-hacking', '3,700-km', '$0.01', 'likes,', 'video-making', 'tiktok:', '“5g', 'tomorrow”', 'excel,', 'democracies:', '$479', 'door-step', \"youtube's\", 'under-skin', \"'clear\", \"history'\", '18,000mah', '1tb', \"'grandkids\", \"on-demand'\", '10yrs:', 'last-mile', 'irwin,', 'mp-led', 'thinq', \"palm's\", \"'bird\", 'handwriting-mimicking', 'self-lacing', '4g,', '$360,000', 'sextortion', 'correct:', 'meme:', \"paper'\", 'banking:', \"'maps\", 'kumbh,', \"'fortnite'\", 'lawsuit,', 'anydesk', \"'param\", \"shivay'\", 'iit-bhu', 'nestlé,', '$500k', '‘live', 'loud’', 'computer,', 'pre-verify', \"exist'\", 'ex-microsoft', 'disney,', 'monetising', \"'digital\", \"gangster'\", \"'healthy'\", '2.5mn', 'groups:', 'finger-worn', 'devices,', 'bigo', 'advanced:', 'males:', \"mario's\", '₹708', 'kimoji', 'servers:', 'platform:', \"'like',\", \"'retweet'\", \"'profile\", \"preview'\", 'ixigo', 'careers,', 'dubsmash,', 'myfitnesspal', \"'threat':\", '30-40%', 'voice-tech', 'siri:', 'panel,', 'degeneration:', 'mars:', 'autocompleting', 'c:', 'defence:', \"'call\", \"duty'\", 'heads:', \"'gta\", \"v'\", \"'time-taking'\", \"bed'\", 'vfemail', 'smartwatch,', 'seller:', '3.8mn', 'tinder-like', \"safari's\", \"track'\", \"drivers'\", 'label,', \"'false\", \"advertising'\", 'hotels.com,', 'screens:', 'record?', 'unsend', 'cringey:', 'siri;', 'tech-based', '$300mn', '$3bn', '10yrs', '$5m', 'revealed:', 'outlet:', 'sari,', '$571', 'back-dated', \"'sensitivity\", \"screens'\", '50l', 'mate20', 'unprotected:', '1,66,000', 'portal:', \"'dislike'\", 'press,', \"integration's\", \"'jenga'\", \"'reply\", \"context',\", 'mislabels', 'retweets,', \"wearer's\", 'porn:', \"'karma'\", 'staff-only', \"'lookalike\", \"urls'\", 'water-spraying', 'view20', \"iphones'\", \"'404\", \"error'\", \"dali's\", 'period-tracking', 'commands:', 'news-first', 'hiv+', 'leaked:', 'bitgrail', '₹1,200-cr', '$23', 'goat,', 'messenger:', 'feature,', \"siri'\", \"soundcloud's\", 'wahlforss', \"'media'\", 'features:', \"'razy'\", \"'moments'\", 'view20,', '48mp', 'razr-like', '$150mn', \"parent's\", 'audio:', \"'uri'\", 'ad-spend', '$125', 'airbus:', 'youth-run', 'applications:', 'y9', '₹2,990', 'user-made', 'involvement:', \"demand':\", \"'portal'\", '$995:', 'mishaps:', 'lyft,', '$245', 'mega:', \"'windows\", \"mobile'\", \"'lol'\", \"fossil's\", 'limit,', '$13,000', 'jenner’s', 'porsches,', 'next,', 'fix:', \"'fires'\", 'challenges,', \"'ryuk'\", \"7'\", 'adherence:', \"'own'\", 'steps,', 'supplier:', 'anti-google', 'request,', '₹13.5l', 'e-bike', '‘right', 'forgotten’', '65yrs', 'fb:', '₹960', \"'hit'\", \"'infrared'\", \"e',\", '9mn', '$22.7', 'ces,', '$770', 'acqui-hires', \"ex-workers'\", \"food's\", 'breach,', \"blur's\", 'finger-sized', \"'national\", \"concerns'\", 'cake:', \"'happy'\", 'radar-based', \"'cheat'\", '3d-printing', \"'blanket\", 'vulnerable:', '3?', \"'maharashtra\", \"creator's\", 'credit,', \"'forgot'\", 'seriously,', 'suit:', \"cars'\", 'print,', \"'ustaad'\", 'postcard-sized', 'flag-off', 'pre-booking', \"parents':\", 'kashmir-related', '₹44', 'picture-in-picture', '12.1.2', 'kimbho', \"'radar\", \"hacking':\", 'app-connected', 'drone:', 'mkbhd', 'karandeep', 'kardashian-jenners', 'bezos-backed', 'zwift', 'bent,', \"'cerebrum'\", \"taapsee's\", '1,000-fold', 'painful:', 'video-looping', '‘auto', 'rickshaw’', 'route,', 'ex-tesla,', \"fireworks'\", \"armstrong's\", '$49,000', '400mn', 'hackable', 'pics?', \"'donald'\", 'stalkers:', 'atrocities:', '15,779', 'jan-nov', 'tokopedia', 'size,', 'resolution:', 'zymergen', 'int.ai', \"'bohemian\", \"rhapsody'\", 'most-streamed', 'leak,', 'ex-uber', 'korea’s', 'users’', \"bieber's\", '‘baby’', 'wearable,', 'battery-free', 'cloudmagic', 'face++', \"oneplus'\", 'cfo,', \"'despicable\", \"rogue'\", 'ad-fraud', 'vile,', 'docs,', 'ai-driven', '48-megapixel', 'vooc', '₹1.6', '$870', 'abeja', 'iitk', \"2018'\", \"ex-manager's\", 'russia’s', \"'adult\", \"content'\", 'theorists:', \"star'\", \"ariana's\", \"'breaks\", \"internet',\", 'gionee', \"'help\", \"youtube'\", 'cameraman:', '8.7%', 'rivals?', '₹30k', 'hysis', \"'abhi\", 'c***d', \"kar':\", 'biometrics,', 'amazon’s', '$480', 'hololens', 'audi,', 'e-store', 'fb-linked', 'oneplus,', \"'bitches\", 'non-user', '$5,100', 'irresponsibly:', 'tariff:', 'texts,', 'us-run', '7yr', 'notchless', 'hole:', \"nose'\", \"device'\", '$645,000', 'equipment:', 'vr,', 'notifications:', 'layouts,', \"'skippable'\", 'flex,', 'foldi', 'bias:', 'bose,', 'head?', \"'brahminical\", \"patriarchy'\", \"'bfr'\", \"'starship'\", 'camera:', \"'whiz'\", 'q318', 'kanye,', 'bankrupt:', 'cylance', 'worsens:', 'toutiao', 'glove:', 'glucose-detecting', \"'knock\", \"knock'\", 'pray,', 'renren,', '‘facebook', 'china’,', '$60mn', 'jobs’', '₹35l', 'constraints:', 'ethereum', \"snap's\", 'hijacked,', '‘lasso’', 'obsidian,', 'inxile', 'count:', 'iitians', \"'more\", \"genders'\", \"'compass'\", \"'delete'\", 'floor:', 'humanity’s', 'terror-related', \"stories'\", '$2,700', '#giftafestival', \"'experiment':\", 'software:', 'brain-like', \"12-yr-old's\", \"gamers'\", 'ages,', '$260', '\\u200blg', 'predictable:', '$1,199', 'status,', \"'shakti'\", 'referendum:', 'arthur,', '$90,000', '$5mn', 'walkout:', 'allegation:', 'gas:', 'imessage:', \"'notches'\", 'ex-cpo', 'hydrogen,', 'derecognise', \"web's\", 'jio-oneplus', '$87', \"'condom\", \"abb's\", '19yrs', \"'second\", \"notch'\", 'xl,', '$1.25', \"bbc's\", 'trushar', \"sound's\", '$7.5bn', 'misconduct,', 'intelligence-generated', '₹3.16cr', 'young,', \"god's\", \"'cryptocurrency\", \"largest'\", 'ibm,', 'symrise', '$758', 'tendencies:', 'documents,', 'urls:', '200mn', 'hacked:', '8.7m', 'stillborn,', \"'falling\", '20-people', '10mn', '2.2-lakh-sq', '$571mn', 'awake:', 'grade,', '911,', 'harvest,', 'finally...free?', \"'foldable'\", '$116', \"'bagel'\", 'random,', '$3mn', '3.5-hr', '$15m', 'lightspeed,', 'shop101', 'nobroker', 'opendoor', 'all-stock', 'e-commerce:', 'pricing;', 'treebo', 'atmosphere,', 'softbank,', 'inmobi', '10%,', \"navi's\", 'md;', '₹204', 'sugarbox', \"exec's\", 'group-backed', 'bharatpe', \"'tens\", \"millions'\", \"'swiggy\", \"genie'\", 'leave;', 'customers,', 'extension:', 'zupee', 'fingerlix', '₹337', 'bankbazaar', 'bigbasket', 'gupta’s', '$2mn', 'vedantu', 'zomato,', '100-140', '₹264', 'angellist', \"executives'\", 'salaries:', 'foods,', 'efficient,', 'digitally:', '1mg', 'home-renting', 'indialends', 'revv', 'gurugram-based', 'agritech', 'dehaat', '$3.25', 'fabhotels', 'workforce:', 'warehouses,', 'juul,', '$12.8', \"ex-byju's\", '₹3,007', 'furlenco', 'lightbox,', 'bytedance:', 'organisation,', 'zilingo', 'partners,', 'nykaa', 'steadview', '50-70%', 'cash;', 'milkbasket', 'traveltriangle', 'shopclues', 'bhavish', 'innerchef', 'dailyninja', 'vendors,', 'private:', 'opportunity,', 'ninjacart', 'eduwhere', 'vectors,', \"'wasn't\", \"dumb?'\", 'driver-partners,', 'mobikwik', '₹223', 'co2-based', 'innovaccer', 'sucks,', 'productivity:', 'unrecoverable:', 'cure.fit', '₹832', '$807', 'holdings:', \"'fear\", \"mind-killer'\", 'coverfox', 'premanshu', \"zoho's\", '37%', '₹3,308', '₹516', 'fampay', 'sequoia,', 'combinator,', 'khatabook', \"'contactless'\", 'byju', 'raveendran,', \"zomato's\", 'leap,', \"'intimidation'\", '₹12.6', 'bansal,', 'sucking,', '$3,999', 'cab-hailing', 'babysitting:', 'foundation-funded', 'overhaul:', 'screening,', '$206', 'ola-backed', 'vogo', 'trifecta,', 'a91', 'faasos', \"wework's\", 'spinny', '$43', '$220', 'rival:', 'qure.ai', \"bira's\", \"snapdeal's\", 'swiggy:', 'billionaire:', 'railyatri', '10-20%', 'ggv', 'rupeek', '$34b', '$40.8b', 'lenskart', '₹216', '₹137', 'coatue', 'upi:', 'gidumal', '$113.3', 'naspers:', 'theft:', 'droom', 'go-mmt', 'whatfix', 'sarbvir', 'dunzo', 'alteria', 'cto,', 'quikr', 'resident,', 'oyo’s', 'firings,', 'voonik', 'shopup', 'spoyl', 'acquihire:', '$335', '$951', 'co-founders,', 'co-working', 'global-backed', 'societyconnect', \"ventures'\", 'highest-valued', 'ceo;', 'magow', \"nobroker's\", '$361', 'payout:', 'moengage', 'investing:', 'nestaway', 'apnacomplex', 'jabong', 'firstcry', '₹2,120', 'brandless', 'atlantic:', \"execs'\", 'pepperfry', 'pidilite', '27,916', 'twitter-backed', 'uber’s', 'chaayos', '$21.5', 'exercise:', 'kirthiga', \"'unicorn'\", 'iswai', 'portals:', 'waycool', '$310', 'jabong:', 'required,', 'train:', \"'f**king\", \"n***er'\", 'avaana', 'instamojo', 'acquisition,', 'getmeashop', 'ovenstory', '$4.6', \"nazara's\", 'fy19;', 'gurugram’s', 'fleetx', 'reliance-backed', 'onlinetyari:', 'mathrani,', '9.6%', '₹1,376', 'qyuki', '#swipestories', 'google-bcg', 'healthtech,', \"fund's\", 'smes:', 'retailers:', \"'master\", 'oye!', 'chiratae', 'aspada,', '$60bn', 'coatue,', 'investors:', 'over-fermented', '5-6%', 'delivery,', 'bizongo', 'fadell', 'letsventure', \"'mystartupequity'\", 'misunderstood:', 'ukibc', '$59', 'meddelivery', 'loginext,', 'livspace', 'assault:', 'crysta', \"naukri's\", 'samasource', 'park+', '₹1,392cr,', 'acquisitions?', '$105', 'appsflyer', '$210', \"mygate's\", 'flutin', '$148', '$2.5mn', 'konfinity', '1,800-2,400', 'most-sexy', 'moglix', 'navi:', '25-50%', 'linkedin,', 'innov8', \"'completely\", \"false'\", 'zoomcar', '₹213', 'garikipati', 'samya.ai', 'eaze', '$167', 'ex-paytm', 'india-focussed', 'starship:', 'wrapped,', 'zinier', '$90', 'programmer:', 'jolt,', 'shaken:', 'inventus', '1.67%', 'pressure-tested', 'organisation:', 'e-mail:', \"squats'\", 'dhan-aadhaar-mobile', \"startups'\", 'epifi', '$5.3', 'shuttl', 'edwise', '1,200:', 'foodtech', 'teeth,', 'ballsack', 'grad-led', 'highradius', 'ed-tech', 'testbook', 'jv:', 'mamaearth', 'rentomojo', 'rheo', 'surge,', '$97m', 'accel,', \"eduardo's\", 'rivigo', 'revv:', 'meritnation', 'commissions,', 'butter,', 'chai:', 'teabox', 'wealthbucket', 'friends,', 'fashor', 'fruit,', 'collegedekho', 'ex-mckinsey', 'sachs,', '$2.7', 'kim,', '262%', 'unicorns,', 'tracxn', 'processes,', 'budgets,', 'careem', \"nio's\", 'leverageedu', 'gomechanic', 'chiratae,', 'trulymadly', '₹19.6', 'oyos', 'travelopedia', \"scott's\", 'wow:', 'factory,', 'mavenhive', '$644', '₹191', 'xpressbees', 'eduisfun', 'riskrecon', 'madras-incubated', 'ynos', 'profitability:', '$6.3', '10th-straight', 'multi-chute', 'ola-owned', 'foodpanda', '₹756', 'zostel', '$15,000', 'poker:', 'bankrupt,', 'i;', 'landing:', '$231', 'dick,', 'razorpay', 'arpit', 'dna,', \"letsventure's\", '$1.07', 'urbanclap’s', 'further,', '$1.75', 'compete:', \"'permitting\", 'sustainable,', 'subject,', 'ivm,', 'omidyar,', 'kalaari', '₹20.16', '$15.5', 'glovo', 'ncinga', 'executives’', 'azah', 'zestmoney', 'hungerbox', 'paytm,', 'boeing-built', 'satellite,', 'thrice-flown', '₹2,363', 'deep-tech', 'group’s', 'ecozen', 'ubereats', \"organics'\", 'zomato:', 'xto10x', '$42', 'paytm-parent', 'one97', '₹4,724', 'weed,', '₹56.6', 'ml:', \"rivigo's\", 'purplle', 'atlantic,', 'bezos-led', \"origin's\", 'm.paani', '$5.5', 'over-hiring:', 'binca', '$705k', 'foresight:', '$26', 'kredx', 'ventures,', 'daggubati,', 'shetty-backed', 'fitato', \"unicorn's\", \"'toxic'\", \"diver's\", 'bookmyshow', '₹594', 'flyy', 'magicpin', 'cuemath', '₹39', 'capitalg,', '$693', 'iss,', 'work-wear', 'fablestreet', '₹586', \"'isko\", 'ghaas', 'kaatnewala', \"milega':\", \"hotel',\", \"'mighty\", \"mice'\", '₹2.31', '₹17.71', 'fy18', 'credr', 'indyfint', 'sportido', \"'open-invite'\", '$254', '1,100%', \"razorpay's\", 'shadowfax,', 'rajkot-based', '16-slide', 'amritsar-chandigarh', 'lisa,', 'cardekho', '$41', '$643', 'spacetech', 'lucideus', '₹2,244', 'wakefit.co', '₹27,500', \"camera's\", \"ola's\", '38%,', 'zomato-backed', 'tinmen', 'pepperfry’s', '₹183.5', 'infra.market', 'revenue:', \"boat's\", 'temasek:', '₹2,838', \"de'\", 'mid,', 'acko:', 'more,', 'freecharge:', '20x,', '35x', 'zumutor', \"droom's\", '₹129', 'greyatom', '165%', \"rapido's\", '₹53.29', '94%', '₹348', 'kamatan', 'samunnati', 'pharmeasy', 'freshtohome', 'doodhwala', '$7.8', '$950', \"lithuania's\", 'akriti', \"philippines'\", 'carmudi', 'purchases:', 'flyrobe,', '₹5cr', 'everstone', 'ex-goldman', 'india-focused', 'firstu', 'dog-walking', \"wag's\", 'windows:', 'allbirds', \"vp's\", \"inmobi's\", \"iitians'\", 'roposo', 'flyover,', \"'shatterproof'\", 'quikmile', 'chandigarh-based', 'ex-executives', 'saif,', 'matrix,', 'viagogo', '$4.05', \"board's\", 'mocked,', '₹323', 'nephroplus', 'april;', 'zolo', 'snapdeal,', \"'unbreakable'\", \"'cybertruck'\", \"dream11's\", '$17.4', 'opfin,', 'lentra', 'binance', 'wazirx', 'burn:', 'grads-led', 'cloud-security', 'clumio', '$290', '$6.8', '₹179', 'living:', 'casaone', 'quilt.ai', '₹175cr', 'kitchens;', '₹75cr', 'academics,', 'clevertap', 'giveindia', 'foundation,', \"karma's\", '1,100-hp', 'acquisition:', \"prototype's\", 'fund-ii', 'myhq', 'cloudsimple', 'easyrewardz', 'wingreens', '₹125', 'furtados', 'wmall', 'minors,', '₹321', 'medikabazaar', '₹49', 'naukri', 'shipsy', 'jumbotail', '₹14.2', 'wework:', 'singh-backed', 'healthians', \"mindtree's\", \"delhi-ncr's\", 'co-founders:', 'bike-sharing', \"bounce's\", 'foodpanda,', \"'simsim'\", '₹43', '₹888', '$20-25', \"spacecraft's\", 'launch-escape', 'firm100x.vc', 'pricing:', 'bhatt-backed', 'amj', 'doordash', 'coolberg', 'windrose', '₹210', 'zypp', \"vogo's\", 'scooter-rental', 'strategy,', '₹1,767', \"berlin's\", 'ebikego', 'supergaming', 'guesture', 'cbrex', 'ekart', 'starships,', 'delhivery', 'dart,', \"gati's\", 'adam,', \"global's\", 'policybazaar:', '$400m', 'listings,', 'quartic.ai', '₹375', 'lambdatest', 'svasti', \"furlenco's\", 'lock:', \"shopclues'\", 'cheating,', 'ex-wework', 'ride-sharing,', '$369', \"'space\", \"taxi'\", '₹2,539', 'deeptech', 'quits:', 'backers:', 'enpower', '₹2.6', 'gradeup', 'piggyride', '₹7.5', 'fallout:', 'unresolved:', 'freshworks', 'accel:', \"'party\", \"houses'\", 'garage:', \"payu's\", 'crunchbase', 'beyouplus', '$3.2', 'pixxel', \"myntra's\", '257%', '₹539', 'woovly', '₹17.7', 'xeraphin', 'edstart', \"bahrain's\", 'intergrow', '₹7.06', 'adda247', '₹169', '₹76', 'qoo10', 'harassed,', \"model':\", 'management,', 'fisdom', 'hyundai-kia’s', '₹1,171', 'elasticrun', 'smartworks', '₹177', 'illg', '₹4,472.5', '123%', \"delhivery's\", '160%', 'tripoto', '₹9.7', 'classes,', 'ah!', 'infurnia', '$200,000', 'burger-making', '₹1,624', '$11.3', 'smruti', 'parida', 'mobikon', 'fixel-backed', '8.8%', 'alkemi', 'styched', 'fosun,', 'pick-up,', 'hrtech', 'nadiem', 'ctpo', 'tata-backed', '₹405', 'meity', 'innovations,', \"ladder's\", 'brands,', \"'zaakpay'\", \"lilium's\", 'sellers:', 'instacar', \"meity's\", \"neumann's\", \"'unicorns',\", 'faballey,', \"indya's\", 'microsoft’s', 'chain:', 'remedico', '$500,000', 'cleartax', 'flipkart:', \"trulymadly's\", 'shravin', '$56', 'investor:', \"galactic's\", 'urbanpiper', 'global,', 'mygate', 'wegot', '₹83.5', 'dropkaffe', 'soal', \"electric's\", 'boost,', 'limeroad', '₹3.19', '₹838.5', 'attempts:', 'e-sugam', 'rowe:', 'odd-even:', \"'oyo\", \"anniversary',\", 'in-office', 'bewakoof', 'logx', 'onwards:', 'misra,', \"abbot's\", 'plastic:', 'entrepreneurs:', 'grammar,', 'spell-check', 'grammarly', '$90m', 'bansals,', 'bhavish:', 'self-drive', \"'kidnapped'\", 'dog;', '2011-2014:', 'vahdam', 'incubators:', 'smytten', 'problems,', 'ex-payu', '$25m', 'subzi', 'mandis', 'jpmorgan:', 'byg:', 'ai-backed', 'kutcher-backed', 'cleansecar', 'e-lender', 'kissht', 'melorra', 'dealshare', '2012:', 'byju’s', 'warehouse:', 'songs:', 'coinbase', 'omni:', 'vahan.ai', \"button'\", 'avaali', 'kogta', 'creador,', 'profitable,', 'layoffs,', '25%:', 'one97,', 'agtech', '3.30am,', '$500m', 'hr-tech', 'greytip', '₹34.5', 'fyle', 'hyderabad-based', '$45', 'finbox', 'arali', '$43m', 'origin,', '$50-million', '$585', 'ggv,', '$140', 'instadapp', 'carestack', '$28', 'logout', 'mengage', '$100,000', '225%', '$205', 'loantap', 'sleepycat', '₹11-crore', '$300-mn', 'hyundai-kia', 'ola:', 'excitement:', \"'core\", 'terraview', 'innovation,', '2019-end,', 'oivi', 'hnis', '$55', 'whistledrive', 'twid', 'sme-focused', 'nearbuy', 'warikoo', 'darwinbox', 'biz,', \"ex-ceo's\", 'jet:', 'crids,', 'zivame', 'prasid', 'onco', '1balance', 'aavishkaar', 'jio-backed', 'buzzo.ai', '$13.5-15', 'degree:', 'foods:', \"'pre\", \"trust'\", 'seoul,', '₹36', 'advarisk', '$700k', 'metaform', 'emotix', 'murugesh,', 'algorin', 'techlabs', \"padukone's\", 'fundbox', '$176', 'catalyst,', '$130m', 'juul:', 'honestbee', 'ketofy', 'tencent:', 'bigbasket:', 'worthless,', 'written:', \"sheets'\", 'whiteness:', 'lecturenotes', '₹7.86', 'cyca', 'oncosolutions', 'pharmarack', 'iplt', 'avataar', 'b2b,', 'govt-backed', \"'wow!\", \"momo'\", 'faasos-parent', 'gunpoint,', 'hipbar', 'ex-myntra,', 'e-design', 'spacejoy', 'upstox', 'glowroad,', 'bccl,', 'digi-prex', 'youth-focussed', 'slicepay', '₹20.5', \"'qunami'\", 'payments:', 'zodius,', 'avendus', 'ex-secy', 'valuation,', 'bookings:', '₹4-crore', 'kaarya', 'syntizen', 'acpl', 'livepools', 'attainu', 'pluspin', '₹5.25', 'blowhorn', 'meddo', 'fixel', 'drivezy', 'ashwarya', 'shoekonnect', '₹392', 'kedaara', \"'silicon\", \"valley'\", 'match.com:', 'neogrowth', 'proparco', 'e-tail', 'stalkbuylove', \"70-yr-old's\", 'b:live', 'grabonrent', 'grabon', \"lendingkart's\", 'sachan', 'popthirst', 'okcredit', '$67', 'lifeship', 'daqri', '#waitasectoreflect', 'tesla-rival', \"lido's\", 'truebil', 'aptus', '₹880', 'nocca', 'marsplay', \"iit-b's\", 'eureka!', '₹525', '$115', '₹1,616', 'by-products:', 'quintoandar', 'whitehat', 'uclean', 'chem-dry', '0.51%', 'fitso', 'hotel:', 'investopad', '$25-mn', '$5-7', 'advisorymandi', 'ad,', 'commvault', 'deepinder', 'consumer-brand', 'ride-hailing', 'getaround', 'xyxx', 'sauce.vc', 'prophysio', 'goqii', 'druva', '75f', 'bloomberg-backed', 'qatar,', '$45-50', 'lightbox:', 'atomberg', 'yelo', '3rdflix', 'exfinity', 'vyapar', 'cashflo', \"lpu's\", 'denmark-based', 'danamica', 'yuj', '#logout', 'mswipe', 'speculation:', \"cred's\", 'e-marketplaces', 'lendenclub', '$21/hour', '$2-$3', 'instacart', 'innovcare', 'shadowfax:', \"'startup\", \"cell'\", \"'deceptive'\", 'aspada', 'vipkid:', \"'predatory'\", '$50m', 'mygate,', '$10m', 'google-backed', 'svic', 'ribbit,', 'softbank:', '#zogoisnogo', 'gold:', 'bike-taxi', '₹391', 'go-jek:', 'abhibus', 'chargebee', 'cloudcherry', 'sastasundar', \"'angel\", 'ibibo', 'indwealth', \"'gold'\", 'hungerbox,', '$4.75', 'paysense:', 'sequoia:', '₹1,800:', 'zendrive', 'chiratae:', 'lo!', 'delhi-incubated', 'sanfe', 'paypal-backed', 'docsapp', '#baattohkaro', 'gym.fit', 'snapdeal:', 'reddoorz', '$70m', '$567m', 'fhrai', \"restaurants'\", 'engineer.ai', 'vahanalytics', 'micromax,', 'talview', 'mishry', 'cowrks', 'uncube', \"indore's\", 'shopkirana', 'admitkard', '₹14.5', 'pikup.ai', 'one97;', '$100-million', 'reservation,', 'facebook-backed', 'parentof', 'beef,', 'doxper', 'tech-enabled', 'lqi', 'orbo.ai', 'uniphore', '$51', 'shunwei,', 'lendingkart', 'capitalg-backed', \"boys'\", 'competitive:', 'c2fo', 'grexter', 'i2stay', 'scripbox', 'dharmil', 'greendeck', '$40-50', '₹212', \"phonepe's\", 'fundraise:', 'thirdwatch', 'twice-flown', 'bhopal-based', 'healthqik', 'ajmera', 'retailer:', 'awfis', 'chryscapital', 'fintech:', \"'fallen\", \"short'\", '$933', 'gowork', 'edge-backed', 'klevops', 'bansal-backed', 'ppus', 'gohive', 'ninjacart:', \"'non-hindu'\", 'lazypay', 'go-jek,', 'titan,', '₹522', 'freshmenu', 'saarthi', 'progcap', 'cibil', 'vymo', 'mobikwik,', 'mypetrolpump', '₹697.9', 'trillion-dollar', 'ncr,', 'filtercopy,', 'cpo,', 'brainly', 'innoven', 'mindtickle', 'myscoot', \"paymentwall's\", \"alteria's\", 'indifi', '₹145cr', '₹707', \"paymate's\", 'kissht:', \"'anti-competitive'\", \"innoviti's\", 'nomura,', 'nasdaq:', 'winzo', 'e-rickshaw', 'smarte', 'pariksha', 'ispace', 'jukedeck:', '$300m', 'convrg', 'ecosystems:', 'endiya', \"partners'\", '5.5%', 'homigo', 'aishwaryaa', 'travelstop', 'cloudlanes', 'ford-backed', 'icertis', 'ambee', \"'agripreneurs':\", '₹27cr:', \"alumni's\", '₹342', '$73-million', 'growx,', 'cuban,', '$65', '$300m:', 'shailaz', '₹78', 'e-grocer', '$50-mn', 'iit:', 'co-launches', 'sofyx', 'ex-sequoia', '$351m,', 'flocare,', 'bigtrade', '$120-million', 'localcircles', 'micro-delivery', 'supr', 'authority:', '₹30l,', '49.99%', '₹55,000', 'udan', 'daalchini', 'ex-foodpanda', 'e-payments', 'cult.fit', 'drugs:', 'reduction:', 'earlysalary', '$2.5m', 'waterbridge', 'e-commerce,', 'farmart', 'speculative:', 'transactions,', 'myglamm', 'bessemer,', 'theranos', 'legal-tech', 'wizcounsel', '₹483', '$130m:', 'alibaba-like', '₹1-trillion', 'bolt:', '₹531', 'fired,', \"rocket's\", '28-floor', 'tapchief', '$650,000', 'scentials', '₹94-lakh', '725-km', 'nexus-backed', 'ice:', '$350mn', 'cure.fit:', '₹450', 'labs-incubated', 'finwego', 'practo', 'wysa', 'active.ai', 'kalaari,', \"account',\", '$29m', 'myntra,', '₹5.3', 'kredily', \"byju's:\", '$72', 'zoomcar,', 'self-driving,', 'knowledge-sharing', 'fruits,', '₹100cr', 'aircto', '₹108', 're-launches,', 'flyrobe', 'gromo', \"'rural\", \"impact'\", '€100m', \"slack's\", 'goamiles', 'mcaffeine', '₹351', 'vehicle-to-vehicle', 'leegality', 'angels,', 'pratilipi', 'biz2credit', '₹360', 'woman-led', 'chakr', '#beardoboss', '$120m', 'pristyn', 'arrays:', '₹62', 'recykal', '₹13.8', '16,105', 'dpiit-recognised', 'agara', '$36m', 'vmate', 'vasireddy,', 'bright,', \"'dress'\", '₹6.6', 'rating:', 'iimjobs,', 'hirist', 'sistema.bio', 'iitian-led', 'vezamart', 'downscales', 'lightbox-led', 'freshvnf', '$246-million', 'phoolvari', 'glowroad', 'ex-tiger', '₹40cr', \"aib's\", 'valued:', '$350m,', 'unicorn:', 'hungerbox:', '$51m', \"'makes\", '$600m', '$58m', 'craftsvilla', 'e-marketplace', '₹25-crore', '$20-million', \"'fintech'\", \"'techfin'\", 'fish,', 'rocket-building', 'natero', 'people.ai', 'alumnus-led', 'biofourmis', 'amazon-backed', '$6m', '₹19cr', 'niki.ai', 'tendulkar:', '$2.9b', '$45m', '$190m,', 'graduate-led', 'e-comm,', 'unsustainable:', \"ikea's\", \"urbanclap's\", '150%', '$575', 'advertise,', 'ecosystem:', '$13b', 'come,', 'quit,', \"rannvijay's\", '₹17.5', \"mds'\", 'timing:', 'robotaxi', 'docttocare', 'istart', '$200m', 'founders:', '₹155', 'cialfo', '₹21cr', 'classplus', '₹11cr', '$82', 'incentives,', '₹1,380', '$1.14', \"scientists'\", 'tagbox', 'wooplr', 'crunch:', 'senior,', 'insurance,', 'mirae-naver,', 'foodcloud', '2,500-kg', \"b'luru's\", 'infibeam', 'chumbak', 'loanmeet', '₹1,060', '₹520', 'lopez,', '$507', '@leisure', 'healthkart', '₹173', \"belgium's\", '₹1,043', 'travelkhana,', 'railyatri:', '₹13.8cr', 'zenoti', '₹347', 'ex-alibaba', 'fashion-tech', 'styledotme', \"namdhari's\", 'fresh:', 'chqbook', \"'pedo':\", 'niramai', '₹698', 'machines,', 'mihup', 'home-rental', 'quest2travel', 'zefo', '$97', 'vue.ai', 'sailed:', 'commission,', '₹248', 'doubtnut', 'dhoondna', 'dhoondne', 'barabar:', 'valley:', '$2-3', 'jio:', '₹41cr', 'exec,', 'nuts:', 'planetspark', 'ruling,', 'mfine', '$17.2', 'nilekani-backed', \"railyatri's\", 'unauthorised:', 'dailyrounds', 'qwikcilver', '₹763', 'co-invest', 'krazybee', 'freshokartz', 'car-rental', 'zipgo', 'ecosystem,', '37:', 'sairee', 'ebay:', 'myhealthcare', '2,26,800', \"jd.com's\", 'rau,', \"cure.fit's\", '$7bn', 'delists', 'atomx', \"byton's\", '₹260cr', 'co-invests', '₹20cr', 'increff', 'foodtech,', 'retail-tech', 'hoteltonight,', 'ex-airbnb', 'jd.com', \"'may\", \"profitability'\", '$4.7bn', 'kabadiwala', '₹118', 'wibmo', '₹484', \"tax':\", 'cold-pressed', 'rejoov', 'thoughtspot', 'sigtuple', 'mn;', 'e-kyc', 'kuliza', \"valley's\", 'colive', 'bike-taxis', '₹180cr', 'mobile-focused', '$2bn', '$4.5bn', 'cashfree', 'toppr', '$500mn', 'cashify', 'e-motorcycle', '₹20,000cr', '₹553cr,', '₹320-crore', \"'1mg'\", '₹314', 'clampdown:', '₹7cr', 'teamonk', 'assault;', '$666', '₹2,000cr', 'non-issuance', 'wedmegood', 'caratlane', '69.47%', '₹99.99', 'joins:', 'harambe', 'gozoomo', 'fastfox', '$31,000', '₹34', 'ian,', '₹240', '$24.3', 'tbo', 'clickitbookit', 'box8', 'parent:', '320-km', 'teambition', 'dunzo:', \"group'\", '$7-8', 'lightspeed:', '$3.1', \"'self-drive'\", '$18-billion', '₹14cr', '$134-billion', 'oxfordcaps', 'qianyu', 'zetwerk', 'ai-focused', 'revoked,', '₹743', '$413mn', '$1.5bn', 'response,', 'drivezy:', '$60-100', 'andhra-based', 'couldn’t', 'harvard,', 'netmeds', 'kivihealth', '$7.6', '20dresses:', 'theft;', 'ex-staff,', '$5.4', 'chopra-backed', \"bumble's\", 'food-focused', 'instarem', 'thirstie', 'tookitaki', 'insta360', 'orios', 'doctolib', '$170m,', 'fees:', 'complaint:', 'webengage', 'ex-cfo', 'enquiries:', 'innov8,', \"homigo's\", 'missing,', '₹30-crore', '1377°c', 'halaplay', 'nazara,', 'entry:', 'lyft:', 'zopnow', 'innoviti', \"ebix's\", 'surf,', '₹2.64', \"'s3xy'\", '₹700-crore', 'hsbc,', '₹303', '$10bn', 'shopclues,', 'teci', '$40mn', 'peppertap', 'gramfactory', 'agrostar', '₹188', 'hoteltonight', '$521', \"'unchecked'\", '₹1,400-crore', 'ex-myntra', '₹154cr', 'stayabode', 'fuel-savings', 'aibono', 'mobike', '$693m', 'circular:', 'widow,', '30,000-square-foot', 'powerstation:', '₹233', 'donatekart', \"'accidental'\", 'smecorner', '₹440', 'operations:', '$425', '$35,000', 'grab:', '$920', \"'underperforming'\", 'ncore', '14-yr', 'ride-sharing', 'zūm,', '$800,000', 'indostar:', \"'inaccurate'\", 'dataturks', '22.44%', '₹31.2', 'ready-to-cook', 'embarrassing:', 'nymble', 'billdesk', 'kitchens,', 'glyd', 'alarming:', 'aiova', 'trufactor,', 'e-scooters', 'sachs:', '$50-60', 'premjiinvest', 'turms', '€1bn', 'figures,', 'lalamove', 'spotdraft', '₹214', \"mubadala's\", 'seabubbles', \"'flying'\", 'ziploan', 'pickyourtrail', 'mutate:', 'yabaji', \"sride's\", 'float:', 'carbiqi', 'tanglin:', 'royce,', '$13.2', 'mobycy', \"'open'\", 'cook-backed', '$499', \"'dog\", 'e-residency', \"aramex's\", 'iit-kgp', 'smallcase', '₹56', 'shopx', 'e-tailer', 'gabbardeals', 'earth,', '0.07%', 'vidooly', 'record-making', 'bhirani', \"engineers'\", 'nuro', '$940m', 'dpiit-certified', 'tiger:', \"'mars'\", 'xiaomi-backed', 'soocas', 'openapp', '$88mn', 'past,', '$145-mn', 'pai-backed', '3one4', '₹350-cr', 'notices:', \"entrepreneurs'\", '$11mn', 'cashbacks', '₹115', '$218', 'guazi:', '$35mn', '$948mn', \"succeeds'\", 'trusted,', 'kruzr', 'medlabz', 'detected:', 'ex-workers', 'munchery,', 'esignature', 'hellosign', '₹1,780cr:', 'gurugram:', 'alphabet-backed', 'simyog', 'disputes:', \"alumnus'\", 'clovia', \"'fart'\", 'incubator,', \"'surge'\", \"roorkee's\", 'e-summit', '₹149cr', '$7-10', 'gender,', 'bhavin', 'turakhia', \"'plastic\", \"fibre'\", 'agnext', 'bikes,', '₹35cr', '$6.2', '$125mn,', \"'more'\", 'filings:', 'samara-amazon', 'epigamia', 'rubrik', '$261mn', '$400mn:', 'ex-quikr', 'turtlemint', '₹1,431', '₹50-crore', 'app-making', '₹850', \"jabong's\", \"islam's\", 'text,', '186-kmph', \"'leaner\", \"company'\", '$74', '$5.7-billion', 'mid-ride', \"'dash\", '₹63', \"'funding\", \"secured'\", \"'hey'\", 'amazon-flipkart', \"terrorism':\", 'infosys-backed', 'teksolvr', 'health-tech', '$200m:', 'gps,', 'myra:', \"samara-amazon's\", 'aasaanjobs', '₹699', 'march-end', 'mars,', \"'misusing\", \"position':\", 'flipkart-walmart', 'servify', \"b'luru-based\", 'iservice', 'vyome', 'fortigo', 'tool,', 'scooter-making', '300,', 'tencent-backed', 'tranzmeo', 'pre-seed', 'shop:', \"faballey's\", 'rocket:', '$15mn', 'in-body', 'unicommerce', 'naspers,', \"'bajirao\", \"mastani'\", \"mastani',\", 'blippar', '$25mn', 'noises,', \"'invented\", \"fart'\", 'gravestone,', 'weather,', 'nopaperforms', 'letstransport', '5.56%', 'cycle-sharing', '$900k', '$460,000', \"rival's\", 'breakup,', 'lab-grown', 'steak,', '$540', \"tax',\", '91springboard', '$10.2', '₹24cr', \"project'\", '$60mn:', \"'crap'\", 'piece;', 'copied:', 'clear,', 'sec:', 'filpkart', 'ex-group', 'xto10x:', 'wakefit', 'foodybuddy', '₹6cr', 'housejoy', '$3.24', 'musk:', 'female-centric', 'agri-marketing', '₹2,190', 'iim-b', 'sagisu', 'friendship:', 'boxes,', 'them;', 'shareholder,', 'auto-parts', 'boodmo', \"robot's\", 'e-classifieds', '$98.58', 'parkjockey', 'maheshwary', 'once,', 'travel-tech', 'guiddoo', 'cleartrip', 'knowlarity', 'yatish', 'property-tech', 'cabs:', 'downs:', 'cloudsek', 'yebhi', 'hospals', 'hopefully,', 'dairy-tech', 'mr.milkman', '$1.1mn', \"healthcare's\", 'udacity', 'bike-rental', \"ofo's\", 'taxify', 'janhvi;', '$16-bn', \"ex-worker's\", 'apology:', '77%', '81.3%:', '$30mn', 'doctalk', 'pivot,', 'car-hailing', 'meituan', \"there're\", '$6-7mn', 'cashrich', \"graduates'\", \"'settled'\", '$450mn', 'weed:', 'signzy', 'seraniti', 'healthifyme', '$100mn:', '$97.5', 'coupang', 'ex-indigo', 'myntra:', 'deliveries:', '33:', 'perpule', '$4.7mn', 'biizlo', 'airtable', \"music's\", \"'misconduct\", \"allegation'\", 'affair,', '₹67', \"binny's\", \"'zomato\", \"treats'\", 'ex-cbo', 'ucommune', 'susheel', \"'hyperpure'\", \"wholesale's\", '₹12,224', 'stelligent', '₹8.2cr', 'denholm?', 'electric-bike', '₹613', 'pune-mumbai', 'freecharge', \"'cred'\", 'occurred:', '₹122', \"norton's\", '9.5%', 'trouble,', 'orbit:', 'singh’s', 'youwecan', 'holosuit', '$26mn', '₹3,224', '₹6.3', '₹1,490', 'gamingmonk', 'manufacturer:', \"'insolvent'\", 'wifistudy', '₹4cr', 'ignored:', 'stunned,', 'plans,', 'dorco', 'letsshave', 'tabsquare', '$10mn', 'smart-heating', \"mode',\", \"'refresh',\", 'cells:', 'tendulkar-backed', 'sportsbiz', 'kidnaps,', 'boredelonmusk', \"'paypay'\", \"watchdog's\", 'treebo,', 'combinator-backed', 'indonesia,', '$3.75bn', \"living'\", 'd*ck', \"'entrepreneur'\", 'crew:', 'tesla-branded', \"'teslaquila'\", 'wakeupbasket', '$400mn', 'raincan', 'food-tech', 'spoonshot', '100,000th', 'gozefo', 'ucweb', '6.72%', 'bookmybai', 'holachef', \"kumble's\", \"bat'\", 'alibaba-owned', \"ucweb's\", '11.44%', 'xiaozhu.com', 'de-list', 'non-licensed', '$15-20', '₹7.4cr', 'truebil:', 'tanmay,', 'gursimran', 'consensually,', 'forceful:', 'liya:', 'sank:', '$800mn', '8yrs', 'tata:', '₹5,800', 'shortseller', 'livquik', 'ex-expedia', 'bhava:', 'getfocus,', '9stacks', '₹1,574', '₹100-crore', '₹221', 'weed-linked', 'girlfriend:', 'gates-led', 'distractions:', '$245mn', '$20bn', '$100b', 'netradyne', 'bansal:', 'entity,', 'deliveroo', 'commut', 'planet:', 'shopify', '$6-7', 'justdoc', '20,000:', 'obopay', 'mubble', 'ago?', 'beach:', 'physicist:', 'richer,', 'chatbot-focused', 'graveyard:', 'baidu,', '$10.6', '₹106', \"'apni\", 'gitlab', 'moon?', 'gimmick:', 'frequently:', 'taste:', \"rapist'\", '₹3,462', 'livestreamed:', 'careem:', 'worldview,', '₹7,439', \"riders'\", '$118', 'ex-pr', 'docprime', '₹8.75', '$2bn:', '₹7.2l', \"estate'\", 'isn’t', 'autogrid', 'taxiforsure', 'vokal', 'ex-coca-cola', '$178', 'tripfactory', 'retiring,', \"'wannabe'\", 'jaise', \"taise'\", 'alibaba:', \"'taxi'\", 'naaptol', '₹109', '3-year-gap', 'founder-backed', '$130mn', \"'sexism'\", 'babychakra', 'flamethrower,', 'times;', \"'pedo',\", 'greyorange', '$1bn,', 'scandal-hit', \"'eureka!\", \"'laughable':\", \"'burn'\", 'robo-taxi', 'waymo:', '₹113', '$700mn', 'tonguestun', \"idea':\", '₹285', '$4mn', '2017-2018', 'tapzo', 'ten:', 'achievement:', '100-ft', 'steroids:', 'commonfloor', '$70mn', '$5bn', '₹3.54', 'while:', \"'man-child'\", 'shipx', 'rajasthan-based', 'dcoder', 'ctos,', 'missmalini', 'official,', 'propshop24', '1609-km', \"'extension\", \"cord'\", 'sue,', '₹1,604', '2017-18', 'paytm:', 'altf', 'daftar', 'imarticus', 'naukri,', '99acres', 'majety', 'ex-pixar', \"'fail\", \"cheap':\", \"hosts'\", \"'unshirkable\", \"responsibility':\", 'liv.ai', '$25,000', 'ebay.in,', 'rajinikanth:', 'teary-eyed', 'sattviko', '$427', '$7.1', '$34k', 'pressery', '₹33.5', '$4-billion', '₹91cr', \"'lingerie':\", '$891', \"secured':\", 'excruciating,', 'spacecraft,', 'powerdrift', '$375', 'ex-baidu', 'trafficking,', \"'private'\", 'liar:', 'inthree', 'acid,', 'ex-tesla', \"'guaranteed\", \"delivery'\", 'gaming:', 'weddingz', 'observe.ai', '4amshop', 'mydreamplus', '₹2,700', '$264mn', 'ultraviolette', '$16mn', 'gamepind', 'bugworks', 'bitmain', '$18bn', 'walmart-flipkart', 'bounce,', '$12.2', 'hansel.io', '₹27.5', 'sports-tech', '$750m', '$199', 'moviebook', '₹452', '₹82l', 'ziffyhomes', 'klook', 'traffic:', '$1,500', 'carmesi', \"'mini-car',\", 'e-cab', 'doubles,', \"manners'\", 'scootsy', 'eating:', 'no-brand', 'readwhere', \"truebil's\", \"'shuddh'\", \"retail'\", \"waymo's\", '$1500', 'grocery:', 'item:', 'relaunch:', '$11-mn', 'cash-on-delivery', 'authorised:', \"potter'\", '1,400%', \"'elon\", \"musk'\", 'e-cig', \"'unicorn\", \"farting'\", \"'vomit\", \"fraud'\", 'lifcare', 'mid-2019:', 'ex-delivery', 'refunds:', '$1,233', \"'stupid'\", 'ride-sharing:', '$6mn', 'sumona', 'genelia,', 'welcomecure', '9-camera', '$573', '$29mn', '$18mn', 'payu,', '$153', 'ex-mu', 'photosharing', 'vebbler', '$500mn,', '$3.2bn', 'instapaper', 'google-owned', \"nest's\", 'micro-hospitality', 'saffronstays', 'ele.me', 'zopper', '₹1.37', 'stunt:', 'earring-style', '₹13,600', 'plant-carrying', 'artist-focused', 'wishberry', '2.5l', 'e-car', \"dreamery'\", 'smartvizx', 'cart:', '$152', 'placio', 'shaadi.com', 'self-parking', '3-wheeled', 'eruditus', '29.9%', '₹140cr', \"colour'\", \"temasek's\", \"coffee'\", 'nightstay', 'uber-waymo', '₹1,639', 'complain,', 'jiophone', '$15.1', \"'prank\", \"paytm'\", '₹30.96', \"'tip'\", 'edureka', 'used-phone', '₹10,200', '12-yr-old:', 'gawande,', 'firm?', 'being,', 'swiggy?', 'anti-harassment', 'tact.ai', '$27mn', '465%', '₹6.28', \"'tent'\", '₹62cr', \"'muslim'\", 'colony,', '$55-70', 'supermercato24', '$20mn', 'ex-nasa,', 'joint,', 'energetic:', 'balwani,', 'airbnb,', \"ex-dentist's\", 'chillr', '$1-bn', 'byton', '149-times', '5mb', 'low-data', '‘start-up', 'visas’', 'what’s', 'dinners,', '₹186', 'prøhbtd', '$8mn', \"saavn's\", '₹3.2cr', 'co-passengers', \"'shortcut'\", \"financial's\", '$2,000:', 'dockless', \"'paytm\", \"mercari's\", 'venture,', 'spacex-inspired', 'thrusters:', 'co-founder-backed', 'meal-ordering', 'bike:', '$60-billion', '₹1,286', \"'fund\", \"funds'\", 'founders-backed', 'in?', \"d',\", '₹3.3', 'ii,', '₹9cr', 'ex-google,', '$175mn', 'self-driving:', 'raincan:', '₹839.3', 'transportation:', '₹829', 'tonetag', '$8-10mn', 'sensetime', '₹7,069', \"sherpa's\", 'y-cook', 'cashkumar', 'mobilewalla', '$12.5mn', 'inurture', 'krackin', \"'unusable'\", 'weren’t', 'sitting,', 'smartivity', '₹13.5', 'ticketnew', 'edyoo', '₹155cr', '₹880cr', \"'boring\", '$16-billion', 'saama', '$200-400', '$4.2', 'rocketium', '₹244', \"'ilovenasa':\", '$200-mn', \"soros'\", \"'18:\", 'metawave', 'stayzilla', 'e-com', \"'skyports'\", 'pro-swadeshi', 'tech-powered', 'giant:', 'crashes,', 'twitterati', 'rss-affiliate', 'mad:', \"sonakshi's\", 'surname:', 'aayush', \"rangoli's\", 'sussanne', \"'pirates...'\", \"'ala\", \"vaikunthapurramuloo':\", 'tables:', 'meat-eating:', \"'queen'\", \"'mississippi\", \"masala',\", \"office'\", 'khanna,', 'co-stars:', 'rithvik,', 'sets,', \"'whiskey\", \"lover'\", 'broke,', 'coughing:', 'morani', 'therapist:', 'naam:', 'memes:', 'lahri', \"'angrezi\", \"medium':\", 'hivju', 'workaholic,', 'safari:', 'dubai:', \"isolation?'\", 'kareena,', 'theatre:', 'divyanka', 'raajputh', \"kal'\", 'communalising', \"hanks'\", 'scarf:', 'idiot,', 'brooke,', '79,', \"farah's\", \"ekta's\", 'sinha:', \"marvel's\", 'thin:', \"domino's:\", 'cough;', 'leaking:', 'masked,', \"shoojit's\", \"'intimate\", \"scenes'\", 'shoojit', 'shaza', 'alia,', 'ntr:', \"'humma\", \"humma':\", \"paanch'\", 'collab', \"kapur's\", \"'office\", 'jupiter,', 'saturn,', 'sky;', 'actor:', 'workout,', \"'jack\", \"reacher'\", 'mountain,', 'height,', 'grint,', 'aparshakti', \"'fan'\", 'break:', 'themselves,', 'heath,', '74,', 'richa-ali', \"sidharth's\", \"masakali's\", \"rihanna's\", 'husband:', 'eardrums:', \"prine's\", \"'dissent\", \"patriotism',\", 'comfortable:', 'shyamsundar', 'kaalaani,', 'sugriv', \"'ramayan',\", 'shit,', 'salman:', 'agency:', \"'udta\", 'sisterhood:', \"song's\", 'voot', 'raikar', 'leucoderma', 'cancer;', 'slums:', 'looks:', 'sachiin', \"walker's\", \"'masakali\", \"2.0'\", \"'monisha\", 'beta,', 'fearlessly:', \"'nashville'\", \"'been\", \"days',\", \"rubbish'\", \"'compromise'\", 'salary:', 'maanvi', \"jahan's\", \"karan's\", \"'takht'\", \"jaya's\", 'original,', 'shortcuts:', 'idiots:', \"'both\", \"arrested'\", \"'aliens'\", 'benedict,', '68,', \"daughters'\", 'needy,', \"ratan's\", 'tomboy,', \"single':\", 'rakul', 'srilakshmi', 'ninepins:', 'hrithik,', 'remakes,', 'compton,', '94,', 'mahabharat:', 'blackman,', 'tisca', 'middle-class:', \"sonam's\", 'crackers;', 'symptoms;', 'morani’s', \"'jaws'\", 'fierro,', '91,', 'heavy:', 'grounded,', 'star:', \"lokhande's\", 'disorder:', 'sonakshi:', 'bored,', 'bit:', \"'sui\", \"dhaaga'\", 'bareilly:', 'dad,', 'amyra', 'scolded:', \"'sarabhai\", \"sarabhai',\", 'screen:', 'lessons:', 'actress-author', \"urvashi's\", \"flash',\", 'bisexual,', 'boys:', \"yr's\", 'bored:', \"milind's\", \"editing'\", \"'ain't\", \"sunshine',\", \"'lean\", \"ranveer's\", \"'husband'\", 'mrunal', \"'god\", \"widow',\", \"eternals'\", 'place:', 'maniesh', \"'let's\", 'large,', '78,', 'pizzarelli,', 'smoke:', 'mocking:', 'phool,', 'badshah:', 'crush,', \"hrithik's\", \"pratyusha's\", \"kapil's\", \"emotional'\", \"'swara\", \"news',\", \"'pure\", \"misery'\", 'govinda,', \"writer's\", 'parasite,', 'relief;', \"'genda\", \"phool'\", 'artist,', 'places:', \"smile'\", 'stalled,', 'preference:', \"basic'\", 'chindi', 'gyaan:', \"'tip\", \"tip'\", '₹51l', 'fwice,', \"singham'\", 'passed:', 'pm-cares,', 'madhuri,', '$100k', \"barsa..':\", \"'oprah's\", \"account'\", 'jack,', 'wars,', 'thumbs,', \"face':\", 'jhaadu,', 'pocha,', 'cook:', \"'sanju',\", 'lesbian:', 'ruslaan', 'cleaning,', 'laundry:', \"'original'\", 'yeah:', 'kalyan:', 'janhvi', 'boss,', \"'marzi\", \"'shaktimaan'\", 'doordarshan,', 'prine,', '73,', 'merrill,', '69,', \"'aquaman\", 'diffie,', '61,', 'shimura,', '70,', 'dd,', 'works:', 'amount:', 'infection:', 'mahika', '63:', 'suyyash', 'chilaa', \"andaa'\", 'hanks,', \"t'wood\", 'rashami', 'no,', 'helps,', \"critics'\", \"'mahabharat':\", 'easier:', \"'kaanchli'\", 'baccha', 'pulkit', 'ramayan:', 'dipika', \"'ek\", 'ugly:', 'get:', \"emergency'\", \"'due\", \"die?'\", 'dufris,', 'builder,', 'spider-man,', 'ridhima', \"'ant-man'\", 'smuggled:', 'legal:', \"workouts'\", 'bullsh*t:', 'co-parent', 'cardoz,', 'coronavirus-like', 'aahana', \"i'm,\", \"sunita's\", 'scripts:', \"'better\", \"boss':\", 'rakhee', 'song:', \"'dhadak'\", \"'use\", \"wards'\", \"johar's\", \"'takht':\", \"kangana's\", 'online;', \"distancing?'\", 'airborne:', 'anxiety:', \"gadot's\", \"'wonder\", \"1984'\", \"kashyap's\", 'tape,', 'morrone:', '(dog):', 'ex-model', 'sweeps,', \"'ask\", \"anything'\", 'jogging:', 'meiyang', 'mom,', \"'amavasya';\", 'uncle,', 'located,', 'self-quarantining', 'poetry:', 'shamita', 'indeep', 'grandma,', 'taste,', 'smell:', 'ajay,', 'sidharth,', \"god':\", 'complexion:', \"'chaiyya...'\", 'stereotyped:', \"elba's\", \"'witch-hunt',\", 'untraceable;', '14-hr', 'positive:', 'sidhwani', 'ahana:', \"schwarzenegger's\", 'stranded:', 'holiday,', \"'b*tch'\", \"'famous'\", \"bahl's\", 'rickshaws:', 'dharmendra,', \"hema's\", \"jovi's\", 'director-actor', \"bachelor'\", 'distasteful:', \"'travel\", \"necessary'\", 'wwiii:', \"'dhoom\", \"2',\", \"na...'\", \"'shutdown\", 'priyanka-nick', \"'childhood\", \"song'\", 'self-quarantine:', \"'idiots',\", 'diagnosis,', 'ok,', 'patriarchy:', 'pavail', \"'thappad'\", 'beginning:', \"irrfan's\", \"dolittle's\", \"'failure':\", \"health'\", \"noah's\", \"clear'\", 'precautions,', \"'83'\", \"'kapoor'\", 'bhaari', \"quarantined'\", 'mom-in-law', \"'wish\", \"there'\", 'silence:', \"'flight\", \"full'\", \"ke':\", \"'kai\", \"po...'\", \"rukh's\", 'mannat,', 'gadot,', 'portman,', \"lennon's\", \"'imagine'\", 'nushrat', \"'friends'\", \"sridevi's\", \"'mom'\", 'co-actor', 'dhabi,', \"'pyaar\", \"ka...'\", \"'inevitable',\", \"'sensible'\", \"scarlett's\", \"veteran's\", \"'bakri-cow,\", 'zyada', \"khao':\", \"sara's\", 'helps:', 'pednekar', 'collette,', \"'bell\", \"bottom':\", \"'jawaani...'\", \"'haseen...'\", \"pornography'\", 'self-conscious:', \"shirt'\", 'lootere', 'elba,', \"kareena's\", \"'angrezi...'\", \"'sadak\", \"madhuri's\", \"do...',\", 'along:', 'disturbing,', \"'prithviraj'\", 'mass-rape', 'blahs:', \"karisma's\", 'stardom:', \"to...',\", \"'raja...'\", \"malayalam's\", 'rajith', \"b's\", \"'saturday\", \"live'\", \"'frozen\", \"ii'\", 'hivju,', \"'tormund'\", 'got,', 'around,', 'homicide:', \"'contagion'\", \"'thappad':\", 'katy:', \"seriously'\", 'degenerated,', 'mtv:', 'distance,', \"m'wood\", 'cretton', 'immature:', 'script:', \"rings'\", 'boards,', 'tahira:', 'optional:', \"tiger's\", 'jamun,', 'films,', \"'deadly\", \"'productivity\", 'girlfriends:', 'f*****', \"sikkim's\", \"'mtv\", \"batman'\", 'gossip,', \"men's:\", \"'gunjan\", 'saxena:', \"'sandeep\", \"faraar'\", \"bhayani's\", 'sick,', 'opportunities,', \"'udham\", 'siddhant,', 'kind,', 'generous:', \"depp's\", \"panic'\", 'radicalised:', \"dylan's\", \"medium'\", 'ranbir,', \"'brahmastra':\", 'angira', \"'talkh'\", 'forward-thinking:', 'manushi', 'teary-eyed:', 'bhansali,', 'zoya:', 'addiction,', 'backache,', '30s,', 'beginning,', 'wolverine:', 'red-handed,', 'guys,', 'slap:', 'ddlj', 'homework:', \"'prayer-like\", \"'thing\", \"masks'\", \"'mimi'\", \"'f9'\", 'jayeshbhai', 'jordaar', \"toofan's\", 'date,', \"handshake'\", 'off-screen:', 'ellen,', 'sequel:', \"'nh10'\", \"right'\", \"b'wood:\", \"'wacky\", \"sense'\", \"'predicted'\", \"harvey's\", \"patekar's\", 'cinema:', 'ritviz', \"'udd\", \"gaye'\", \"'pati\", \"patni...'\", 'dulhan:', 'himanshi', \"khaitan's\", 'karan:', 'asha,', \"'was\", \"legend'\", 'badhaai', \"kaushal's\", 'trilogy:', \"'hats\", 'body-shamers', 'some:', \"'bhaang'\", \"work':\", '10;', 'jackky', 'bhagnani,', \"train'\", 'lips:', 'eternals:', 'kumail', 'karnick', 'sutaria', \"villain'\", 'dreams,', 'heartache:', \"'sexy\", 'thadam', 'remake:', \"'1971':\", 'inaaya,', 'kemmu', 'scenes:', \"'should\", \"killed'\", \"'thor'\", 'mercy,', 'patralekhaa', 'trolled,', \"like'\", \"sooryavanshi'\", 'most-searched', \"'baaghi'\", \"'bigg\", \"13'\", 'naagin', 'sydow,', 'logic:', 'baaghi', \"'sooryavanshi'\", 'evolved:', 'unattainable:', 'wanted,', 'environment:', \"'cargo'\", \"madonna's\", \"'madame\", \"tour'\", 'grandma:', \"'thought\", \"penis':\", \"'stepmom':\", \"'other\", 'droop:', 'thappad', \"'motherf**ker'\", \"'badhaai\", \"ho'\", \"'jayeshbhai\", \"jordaar'\", 'wishes:', \"'arjun\", \"reddy'\", 'creativity,', 'concerts:', 'movement:', \"sprouse's\", 'irrfan,', \"13':\", \"'baaghi\", 'hygiene:', 'conversation,', \"'victim'\", '36:', 'nature:', 'towel?', 'beach,', \"'akshay\", 'short,', 'rock,', 'climbing:', \"woody's\", \"die'\", \"craig's\", \"2000's\", 'x-men:', \"'thor:\", \"thunder'\", 'niro,', \"magical'\", 'audience:', 'geetika', \"dharmendra's\", \"'he-man'\", 'everyday:', 'rihanna,', '1-room', 'endorsed:', 'born,', \"'strange',\", 'look,', \"'bermuda',\", 'chore:', 'sets:', 'iglesias,', '₹32l', 'katy,', \"'safe':\", 'orlando,', 'muskaan', \"'western':\", 'shoots,', 'amounts:', 'boobs,', 'surgery:', \"'thalaivi',\", 'weight:', 'live-in,', 'instincts:', \"rhea's\", 'pub:', \"'gully\", \"boy'\", 'nominations,', \"'radhe'\", 'sleeveless,', 'conservative:', \"'running\", 'day?:', \"'bond'\", \"hilton's\", \"lele'\", 'exciting:', \"'batmobile'\", \"kajol's\", \"'devi'\", 'flattering:', 'dabboo', 'ratnani', \"'background\", \"dancer'\", \"'shorter'\", \"'taarak\", \"mehta...'\", \"'thadam'\", \"'loserly'\", 'pass:', 'shoot,', \"conflict?':\", 'avengers:', \"'immortal...'\", \"shraddha's\", 'reunion:', \"'instead\", 'everyone,', \"educated'\", 'nandish,', \"hirani's\", \"idiots'\", 'loop:', \"'stree\", \"vibhag':\", \"'phool\", \"aur...'\", 'watched:', 'cheap:', \"'sasta\", \"snake'\", 'suffered:', 'couch:', 'kam*ena', \"industry',\", 'manoj,', 'charmme', 'womanizer:', \"'they'll\", \"triangle,'\", 'nude,', 'laxmmi', 'metoo,', 'cautiously:', 'choices:', 'jennifer,', 'georgia:', \"'hot\", \"legs'\", \"chunky's\", 'mantena', \"'driver\", \"fan'\", \"'wipe\", \"syria'\", 'criticised,', \"film'\", \"'maharashtrian\", \"brown'\", 'ananya,', 'deverakonda', 't-shirt,', \"spielberg's\", \"dance'\", 'angrezi', 'dench,', \"'wrong\", \"shoes!'\", 'varalaxmi', 'kapur,', 'dysmenorrhea,', \"'vivek\", \"mundan'\", 'lifestyle:', 'long,', '₹500/month:', \"visible':\", \"filmmakers'\", 'asim,', 'marry:', \"asim's\", 'aliens,', 'zombies:', 'vijan', 'abinas', \"13's\", 'reconcile:', \"varun's\", 'foot;', 'throat,', 'mine,', \"yours':\", 'troyboi', \"'sizeable\", 'barbell,', \"bro'\", 'sreekar', 'avatar:', \"'bhool\", 'bhulaiyaa', \"'shubh...'\", 'gaga:', '#boycottthappad', \"'heropanti'\", 'franchise,', \"'heropanti\", 'sharvari', 'apologise?', 'fault:', \"mahira's\", 'hollywood:', \"'mulan'\", \"'blame\", \"gain'\", 'konkona,', 'scary:', 'bhagyashree', 'neha:', '37,', 'groups,', \"'les\", \"misérables'\", \"'stupid\", \"'chaiyya\", \"chaiyya',\", 'iconic:', 'mahie', '‘guru', 'dakshina’', 'irrfan:', \"'indiana\", \"5',\", 'fist:', 'haisha', \"ranbir's\", 'forged,', \"'pink',\", \"consent'\", \"deshmukh's\", 'genre:', 'craving,', 'pregnancy:', \"roy's\", \"pannu's\", 'plate:', 'sasikala', \"ranaut's\", \"'thalaivi'\", \"'jurassic\", \"dominion'\", 'aayush:', 'ashmit', 'ameesha', 'kaamyaab', 'torturous:', \"terrorists',\", '#boycotttakht', 'worms,', 'samjha', 'choo****:', \"'who're\", \"you?'\", 'roopal', \"'bade\", \"deshon...'\", 'holiday:', \"cruise's\", 'assault,', \"patani's\", 'simple,', 'brands:', \"tabu's\", \"kiara's\", 'prosthetics:', 'box-office:', \"'gulabo...'\", 'jayalalithaa:', 'barrier:', \"shahid's\", \"times'\", \"songs':\", 'stunt,', '68:', \"'rant',\", \"'haathi\", \"saathi'\", 'exhausting:', 'sachet-parampara', \"'jersey'\", \"neighbour's\", 'oscar:', \"'saare\", \"accha'\", 'shelved:', 'talented:', \"jahan...':\", 'pills:', 'pills,', 'herself:', 'chahatt', 'manners:', \"'flower\", \"backside'\", \"saavdhan'\", \"'ishwar\", \"allah'\", \"'aurora'\", 'chicken:', \"'america's\", \"talent'\", 'surrogacy,', 'introvert,', 'burqa:', \"pamela's\", 'belly:', \"dabboo's\", \"raghuvir's\", 'fun-loving:', 'heroine:', \"'gas\", \"leak'\", 'set,', 'difference:', \"kishwer's\", \"'undeserving\", \"winner'\", 'stunning:', 'dassani,', \"shukla's\", \"'aankh\", \"micholi'\", \"'gangs\", \"of...'\", \"'sheela':\", \"'bheege\", \"tere':\", 'ganjawala', 'sexualisation,', 'aayega', \"'gaali-galauj',\", 'shahid:', 'crushed:', 'name?:', 'aanand', \"'zero'\", \"mangal...'\", 'homophobia:', 'kewalya', \"'ami\", \"tomar'\", \"2':\", 'chaddha', 'flopped:', 'working:', 'chadha,', \"'bhoot'\", \"'bhabhi\", \"figure'\", 'na:', 'colleagues:', 'champions;', \"'tattad\", \"tattad'\", \"arijit's\", \"'chal\", \"chalen'\", 'harm?', '79-yr-old', 'pornstar,', \"'dad\", 'smoking:', \"kishori's\", 'gay,', 'role,', 'taurani', 'diversity:', 'jani-sandeep', 'terence,', \"'performer\", 'agarwal:', 'immigration:', 'bow,', 'brilliant:', '730hrs', \"zone',\", \"bachchan's\", 'himansh', 'guneet', \"'kyunki\", \"bhi...',\", \"'kkusum'\", 'shown:', \"varma's\", \"'raat'\", \"'run\", \"run'\", 'narration:', 'died,', \"'fixed'\", 'motwane', 'suspicious:', 'herself,', \"responsible'\", \"'paid'\", \"awards'\", 'tissues,', \"'queen\", \"katwe'\", 'waligwa', 'crayon:', \"saxena'\", 'monologues,', \"'bharat'\", 'harshvardhan', \"'haseen\", \"dillruba'\", 'sabya', 'bhatt,', 'actress,', 'shows:', \"'avengers'\", \"work',\", 'nasreen,', 'flow:', 'sawant:', \"shehnaaz's\", \"'wedding'\", \"'fixed\", \"granddaughter'\", \"'female\", \"ayushmann',\", \"b'wood's\", \"taapsee'\", 'malaika,', \"marey',\", 'kisko', 'bola:', \"'kartik\", \"come'\", 'movie,', 'sue:', 'tattoo,', \"'bhoot...'\", 'grammys:', 'finneas', \"scene?':\", 'pannu:', 'embarrassing,', 'annoying:', \"mcu's\", 'haaz', 'masurkar-directed', \"'sherni'\", \"madhubala's\", \"idol':\", \"'feels\", \"yesterday'\", 'fascist,', 'wholesale,', 'fascist:', \"'liv\", \"alaya's\", \"anil's\", \"about',\", 'jonas:', 'chill,', 'sirtfood', 'kg?', 'varun,', \"wendell's\", 'hardworking,', \"natalie's\", 'kanjivaram', 'we?', 'prevail:', 'imtiaz:', \"'aladdin':\", 'relationships,', 'contact:', 'heavily,', \"rodricks'\", \"'friday'\", 'kartik,', \"name...'\", \"'laal\", \"chaddha'\", 'couple:', 'unsafe,', 'destabilised:', 'mughals,', \"'you'\", \"penn's\", 'miscarriages,', 'quota,', 'entitlement:', 'donkeys:', 'things,', 'centineo', 'careers:', \"khan'\", \"'once\", \"upon...',\", 'robbie,', \"russell's\", 'kaushal,', 'sequence:', 'prabhudheva', 'sappho,', 'aditya,', 'trps:', '₹17.8cr', 'joaquin,', \"reeves'\", 'cinema,', 'few:', 'speeches,', 'laughs:', 'joker,', \"'roadies':\", 'rainwater,', \"defect'\", \"abram's\", 'daughter;', \"'marriage\", 'fun,', \"times':\", \"'sappho'\", \"'falls\", \"asleep'\", \"eminem's\", 'dicaprio,', 'shorts:', 'muscle:', '‘parasite’', 'gottsagen', 'johansson,', \"'ford\", \"ferrari'\", \"'as\", 'pandit,', \"yesudas'\", 'funeral,', 'looking,', 'self-obsessed:', \"zafar's\", 'disrespected:', 'thalaivi:', \"believe'\", \"ayushmann's,\", 'defects:', 'shahid,', 'same,', \"'dilli'\", '₹1.5cr', 'contain?', \"tattoos':\", 'anil,', \"'chowk'\", 'polish,', \"beautiful'\", 'motherf**king', 'censorship,', \"'censors'\", 'thappad:', \"rajamouli's\", \"'rrr':\", 'told:', \"vidhu's\", \"'shikara'\", \"bros'\", 'garage,', 'kunal:', 'mentality:', \"'lover',\", \"sobhita's\", 'masturbated,', 'changed:', \"emraan's\", \"amul's\", \"piercing'\", \"'tv\", \"mute'\", '₹744', \"riaz's\", \"boy',\", \"ashwatthama':\", 'formality:', 'violence?', 'daadhi', 'thodi', 'chubhti', 'woman-directed', \"vijay's\", 'organiser:', \"testicles'\", 'push,', 'hit,', \"'titanic'\", \"'masterpiece'\", 'technical,', 'wig:', 'swallow:', \"rgv's\", \"ayushmann's\", \"mangal...':\", \"aggarwal's\", 'kajra', \"jain's\", 'reception,', \"'over-the-top\", \"acting'\", \"kal's\", 'gym:', 'asked,', \"know?':\", 'fly:', 'knot;', 'post-wedding', 'jealous,', 'kiss:', \"'takht',\", 'polansky,', \"sun's\", \"'looks\", 'chikki', \"'black'\", \"'darr'\", 'morning,', 'indore:', 'ambanis,', 'bachchans', \"'cancer\", 'privilege:', 'pneumonia:', \"'i've\", 'a**', \"mendes'\", \"'1917'\", 'role?', 'atma:', 'saif:', 'vagina:', 'ghee,', 'butter:', \"'pambattam'\", 'raut:', 'dramatic:', \"victory'\", \"crown's\", \"'arre\", 'towns,', 'prostitution,', 'pandits:', 'hansal:', 'feeling,', \"lives?':\", 'kunal,', \"'trap\", \"city'\", 'fetish,', 'ocd:', \"'student\", \"3':\", \"newwz'\", \"'munna\", \"'loki':\", \"happy':\", \"'fluid'\", 'luck,', 'body-shamed', \"arnab's\", \"'tatti-ulti':\", \"kunal's\", 'madman,', \"shetty's\", \"'jawaani\", \"jaaneman',\", 'sera:', 'nawazuddin', 'biggish', \"'kaamyaab'\", \"'slumdog\", \"millionaire'\", \"'terminator'\", \"'thadam':\", \"perverse'\", 'slapping,', \"'udaan'\", \"vidya's\", \"'shakuntala...':\", 'leads:', \"'everyone\", \"wear'\", \"'darbar'\", 'menstruation,', 'pure:', 'karanvir', '54,', '100/km', \"paudwal's\", 'recovered,', '3-movie', 'threesome:', 'mishra-starrer', \"'kaamyaab':\", 'laughed:', \"jaaneman'\", \"'300'\", \"'army\", 'bitterness:', 'abhijat', \"'malang'\", 'sara,', \"'atrangi\", \"h'wood-like\", \"react'\", 'ratings,', '1-star', \"dil...',\", 'acharya:', \"'race\", 'race?', 'boring:', 'kaluuya', 'taimur,', \"'matrix\", \"4':\", \"'mission...'\", 'expenses:', 'boats:', 'dc-marvel', \"'rivalry'\", 'backside,', 'finger:', \"'forrest\", \"gump'\", 'remake,', 'would:', 'kangana,', 'awards?', 'grammy:', 'tyler,', 'homosexuality,', 'scratches:', \"wild'\", '\"disrespecting', 'quran\"', \"hemsworth's\", 're-think:', 'queen:', \"phoenix's\", 'brad,', 'dress,', 'grylls’', 'episode,', \"'light'\", \"was'\", '8kg', 'kal,', \"minaj's\", 'arjun,', '20-min', 'vfx-heavy', \"'radhe':\", \"jlo's\", \"'kill,\", 'audition:', 'avrram', \"bottom'\", \"'ole\", \"ole':\", 'padukone,', \"intern'\", \"'spinach'\", 'grammys,', 'poster:', \"'bachchan\", \"pandey'\", \"sejal's\", 'eilish,', 'categories,', \"lot'\", \"eilish's\", \"'song\", 'grammy,', 'lizzo', 'beyonce,', \"performance'\", 'singer?', \"'mission\", \"mangal'\", 'clot:', \"kabir's\", 'ranaut,', 'johar,', \"bts'\", '₹1.25:', 'warmth,', \"'andaz\", \"apna...'\", \"producer's\", \"tinder'\", 'jebran', 'pre-grammy', 'sejal', \"reasons'\", 'suicide;', \"'met\", \"ago'\", 'black:', \"jaaneman':\", 'pranutan', \"gunn's\", 'bindass,', 'juhi,', 'recklessness?', \"'bambi'\", 'foolishness:', \"punjabi's\", \"'sahoo'\", 'short-tempered,', 'irritable:', 'starve:', \"nora's\", 'rapists,', \"'if\", 'worship,', \"'fb,\", 'insta,', \"'movies'\", 'kher-shah', \"computers':\", 'batman:', \"'tejas'\", \"apna'\", \"'aniston!'\", 'embraced:', 'buzz:', 'dhawan;', \"'milf',\", \"python's\", \"'kaagaz'\", 'insulting:', 'diva,', 'jackie,', \"tamasha'\", 'bharat,', 'mahabharat?', 'bushfire-affected', \"reddy',\", \"'police'\", 'fainted,', '‘30', 'abram,', \"hard?':\", 'someday:', 'separation,', 'cordial:', 'chilling:', \"video's\", 'lassi,', 'speak,', 'casino,', \"sushant's\", \"'chhapaak\", \"look'\", 'faint:', \"jennifer's\", \"'no!'\", \"'a**hole'\", \"'street\", \"3d':\", 'successful,', \"might've\", 'secular:', '71-yr-old', \"'doesn't\", \"wife',\", \"azmi's\", 'citizen,', \"caa?'\", \"raghu's\", \"vicky's\", '₹16cr', '6yrs', \"'look'\", \"neha-aditya's\", 'dearly:', 'kokilaben', 'observation:', \"'kabhi\", \"kabhie...'\", 'jets:', 'gadot', \"'saand\", \"aankh':\", 'keerthy', \"ajay's\", \"'maidaan'\", \"khatter's\", 'truck;', \"anu's\", 'manali:', \"'enemies'\", \"'7\", \"ncw's\", 'inefficiency:', 'courtesan-turned-actor', 'binodini:', \"vikrant's\", \"education':\", 'maidaan:', \"apu's\", 'song;', 'overnight,', 'empty:', 'dictionary,', \"janhvi's\", 'annabel,', \"taken'\", 'in-law:', \"ritu's\", \"'tanhaji...'\", 'vantur', \"'laila\", \"majnu':\", 'drinking:', 'panga:', 'loving:', 'fans:', 'racket;', '₹60k', '₹100cr;', 'gangubai', 'kathiawadi,', 'film?', \"'meet\", \"'mr.\", \"sama'\", \"avni's\", 'therapy:', \"'close':\", \"gone'\", 'announced;', \"house's\", 'studio;', 'potty-trained', 'nomination:', \"'attack'\", \"'bhuj...'\", \"'fleabag'\", \"falcon...'\", 'most-nominated', \"'fallen':\", 'mandanna', 'miracle:', 'kashmera', 'looks,', 'those,', 'b*lls:', \"'smells\", \"vagina'\", \"duo's\", 'chhapaak’s', '4.4/10', \"jade's\", \"'karan\", \"arjun'\", 'aamir,', 'grown:', \"parasite's\", 'exists:', 'dhanush:', \"meghna's\", 'script,', \"gwyneth's\", \"vagina';\", 'akshay:', 'vulgarity:', 'newwz', 'bombshell:', 'gigi,', \"'no':\", \"panther'\", \"'malang',\", 'frida:', 'lip;', 'penis:', 'ashmit,', 'mahekk', 'know,', 'secretive:', \"farhan-shibani's\", \"'kamali',\", 'jabariya', 'alok:', 'grateful:', \"'uri:\", '₹35.67cr,', '₹11.67cr', 'shooting:', 'dhanoa', 'mental:', \"'reduce\", 'tanhaji-chhapaak', 'compared:', 'phoenix,', \"strange'\", \"kriti's\", 'divorcee?', 'nehha', \"'ranveerian'\", 'oman:', 'khatter', 'away;', 'asaram', 'bapu,', 'chhapaak,', 'boyfriend:', 'pankhuri', 'makers,', 'disease,', \"kabhie...',\", 'miscarriage:', \"'zero',\", 'fulfilment:', 'bajpayee', 'tanhaji:', 'trolls,', 'sh*t', '₹600cr:', 'apartment:', \"knees?'\", \"bhaskar',\", '₹1.54cr', 'batra,', 'after-party,', \"'frozen'\", \"'inception'\", 'ending,', 'viewer:', 'relevant:', \"'mardaani\", 'bafta,', \"irishman',\", \"upon...'\", 'wing:', 'chalamet', \"'going\", \"electric':\", '#baftassowhite', \"character's\", \"'hinduo\", \"aazadi'\", 'slogan;', \"ki...',\", \"terribly'\", 'choice,', \"stars'\", 'infrastructure-wise,', \"12'\", 'pendse', \"'maa\", \"salaam'\", 'hirani:', 'pregnant?', \"'manly'\", 'show;', 'john,', 'undue,', 'that?', 'biphobia', 'vishaal', 'bare-chested:', 'elton,', \"miley's\", 'depressed,', 'globes,', \"kushal's\", 'certificate;', 'topless:', 'sunday?', \"'beware\", \"propaganda',\", \"'share\", \"groups'\", 'comfort:', \"squad':\", 'aniston,', 'goa;', 'girlfriends,', \"singh...'\", \"stop'\", '3d:', 'diaz,', 'superstar:', 'malti:', \"army':\", 'troublemaker:', \"as*****s'\", 'athiya', 'deepika;', 'saree:', 'jasleen', 'matharu;', '₹5,600', 'survivors:', \"dutta's\", 'joker:', 'props,', \"'war'\", 'arrogant:', \"lele':\", \"'captain\", 'fest,', 'film;', 'mom;', '₹7.25', \"'chhapaak':\", 'classic,', 'ihana', \"'bhuj:\", \"accuser's\", \"batman's\", \"'roohi\", \"afza'\", \"afzana'\", 'penis,', \"singer's\", 'woman?', 'varrier', 'winking;', \"sadhguru's\", \"'bala',\", \"'uri...'\", 'equally,', 'sympathy:', 'knot,', \"'cold/mess'\", 'intense:', \"'deadpool\", 'studios:', \"'panga'\", \"'failure'\", 'kushal,', 'brave,', 'quick:', \"'slut\", \"clothes'\", \"'hero',\", \"'heroine'\", 'characters:', 'kabir,', 'preeti:', 'cardinal,', \"'mahabharata'\", 'educative:', 'amazing:', 'nostalgic:', \"'josef\", \"'incorrect'\", 'off-camera,', 'on-camera:', 'dunbar,', 'progression:', 'inspiration,', 'artistes:', 'contemporary,', 'tuna:', \"'terrible'\", \"'misguiding\", 'katrina,', \"squad'\", 'reinvention,', 'samosas,', 'jamuns', 'chhapaak:', 'boyfriends,', \"'maalik'\", 'bodyguard:', 'women-centric', \"ananya's\", \"dholakia's\", 'pankaj,', 'intelligent,', 'beautiful,', \"scorsese's\", 'marvel-themed', \"planning'\", 'grade:', 'loss;', \"rise...'\", 'church;', 'crisis’', 'miley,', 'mehendi', 'crying,', \"granddad's\", \"'dabangg\", 'collection:', 'divorce-related', 'christmas:', '₹46.7', 'diljit,', \"'suraj\", \"bhari'\", \"nyt's\", \"'chhapaak',\", 'tide:', \"younger':\", 'flattered:', \"chocolate'\", \"singh',\", 'f**ked', \"traffic'\", \"'russian\", \"prostitute'\", \"'dev.d':\", \"'sperm'\", 'channel:', 'sridevi,', \"'sly\", 'wrinkles,', \"dawood's\", 'yet;', 'panther,', 'bulls**t:', \"'mahabharata':\", 'set:', 'gag,', \"lighthouse'\", 'genre,', 'wishlist:', 'award;', 'sanya:', 'glamorous:', \"lakh'\", \"'abusing\", 'aunty:', 'labour:', '54-yr-old', \"'skyline\", 'sarbh', \"'kalank'\", 'dhanush,', 'chulbul', 'corrupt,', \"irishman'\", 'outing:', 'gigs,', 'undress,', \"'onion\", \"earrings'\", '₹61', 'critics,', 'b:', \"ranjan's\", 'weeping,', 'tough,', \"sona's\", 'pleasant:', 'opposition,', 'couples:', 'rihanna:', 'shaleena', 'nathani', \"'hurtful\", \"language',\", \"uneducated'\", \"imdb's\", \"'sonchiriya'\", 'nominations:', 'concert:', '#shameonbollywood', 'host,', \"'dam\", \"'swades'\", 'python:', 'mardaani', 'hub:', 'roller-coaster:', 'nanjiani', 'conscience:', \"'unrecognisable\", \"kumar'\", 'scene:', 'lankesh,', \"bhansali's\", \"'baiju\", \"bawra':\", \"ravi's\", \"'tujhe\", \"kasam':\", 'geeta,', 'madat', 'frame:', \"mahesh's\", \"that?':\", \"roshan's\", \"30'\", 'church,', \"'charlie's\", \"angels'\", 'peranbu', 'uri,', 'amitabh,', \"'gulabo\", \"sitabo'\", 'alright,', \"b*lls?':\", \"'jijaji\", 'it;', '23-kg', \"'tanhaji:\", \"the...'\", 'damaging:', 'danish-french', 'filmmaker:', \"'avengers...'\", \"'guardians...':\", \"'dabangg'\", 'toni-ann', 'crown?', \"winget's\", 'co-designs', \"'starfighter'\", 'ev,', 'title?', 'me?', \"chatterjee's\", \"smita's\", \"khushi...':\", 'flawed,', 'success,', 'audition,', 'chaddha:', \"'f*ck\", \"harvey'\", \"'husky'\", 'virat-anushka', \"'dress\", \"'saand...'\", \"abu's\", \"'durgavati'\", '75-80%', 'actor-writer', 'gollapudi', \"'disclaimers':\", \"apna':\", 'tired?', 'udta', 'designer;', \"rashami's\", 'arhaan', 'scotland,', 'sometime:', 'accusers,', 'assaults:', \"'radha\", \"gori...'\", 'chatrath', 'pro-war:', 'manual:', 'photobombing', 'kkhh', 'wet-hair', 'will,', 'rapes:', 'dharma-produced', \"'dabangg':\", 'throner:', \"'outsider',\", \"'hustlers'\", \"friendship':\", \"'satte\", \"satta'\", 'gender:', 'clothes;', 'aryan,', \"gauri's\", \"'anti-indian',\", 'inaaya:', \"'darr\", 'makdee', '1yr', \"'ratsasan':\", 'gender-biased', 'scary,', \"baaja...'\", 'sting,', \"'pati...'\", 'awkward,', \"'cover\", 'sharma,', \"abs'\", 'award-fixing', \"'choti\", \"behen'\", \"lata's\", \"'morchas':\", \"'mcgonagall'\", 'storytelling:', 'zozibini', 'tunzi', 'wrld', 'vartika', 'universe,', \"nawazuddin's\", 'tunzi,', 'actress:', 'pneumonia,', 'misbehaves,', \"'oye\", \"terrorist':\", \"'balakot:\", 'shy,', 'sobhita', 'beasts:', 'potential:', '103,', \"'om\", \"om'\", \"kids',\", 'journalist;', \"nushrat's\", \"'turram\", \"'chhalaang'\", \"'queen',\", \"dhaaga...'\", 'khurrana', 'vulnerability:', 'saiee', \"sisters'\", 'mai,', 'karloge:', \"'chamchi\", \"salman'\", 'karisma,', 'chehre', 'shanaya', \"warrier's\", \"'la\", 'engaged;', 'stalks,', 'ex-splitsvilla', 'harshita;', \"co-star's\", 'condoms,', \"rapists';\", \"dicaprio's\", '23-yr', 'bottle;', 'lecturing:', 'in-ha', 'homewrecker:', 'bottles:', 'scene,', 'stomach:', \"'boring',\", \"unicef's\", \"'shape\", \"literally'\", 'portfolio,', 'strip:', \"veterinarian's\", \"baap'\", 'kishan:', \"dragons'\", \"'believer';\", \"'ser\", \"bronn'\", 'praak', 'also:', \"'dangal'\", 'genres:', \"paquin's\", \"'manikarnika...'\", 'chhillar', 'lynched:', 'chocolate:', \"society'\", 'fame:', '-3°c', \"'brahmāstra';\", '15°c:', \"'grateful\", \"life'\", 'accurate,', 'débutantes', 'tale,', '40,', 'anushka,', \"'sustainability'\", \"saga':\", \"kapadia's\", 'shaitans', 'half-tickets:', 'photoshoot;', 'punished,', 'okay:', \"'hotel\", \"mumbai'\", \"'khaali\", \"peeli'\", \"boy':\", '$400,000', 'madly,', 'rapper:', '85,', \"hound'\", \"'neend\", 'churayi', \"meri'\", 'sex?', \"bhumi's\", \"kya...'\", \"mohena's\", \"ex-husband's\", \"'gaana\", 'bajane', 'plays,', 'background:', '£65', 'balatkaar', 'laughing:', 'perform:', '100-crore', 'flop:', \"'dole-shole'\", 'artist:', \"'saand...',\", \"'bala'\", \"'friday\", \"office':\", 'bhumi,', \"'chances\", 'soutan:', 'sir:', 'pattern:', 'selfie;', '₹8.5cr', 'episode:', 'shoot;', 'wide-structured', 'body-shaming', 'stunt;', \"man':\", \"malaika's\", \"better'\", 'marketing:', 'skirt;', 'rap:', 'eyeball:', \"games'\", \"'bhagwan'\", 'makers:', \"bajirao's\", 'relationships:', 'allen,', \"fox'\", 'naseeruddin,', 'propose?', \"'strike\", \"deal':\", 'lootera:', 'realistic,', '₹413', 'linear:', \"rampal's\", 'radhika,', 'bieber:', \"'kabir...'\", 'glorification:', \"'show\", \"talent',\", \"'lust\", 'padmaavat', 'baahubali:', 'thalaivi', 'mahhi', 'aparajitha', 'enhanced:', 'inconsequential:', 'gomez,', 'saand', 'aankh', 'shirt:', 'reunited:', 'mcmafia,', 'nawazuddin,', \"'bob\", \"biswas'\", 'awards:', 'scriptwriter,', 'nimish', 'pilankar', '₹20k', 'crush:', 'badla,', 'best-scented', 'buds?', 'dress:', 'consciousness:', 'composer:', \"taylor's\", 'accusation:', 'megastar:', 'jammwal', \"'desi'\", \"charlie's\", '90s,', 'media-shy:', 'towel,', \"'chubby':\", 'kaifi,', 'website;', \"kaifi's\", 'mask:', 'bald:', 'maanayata', 'traumatising:', \"idol',\", 'judge:', \"'vulgar'\", \"'ram'\", 'acting,', 'photographer,', \"harsh's\", 'co-actor:', 'thought,', \"honour?':\", \"way':\", \"quality':\", \"association's\", 'donor,', 'aamir:', \"saroj's\", \"ranu's\", 'actress;', 'dancing;', 'aishwarya,', 'otherwise:', 'b*lls', \"kamya's\", 'rampal,', 'jesia', 'babies:', 'eternally:', 'shots:', 'gaga,', \"'chehre':\", 'many:', \"holding?';\", 'deliberately:', \"fans':\", 'bath:', 'manners?', \"manish's\", 'dahi:', \"panipat's\", \"'kristoff'\", 'idol:', \"'sacred\", '20mn', \"sanon's\", 'tuition,', 'abhishek:', 'eat,', \"'thugs...'\", 'puthran', 'harassed:', 'dessert:', 'pulkit,', 'content-driven', 'hits:', 'abs,', \"'tumhari\", \"sulu'\", 'forte,', 'decide?', \"'jhund'\", 'andhadhun', 'make-out', 'jam:', 'parlour;', 'mardaani-2', 'loser:', 'request;', 'authentic:', 'energacamerimage', 'take:', 'carpet,', 'unmatched:', 'karan;', 'sex-rehab,', 'earn:', \"malik's\", 'girl’s', 'celebrates:', \"'chooda'\", \"bajpayee's\", 'reprised:', \"schindler's\", 'hyper-sexualised', '20s:', 'pressured:', \"kid'\", \"'ch****a'\", 'kbc;', \"'belan'\", '₹144cr', '7-bedroom,', '11-bathroom', 'livelihood:', 'off-shoulder', '₹1,672', 'posing:', 'rolling,', \"career'\", 'ali:', 'perry,', 'have?', \"'dream\", 'rekha,', 'easy,', 'dialogues:', 'dengue;', 'rest:', 'attempt-to-rape', \"11's\", '₹7-crore', 'ajeet', 'answer?', 'hindi:', 'panipat-bajirao', 'improving:', 'ch****a', \"'motichoor...'\", 'vulgar:', \"'old'\", 'awkward:', \"veer-zaara's\", 'comics:', 'difficulties:', 'male-dominated;', \"'avengers:\", \"endgame'\", 'soty', '13-year-long', 'self-imposed:', 'leaked;', \"'emotionally\", 'screening:', \"'andhadhun'\", \"'marvel\", \"cinema'\", '53-yr-old', 'stark;', \"kbc'\", 'option;', 'parent?', 'malik:', 'bombay:', 'centred:', 'surveen', 'break-up:', 'schoolmates:', 'heroines:', \"number?',\", \"'100'\", \"mom'\", \"abdali's\", \"balatkari'\", \"'shaandaar'\", 'blamed:', '₹3cr;', 'oxygen:', 'compulsion:', '29,', 'self-partnered:', 'this?', 'dutt,', \"'unemployed'\", 'tinaa', 'dattaa', 'dargah;', \"jiah's\", \"'1942:\", \"story',\", 'older:', \"'ujda\", \"chaman'\", \"woh'\", 'genders:', \"'lose\", \"to...'\", 'younger:', 'anorexia,', 'burns:', \"driver':\", 'purifiers,', 'masks;', 'unbreakable:', \"'sabzi\", \"mandi'\", \"'entertainer\", \"hire'\", 'leak;', 'clap:', 'breathlessness,', 'eyes-', 'accident;', 'original:', 'occasion:', \"'housefull\", 'seriously?', 'city?', 'tejasswi', \"'deewana\", \"'climate\", \"warrior'\", \"'laxmmi\", \"'radhe...'\", 'women-centric:', 'parinda', \"'problematic'\", \"'tejasvi\", \"surya'\", \"'gory\", \"monster'\", 'morphed:', \"'eating\", \"carpet'\", 'then:', 'singer,', 'generation,', \"ki...'\", '₹424', 'gur-roti', 'hut;', 'mannat', '7hrs', \"gaga's\", 'gown,', 'housekeeper,', 'champak', 'anarkali,', \"right':\", 'comforting:', 'shamata', \"check'\", 'bleach,', \"'house\", \"dragon'\", 'vultures:', 'sofa,', '$150k', \"'dangal';\", \"'pataakha':\", 'flood-affected', 'stays:', \"#metoo':\", \"'where's\", \"husband?':\", \"'unfinished'\", 'auction;', 'lehenga', 'celebrations;', 'angle:', \"'terminator...'\", 'sircar:', \"saina's\", \"latter's\", 'grounded:', 'noise,', 'logic,', 'spine:', 'publicity:', \"'tilak'\", \"suhana's\", 'bisexual:', \"cobain's\", '₹2cr', \"'thooki\", 'huyi', \"ladki'\", \"schwimmer's\", 'barrere,', 'feat,', 'alike:', \"'kick\", \"out':\", \"'boyfriend\", \"problems'\", \"'supernatural\", \"powers',\", 'headliner:', '13yrs', \"'5000\", \"ago...'\", \"aankh'\", 'euron', \"'got':\", 'pilou', 'asbæk', 'fantastic:', 'lab:', 'nigerian,', 'shy:', \"zeus'\", 'thin,', 'jokes,', 'inappropriately:', \"'decemeber';\", 'neha,', \"'tere\", \"naam'\", \"'wanted':\", \"stewart's\", \"3',\", 'critics:', 'unauthentic:', 'scorsese,', 'marvel:', \"hollywood'\", \"razdan's\", 'performance;', 'alia-ranbir', 'surface:', \"laxmi'\", \"gay',\", 'zendaya,', 'padmaavat;', 'prowess:', 'heels,', 'cyclone-affected', \"godfather'\", 'filmmakers:', \"'abominable'\", 'unicef,', 'art:', 'sedan,', \"inviting'\", \"mehndi's\", 'apologies:', 'neglected:', \"charan's\", \"'lokah\", 'samastah', 'sukhino', \"bhavantu'\", 'cast:', \"'don'\", \"'baahubali:\", \"beginning'\", 'ex-california', 'rhtdm', \"'bharat':\", \"'daddy'\", \"shy'\", 'mitchell,', \"&flix's\", 'concert,', 'incredible:', 'actors;', \"how's\", 'documentary:', \"'maude'\", \"hollywood':\", \"'aaj\", \"mood...'\", 'amaal', \"'soty'\", 'lonely:', 'breast,', \"another's\", 'trains:', \"'hari\", '₹7-cr', 'magazine;', 'disappointment:', \"'gangubai\", \"kathiawadi'\", 'titanic:', 'came:', \"grandmother's\", 'dignity,', \"platform':\", 'koena', \"renner's\", 'judgementall', 'blockbuster:', 'proportion:', \"anymore'\", 'trikal', 'small-town,', 'travelling,', \"'contribution\", \"industry'\", \"'kuch\", \"'cartoony\", \"stuff'\", 'newwz:', 'singh-inspired', 'girl;', 'don:', 'sulli', \"'male-run'\", \"'doosara\", \"zoya's\", 'ill:', \"clooney's\", 'humble,', 'raaz:', 'sexist,', 'andhadhun,', 'khetarpal', \"'joker':\", 'spontaneous,', \"'jaane\", \"bhi...'\", 'phadnis', 'chain-pulling', 'self-image:', 'chan,', 'singing,', 'aankh,', \"lynched',\", 'stupid,', \"ray's\", 'maze:', 'plogging', 'sociopath:', 'skirt:', \"'huge\", 'eyes;', \"'padukone\", \"wardrobe'\", 'gopalnath', 'worked:', '$2.78m', 'song-plagiarism', 'bachelorette,', \"boss',\", \"'maleficent'\", 'photo:', 'musicians:', 'craft:', 'topic:', \"martin's\", \"'baahubali...'\", \"'coolie'\", 'injured:', \"'lamhe',\", 'chidhkoge:', 'iceland,', 'conservative,', 'tushaan', 'bhindi', \"club'\", '#behindthetweets', \"'vaastav...'\", \"'maleficent:\", \"evil'\", \"'laughter\", \"fitness'\", 'khud', 'bigger:', 'ex-contestant', \"yashika's\", 'bed,', \"'disrespect'\", \"'surveys'\", \"fall'\", 'paradise:', 'trishala', \"bf's\", 'ambitions,', 'motherhood:', 'impaired:', 'actor-comedian', 'two-women', 'ehlers-danlos', 'from?', \"'cheap\", \"thrills'\", 'jasraj:', 'tannishtha', \"'life\", \"pi'\", 'trek:', \"discovery'\", 'iffi:', '$10.6m', \"'credible'\", \"hollywood's\", 'gandbhir', 'preparations:', 'possessive,', 'ex-assistant', 'breastfeeding:', 'renewed:', \"'massy'\", 'parks:', 'gossip:', 'following:', 'jobless,', \"beyoncé's\", 'roshan,', 'ujda', \"chiranjeevi's\", \"'sye\", \"raa...'\", 'coma:', 'jayanti,', 'bieber,', 'truth-tellers:', 'pot:', 'cards;', \"'koi...\", '18hrs', 'ear:', 'uri:', \"songs'\", 'exclusivity:', 'international:', 'shaking:', 'khote,', \"'kalia'\", 'sholay,', 'costumes:', 'jokes:', 'talsania', 'paralysed:', \"'fast\", \"furious'\", '4yrs', \"'selling'\", \"mangeshkar's\", \"khote's\", '6,300-ft', \"dutt's\", 'mike:', 'mid-nov', 'marjaavaan', \"'twisted\", \"towels'\", '13?', \"pakistani's\", '60-year-olds', 'actors?', 'photoshoot:', 'someone?', 'bricks,', 'prabhudeva', 'overwhelming:', 'screenings:', '$500:', \"lucky's\", 'grateful,', 'humbled:', 'threat;', \"lopez's\", \"chaplin's\", 'willing:', \"'inshallah'\", \"dior's\", 'pashu:', \"'inappropriate\", \"touch'\", 'amy,', 'endangered:', \"monroe's\", \"'newton'\", 'temper:', 'baazigar:', 'tortured:', 'ex-neha', 'speculation,', 'also,', \"'bhabhi'\", 'aayega:', 'overwhelmed:', 'turner,', 'mamiye', 'shameless:', '$5,000', \"'teesri\", 'chargesheeted', 'sharvani', '92-yr-old', 'gangajal', 'sunny,', \"train's\", '1997;', \"jammu's\", 'singer:', 'arpita,', \"'kaho\", 'naa...', \"'raazi'\", 'plants,', 'serial,', 'irritating:', 'udit,', 'alka,', \"national's\", 'carpet;', \"'rural'\", '‘saaho’', \"britney's\", \"'solution\", 'kid:', \"'coolie\", \"1'\", 'unfiltered:', 'no-makeup', \"'rang\", \"de...'\", \"artistes'\", '₹430cr', \"'secretly\", \"filming'\", 'lander:', 'cintaa', \"shilpa's\", 'coverage,', 'bharatanatyam:', 'jay,', 'suriya,', 'sathaar', 'typecast,', 'comedy:', \"'mandi'\", '1-bedroom', \"'rehearse\", \"scene':\", 'vows:', 'entrants:', \"sahni's\", 'i:', 'sanjib', 'swanand', 'junior:', \"'₹55l\", \"flat'\", \"farmer's\", 'metoo:', 'sanoj', 'raj?', \"hairdresser's\", 'nails:', 'answered?', 'diagnosis:', 'kapil:', \"rishi's\", \"rao's\", \"'bombay\", \"rose'\", 'hostile:', 'konecki', 'someone,', 'strange:', 'metoo', \"'chandrakanta'\", 'hope,', 'continuously:', \"brad's\", \"fwice's\", 'beautiful:', 'greedy:', 'longer,', 'jennifer:', '‘death', 'nile’', 'sudeepa', 'visarjan', \"kush'\", 'saaho', 'lupus,', '‘coolie', '1’,', 'zone:', 'kulhari', 'interesting:', 'b’wood', \"'misbehaviour'\", \"'dreams\", \"true'\", 'odd,', 'material,', \"'cauvery\", \"calling'\", 'photographers:', 'chosen:', \"'2.0'\", \"'naagin':\", '₹1.20', 'never:', \"jethmalani's\", 'rajasekar', 'charsi', 'bag,', 'kicking:', 'a$ap', \"rocky's\", 'triumph:', 'going,', 'sallu', 'bhaijaan:', 'custody:', 'rapper,', \"shahane's\", 'floods;', 'allen:', 'hurry:', 'grace:', '₹72cr', \"'look-alike'\", 'khamoshi', 'didn’t:', '‘aadhaar’', \"kalki's\", \"'bhram'\", 'companion:', \"spears'\", 'station:', 'auditions:', \"boom's\", \"nick's\", 'age;', \"sami's\", 'outsider,', 'victimised:', 'boney,', 'janhvi,', \"dhanush's\", 'delevingne', 'batchmate', 'abdullah:', 'innocence:', 'psychology:', \"ferozepur's\", \"'woh\", 'chawla,', \"festival's\", 'magical:', 'commodity:', '50kg:', 'boyfriend;', 'akshay;', \"'stretch\", 'linklater,', \"'boyhood'\", 'khattar,', \"'dangal':\", 'denial:', \"winslet's\", 'single,', 'aditya:', 'stride:', 'chilled-out', 'ayushmann:', 'haven’t', 'srijit', 'family’s', '‘shubh', 'mangal...’', \"'punchnama\", \"girl':\", 'gutthi:', 'speechless:', \"'men's\", 'znmd:', \"'forever\", \"alone'\", 'bosses;', \"dwayne's\", 'agnostic,', 'eyeballs:', 'earnings:', \"mill's\", \"'oh,\", \"maid's\", \"role':\", 'baahubali,', 'akshaye,', '‘section', '375’', 'gamble:', \"'83;\", \"murdabad'\", 'weinstein,', 'ugly,', 'disneyland:', 'spider-man:', 'gaddaari', \"esha's\", 'vehicle;', \"'accurate'\", \"prabhas'\", \"'saaho'\", 'impossible:', \"'ms.\", \"marvel'\", \"oberoi's\", 'iaf’s', 'cyrus:', 'kbc,', 'ex-waiter', 'universe:', 'abolished:', 'bhanushali,', 'stammering:', \"'james\", \"bond'\", 'jitni', 'kamaayi', 'jaayegi:', \"kalank's\", 'rings:', \"'drug\", \"'kada'\", 'halls:', \"'there\", \"politics'\", 'situation;', 'mika:', 'chhavi', 'aicwa', 'flood;', 'kahaan', 'paise:', \"'finding\", \"farideh'\", 'iran’s', 'award-crazy', \"kutcher's\", \"world'\", 'jammu:', \"'cross\", \"mandir'\", 'consulted:', 'dicaprio:', \"taken':\", \"sex':\", 'sherlyn', 'k2h2', 'sardar:', 'manjot', 'beings:', \"rider'\", 'bathroom:', 'subtitler', \"old',\", 'plus:', 'sweden,', 'education,', 'pornography:', 'i-day,', 'mangal,', \"kaur's\", 'trolled:', 'spoke:', 'contacts:', \"abhinav's\", 'female-driven', 'un-success', 'riteish,', 'modesty:', 'dry?', '2018?', 'khurrana,', \"'mangal\", \"mandal':\", 'artists:', \"'mahanati'\", 'evans,', 'vidya:', 'today’s', 'padman', 'heartbreak:', 'prakash,', 'grandfather,', 'marks:', '33-week', 'cinemas:', 'endorsements;', \"'jabariya\", \"jodi'\", \"'misrepresents'\", \"shorey's\", '370;', 'furniture,', 'showroom:', 'vedha:', 'aukat', \"'offered'\", \"'bhangi'\", 'hariyali', 'nudity:', 'censorship:', \"'masala\", \"'lollypop\", \"lagelu'\", 'kangana;', 'ex:', 'breastfeed:', \"'overaged';\", \"family':\", 'male-centric:', '14,000ft', 'altitude;', 'dia’s', '\"drugged', 'state\";', '₹60l', 'fraudsters:', 'bollywood,', 'kher,', \"her's\", \"'severe\", \"punishment'\", \"'judgementall\", \"kya'\", '41.7%', \"'cousin',\", \"leone's\", 'david,', 'devdas,', 'overrated,', \"'avatar',\", 'paint:', 'stitches,', '45-yr-old', 'psychiatrist:', \"refugee'\", 'talaqnama', 'domino’s', 'bigbasket,', 'grofers,', 'duroflex', '#yawnoffsleepon', \"'har\", 'kehta', \"robeco's\", 'smartomorrows', 'muscleblaze', 'labdoor', 'martech', 'adglobal360', 'insulted:', '4-inch-long', 'currently?', '#scienceofmotherhood', '99.8%', 'conflict-free', 'python,', \"influencer's\", '5,73,794', \"volcanoes'\", 'beach;', \"'cooked'\", 'kebab,', 'beer:', 'jambavantha', \"beardo's\", '#wahkanda', 'colournext', \"'curiosity'\", '‘colour', 'year’', '8000+', 'nha-certified', '20-ft-high', 'pole,', 'twerking', 'africa;', 'comedian,', \"purse's\", '02-02-2020', \"'mona\", \"lisa'\", 'auctioned,', 'reserve;', 'kiosk,', '#unitedbyfaith', 'eleganza', \"weschool's\", \"principal's\", 'writers,', 'dish;', 'chutzpadik,', 'noonie,', 'awesomesauce', \"archimedes'\", 'cake-eating', 'orwell’s', 'amulets,', \"vesuvius'\", \"glass':\", 'e-summit’20', \"'they'\", 'wallet;', 'ledge;', 'tyres,', \"'twenty-twenty'\", 'english?', '₹4.9', 'x-mas,', 'background,', \"'igniting\", \"torch'\", \"bombay's\", 'tanaka,', '£20m', \"'995\", \"fest'\", 'learning’s', '#1:', 'anaesthetic,', 'nutrients:', \"'temple\", \"marbles'\", 'reign:', \"'play\", \"cause'\", 'ajrakh', \"'meat\", \"revolution'\", \"scmhrd's\", \"duck's\", \"bar'\", '₹299', '2037,', 'ear,', \"'terrifying';\", \"'antisocial'\", 'climber,', '₹4.4', 'author,', \"'me'\", \"crocodile's\", 'cockpit,', \"'grandpa'\", 'champ,', \"'whale\", \"samsonite's\", '#badifamilybadidiwali', \"'sos'\", 'wooliest', 'possession,', 'skull;', 'pearl,', 'pandas,', 'brilliant,', '#noidafilmcityexcavation:', 'hiccupping', \"faculty's\", \"'angrakha',\", \"'nana\", \"topi'\", 'prize:', '10-ft-long', 'antaragni', '17–20', \"'10/10'\", 'puja;', 'ambitious,', 'i-land', \"'invest\", \"rent'\", '₹86', 'window;', 'coins;', 'cries,', \"novel'\", '#nobraday', 'forevermark', 'apterra', 'at2', 'grandmoms', '$18.8m', 'osho,', 'sexual:', \"tourist's\", '20ft;', \"'eradicate'\", \"'healthy\", 'pride-themed', 'v-nourish', 'laughing,', '500ft', 'park;', 'vacation,', \"'kerfuffle'\", 'push-ups,', 'stupidity:', 'debate;', '₹17.6', \"paints'\", '85,695', \"cadbury's\", 'hangers,', \"baba'\", 'badtameez', 'insaan:', 'belt,', 'bitsians’', 'media?', 'protinex', '#dontmissout', 'fiama', 'centipedes,', 'stream;', '1,016-foot-tall', '188-foot', \"'heaviest'\", \"irwin's\", \"'wife\", \"carrying'\", \"'ruby\", \"roman'\", \"mushkil'\", \"'manholes'\", 'bournvita', 'prabhadevi', \"khakhar's\", 'poachers;', \"'worldpride'\", \"'lamberghini',\", 'ex-sex', 'globally?', 'fukaka', '99.97%ile', 'pimple,', \"wendy's\", 'sink;', \"monet's\", '₹778', 'taale:', \"say'\", \"koons'\", \"'rabbit'\", '₹640cr,', '#jcbkikhudai', \"humbled'\", '300kg', '86kg', \"'grumpy\", \"cat',\", \"'narendra\", 'sitafal', \"kulfi'\", 'bike,', \"'consent\", \"condom'\", 'malkiel,', 'rhino,', 'single-owner', '#trashtag', '17-foot-long', \"policewoman's\", '188-passenger', \"'cursed'\", \"'chuddies'\", '2,500-year-old', \"muskaan'\", 'air-purifying', \"breakfast':\", 'iterm', 'septuplets;', \"'nari\", '552-carat', \"husbands'\", '90-yr-old', '5-metre-long', 'solo,', 'weddings?', \"'poorest\", \"'clicking\", \"chappal'\", 'live-stream,', '‘watch', \"begin'\", 'himalaya’s', 'pathshaala,', \"sailor's\", 'oversleeps', 'mastanamma', 'floor,', '₹1.34', \"'botox\", \"'nomophobia'\", \"'word\", 'dental’s', '‘smile', 'design’', \"kohler'\", \"'laxmiji'\", '#diwalikisafai', \"too'\", '2006?', '50ft', 'nest,', \"2018's\", '67-yr-old,', \"'blooming\", \"buds'\", \"'fotographia\", \"naked'\", 'savlon', 'blind-friendly', 'walker-the', \"journey's\", '#36secplankchallenge', \"'tech\", '₹74', 'cruise,', \"climber's\", 'pizza,', '₹477', '2,735%', '$1,060', \"'steals'\", \"'kidnap'\", \"'fam',\", \"'nothingburger'\", '1,500-year-old', 'urge:', 'barbie-themed', '#playfor', '#loveliveson', 'decimal,', \"husband'\", '500-yr-old', 'hers,', 'cancer-stricken', \"trichy's\", \"'festember'\", \"brewery'\", '300+', '29-sep', \"'young\", \"achievers'\", 'ad:', \"'kiki\", \"'supported'\", 'hand-shaped', 'pastafarianism', '51-inch-long', 'sea,', \"bitsians'\", '50-80%', 'laptops!', '30%*', \"life's\", \"'poor'\", '₹309', \"nawab's\", '₹128', '89-carat', \"napoleon's\", 'strowman', \"'friggatriskaidekaphobia'?\", '₹13.80', '525-yr-old', \"'spiderman'\", \"levi's\", '501®', \"'cliq\", \"cliq'\", '#smart', 'best-ranked', 'expansia', \"kalpataru's\", 'ultra-premium', '300-yr-old', '250-year-old', '₹82', 'lawyer,', \"19's\", \"'shadow\", \"raider'\", 'bee?', \"'unreachable'\", 'centuary', '#asianpaintswheretheheartis:', 'homes!', 'developer*', '80+', '4.22s,', \"'rick\", \"morty'\", \"peacocks'\", '800-year-old', \"brisbane'\", 'panic;', \"'son'\", '9-cm-long', 'nazis,', 'price’', \"kingfisher's\", 'kfit', '‘how', 'much!’', 'life’s', 'unibic', 'casino-hotel', '₹198', \"co-worker's\", \"hemingway's\", \"'beer\", \"belly'\", '13-kg', 'diamond,', 'ulip', \"mandela's\", \"teacher'\", \"dalí's\", 'dust-free', 'salt?', 'flexweave', '#homesnotshowrooms', 'badeshi', '₹1,010', \"'tattoos'\", '5000-year-old', \"'vegan\", \"bell'\", \"kanpur's\", 'festival,', 'techkriti', \"nazis'\", '#releasethepressure', 'paints’', '‘swachhata', 'doot’', \"'dos'\", \"'uno'\", \"'spokesbaby\", 'headache,', \"'boxing\", \"gloves'\", '1,000-year-old', 'whale,', \"potter's\", \"picasso's\", 'appu’s', \"'emotional\", \"nutrition'\", 'farmlite', 'power—protein', 'besan', 'ladoo', \"kidney'\", \"'kashiyatra'\", '2nd-floor', \"relatives'\", 'balcony,', 'sibm', \"bird'\", 'bangalore’s', 'unmaad', 'faketionary', 'saste', \"'coca-cola'\", \"'ok'\", 'aztecs:', \"'frost\", 'iit-delhi', \"'explodes'\", 'closet,', \"royal's\", \"aircraft's\", 'sympulse', \"'18\", '“glaceau', 'smartwater”', 'ncr?', 'bengaluru?', 'mumbai?', \"'gaming\", \"disorder'\", \"shankar's\", '2017?', 'mn-year-old', \"'garbage\", 'wild,', '#nationaljeansday', 'indostar', '62-storey', \"'youthquake'\", \"dictionaries'\", '23-storey', '1,200-year-old', \"'feminism'\", \"'suicide\", \"machine'\", \"'blacked\", '7-fold', \"'color\", \"'zelda:\", 'aashirvaad', '0%', \"'yeti'\", \"'tomb\", 'sorabh', \"'pawan:\", \"accountant'\", 'tide,', 'hours?', \"twin's\", \"'populism'\", \"dictionary's\", \"'drug-laden'\", '₹2,900', 'makeover,', 'spjimr', 'st+art', 'used?', 'tourbillion', '5,923-piece', '8,000-year-old', \"sailors'\", '77yrs', \"gogh's\", '$81', 'mcmuffin,', 'bark,', \"'cracker'\", \"einstein's\", \"dealer's\", \"'california\", \"shakeout'\", '₹4.8', 'deforestation:', 'yellow-gold', 'morning?', \"claus'\", \"caretaker's\", 'tattooed,', '1000-yr-old', '₹247', \"1990s'\", 'rash-like', '$2.5-billion', \"'clicked'\", '3500-year-old', '5.2-metre', \"'euro-english'\", 'airshow,', \"'astronauts\", \"same'\", \"pilani's\", 'shoulder,', \"'back\", 'achaari', 'manforce', 'creed:', 'half-kilometre-long', 'overturns;', 'reclaimed,', 'city-scented', 'wilderness,', \"austen's\", 'eximius', \"'purest'\", \"shakespeare's\", \"'affection\", 'weet-bix', 'myntra’s', '‘end', 'meattle', '2,600-year-old', \"'satyagraha\", \"tea'\", \"formula'\", 'terminally-ill', \"'sea\", \"pickles'\", \"'stacking\", \"'wolfenstein\", \"colossus'\", '1200m/min', 'designers,', \"'meteorite'\", \"'parthenon'\", '6,300-foot', 'photos:', \"middleton's\", \"pippa's\", 'ropeless', \"'snakes\", \"chase'\", \"'must-see\", \"manto's\", \"'touched\", \"locks'\", '₹720', 'brady,', 'slutwalk', \"'common\", '106-yr-old', \"'glad\", \"that'\", 'racist:', \"duty's\", \"'curry\", \"goswami's\", '117-year-old', 'coma,', \"hand-solvable'\", '$400,', 'step-parents', \"'allah'\", \"species'\", 'retirement?', \"hanuman'\", \"band'\", 'slaughtered:', '\"step', 'down\"', 'wolverine-like', '#blacklivesmatter', \"california's\", 'sambar-vada', 'pink,', 'floatride', 'baker,', \"nsit's\", \"'moksha'\", \"'retirement\", '94-year-old', 'risings:', \"'earth\", \"hour'\", 'rajguru,', 'brown?', \"'touch\", \"wood'\", 'originate?', \"'pi'\", 'frizzy?', \"patrick's\", \"'shampoo'\", \"'champo'\", 'showers,', '\"idiotic\"', \"ukraine's\", \"tusker'\", \"'fearless\", 'embroidery-inspired', 'booze,', \"'haterade'\", \"'clicktivism'\", 'kate,', \"grandparents'\", '21k', 'nitk', '606th', \"'detect\", \"bulls**t'\", 'hitler’s', '₹1.3-₹2', 'bruna,', 'miffy,', 'trafficked,', '110-yr-old', \"'firefall'\", \"mattel's\", 'paydays!', \"'vertical\", 'neutrality,', 'facepalm', 'ufo-shaped', \"cloud's\", '22-yr', \"'fire\", \"australia'\", \"'billion\", \"'spider-man'\", 'azaadi', '₹5.8cr', 'memorises', '(?)', 'hangover?', \"kgp's\", 'zaeden,', 'grow?', 'eight-hour-long?', '$35k', '13k', 'pickle,', 'hair?', \"phenomenon's\", '600-year-old', 'semi-paralysed', 'warm?', \"'hollyweed'\", \"'eye-gazing'\", \"'intersex'\", '#iwillgoout', \"'people's\", \"traitor'\", \"'ugliest\", \"unword'\", \"ex-girlfriend's\", \"band's\", \"diana's\", 'bullet?', '11-day-old', 'celebrate?', \"'wheel\", \"'tilikum'\", '2,300-year-old', \"'birdman'\", 'quitline', \"'available'\", '1?', '6-hr', '16-kg', 'onboard,', 'selfie-taking', \"madras'\", \"'saarang'\", 'euthanises', 'cobras,', '17-century', '2016?', 'door?', \"'wall\", \"kindness'\", 'franchise-based', 'crossbar?', '1.65l', '₹17cr', 'nail-painting', 'pearls?', 'kannada-only', 'migrants,', \"sushma's\", 'most-talked', 'conqueror?', \"'deaths\", \"2016'\", 'most-edited', 'mumbai-goa', 'highway:', \"'d-day'\", \"x'mas\", 'kalyan,', \"rico's\", 'passwords?', \"'foster\", \"daughter'\", \"'surreal'\", \"merriam-webster's\", '₹20,000,', 'fingers?', 'alabed,', 'aleppo,', 'd?', 'formed?', '    ', \"'existential\", '4-finger', \"geographic's\", 'bad?', 'long?', 'hard?', 'procrastinate?', \"congo's\", 'body?', 'mankhurd', '\"scientific\"', \"'brexit'\", 'diamond:', 'best-educated', 'winery,', 'open-street', '19-metre-high', \"'daughter'\", 'all-expense', \"'ze'\", \"'he'\", \"'she'\", 'sub-inspector,', 'plants?', 'hand-paints', 'cloth-pages', 'rain?', 'kleptocracy?', 'abducting,', 'longer?', \"'goodbye\", 'feeling?', \"'uk's\", \"footballer'\", \"'illicit'\", 'auntyji,', \"'beta'\", \"saral's\", 'v-shape?', 'jeans,', '‘mocks', 'poor’', 'day-like', 'bus-cleaner', 'huffington’s', 'deprived?', '#skillsnotscars', \"francis'\", 'jesuses', 'gum?', 'noses?', \"beckham's\", 'food?', 'gang-raping', '₹80-cr', \"tracker'\", 'robbery,', \"guardian'\", \"'dead\", 'pc,', '11,816', 'mcdonald’s', 'mccafé', 'shehnais', 'birthmarks?', '\\u200e₹43', 'music?', 'sick?', '42-foot-long', '24-kg', 'texas,', \"emoji'\", 'asleep?', \"reuters'\", 'airlines,', 'afghanistani', 'objects?', '‘crown', 'empire’', \"'xenophobia'\", \"'75%\", 'helicopter-style', \"parenting'\", 'cry?', '£5', \"bandi'\", '$50k', 'drugs?', \"'clown\", \"ambulance'\", \"'penniless'\", \"'confused'\", 'expired-food', '80-feet', 'hijab,', 'burkini', \"'african\", \"poaching'\", 'man’s', \"'grandma's\", 'half-burnt', 'harness-free', 'minor,', '₹6.8', 'tapmi', \"'brandscan'\", 'eco-friendly,', '₹51k', 'bar-girl', '7000-year-old', 'commissioner’s', \"'homeless\", \"village'\", '\"offensive\"', 'drowns,', 'nostalgic?', '₹1.48', 'cirl', '86-year-old', \"'ppap'\", \"'sesame\", 'nervousness?', 'artbuzz', \"'wall'\", 'bungee-jumps', \"'blonde'\", '13-hr', 'earth’s', \"'fishing'\", 'metallica,', \"'watch\", 'ps4,', \"'assassin's\", \"collection'\", \"'post-truth'\", 'potter-inspired', \"'pop'\", 'sound?', 'green,', 'permanent?', 'pain?', \"surnames'\", \"'transgender\", 'teeth?', 'contagious?', 'coelho,', \"'women's\", \"building'\", \"'supermoon'\", 'occur?', '\"in', 'condition\"', '‘world’s', 'beer’', \"'saddest\", \"bear'\", 'assange’s', 'bald?', 'diseases?', 'ted-ed', '‘soldiers', 'same’', \"food'\", 'invented?', 'mars?', \"obamas'\", 'older?', 'no-shave', '1.4l', 'ridges?', 'flavour?', \"'dishonored\", 'freeze?', \"'morning\", 'office?', 'breath?', '      ', '3:34pm', 'ximb', \"'xpressions'\", 'asymmetrical?', 'word-inspired', '‘stack', 'history’', 'writer:', '‘shameful’', \"waters'\", 'bhagat’s', '‘cash…new', 'trash’', '     ', \"'australian\", \"'body-slamming'\", 'winter?', 'murder-mysteries', \"hilfiger's\", 'weigh?', '‘ramdev', \"air'\", \"'spread',\", \"'topping'\", \"'slanty\", \"eyes'\", 'names?', \"rowling's\", 'dna?', \"frank's\", \"warfare'\", 'trump’s', '‘victory’', 'week?', 'full-beam', 're-unites', 'broomsticks?', 'movies?', '1970-2020:', 'clowns?', \"down's\", \"'guide\", \"everlasting's\", \"'van\", \"game's\", \"'hokkaido'\", 'cracker-free', 'royal,', 'fodder:', 'markandey', '7-yr', 'system?', \"'naked'\", 'temperatures?', \"'cold'\", \"amazing'\", \"'vodafone\", \"flex'\", 'havmor', '₹1.08', 'sleep?', \"'happiest\", \"langar'\", 'like?', 'thirsty?', \"'batman\", 'maoist-hit', \"'dragon\", 'xenoverse', \"fantasy'\", 'unmarried:', \"tolkien's\", 'quake-hit', '₹69.5', \"'civilization\", \"vi'\", 'mangrove-threatening', \"'lego\", \"parkinson's\", 'winners:', \"'hitler'\", 'ex-maoists', 'autocomplete-created', \"'battlefield\", '‘mamata', 'muslims’', 'super-heroine', 'bystanders,', '\"we', 'better\"', 'sangh,', \"'bucks'?\", \"flood'\", '‘modi', 'talaq’', 'har-ki-pauri,', \"'mangalsutra'\", '#beahungerhero', 'combat-based', \"'girls\", \"chores'\", 'under-nourished:', '‘thomso’', 'humbug,', 'feudal,', '95-year-old', 'humans?', \"'first\", \"shoe'\", 'muharram?', 'disney-themed', \"'edutainment'\", '6-10-2016', \"damascus'\", 'potter-themed', '4-month-old', \"'shipping\", \"deaths'\", 'mahabharata’s', \"'saving\", \"planet'\", \"'honourable\", \"fever'\", 'ex-homeless', 'comixology', \"yahoo's\", '2,200-year-old', \"'sticky\", \"'warhammer:\", \"vermintide'\", \"'mortal\", \"xl'\", '‘shakuni', 'mama’', 'biharis:', '#trump,', \"'halved\", \"'cat\", \"aleppo'\", \"'fifa\", \"17'\", \"brown's\", \"'origin'\", 'war-affected', 'xbox,', \"'xcom\", '77-yr-old', 'man’', 'iit-b', '₹17.82', \"supermarket'\", 'spoon-feeds', 'nike,', 'fifa-themed', \"'destiny:\", \"iron'\", 'instinct:', \"edition'\", 'virgins:', 'cake-mixing', \"elizabeth's\", \"snacks'\", 'cod:', 'paddleboarding', 'turnout:', \"reagan's\", \"2-yr-old's\", \"'marries'\", \"k'taka-tn\", \"'grievously\", \"erred'\", 'jerks?', 'disabled,', 'oxigen', \"hershey's\", 'pop-free', \"saving'\", 'tetribot', \"'twin\", 'other’s', 'balmitras', \"trains'\", \"'scotch\", \"tape'\", '1990s:', 'trangenders', \"'leo'\", \"'blt'\", \"'didis'\", \"'68%\", 'backaches,', \"hunchbacks'\", \"'poisoned'\", 'cement,', 'mahadalit', 'teacher’s', \"'fallout\", \"'cod:\", \"'employee'\", \"'thokothali'\", '#bharatbandh', 'velingkar', 'post-emergency', \"teresa's\", 'pokéwalk', 'ganeshas', 'warcraft:', \"legion'\", 'crowdfund', '‘power', 'cow’s', 'beef’', \"tequila'\", 'iit-iim', 'violence-torn', \"'pachuca'\", '‘bar', 'polls’', \"helpers'\", '₹11l', 'swaroopanand', '5,000-km', \"'mx'\", \"'astérix'\", '#madrasday', '100-200%', 'thermocol', '10,500-year-old', \"cops'\", 'hearing,', 'machli', '14ft-long', 'shantabai', 'manchineel', \"goebbels'\", \"'knew\", \"nothing'\", 'post-death', \"'kirtans'\", '141k', 'b’desh:', 'sanskrit-speaking', 'unfolded,', '£20k', 'dabbawalas', '£250mn', 'ragpicker', 'needle-free', 'anaemia-screening', '#nationallazyday', '7-circle', \"'friendship\", 'radiations:', '#internationalcatday', \"sky'\", '#friendshipday', '115-yr-old', '#gujaratgetsnewpuppet', \"'slow-motion\", \"'write'\", 'potter,', '2mn', '$394k', \"'null\", \"island'\", 'timesjobs', \"'turtle'\", 'kwid', \"premchand's\", 'yotn', '$67.5', 'mins/day', 'pools,', \"siddaramaiah's\", \"'@india'\", \"'sterilised'\", \"'floral'\", \"edhi's\", \"'maths\", \"read'\", '117-yr-old', '328ft', '#canadaday', \"buddha's\", \"less'\", 'bodypainting', '$847,499', 'bio-toilets', \"burman's\", \"'sports\", \"illustrated'\", \"pattnaik's\", \"'raths'\", \"widows'\", \"'chanting\", \"religion'\", \"kfc's\", 'vanzara', \"'sbi\", '#happybirthdayrg', \"lion's\", '#yogaday', \"'captivity\", \"degrading'\", \"'statehood\", 'flame-throwing', 'scrorpion', '#worldblooddonorday', 'iisc,', \"'zelda'\", '#udtatamatar', \"'delhi's\", \"space'\", 'tweens:', 'sun-powered', \"'detroit:\", \"'halo\", \"'tekken\", \"'#mumbairains'\", \"'weed,\", \"pregnancy'\", \"'entertainment\", '$40bn', 'clothing:', \"'telemedicine\", \"'sadhvi\", \"prachi'\", 'mom-to-kid', \"discoverer's\", 'no-electricity', \"'40%\", \"2030'\", \"'gdp\", \"access'\", \"overweight'\", 'god-themed', \"'#worldnotobaccoday'\", \"'india's\", '5.6%', \"fy22'\", \"'#nitishketoppers'\", \"tagore's\", \"aristotle's\", \"'33%\", 'p680', '₹6,999', \"'ana\", \"hickmann'\", \"'pretty\", 'chewbacca-masked', \"'mullah\", \"mansour'\", 'low-salt', \"'#bestpartofthe90swas'\", '26.4%', 'diseases:', '4.5-bn-year-old', '#removealetterspoilabook', \"'one-third\", \"'doom'\", '#happybdaygurudev', \"'16\", '116-yr-old', '#fridaythe13th', '$8.9', 'annually:', \"vinci's\", '159yrs', 'pokhran-ii', \"camels'\", \"freud's\", \"iii'\", 'extinction:', \"4th'\", \"'pop\", \"art'\", '#nationaltechnologyday', \"ryka'\", \"'mario\", \"miranda'\", \"sri's\", 'raj:', 'ny-mumbai', '‘bihar', 'tihar’', \"'feni'\", \"'heritage\", \"spirit'\", 'malala,', '#becauseoftwitter', \"market'\", 'infy', '#worldbookday', 'bisleri', 'bottled-up', '#modislapschina', 'trupti', '#lady100pesos', '₹81.6', 'naxal-hit', '#madmankejriwal', '4,500-year-old', \"'sanadige'\", 'five-mn-year-old', \"'cielito'\", '#ripamy', \"'chetan\", \"bhagat'\", '73yrs', 'fomo,', 'icymi', '116-year-old:', '8.6%:', \"'apollo\", \"'flying\", 'employer:', \"'shyamla':\", '#worldheritageday', 'duke,', \"'shani\", \"rapes'\", \"'exit'\", \"gurgaon's\", \"'gurugram'\", '31-40:', \"'zaha\", \"hadid'\", 'fatwa:', \"'kota\", \"kachori'\", 'obese:', '26/11,', \"'desiklub'\", '3-limbed', '1980-2014', \"sam's\", 'anthem:', 'highliner', 'checked-in', \"'tea\", \"villa'\", 'made?', \"nando's\", '₹35,558cr', \"'easter\", '₹2.26l', \"'20:\", 'yoga:', '#worldgappuday', 'restro', '#ismisuseoflawnotacrime', \"'43%\", 'it-related', \"'don’t\", 'gays,', \"'drunk'\", 'agitators:', '$286', \"fermat's\", \"'anant\", \"ambani'\", '#lovetwitter', \"'bal\", '100-yr-old', \"'navroze\", \"mubarak'\", \"'bhagat\", '\"socially', 'immoral\":', \"'lucky'\", '#chaddinahisochbadlo', \"'fire-breathing\", \"kellogg's\", \"'wwe\", \"2k16'\", '#srisriindiaspride', '#prayforshaktiman', '1.3l', \"2050'\", '#punishmediatrials', 'hula-hoop', \"'anupam\", \"kher'\", \"'bundar'\", 'cafe:', \"'hitman'\", 'scrap-dealer', 'café:', \"clancy's\", \"division'\", \"'tamasha'\", \"titan's\", '#removemughalsfrombooks', '#iftwitterwasamovie', 'sania,', 'mahaur', \"rukmini's\", \"'vision\", \"globally'\", \"bond's\", \"'spectre'\", 'spoon-making', '104-yr-old', '#presidentsday', '450%', 'hidden:', \"'amartya\", \"sen'\", '1,50,000', \"'11:\", \"'dmitri\", \"mendeleev'\", '#internetfriendsday', 'blindness-causing', 'fungus:', '#singlelifein3words', \"valentines'\", '$470', \"'unravel'\", \"'monopoly'\", \"'valentines\", 'intizar', '#worldcancerday', \"week's\", \"cornell's\", \"'fuelled\", '₹12.75l', \"ziva'\", 'auto-driver', 'she-taxi', \"'milk\", \"'61%\", '45+', \"yrs'\", '2010:', \"'icai'\", \"chef'\", 'violier', \"'hand\", '500l', '$82k', 'sher-gil’s', 'geometry:', \"'zika\", \"'pakistan'\", '\"simpsons\"', '$3.73', 'disabled-friendly', 'unemployable:', \"alzheimer's\", 'para-swimmer', 'm-commerce', 'unaffordable:', \"'wilbur\", \"scoville'\", '€150', \"'resident\", \"remastered'\", \"'scan'\", 'delhi-sf', 'saffronart', \"rickman's\", 'chronicles:', \"'renewable\", \"$1.3tn'\", 'astro-tourism', '$305', 'dnews', 'li-fi', \"'pongal\", \"lohri'\", '2nd-tallest', '$1.58', '#powerball', 'getaway:', '\"how', 'developed?\"', 'perrault’s', 'hollywood?\"', \"weapons?'\", '$3.488', '$1.5tn', '34yrs', \"'older\", \"earth'\", \"'stupidly\", \"expensive'\", '\"star', 'wars\"', '#loseafriendin3words', '6-bullet', '#kamzorpradhanmantri', \"pornhub's\", \"'nano'\", 'charts;', \"'step\", '‘who', 'oil?’', 'emotion:', 'testtube', \"'fatwa'\", 'st-martin', '$8.7', '$325', '\"who', 'moon?\"', 'dreams?', \"'wedding\", \"'contraceptive\", \"defects'\", '130-yr-old', 'museum:', 'high-sugar', \"dahl's\", \"'luna\", \"moon's\", \"2016's\", \"braille's\", \"capitalism'\", \"'feel'\", 'calendars?', \"eve'\", '#iamwithoddeven', 'butcher:', '\"most', '\\'15\"', 'immunity:', '\"diary', 'girl\"', 'anti-donald', '#newyearsresolutionin5words', \"antarctica?'\", \"putin's\", \"'15:\", \"'spicejet'\", \"'good'\", \"airport's\", 'microsoft-norad', '$76m', \"'sadhana'\", 'comets,', 'extinctions:', \"plants'\", 'identified:', \"basics'\", '   ', \"'gonorrhoea\", \"wishes'\", 'brunei:', 'earthquake-proof', \"'cow'\", \"'personality\", \"'agrabah'\", \"'supercondom'\", 'yureka', 'harder:', 'fat:', 'testicle:', 'de-stress:', \"iyengar's\", 'plus-sized', 'obesity:', '$301', 'urine-powered', '2500-year-old', \"worm's\", \"'forbes\", \"100'\", '\"war', 'peace\"', '£662', \"'glaciers\", \"years'\", \"trident'\", \"'demanding'\", \"searches'\", 'diabetes:', 'teens:', '\"mein', 'kampf\"', 'youths:', \"mars'\", \"tut's\", 'tomb:', \"singhal'\", \"officials'\", \"kurien's\", 'stingier:', \"economy'\", 'palestine,', \"'insiders'\", \"'66%\", \"levels'\", '2000-years-old', '60.4%', 'toilets:', '$48.4', \"'vasectomy-athon'\", 'traitor,', \"'radiation\", '$67.45', \"mountain's\", \"'almost'\", 'aug:', \"amitabh's\", '100mn', \"'temperature\", 'keech:', \"modigliani's\", '$170.4', \"'largest\", \"known'\", 'minecraft-like', 'imran,', 'mn-yr-old', 'zealand:', 'herpes:', \"'qa-focus\", \"mba'\", '\"forced', 'men\"', 'videographic:', \"pluto's\", 'he:', '3°c', \"'breastfeeding\", 'saturn-i', 'leopard:', 'decreasing:', '£15000', '#profileforpeace', \"'engg\", 'earthquakes:', \"'50:\", 'ecuador:', '₹26.4l', 'e-broking', 'fy15:', 'decline:', \"'chandrayaan-1'\", 'ball-sized', 'workplace:', \"'jane\", \"eyre'\", \"dress'\", 'deficiency:', '150%:', 'anti-depression', '\"drinking', 'dangerous\"', 'smoking,', 'ageing:', \"'man's\", 'lindahl,', 'modrich,', 'rajiv-sonia', '\"man\\'s', 'world\"', 'graduates:', \"meat'\", \"'porn':\", \"sher-gil's\", '£1.7', '‘litti', 'charcha’', 'aleksijevitj', \"'shopping\", \"depression'\", 'function:', \"titanic's\", '$88,000', 'dubsmash', 'campbell,', 'himalayas:', 'kajita', 'app-only', '60%:', \"moon'\", '“blood', 'supermoon\"', 'glass-bottomed', \"darwin's\", '$197k', '1940s:', '379k', 'intake:', '$442', '3.3mn', 'traits:', 'diamonds:', \"'neptune'\", '‘inshorts’', '$43tn:', \"'nesting\", 'typewriter;', 'alzheimer:', 'lazy:', 'weaken:', 'autism:', \"'diabetic\", \"jupiter's\", 'saragarhi', \"saturn's\", 'indian-rich:', 'mothers:', \"turtle's\", '$90k', 'infertility:', \"bosnia's\", 'asthma:', 'conserved:', '                      ', 'cumin,', 'israel:', \"'hriday\", \"manch'\", \"'incense\", \"smoke'\", 'ft-long', '1992:', '$70k', \"'goosebumps'\", '\\n', '4.1mn', \"damon's\", \"'message\", \"bottle'\", '$578', \"leaf'\", 'india-sized', \"incomplete'\", '\"created\"', \"entry'\", 'kasol', 'hrs/week', 'sleepiness:', 'aiims:', \"'haha'\", 'affluence:', \"'deep\", \"blue'\", \"zebras'\", \"'blue\", '‘kisan', 'andolan’', '48-mn-year-old', \"kalam's\", \"'bahubali'\", '560,000-year-old', '\"men', 'child\"', \"'inshorts'\", '4,000-year-old', 'spenders:', \"n'\", 'incentivised', 'pushkaram', 'south-asians', \"canal'\", 'jipmer', 'spines:', 'nischal', 'narayanam,', 'donation:', 'accredited:', '£765k', 'call-drop', \"'archie'\", '£149k', 'gurgaon:', 'padhao', \"'marry'\", '20l', 'oldest:', 'bones:', 'goair,', 'fayland', '#1', \"architects'\", \"talented'\", 'single-dose', 'rmsi', '104,', 'schizophrenia:', '1981:', '\"earth', 'years\"', \"25-yr-old's\", \"'abcd\", 'pre-mature', 'eve-teaser;', '1,84,000', 'sequence,', 'rains,', '$188000', 'aids:', '“nations', 'more”', 'leopardess', 'memories:', \"aggressive'\", '\"sanskrit', 'minds\"', '£280,000', 'lions,', '$420,000', \"'fried\", \"rat'\", \"brain's\", 'stressed:', '\"new', 'early\"', 'complan', '\"eating', 'death\"', '(a)', \"'palace\", \"'water-wives'\", 'glucon-d', 'treble:', 'misunderstood,', 'maligned:', \"'misal\", \"pav'\", \"'tastiest\", \"dish'\", 'wtf,', 'lovelocks', '55cr', \"physicist's\", 'complications:', 'quadrupled:', 'bhanwarlal', '2000-year-old', \"aruna's\", \"mind'\", \"parkinson's:\", '\"expect', 'season\"', 'allergy:', '58%', 'krasznahorkai', '\"strangled', 'death\":', 'millennium-old', \"'minecraft'\", \"hazare's\", '10%;', 'chinkaras', \"accepted'\", 'addicts:', \"'zainab'\", 'vadodara,', 'siblings:', \"astronauts'\", \"teens'\", 'nabakalebar', 'jashodaben', 'count,', \"gadkari's\", \"'urine\", \"treatment'\", 'quake:', \"twain's\", 'near,', 'fart,', \"'legalise\", \"marijuana'\", \"'empty\", \"landscape':\", 'ex-cbi', \"keshri's\", 'rendell,', 'writer,', 'nsso', 'may-1', '6-month-olds', '9-months', '5km,', 'scroll.in', '“news', 'year’’', 'mugdha’s', 'ad;', 'alternative:', '\"largest\"', \"rai's\", '\"racist\"', \"'princess\", \"alice'\", \"waitress'\", 'controversy,', \"aish's\", 'self-medication:', \"'masterchef\", 'knuckle-cracking', '5yr', '95yr', \"'success\", \"meme'\", '$75k', \"'hindu-only\", \"driver'\", '33k', 'parsekar', \"angelou's\", 'ice-tea', \"'helmet'\", \"'romeo\", \"juliet'\", '6+', '‘missed', 'call’', 'e-rail', 'askmen', '‘outstanding', 'woman’', \"cosmopolitan's\", '17°', \"venus'\", \"sunanda's\", \"'teddy-face'\", '700-yr-old', \"'mind'\", \"'navroz\", \"'don\", \"quixote'\", '$7000', 'aib,', 'most-liked', \"'vampire\", \"crabs'\", \"bharti's\", '$9.5mn', 'beef-eating', \"'fest'\", 'delhi-noida', '46k', 'jhansi:', 'doha:', \"'insult'\", '1000-year-old', '3g/4g', \"networks'\", \"selfie'\", 'lg,', \"sniper'\", \"'environmental\", \"nyong'o\", \"kin's\", '\\n\\n', 'myanmar-india', \"yuvi's\", \"cup'\", '\"lord', 'prophet\"', 'hike:', '\"swine', 'bite\"', \"'silk\", 'nyc:', \"90's\", 'surajkund:', \"'tobacco-free'\", 'sexiest:', '$7mn', 'ventilator;', 'zorb', \"'₹93\", \"cheaper'\", 'bread;', \"'wash\", \"hands'\", \"'linkedin,\", '27,722', 'blue,', \"'dating'\", \"'large\", \"boulder';\", \"'broomstick\", '7-month-old', 'deed,', 'keys;', 'pictures;', 'nz;', \"hotel's\", '$37m', 'duct-taped', 'repair,', \"'unnaturally\", \"long',\", 'tree;', 'photobombs', \"supplements'\", 'potatoes,', 'ocean;', 'crocodile;', 'washbasin,', \"'human-like\", 'village;', 'bikini;', '2-pieces', 'km/hr,', '₹140/kg', '₹66', 'safety;', \"'naagin\", \"dance',\", \"dogs'\", 'diet,', \"'struggle\", \"real'\", '$102,000', \"'funeral'\", 'chocolate,', '₹4.3', 'door;', 'pumpkin,', 'activa,', \"fortnight',\", \"painter's\", 'lightning;', 'wig,', \"fiancée's\", '86-kg', 'snake,', \"'chocolate\", \"dosa'\", 'cherries;', 'hair;', 'competition;', 'ache,', '2-themed', \"'ambani'\", 'romanian,', '221ft', \"'stuffy'\", \"'illness',\", '€6mn', 'snake-catcher', '6-foot-long', 'snake;', '1,36,000', '21kg', \"'celebrate\", \"nigelness'\", \"'avoid\", \"service'\", 'class;', \"'kudukku'\", '42-floor', '₹8,200', 'fee;', \"'arrested'\", \"loss'\", \"shop's\", 'bin,', '700-foot-long', \"bad's\", \"'walter\", \"white'\", '₹94,000', 'colours,', 'agarbatti', \"'nazar\", \"samne'\", 'polka-dotted', 'dog-eating', 'unbearable:', '1.4kg', \"pikachu's\", \"'cool'\", 'club...:', '1-line', 'cool;', \"leopard's\", \"'camouflage'\", \"'microwave\", \"'few'\", 'porsche,', '$1.28mn', \"'peed'\", 'bullying,', 'course,', \"'valentine's\", \"'glass\", \"ring'\", '₹6.8cr', \"bored'\", \"'brain',\", 'cocaine;', 'grease-free', 'lever,', 'places,', 'orphan:', '103-yr-old', '61-yr', \"'adarsh\", \"balak'\", 'dresses:', \"'x',\", \"'nothing'\", 'poker,', 'pomeranian,', \"'heartbreak'\", \"malhotra's\", 'egg-xpecting:', \"'pc\", \"'love'\", 'blanket,', \"juice'\", \"'play'\", '680-kg', \"'gujjar'\", \"'336\", \"old'\", 'romeo,', 'whatsapp-themed', 'ex-pakistani', 'ambani-themed', \"'aeiou'\", 'english;', \"'precious\", 'blind;', 'courtroom;', 'judge,', \"'electric'\", 'reporting,', 'chips;', 'jewellery,', 'stealing,', \"policemen's\", \"'ms\", \"dhoni'\", 'celebrate:', \"'fresh\", 'network,', 'bestfriends', 'asleep,', 'goat-headed', 'suspended,', '₹12.8cr', 'cursed:', 'vazan', 'utha', 'le:', 'alarm,', 'lipsticks,', 'feet;', 'stinkiest', \"fruit'\", '754-ft', \"'adopted'\", 'hologram,', 'cheat,', \"'vehicle-only'\", \"'superstitious'\", \"'thugs\", 'cat:', \"ladders'\", 'washers,', \"'lion\", \"'pee\", \"'dog',\", 'ramleela', 'steering,', 'prank,', '₹68l', '£1mn', '5-kg', '₹9,600', \"'drunk',\", \"'anus'\", \"'dirty'\", '32yrs', 'unfriend', '$2k', 'skating,', 'bakrid', 'sacrifice,', \"'weiner',\", '60-metre-tall', \"'yogi\", \"thali'\", \"'popeye'\", 'left-handed,', 'ex-waitress', '₹520-cr', '133-year-old', 'bungalow:', 'cheeto', 'khalifa,', '168-seater', '£40', 'trips:', '₹39,001/kg', 'cable,', 'intention:', \"'billionaire'\", 'road-cleaning', \"'heroin'\", \"'jugad'\", 'clouds,', \"'social\", \"addict'\", \"'married'\", \"'stink\", \"meter'\", '₹2,000/bottle', '$1-million', 'toys\"r\"us', '₹50-lakh', \"influenza',\", 'translate,', \"parking's\", \"'election'\", \"drug's\", 'beard,', \"'dancing\", \"uncle'\", '₹60-lakh', 'video?', \"flat-earther'\", \"person'\", 'backflip,', \"'gifted\", \"armstrong'\", \"lane'\", \"george's\", '₹17.5l,', \"'yesn't'\", \"'mussolini'\", \"'blu'\", \"activity'\", '₹60,000', 'aarti,', 'volcano,', '₹87,000', \"'t-shirt\", 'mahal,', \"'laurel\", \"yanny'\", 'do-', 'thanos:', \"'breakup\", \"'dhyanoorhanagithy'\", \"'covfefe':\", \"'yanny\", \"laurel'\", '₹34l,', 'laxative-laced', 'co-worker,', 'cocaine,', \"tonic'\", \"travellers'\", \"hawking's\", '30,000th', \"'drowning\", \"cat'\", \"'taken'\", \"pooper'\", 'tricolour,', \"'protocol'\", \"'hungry',\", 'weddings,', \"'cremates'\", \"'cry\", \"closet'\", 'paddleboarder', '₹4.5l', \"dgp's\", 'shark,', \"'sanam',\", 'pyjamas,', 'molestor', '₹33,000', \"'smoked\", \"weed'\", 'rattlesnake,', \"whisperer'\", \"'bluetooth'\", \"'tarantula\", \"burgers'\", '₹66,000', 'vouchers,', \"'poop\", 'academy,', '₹12-crore', 'promotion,', \"exchange's\", 'crocodiles,', \"'underpants\", '3-foot-long', \"my'\", 'pepper,', \"spouse's\", 'sunrises,', 'bangkok-doha', \"'abducted'\", \"'murdered'\", \"'snow\", \"rollers'\", 'coffee,', \"'trust'\", \"buyers'\", 'stairs,', \"eatery's\", 'cuts,', '₹1.49l', \"'snowball\", \"fight'\", \"disturb'\", \"'smurfs\", \"lasers'\", \"seats'\", 'rv155677820', \"'handsome'\", \"'smiley\", \"visa'\", 'death-themed', 'eye-roll', \"teller's\", 'schoolboy,', \"flyer's\", '482-km', '₹1-lakh', 'egg,', \"'kanyadaan'\", 'snowed-in', \"nachos'\", \"'flippy'\", \"peak's\", 'pack,', \"'stylish'\", \"widow's\", 'locker,', 'residents,', \"'baaraat'\", '$493', \"'laying'\", 'condom-shaped', \"snake's\", 'rabbit,', 'amritsar-birmingham', 'pizzas,', '₹30cr', 'thumb,', 'planet,', 'video-dating', \"'tune\", \"bank'\", \"'aus\", '35,000-kilogram', \"'cartoonish'\", \"'ganja\", \"yoga'\", '₹1.8l', \"fugitive'\", 'pakoda', \"'lady-friendly'\", \"'lady-friendly',\", \"'salt\", \"bae'\", \"pageant's\", '45-min', 'drugged,', \"'networking'\", \"suspects'\", '180ft', \"'mineral\", \"undertaker's\", \"ladies'\", \"zara's\", \"'lungi'\", 'painting,', 'sometimes,', '₹31,800', \"mistakes'\", \"'literally'\", \"'kardashianism'\", \"cat's\", 'india-themed', \"'gandhi\", \"meal'\", 'gate,', \"'buzz'\", \"'buzzer'\", 'stay,', \"'bob's\", \"house'\", \"cuddler'\", \"'hawalat'\", '73-yr-old', \"'flintstones\", \"car'\", \"'slowpokes'\", \"cream's\", \"listen'\", 'gift-wrap', 'pole-dancing', \"village's\", '5-yr-olds', 'wives,', 'viagra,', 'produced,', 'topless,', \"'poo\", '₹4.8cr', \"'whistled\", 'zealand-hawaii', \"instructions'\", 'traditions?', 'christmas-gift', \"'unauthorised'\", \"recipient's\", '₹38l', 'slackline,', 'labour,', 'honeytrap', \"'anti-bird'\", \"mouse's\", \"tower's\", '10,119-foot', 'gopro,', 'snowball,', \"'rodomontade'\", \"'naughtiest\", \"2017'\", 'hitler-themed', 'nicholas,', 'iso-certified', \"bike's\", \"'girlfriends'\", 'microwave,', 'ferrari,', \"'marijuana\", \"wreath'\", \"author's\", \"'awful'\", \"'#love'\", 'covfefe', \"'regret\", \"iyer'\", \"'criminal\", \"mischief',\", 'co-passenger', 'blades,', \"'lonely'\", 'jandals', \"'burden\", '40,320-piece', '₹27,700', 'encroachment:', \"'confusing'\", 'sleeping,', \"mouser'\", '36-yr-old', '2nd-youngest', 'cm-wide', \"'ferry\", \"mcferryface'\", '20yrs', \"copenhagen's\", \"bomber'\", 'pink-coloured', \"'remorseful'\", 'herbs,', \"'help'\", 'falls,', '₹22,400', '$300k', \"'lawyer\", 'rahim,', 'honeypreet', '₹11,000', \"snow'\", 'pen-pineapple-apple-pen', 'self-portrait,', \"'bizarre'\", 'eatery,', 'horse,', 'bomb,', 'dadagiri,', \"'pen-pineapple-apple-pen'\", \"'bored'\", 'evil,', \"'sometimes\", \"praying'\", \"'trick\", 'kangaroo-shaped', \"'munni\", 'badnaam', \"hui'\", '₹34k', \"'sunbathes'\", \"sealings'\", '$6.90', 'trap,', \"'fatberg'\", '3-kg', \"'thong\", \"jeans'\", \"'losing\", \"interest'\", \"macron's\", \"'pgs\", \"cattle'\", \"diggity'\", \"partner's\", 'parlour,', 'trees,', \"'hogwarts\", 'faints,', \"hot'\", \"'spies'\", \"'mermaid'\", \"lady',\", \"brigade's\", \"'escape\", \"'charpoy'\", 'letters,', \"criteria'\", \"dark'\", \"'sexually\", \"explicit'\", \"ganesh's\", 'underwear,', \"bulgaria's\", 'despacito', 'sinkhole,', '97,', \"'children\", \"'halla\", \"khol'\", \"rapper's\", '₹46k,', 'exorcism,', \"'needed\", \"shit'\", \"young'\", \"donkey's\", \"'wanted\", \"here'\", \"harry's\", \"'online'\", \"'pizza'\", '€500', \"registry'\", 'confusing:', 'peta,', \"pawns'\", \"'pranked'\", 'fiancé,', \"'jimikki\", \"kammal'\", 'fairy,', 'bolna', '31,000-acre', \"client's\", 'salad,', 'ocean,', \"'aaja\", \"'heal'\", \"rice'\", \"'4'\", \"'hell'\", \"'stabbed\", \"'trash\", '800-yr-old', 'tracked,', \"'too'\", 'mid-hurricane', \"'weed\", \"wedding'\", '9yrs', '₹4,860', \"'covfefe'\", \"'fafda'\", '₹4,100', \"in-laws'\", \"yechury's\", \"'badluram\", \"badan'?\", 'rock-paper-scissors:', 'cheetos-inspired', 'hammock-like', '‘silent', 'syndrome’', 'kitchen,', \"'alien'\", \"'king'\", \"'resembling'\", \"'donald\", \"'tihar\", \"idols'\", '₹1.87', '551-foot-tall', 'sunblock,', \"9-yr-old's\", '120-metre', 'harness,', 'tantriks', 'hair-chopping', 'mother-in-law,', 'tech-themed', \"herpes'\", 'weed-friendly', \"tomato'\", 'hyderabad-pune', \"alien'\", 'barack,', 'barca-psg', 'peels,', 'trump-drawn', \"'judge\", '3,700-year-old', 'bollywood-inspired', \"noses'\", \"smells'\", '₹3.2cr:', \"'drowning'\", '₹12,500', 'juniors:', \"'trainy\", \"mctrainface'\", \"'rishta\", \"aunty'\", \"'anti-pervert'\", 'flame-throwers', 'shape:', '₹460cr', \"'husband\", \"storage'\", 'jug,', \"marine's\", 'umbrella-sharing', \"railway's\", '₹10,400', 'expressway,', \"cop's\", \"slogan's\", 'toys,', \"bear's\", \"spinner'\", 'scans:', \"'hamburger'\", 'priests,', \"finger's\", 'taiwan,', 'pay-per-hour', \"motels'\", 'ganda,', 'kinnar', \"prez'\", \"'send\", \"nudes'\", '3-word', \"'unknown'\", \"grandfather's\", '17-tonne', \"'trumpism'\", \"'names\", \"shames'\", \"luck'\", '6rs', 'vadapav', 'tum,', 'shobhaa', \"de's\", \"'god'\", 'toothbrush,', \"'hairy\", \"leggings'\", \"clip'\", \"'bled\", \"face-lift'\", 'boaty', 'mcboatface', \"data'\", \"'dresses'\", \"'wtf'\", \"'cow\", \"heads'\", '92-year-old', '₹16l', 'dance,', 'schwarzenegger,', \"'satan's\", \"'selfie\", \"station'\", \"'destructive'\", \"rica's\", \"it!'\", 'yoga,', 'plagiarises', \"'attention'\", 'buckethead,', '₹2,889', '\"usa!', 'usa!\"', 'glass,', 'burrito,', \"'pappu'\", \"'piece\", \"explorer's\", '118-year-old', '216-kg', 'momos,', 'one-dog', \"friendly'\", \"bar's\", \"'barmaids\", \"boyfriends'\", \"1980s'\", \"'acceptance'\", 'spain’s', 'mouldy,', 'half-eaten', \"'short\", \"skirts'\", '₹66,000,', \"child'\", 'tubelight', \"sex?'\", \"'sex'\", \"pictures'\", 'russians:', \"'softness\", \"border'\", 'blowtorch,', '\"lil', 'ex\"', '6-twelve', \"'pissing\", \"pug'\", \"'partially\", \"deafened'\", \"'theresa\", \"saath'\", \"school'\", 'boat,', \"'mundane'\", \"'covfefe',\", 'trump-pope', 'ex-policewoman', \"combination'\", \"'#campaignhashtag'\", \"parrot's\", 'seconds-long', 'customises', 'photo-clicking', \"'surprise'\", \"'transformer'\", 'panipuri', \"who'\", \"netherlands'\", 'mistakenly-auctioned', \"sniper's\", '\"roses', 'red\"', \"'cyclops'\", \"francisco's\", '4-feet-long', \"7-yr-old's\", 'mug,', \"millionaire's\", 'grown,', \"finger'\", \"'vending\", 'ferraris,', 'turn,', \"h'bad\", '\"psycho', 'baby\"', \"bears'\", 'tune:', 'plated,', 'coin-covered', 'chairs,', '₹16k', 'flyer:', \"'brexit\", \"brexit'\", \"degeneres'\", \"philip's\", \"gluten'\", '6-seater', \"'shaving\", '#gameoflife', '$7,000', 'air-cleansing', 'ceiling,', 'pearls,', 'advances:', '₹77,000', '85-kg', 'burgers,', \"clothing'\", \"tourists'\", \"'fat\", \"camp'\", \"'sheeple'\", '₹640cr', \"'winter\", \"'bugged':\", '£2', 'lord,', 'paris,', \"'entirely\", \"lawful'\", 'town,', \"foods'\", \"ii's\", 'snacking,', 'leaves,', \"'sleeping\", \"beauty'\", 'hen-imitating', \"papers'\", '650-feet-high', 'rasgulla', \"lego's\", \"runners'\", '28,788', 'wrong.', \"'feather\", \"eyebrows'\", \"'music\", \"chamber'\", 'crush-themed', '113-year-old', \"church'\", 'meth-addicted', \"ale'\", 'drug-sniffing', 'maang', 'teeka', \"'chandelier\", \"'spider\", \"rain'\", 'condom-clogged', '#poutlikebebo', 'ill,', \"'re-accommodate'\", \"segel's\", 'genitals,', \"shuttle's\", 'justices,', \"ludacris'\", \"'inspired'\", \"'footwoman'\", 'ex-italian', \"'relationship\", 'pitch,', \"'britain'\", \"'mysteriously'\", 'buildings,', '105-year-old', 'coaster,', 'volcano-spa', 'insect-topped', \"'drunk\", \"beouf's\", '₹567', '₹149', \"'lettuce'\", 'worm-snails', \"robbers'\", \"ironing'\", \"'hackers\", \"services'\", \"'bawse'\", \"farm's\", 'cow-milking', 'ex-airport', 'arm-grown', \"seat'\", 'auto-shared', 'sniff,', 'monkhood,', 'mafia-themed', \"'bhoorsingh\", \"barasingha'\", 'anti-fat', \"'cloud'\", '\\u200e₹24', \"'neem-beer-tree'\", \"adele's\", 'burglars;', \"toddlers'\", 'tree-climbing', '706-carat', '₹17l', \"top'\", 'five-legged', 'attari-wagah', 'anti-masturbation', 'bhook', 'hadtaal', 'jaruri', \"'nightclub'\", 'airborne,', 'lawyer’s', \"show'\", 'wwe-style', 'wine-infused', 'live-stream', '650km', 'endeavours:', '₹133', 'meal,', \"'patang'\", 'tripping:', \"tsar'\", 'gpa,', 'pizza:', \"'fantasy\", \"coffins'\", \"'lipstick'\", 'entombs', 'letter;', \"iceland's\", \"'ban\", \"could'\", 'lakh-worth', '50-floor', '57-hour-long', \"'ninja\", \"ambassadors'\", 'corpse:', 'lfw', 'brewdog', '\"paw-ternity\"', 'vegas-style', \"fu'\", 'bike-promoting', 'impeached:', 'brazzers', \"'damaging\", \"psyche'\", 'ex-simpsons', 'maker,', '₹53', 'two-hole', 'cosplayer', \"adviser's\", \"happy'\", 'cadbury,', 'man-elephant', 'second-storey', 'harambe-shaped', 'sushi-shaped', 'kitkats', '₹170', \"'satire\", \"reality'\", 'penis-shaped', 'hoverboards', 'hand-holding', \"pedestrians'\", '50-km-long', \"'tinder\", \"orangutans'\", 'caterpillar-themed', 'champagne,', \"'seen\", \"crispy'\", \"'rings'\", \"'angel'\", \"'dilli\", \"girlfriend'\", \"'aegilops'\", \"'fact'\", \"diner's\", 'cave,', \"'shower\", \"beer'\", 'five-bedroom', \"thrower'\", \"frozen's\", \"chicken'\", 'bhurji', \"'lksdclmdn\", \"clksd'\", 'cold.', \"'marks\", \"burger'\", '24-foot-high', \"daniel's\", 'whiskey-infused', \"'new'\", 'ppap', \"'chamber\", \"rats'\", \"'style\", \"rectification'\", '3-film', \"'newspaper\", \"hats'\", \"classes'\", 'two-yr-old', \"la's\", \"'friends\", \"benefits'\", \"'explicitly\", \"sexual'\", \"trump-like'\", 'demonetisation-themed', 'cans,', \"'humanity\", 'livestock,', '\"mitron\"', \"'selected'\", 'grenade-shaped', 'saw-proof', '₹41l', \"santa's\", \"'uber'\", '\"countless', 'jokes\"', 'claus-masked', \"pinkest'\", \"tupac's\", '9.65-cm-tall', \"'bong'\", \"ben's\", \"'ya\", \"wan'\", 'jediism', 'crystal-encrusted', \"drinks'\", \"birds'\", \"'sonam\", \"gupta'\", \"'somewhere\", \"sea'\", '₹1,870', 'vanar', \"'lotas'\", 'instagrammed', \"'honeymoon\", \"'monster-like'\", \"'attend'\", '‘longest', 'ride’', 'ex-fiance', '\"badass\"', 'high-five', '₹500,', \"'goal'\", \"'boring'\", 'workout-powered', 'river,', \"'therapy\", 'fried-chicken', '#supersageapplechallenge', \"'pigeon\", 'sticky-tape', 'bewafa', \"potions'\", 'drunk-drivers', \"'green\", \"lady'\", \"'zombie'\", \"'adulting\", \"'adult'\", \"reason'\", \"'singam\", '\"paradise\"', 'backbend', 'egg-themed', \"go's\", 'flintstone-inspired', \"hopeful's\", \"'emoji\", 'gravy-flavoured', '₹2.3', 'wangala', '₹2k', 'ind-eng', \"'mansplaining'\", 'malfunctions,', 'pogba’s', \"simpson's\", '78,564', \"'pikachu'\", \"'sewn\", \"bulldog's\", '\"sonam', 'hai\"', \"'election\", \"cure'\", \"heavy'\", \"'protest'\", \"'untimely\", \"spongebob's\", 'half-dressed', 'duterte,', '\"worst', 'ireland\"', '£10,000', \"'lefty'\", 'home\"', 'romeo-juliet', '$162.2', \"bluff'\", 'mexico-bound', '\"trump\"', \"vomit'\", \"'husbands\", \"nursery'\", \"notebook'\", \"'married\", \"'scream\", 'barack-michelle', '£185', '42-km', 'trick-or-treater', \"'pyar\", 'gadkari,', 'writing,', '₹45k', 'ex-hc', \"'hangover\", \"'polluted'\", '2.66-metre-high', \"'up's\", \"dadi'\", \"'emoldjis'\", \"'mummy\", \"museum'\", \"'magical\", \"apples'\", \"beard'\", \"'island\", \"dolls'\", '₹7,700', \"editor's\", \"all'\", 'gauseva', 'tejaswi', '44k', \"'jokingly'\", 'napflix', '₹3,800', \"cats'\", '3-ft-wide', 'rocket-shaped', 'zealand-photographer', \"manicure'\", \"'attractive'\", \"ex-minister's\", '213%', 'zebra-donkey', \"'creepiest'\", \"'grab\", \"pussy'\", 'trump-inspired', 'speed-dating', \"dracula's\", 'urine,', \"'hare\", \"tortoise'\", \"'high-five\", \"'memory\", \"cop'\", 'wife-carrying', \"'aiyoh'\", 'newly-unboxed', \"'loc\", \"pizza'\", \"zlatan's\", \"guest's\", 'liquor-infused', \"jerry's\", 'chip-flavoured', '$999.99', \"monks'\", 'cm-long', \"'tail'\", \"'grandma-sitter'\", 'internet-famous', 'missile-launcher', \"'wine\", \"insect'\", '$5k', 'udaipur-bound', 'shkreli', 'one-metre', \"'colossal'\", \"'pepe\", \"frog'\", \"'cutest\", \"'tube\", \"chat'\", \"'nophone\", \"'goat\", 'brad-angelina', \"churchill's\", \"prostitute's\", \"'bear\", \"'spiciest'\", \"'wellness\", \"professor'\", \"'moron'\", \"'garba'\", '2000-yr-old', 'updated,', \"'rampage'\", '$545', 'youporn', 'yrs;', \"'yellow-and-black'\", \"'moon'\", 'headset-linked', \"'fidget\", \"cube'\", 'bartend', \"'elderly\", \"'moobs'\", \"'yolo'\", \"coming'\", 'flosses', \"'eco\", 'spears,', 'gold-medallist', \"'gangster'\", \"sia's\", 'harnaam', \"'upside\", '£48k', 'paper-tossing', \"scientist's\", 'fathers-only', \"cocaine'\", 'javeed', \"'ugliest'\", \"'gun\", \"pills'\", 'recruits:', \"'looney\", \"tunes'\", '145-yr-old', 'jacqueline,', \"'mom,\", \"fine'\", 'characterless:', '$155k', \"'barbie\", \"ken'\", \"'handsome\", \"'tallest\", \"site'\", \"'pepe'\", \"swan'\", \"'gin\", 'dogg,', \"'rabbitland'\", 'chilli-condoms', 'mario-themed', 'kissathon', 'porta-potty', 'phallus-shaped', '$41k', \"meteor'\", 'theives', \"'strange'\", 'bumbum', \"victoria's\", \"'dipper'\", '$17k', \"tourism's\", 'diamond-studded', \"'inattentive\", 'guests:', \"'private\", \"audience'\", 'haemorrhoid', \"'got'\", \"'gadsby'\", \"'e'\", 'pikachu-costumed', 'pokéballs', \"'dumpster\", \"dinners'\", \"queen'\", \"'sultan'\", \"'batarang'\", '€9', \"'homesickness\", \"hotline'\", 'cronut', 'tripadvisor-style', '$25k', \"'po-khi-mon\", '$64k', 'drink,', \"prince'\", 'meth:', 'prank-call', \"'am\", \"pregnant'\", \"'torta'\", 'pok\\u200bémon', \"'dheere\", \"dheere'\", 'pokestop', 'trump-pence', 'portugal:', \"'push\", \"start'\", \"'medicine'\", 'jagerbombs', \"'cleansing'\", \"monk's\", '€10,000', \"venue's\", 'navpreet', 'facekini', 'km;', '£30k', \"'sheep\", \"view'\", '$144k', 'underwear-revealing', \"'batman'\", '11.5-foot', 'nudefest', '82k', \"'pothole\", '$3k', '646th', '$1k', \"'rofl'\", \"'tl;dr'\", \"calm'\", 'sweepee', 'photography-proof', \"'talks'\", \"'overweight'\", 'mexico-uruguay', \"'desire\", \"cruise'\", 'gravedigging', \"'rajasthan\", 'sin-free', \"certificates'\", 'bank-linked', \"jefferson's\", '$6,875', 'soap:', '\"real\"', \"'text\", \"drive'\", 'nipples,', 'hitler,', '731-kg', \"'erotic'\", 'sex-themed', 'led-lit', 'high-heels', 'meghalaya:', \"'greenest\", 'germany:', '£14k', 'pre-painted', 'auto-ride', \"'anti-ageing'\", 'solo-drive', 'jesus-era', '97-yr-old', 'pastafarian', 're-marries', '2-feet', \"maybe'\", '121-feet', '25:', '$394,000', '600kg', \"'null'\", '$9.5k', \"hijacker's\", \"'wishing'\", '1500s:', 'self-impregnating', \"'anti-national'\", '$12k', '2007:', 'live-tweet', '13-foot-long', 'pop-out', \"instinct'\", '108k', \"bharatpur's\", \"donkeys'\", \"'hamilton'\", '35mins', 'reactor:', 'right-swiped', \"'allah\", 'duhai', \"'loving\", \"vincent'\", 'lgbt-themed', 'time-writing', '#desirejectionlines', \"'chicken\", \"jacket'\", \"'ramayana'\", \"nevada's\", 'nyfw', \"'barks'\", \"'quidditch'\", 'cube26', 'cancer-diagnosed', 'bureaucrat’s', \"'valentine'\", \"'gulail'\", \"avengers'\", 'six-a-side', \"welder's\", \"'vagina\", \"kayak'\", \"'crunchie':\", '₹364', 'ex-construction', \"'poisonous'\", 'jersey-wearing', 'ohlala', 'slimming,', 'marathon;', \"'stalin\", \"mao's\", 'excrements', '#hoshmeinaao', \"'chip'\", '#growingupwithmyname', \"jhansi's\", 'mohammad,', \"'trumpscript'\", '#justinbieber', '28:', 'shoe-shaped', 'hangover-free', \"'slum\", \"monkey'\", 'copyright:', \"babies'\", 'sewage:', '‘10', 'castaways’', \"croatia's\", 'mates:', \"'clearance'\", \"easter'\", 'kardashian’s', 'misdialing', 'father-to-be', 'charged:', \"'roti\", \"'hangover'\", \"'ppl\", \"dumb'\", \"malawi's\", 'vidrohi', 'thailand:', '\"worshipping\"', \"'anti-pee'\", \"'kiss'\", \"'gollum'\", \"spider'\", \"'shirtless'\", 'gandhigiri', 'indonesia:', \"'pigeons\", \"tissue'\", \"habit'\", \"'meme'\", '\"giant', 'earth\"', '17,', 'migrant,', \"gill's\", \"catalonia's\", 'channel4', 'sting:', '102-yr-old', \"spoon'\", 'bakra-eid', \"'fees'\", \"'rasgulla'\", \"'aisi\", 'taisi', \"o'clock'\", 'dust:', 'wool,', '58-metre', 'waterfall,', 'thackeray’s', \"owl's\", \"'israeli\", \"dolphin'\", 'beer-delivery', \"mum's\", 'c-sec', 'leaner:', 'rickshaw-puller', 'kick-starts', 'younger,', \"'moist'\", 'most-hated', '£1.5l', '\"alien', 'humanoid\"', 'bonding:', 'craving:', \"'ac\", \"sofa'\", 'ex-adult', '$3,300', 'basin:', '#thighreading', 'cat,', 'hindi;', 'over-dressed', 'hitch-hike', 'robot-staffed', 'mid-match', '\"married', 'people\"', 'e-shop', 'phone;', 'puppies;', \"delhiites'\", \"'freak'\", '\"my', 'ever\":', '$32bn', \"'puppies\", 'poisoning:', \"'arey',\", \"'yaar'\", \"butterfly'\", '\"smart', 'bikini\"', \"'text-walking'\", 'strip,', \"'good-looking'\", 'tractor;', 'water-repellent', 'invigilating', '102-hour', \"'flats'\", \"'belly\", \"'streetlight\", \"sun'\", '\"chimpanzees', 'cook\"', 'obama,', 'driving:', \"'hashtag'\", '48km', 'pole-vaulter', \"'dubsmash'\", 'onset:', \"'selfies'\", 'shift-workers', '\"find', 'weight\"', '$80,000', \"'devil\", \"worshipping'\", 'imarti', \"rooms'\", 'fb;', \"'sick\", \"selfies'\", \"'chalo\", \"chalo'\", \"'mad',\", \"'krishna':\", 'e-storm,', \"'selfie'\", 'bananas,', 'niloofar', 'architect:', \"'kal\", 'de-addiction', 'e-shopping', \"turing's\", \"'randi'\", \"'deathday'\", \"burger-king's\", \"'doomsday'\", 'predictability:', \"'wake-up'\", \"'mauka\", \"mauka'\", 'moms-in-law', '1100lb', 'super-glue', 'beggars,', \"'iraq's\", \"fat'\", 'iim-indore', 'ui/ux', 'traps:', 'earth-size', 'permanently:', 'mentor-led', 'release?', 'million-degree', \"'pink\", \"supermoon'\", 'webs:', 'beethoven:', \"'exercise\", \"routine',\", \"'vital'\", 'mice:', \"'vibrating\", 'rocks,', \"'mating'\", 'methane:', \"uranus'\", 'axis,', \"'missing-link'\", 'iiit-h', 'talentsprint', 'flexi-5', '600b', 'ice,', '67-mn-year-old', \"'first'\", 'astronaut,', 'extinction,', 'darkness,', \"'regular'\", 'diamond-bearing', '(global)', 'job-linked', 'ai/ml', 'career-focused', 'begins;', 'hayabusa2', 'bus-sized', 'mantle,', 'core,', \"planet's\", 'hyenas,', \"'minor'\", 'bird,', \"'wonderchicken'\", 'iim-i', 'declared?', 'contagion:', 'smallest-known', \"dinosaur'\", '99mn-yr-old', 'amber,', \"'perseverance'\", '7th-grade', '₹14.7', 'algae,', \"'mysterious\", \"object'\", 'species,', \"learning's\", \"whales'\", 'strains:', 'acidification:', 'm.tech.', '₹12,000-crore', '2-week-old:', 're-adjusting', \"1800's\", 'skinnier,', 'cubs:', 'supermicrosurgery', 'outcome-based', \"'skin\", \"yarn'\", 'gaba:', 'coin-sized', 'agents:', '16-plus', \"pots'\", 'settings:', 'flyby:', 'mri-based', \"'eats\", 'nanocontainers', '‘nano-thin’,', 'ultra-flexible,', 'turmeric-based', 'fishing?', 'iiit-b', 'ljmu', 'non-cancer', '436-million-year-old', '15,000-year-old', 'deep-ultraviolet', 'mentor-led,', \"upgrad's\", 'fungi,', \"'living'\", \"squid's\", 'damage:', 'heat-insulating,', 'heat-conducting', 'asteroid,', 'eruptions,', \"dinosaurs'\", 'camouflage:', 'pgp-dsba', 'repairs,', \"'superdiamond'\", 'denticle', 'sharks:', '\"allergy', 'memories\"', 'marrow:', 'infections:', 'emotions,', 'career-centric', '2083:', \"sniper',\", \"language's\", 'prey:', 'iiit-', 'dal,', 'parathas', 'gaganyaan', 'patents,', '2003-2017', \"dynamo's\", \"'piggy\", \"astronaut's\", \"'move'\", \"'decade's\", \"moonrise'\", 'ist:', 'high-phosphorus', 'rose:', 'metabolism:', \"'tau'\", 'microplastics', '$7-billion', 'expertise:', \"morocco's\", 'anti-atlas', \"'unicorns\", \"'horn'\", 'malaria-carrying', 'legs:', 'arms,', \"shark's\", '99.9%', \"'lizard'\", \"'ring\", \"'tweezer\", \"clock',\", \"'unmistakable'\", \"'gingerbread'\", \"'titi'\", \"'walks'\", 'planet-hunting', \"'super-puff'\", '3,500-yr-old', 'beehive-shaped', '5,700-yr-old', \"'chewing\", \"gum'\", \"'snow',\", 'microdosing', 'diagnoses:', \"'night\", \"'music'\", 'rock-throwing', \"'folding\", 'suns,', '3,500-year-old', \"'wine'\", 'bird-animal', \"'unappetizing'\", 'bats:', 'forest-covered:', 'texas-sized', 'us-sized', 'stronger,', 'himalayas,', 'lotus,', 'swarms:', 'micro-rnas', \"drummers'\", 'hemisphere-connecting', 'fibres:', \"'fingerprint'\", 'neptune-like', 'waste,', 'plastic,', \"whale's\", \"'once-a-month'\", 'pill,', \"positronium's\", \"donor's\", \"'above\", \"limits'\", 'wildfires:', 'peanuts,', 'infants:', '1,700-year-old', \"2's\", 'lander,', 'shanmuga', \"'minimoon\", \"fireball'\", 'researchers?', 'recorded:', \"universe's\", 'coldest-ever', \"solids'\", '95-million-year-old', 'stretchable,', 'circles:', '(2019)', \"rare',\", '18,000-year-old', '$19,000', 'cartosat-3', \"deer's\", 'climate-heating', 'satellite?', \"ethiopia's\", 'hyperacid,', 'life-less:', 'patterns:', 'eruption?', 'eggs:', 'iiit-b’s', 'meteorites,', \"'popcorn\", \"lung'\", 'vaping:', \"chandrayaan-2's\", 'hard-landing', \"animation'\", 'confirmed:', 'bruie', \"'furious'\", \"iss'\", \"'song'\", \"'warm\", \"jupiter'\", 'lightweight,', 'photoinitiators', 'earthquakes,', \"streets'\", 'nasa?', \"'cartosat-3'\", '91-mn-yr-old', 'europa:', 'molecule-sorting', 'dynamics:', \"'velvety'\", 'fish:', 'increasing:', 'winter-grade', 'cigarettes:', \"'devastating'\", \"'spray-on'\", \"neptune's\", \"'dance\", \"avoidance':\", 'species:', 'hologram-like', 'radiotherapy:', 'metres:', 'ferromagnetic,', \"'accidentally'\", 'light-rerouting', 'core-like', \"hydrogen's\", 'pgp-dse', 'pneumonia-related', 'under-5-year-olds:', 'stingray-like', 'hole,', 'prey-size', 'nurseries:', 'molecules:', 'combine,', 'liver-on-a-chip', 'raise:', 'sexually-transmitted', '2,051,', \"eggs'\", 'finland;', 'boys,', 'similar,', 'ability:', 'spiders,', \"moneytap's\", 'in-brain', \"system's\", 'edge?', \"'untold\", \"suffering'\", 'india-origin', 'scientist-led', 'noodles,', 'tea-based', 'vulturine', 'oven,', 'mustard,', \"'marsonaut'\", 'post-term', 'milk-producing', 'insulin-producing', 'healthier:', '150-mn-yr-old', '5000+', \"'jack-o'-lantern'\", 'relaxing:', 'mating:', 'mars;', 'rainforests:', 'scent-tracking', 'micromotors', \"battery'\", 'dinosaur-killing', 'adhd:', \"'reheating'\", 'acidic:', 'eradicated:', '2035,', 'discovery:', \"grandmothers'\", 'song-learning', 'sync:', 'frequent,', 'niño:', 'orange-white', 'glow:', '$142,858.57', '$8,409', '2018–19:', 'spacewalk?', \"humanity's\", 'only-female', 'discovered,', \"'stormquakes'\", 'ahmedabad-based', 'tickling,', 'lifespan:', \"'magnetic'\", \"'ageing'\", 'component:', 'israel’s', 'hackeru', \"symbiosis'\", 'iirs', \"'blob',\", 'desert,', 'germs:', \"spacewalker's\", 'leonov,', \"'salamander-like'\", 'cartilage:', 'mathematics?', 'crispr', \"'cute'\", \"'shark-toothed'\", '45:', \"'movie'\", 'goodenough,', 'joint-winner', 'nobel,', 'pgp-sdm', \"'t\", 'exoplanets:', '€2.9', 'eel-loach', \"'pangio\", \"bhujia'\", 'genome-edited', 'thinner,', \"'lazarus\", \"superconductivity'\", 'supply-demand', 'c3s', 'system;', '2,200-yr-old', 'energy,', 'echolocation:', '11,000-yr-old', 'functions:', '5,000-yr-old', 'hazzaa', 'almansoori', '100-times', 'volcanoes:', '2,000-yr-old', 'brain-shrinking', \"'cosmic\", \"'anti-feminist'\", 'symptoms?', 'bn-tonne', 'antarctica,', 'quakes,', 'field-sized', \"'comprehensive'\", '‘dangerous’', 'landmark-based', 'corn:', \"'relic',\", 'ovulation:', \"vikram's\", '2nd-lowest', 'micro,', 'particles:', \"hole's\", 'self-esteem,', 'versa:', 'antidepressants:', 'psilocybin-producing', 'priority,', 'baldness:', \"'gel-like'\", 'fracture-healing', \"'crystal\", '53%,', 'cats,', 'caregivers:', 'syndrome:', \"ear's\", 'sensitivity:', \"'dinosaur-like'\", 'coast,', '$62,000', 'newly-found', 'sunsets:', 'probable:', \"postmen's\", 'brain-eating', 'khalifa-sized', \"'blackest\", \"black'\", 'drift,', '1,600-year-old', 'hands-clasped', \"orbiter's\", 'hard-landing:', 'haroche', 'deep,', 'signals:', \"'planet',\", '10yrs,', 'helium-3:', 'ex-drdo', \"'super-earth'\", 'science,', '2.1km', '90-95%', \"mission's\", 'sure:', 'dawn,', 'cm/s,', 'crashed;', 'orbiter:', 'lander;', \"dave'\", 'de-ageing', 'orbiter,', '17,000-yr-old', \"lander's\", 'de-orbiting', \"'breathe'\", 'yutu-2', 'chandrayaan-1:', 'manoeuvres,', 'bits/second:', 'upskill', 'insertion:', \"rhinos'\", 'eventually,', '72,843', 'moon-bound', 'europa,', \"ljmu's\", 'orbit,', 'pain-sensing', \"iit's\", 'melts,', 'fingernail,', 'warped,', \"detailed'\", \"rhinoceros'\", \"molecule's\", '800+', 'aim’s', 'performed:', 'orbits:', \"greenland's\", 'chandrayaan-2,', 'nmims', '500+', '22,', \"'chandrayaan\", 'vikram?', 'snag:', 'breathtaking:', 'desolation:', 'sunspot:', 'udupi,', '$158-mn', 'insecticides:', \"'moon-forming'\", 'lightsail', '2014–2017:', '3000,', 'football-like', '2ft', '40,000-year-old', \"'raavana-1'\", 'recorded,', \"'twinkle\", \"twinkle'\", 'tune,', 'appears:', 'brain,', \"'astrobee'\", 'so?', 'pgp-aiml', 'al-experts', \"card's\", \"'green'\", \"part'\", 'shrew-rat', \"'rain-loving'\", 'gases:', '31,000-yr-old', \"teeth's\", 'gorgeous:', \"galaxy's\", 'master’s', 'uk/usa', 'diamonds,', \"telescope's\", 'survival,', '$31b', '2-foot-long', \"dolphin's\", 'highest-temperature', 'iaf,', 'emissions:', '$542mn', '2010-18', \"springboard's\", '600mn', '3.7l', '2060s:', 'mass,', 'current,', 'cloud-proof', 'venus,', 'cooked,', 'pluto:', 'mould,', 'straws,', 'buds,', \"'coffin'\", '₹35k', 'analytics,', 'upgrad’s', '120%', \"'rocket\", \"science'\", 'piano:', 'womb;', \"'bio-glue'\", \"bird-like'\", '5-mn-year-old', \"'brain'\", 'raisin,', 'moonquakes:', '10,000-year-old', '29-mn-yr-old', '71%', 'heat-sensing', \"'superionic\", \"ice'\", 'kākāpō', '10.92km', 'decayed:', '163-mn-year-old', 'bat-wing', '2029,', '2,400km', 'sunset,', 'sunrise;', 'platinum:', 'sundarbans:', 'co-finds', 'aglisium', '600+', 'obesity,', 'spacetime,', 'avg:', '15,600-yr-old', 'americas:', 'eclipse:', 'pre-landfall', \"'cartoon-eyed'\", 'al:', \"mica's\", 'sciencealert', '1980s:', 'coal-free', \"'marsquake',\", '30yrs', 'motionless,', \"'exhausted'\", 'gagandeep', '22-mn-yr-old', \"lion'\", \"'bubble\", \"'hourglass'\", 'sexist:', \"'pōwehi'\", 'three-parent', 'detaches,', '500kmph', '-263ºc', \"hole'\", 'oil-eating', '3-foot-tall', 'meteorite,', 'decay:', 'doughnut-like', 'bacteria,', 'tobacco:', 'debris;', \"'terrible\", \"thing':\", '2-kg', \"concern'\", '30x', 'photosynthesise', 'debris:', '5-billion-year-old', 'moonset', 'lift-off,', \"'transparent\", 'radar-spotting', 'disgrace,', 'earth’s:', 'fly,', 'skin-eating', 'tb,', '$112', \"'sherlock\", \"holmes'\", 'right-sized', 'begun,', 'a-sat', 'island,', 'replica,', \"'mini-brain'\", \"'cannonball'\", 'avg.', 'supermoon', \"'silent'\", 'average,', '1,100°c', 'stanford-led', 'feringa', \"'einstein'\", \"'built\", \"rover's\", '2,600-yr-old', \"'flame\", \"lily'\", 'bioprinter', \"kepler's\", \"iiit-b's\", 'tadpole-like', 'dino-era', 'kangaroo:', \"'sunburn':\", \"'semi-identical'\", 'flies,', 'brightest,', '100-mn-year-old', \"'wireless'\", \"gagarin's\", 'biodiversity:', 'siberia;', 'storm-hit', \"platelets'\", '$2m', \"'nasa'\", \"seal's\", 'speakers;', \"'invasion'\", 'organs:', '$18.5m', '290%', '300-metre-tall', 'vortex,', 'antarctica?', '2003?', 'alcohol-cooked', '‘negative-energy’', '13-bn-yr-old', '-190ºc', 'flat:', '4-yr-old,', \"midnight'\", 'breathing,', 'kachchh:', '230%', \"learnings's\", 'pgp-babi', '4.9/5', 'student-made', 'kalamsat-v2', 'hawaii;', 'delta:', 'bacteria-inspired', 'microbots', 'captured:', 'bn-yr-old', '10-100mn', 'self-guiding', \"'blast\", \"pattern'\", \"oxygen'\", '-170ºc', 'km/yr;', '100-metre-wide', '5-litre', 'iqs,', '€24', 'planet-forming', '90º', 'disgrace:', \"'messy'\", 'steam-propelled', \"'forever'\", 'nasa:', 'star-eating', 'star-producing', 'oysters:', \"'hack'\", 'photosynthesis,', \"'footprint'\", 'object:', 'george,', 'mumbai-born', \"pacemaker'\", 'vigyan,', 'anusandhan:', 'lettuce,', 'thumb:', '₹10,000cr', \"hubble'\", \"antarctica's\", 'kitchens:', 'seaweed-eating', \"'stupid':\", 'gsat-7a', 'breach;', \"'no-kill\", \"'hippo'\", '400yrs', \"'fossil'\", \"'worst-case-scenario'\", 'e-bandage', 'osiris-rex', 'aiml', 'away?', 'mass:', 'einstein’s', '$2.9mn', \"'moon\", \"rocks'\", '$855,000', 'fries:', 'horrified,', 'disgusted:', '3-5°c', '4,000yrs', \"'mini-placentas'\", 'explosion,', 'trades:', 'uv-blocking', 'wall-e,', 'no.1:', 'defined?', 'planet-hunter', \"'goodnight'\", 'glass:', 'built:', \"'quiet'\", 'interior:', 'what?', 'gsat-29', 'currently:', 'nitrogen:', 'organs-on-chips', '5,000th', '1-3%', 'aliens:', \"'science\", \"oscars'\", 'birds:', 'weekend:', \"'airglow'\", \"'alien\", \"spacecraft'\", '110-million-yrs', 'non-earth-like', '₹55l', 'uae-made', 'missions:', 'kepler,', 'fuel:', '0.4sec,', \"'breathing\", 'pea-sized', 'telescope?', 'malfunction:', 'thesis,', 'godzilla,', 'rectangle-shaped', 'silly:', 'satellites:', 'conflicts:', 'pulsar,', 'procedures:', '7-yr-journey', 'afterlife:', 'piranha-like', 'rocks:', 'smooth-skin,', \"'sings'\", '5mn', 'superhumans:', 'russian:', 'nordhaus,', 'fails,', \"emissions'\", 'dry,', 'evolution:', \"'touch'\", 'ashkin,', 'mourou,', 'arnold,', 'allison,', 'honjo?', \"goblin'\", '40,000-year', 'eye-surgeon', \"'invading'\", 'scientist;', \"'merchant\", '10-ft-tall', '159-yr-old', 'mangalyaan', 'astrosat', '280mn', \"cern's\", 'achievements?', 'trami', 'newly-discovered', 'clever:', 'mission?', '50mn', '558-million-year-old', 'martians,', 'earthlings:', '73,000-year-old', 'laser-shooting', \"curie's\", 'electricity-producing', 'indian-us', \"'rio'\", 'wild:', 'human,', 'meteorite:', '7,200-yr-old', '£98mn', 'near-extinct', '\\u200bmit', \"elevator'\", \"truckin':\", 'satheesh', 'cents/hour', '40,000-yr-old', \"horse's\", 'hand-calculated', \"poison',\", 'asteroid-bound', 'astronaut-in-training', 'humans;', \"arctic's\", 'proton-driven', '2.5yrs,', '15yrs', 'nobel-winning', 'consumption:', 'future-ready', 'space?', 'iron,', 'dinosaur-era', '99-mn-year-old', \"'in-body\", \"gps'\", '₹31cr', 'monsoon:', 'melting?', 'parker,', 'sun?', 'scientist:', 'spider-shaped', 'york,', \"'scutoid'\", \"'nobel\", \"maths'\", 'venkatesh?', 'starlight,', \"century's\", '41,700-year-old', 'eclipse?', 'dolphin-whale', \"'atoms'\", \"population's\", 'demand?', 'armstrong’s', \"way's\", \"'long-lost\", \"sibling'\", \"'smallest\", '3bn-yr-old', 'drug-filled', \"'nano-submarines'\", \"indian-american's\", 'trillion-tonne', 'armstrong,', 'lemaître,', 'theory?', 'berlin;', 'jupiter;', \"'isolated'\", 'antarctica:', '₹40-cr', '105-million-year-old', '3.7bn', '$330', 'meghalayan', 'silk-based', 'bendre?', 'light?', 'date;', \"sleep'\", 'momo-2', 'century’s', \"giant'\", \"human's\", '87%', '800mn', 'ozone-killing', \"grease',\", '3-fingered', 'wide,', \"eels'\", 'koko,', 'marijuana-based', \"chemistry's\", '99-million-year-old', \"frogs'\", 'spacewoman', \"'opportunity'\", 'rest;', 'newton,', \"miracle'\", \"'filthy,\", \"obtuse'\", 'lie,', \"'burping'\", \"'eating'\", \"'building\", \"particle'\", 'asteroids:', 'impact,', '540-mn-yr-old', 'farther:', \"'lifebox'\", \"'goal\", \"physics'\", 'reptile-mammal', \"'sixth\", \"'gentle\", \"breeze'\", \"'research',\", 'humour,', 'astronaut:', \"'human'\", 'embryos;', 'comet,', \"'fear,\", \"chaos'\", \"'happiness'\", 'ingestible', \"asteroid'\", '$137-million', 'swelling:', \"mj's\", 'moves,', \"'traffic\", \"jams'\", 'oldest-ever', 'dino-killing', 'asteroid:', 'nsg,', \"buddha'?\", \"'mermaid\", 'underwater,', 'mini-organs', 'meteors,', \"'house'\", 'migraine-prevention', \"pebbles'\", 'curie,', 'river:', \"'transplant\", \"memories'\", '$34-million', 'glaciers,', '110-day', \"lab'\", '1,00,000ºc', 'quadrillionths', \"'two-headed'\", 'begin?', \"'glove'\", \"'grown'\", 'hatching?', \"'runny\", 'seasons:', '4500-year-old', '78-foot-tall', 'events,', 'mars-jupiter', \"'twilight\", \"zone'\", \"'mini-brains'\", '$993-mn', 'robot-assisted', 'hawking-backed', 'biohacker', 'detection:', \"'talk'\", 'tectonics:', \"wikipedia's\", '100-mn-yr-old', \"przybylski's\", 'rotation:', \"'close'\", \"'infinitely'\", 'plastic-like', 'reverse,', \"'tennis\", \"elbow'\", 'with?', 'solar,', \"'kept\", \"hours'\", '$27.5', 'disaster?', \"ramanujan's\", 'number?', 'tropical-born', \"mosquito'\", '11cm', \"'most-precise'\", \"'mega-merger'\", 'super-earths', \"earthquake's\", 'scale?', '97-99.9%', \"'spooky\", \"action'\", 'flooding:', 'stretched,', 'indian-led', 'pasteurisation', \"sponge'\", 'mud-cracks', 'atom,', 'lyrid', 'moons:', \"'survival\", \"fittest'\", 'planet-finding', 'free-bound', \"asperger's\", 'quadrillionth', \"'muscle'\", \"'lost\", \"planet':\", \"siblings'\", 'heatwave:', 'butterfly-shaped', \"'houston\", 'explosion-hit', \"'junk'\", 'plastic-eating', \"giant's\", 'planet-warming', \"'flammable\", 'holes:', 'planets:', \"precise'\", 'communicate,', 'ancestors:', 'sulphites', 'snowfall:', '180-mn-year-old', '₹11.3', \"'second'\", \"'einstein\", \"ring',\", '205-million-year-old', 'fast-melting', 'greenland?', 'neutrino-atom', 'reflection,', 'mergers:', '180-million-year-old', 'earth?', 'disease-detecting', '170-million-year-old', 'bacteria-killing', \"'sunshade'\", 'gsat-6a', \"bang'\", \"'interstitium'\", \"'x-rays'\", \"'invisible'\", 'spacex:', 'isro-launched', 'mercury-like', '2,000ºc', '28,000-year-old', '13,000-year-old', '85-million-year-old', 'paper-cutting', '2-billion-year-old', '4,50,000', 'helmet-shaped', \"'costliest\", \"record'\", 'disasters:', 'particle-based', 'discovery,', 'maser,', 'laser,', '1,15,000-year-old', 'cyanide:', 'nanofibre', \"'feeding\", 'smallest-ever', 'khan?', 'humanity?', \"'brief\", \"'nearly\", 'tunnels:', 'radiation,', \"'glow'?\", 'traced;', \"einstein's:\", 'harvard-backed', \"'steve'\", 'shoebox-sized', 'snowier', '0.5ºc', 'shrinks:', 'body-on-chip', 'syndrome,', '21?', 'hawking:', '9-cm-wide', '(π)', 'recently:', '₹3.35', 'physics:', 'bang:', 'coincidence:', 'superman:', 'disease?', 'dinosaur-bird', 'bursts:', '\"mr', 'watson,', 'here\"', '700-km-deep', \"'potentially\", \"hazardous'\", '1.6-bn-yr-old', \"'oceans'\", \"'galactic\", \"clash'\", 'antibiotic-producing', \"'mega-colonies'\", 'tardigrade', 'donut-shaped', 'cloud:', 'types,', \"'mini-neptunes'\", 'saturn-mass', 'hiv-like', \"dna's\", 'double-helix', 'asian,', \"suit'\", '$9-million', '$13-million', \"'igloos'\", '0ºc', 'immobile:', 'desert:', 'oceans:', \"study's\", '1.87-kg', \"'firefly'\", 'walnut-like', 'wrinkles?', 'rings-shaped', \"'olympicene'\", 'neanderthals,', \"tree'\", 'hurricane-hit', \"'wild'\", \"'eat'\", 'human-sheep', \"'mary\", \"lamb'\", 'part-tech,', 'part-human:', 'shadow:', 'lung,', \"'interstellar'\", \"capsules'\", 'placenta-on-a-chip', 'blood?', '8000-year-old', \"galileo's\", '10-km-wide', \"island's\", 'continents:', 'aurora-causing', '2100,', 'form?', 'vantablack,', \"building'?\", 'seabed:', 'near-light', \"'tadpole\", \"crater'\", 'neptune,', \"through'\", 'musk?', \"'pacemaker'\", '100-million-year-old', 'self-cloning', 'poles:', 'crash?', \"base'\", 'craters,', 'poop,', \"'hello',\", \"'bye'\", 'sun-dimming', \"'dolly\", \"sheep'\", 'method?', 'wriggly', 'teamindus', 'outside-of-africa', 'zika:', '7-planet', \"'disco-ball'\", 'dryness:', 'smallpox-like', \"'racist':\", '0.04%', '1.7-billion-year-old', 'murder-accused', \"mercury's\", 'sun:', '9,000-year-old', \"'skin'\", \"'tornadoes\", \"sound'\", \"'cartwheel\", \"galaxy'\", '7-hr', 'second-hottest', '68l', 'phases,', 'spring:', 'neutron-star', 'poison-based', 'dinosaurs:', \"'heart-on-a-chip'\", \"'bungee\", 'rats:', \"'siberian\", \"titan'\", 'spider-eating', '9-cm', 'five-planet', '-42.5ºc', 'venus:', 'solar-thermal', 'microbeads', 'once-a-week', 'turkey-sized', \"dinosaur's\", \"'whirlpool'\", '₹289', '2016-17', \"for'\", 'earth-space', '8.5-tonne', \"cyclone'\", 'coast?', 'hard-to-stretch', 'superelastic', \"experiment's\", \"'universe\", '1950:', 'cell-sized', 'named?', 'kalam-led', 'blindness-treating', 'web-inspired', 'harvard-made', 'formation,', '11,500-yr-old', 'fuel-burning', \"'speed\", \"breeding'\", \"may've\", 'supervolcano:', 'discoveries,', \"'fat-burning'\", \"2017's\", \"whirlpools'\", 'nanotechnology:', 'lab-made', '300-megapixel', 'survive:', 'mccandless,', 'comet-like', 'boat-like', 'diamond-hard', '$45-million', 'reflectivity,', 'melt:', \"'winking'\", 'skull-shaped', 'rub-on', 'melts:', \"gold's\", \"'breakthrough'\", \"'self-healing'\", 'fungi:', 'entirely-in-space', 'dolphins:', 'comet:', 'laser-driven', 'likely:', '750-km', '60-million-year-old', 'sand:', \"'weigh'\", '2,500-yr-old', \"signals'\", 'fuel-exhausted', \"'binge\", \"eaters':\", 'wars-inspired', \"'recent'\", 'radiation:', 'geminid', 'stars,', 'differently:', 'excitonium', 'pieces:', 'anniv', \"fossil'\", 'cancer-treating', \"'hum'\", 'supermoon,', 'moon-sized', 'nasa-funded', 'zuckerberg-backed', '$22-mn', \"'abortion'\", 'co2-absorbing', 'part-living', 'part-digital', 'matter-hunting', \"tattoo'\", \"'tweezers'\", 'telescope:', 'happened,', 'aids-causing', 'sponges,', 'jellies:', 'methane-fuelled', \"'photobombing'\", 'k-led', 'nanopill', \"'absorb'\", 'flat-earthers', \"'unhackable'?\", 'bumper-to-bumper', 'nomads:', \"ice's\", '-30°c,', 'cloning:', 'chromosomes,', 'mars-like', \"booms'\", 'origin:', 'hand-noted', 'puncture-less', \"'lost'\", 'privately-produced', 'racing,', 'micro-robots', 'eruptions:', 'ocean:', 'heart-squeezing', 'nanochips', '$5-billion', 'corpse,', \"'right-handed',\", 'wing-inspired', \"'periodic\", \"exoplanets'\", '35-metre-long', \"'rogue'\", \"'oumuamua\", 'beneath,', 'volcanoes,', \"strategy':\", \"'warning\", 'cpr:', 'wave-powered', 'asgardia', '3-eyed,', \"'molecular\", \"scissors'\", 'non-immune', 'pm2.5', 'index?', 'melt,', 'taurid', 'post-injury', 'inflammation:', 'alien-hunting', 'objects:', \"'fish'\", 'slow:', \"'rod-like\", \"cones'\", 'electricity,', 'photographs:', 'h-bomb:', \"light's\", 'light-based', 'gordon,', \"'mu69'\", 'non-el', '9.0-scale', 'altogether:', \"'beaver\", 'skull:', '11-billion-year-old', 'horns,', 'neck:', 'indo-british', '₹1.7-crore', 'kapany', \"'fibre\", \"optics'\", 'catastrophic:', 'jellyfish-inspired', \"'hurt'\", \"galaxies'\", 'rims:', \"'monster'\", 'about?', \"edison's\", '1.24l', \"'gps'\", \"'sunscreen\", \"snowfall'\", 'shortest-ever', \"'twisted'\", \"'levitating'\", \"'bandit-masked'\", \"'switched\", \"'scratch\", \"'spooky'\", 'jurassic-era', \"'fish\", \"lizard'\", '6,000-yr-old', '4.5-billion-year-old', 'robots:', 'fireworks:', 'injuries:', \"'deeply\", \"embedded'\", \"halley's\", 'earthrise,', \"'sweating'\", 'jetpack,', \"'not-a-comet'\", \"'photobombs'\", 'co2:', \"halo'\", 'bees:', 'wildlife,', \"'ring'\", 'ultra-thin,', '4-in-1', 'cooling,', 'viking-era', \"'allah',\", \"'ali'\", \"'reboot'\", '800-km', \"'science'\", 'erupt:', \"'atlas\", \"life',\", \"'carbon\", \"sucking'\", '2030s:', \"'scatter\", '₹68k', 'obesity-related', '1,400ºc', 'snowball:', '$1.3tn', 'galactic:', 'once?', 'cryo-electron', \"'drain\", \"pipes'\", \"'body-on-a-chip'\", \"kbc's\", 'jackpot?', 'stiff,', '3,000-km-long', 'self-disinfecting', '₹2.64/unit', 'simulation,', 'clocks?', 'determined?', '2,370ºc', \"dust'\", \"moore's\", 'smartphone-based', 'migration:', 'cancer-like', 'upper-arm', 'double-hand', \"'chemical\", \"surgery'\", \"'lucifer'\", '4-times-lighter', 'surfaces:', 'obamas,', 'light-driven', '2ºc:', 'malaria-resistant', 'mangalyaan,', \"'wakes\", \"tree',\", '266-sq-km', 'asima', 'chatterjee,', 'doodle?', 'themselves?', \"rays'\", \"'flip'\", 'heat-pipe', 'arctic,', 'information?', 'weldable', 'dino-eating', \"'pacman'\", \"'nano-robot'\", \"quake's\", '$14-million', 'three-in-one', 'drug-resistance', 'newly-recruited', 'oetzi,', 'iceman?', \"'city'\", 'octlantis', 'nasa-backed', 'flexible,', 'planets,', 'asteroids,', \"deal's\", '1.5ºc', 'achievable,', 'km/sec,', \"'breaking-apart'\", 'nanosat', 'nanobot', \"droplet's\", \"surface's\", \"warrior's\", '$3.9-billion', 'saturn?', '$3.9-bn', 'cassini,', 'saturn-bound', \"'eats'\", \"cassini's\", 'app-controlled', \"'super-earths'\", 'envelop,', \"'slow\", \"motion'\", 'dna:', 'nano-device', \"'hybrid\", \"planet',\", 'hurricanes,', \"'internal\", \"clock'\", \"'vampire'\", 'sq-km', 'flare-producing', 'skin-blistering', 'evolving,', \"'flip-flop'\", \"'tsunami-sunk'\", \"'scifi'\", 'course:', '2070:', 'mice,', \"atlantic's\", 'egg-sized', 'meteor,', 'meteoroid,', 'differ?', 'cosmonauts?', '5.7-million-year-old', 'bias,', \"apes'\", \"'clouds\", \"ocean'\", 'private-sector-built', 'edison-invented', 'kinetograph', 'head-joined', 'fake-tailed', \"'breakthrough\", \"therapy'\", 'nano-sized', 'crystals,', '3,700-yr-old', '2.7-mn-yr-old', 'age-era', 'farming,', 'cheese,', 'toes?', 'fluid:', 'hormones:', \"ever'\", 'plates:', 'gigantic,', 'evolution?', 'eyes?', \"dry',\", \"'diamond\", 'uranus,', 'cane-shaped', 'eclipse,', \"'cyborg'\", 'manner?', 'drug-delivering', '400-mn-year-old', 'malware-encoded', 'sarabhai,', 'isro?', \"'schrödinger's\", 'experiment?', \"'near\", \"miss'\", '13-mn-year-old', \"'origami\", 'tissues:', 'trappist-1', 'bumblebees:', 'body-friendly', '122-foot-long', 'isro-made', 'bacteria-powered', \"'origami'\", \"change'\", \"'march\", \"vizag's\", 'rayichapalu', '-80°', \"'saw'\", 'tank-like', 'hide:', 'elements:', '250-million-year-old', \"'lazy'\", 'eat:', \"antihydrogen's\", 'noru', 'mammals:', \"'budget'\", \"continent'\", \"'planetary\", \"officer'\", '1400%:', \"wine's\", \"awesomeness'\", 'life-forming', 'ingredient:', 'gas-eating', \"'tongue\", 'anti-particle', \"'unusually\", \"high'\", \"'tongue-out'\", 'homosexuals:', \"proton's\", '₹11.6cr', 'useless:', \"ponds'\", 'eaten,', 'ants:', \"'saraswati'\", 'discovery?', 'supercluster,', 'storm?', \"'tardigrades'\", 'mudball', 'environmentalists:', 'snapped-off', 'sanitation:', 'colony:', 'nanosecs', 'zika,', 'earthquake-triggering', '₹116', \"modem'\", \"danger':\", 'moon-like', \"'palace'\", 'cannibals:', 'hole?', \"'guru\", \"purnima'\", 'overflow:', 'smallpox-related', 'ferrofluids', \"'squarest'\", 'closest-ever', \"'kilogram'\", '300-metre-thick', \"'sees'\", 'dared:', '5-eye', \"'runaways'\", \"'failed\", \"stars':\", '10,900-year-old', '0.55ºc', '0.7%', 'catastrophe:', 'dressing,', 'doctors?', 'gst,', \"'sweet\", \"spot'\", 'nanomotors', \"'perfect\", \"storm'\", 'whitening:', \"'bulges'\", 'frogs:', '180-year-old', \"'strangest\", \"'niagara\", \"falls'\", 'switch:', \"'sneeze':\", 'width,', \"nights'\", 'sensation:', '16-min-long', 'deleted,', '7,000-year-old', \"material's\", 'camera-on-a-chip', 'kalamsat', 'proof:', 'liquid-fuelled', \"stick's\", '₹1.35', 'metres,', 'inevitable,', 'predhiman', \"'immune\", \"'string\", \"pearls'\", \"'unhackable'\", \"'drinks'\", '60-year-olds:', \"gold'?\", \"'liquid\", 'biting:', 'net-zero', 'shampoos,', \"'surgery'\", 'two:', '68th,', \"moons'\", 'risky:', 'pairs,', 'cabbage,', 'cauliflower,', 'womb:', 'overweight,', 'obese,', 'structures:', 'crocodile,', 'dinosaur,', '72ºc', \"'failed'\", 'wireless,', 'battery-less', 'scaled,', 'off-earth', \"'brains'\", 'sprout,', 'oceans,', 'elastic,', \"'tumbleweeds'\", '4,327ºc', 'mk-iii?', \"'gslv\", 'measured?', 'there?', 'einstein,', 'bumphead', 'skeleton:', '\"failed', 'star\"', 'start?', 'causes,', 'virus?', 'moon’s', '8ºc', \"'faceless'\", 'silence,', \"'tipped'\", 'axis:', '3400-yr-old', 'digital-first', 'iqube', 'nexa', '#breathefree', 'altroz', 'motorcycle:', '₹54.2', 'home-coming', 'kodiaq', '₹2.83', '₹4.1', \"'turbo'\", 'sedan:', 'triber', '₹4.95', \"'wishbox'\", 'skateboard-like', 'feature-packed', 'glanza', '95,200', 'rr310', '‘rt', 'clutch’', 'batteries:', 'bond-like', 'defect:', '2023,', \"'shit'\", \"provider'\", \"ngt's\", \"'cheat\", 'q1,', 'limos:', 'emissions,', 'dieselgate', '₹1,795', '19.6%', \"industry's\", 'majority-female', '2.7%', 'brexit-linked', \"vw's\", '#lovemovesforward', 'motard', 'ex-employee,', \"leyland's\", '11-yr-old’s', '88-ft-long', \"truth'\", 'hybrid-vehicle', \"'eva'\", \"'wisely',\", 'chrysler:', \"ghosn's\", '184-yr-old', '₹23-lakh', \"be'\", 'deti', '₹830', 'penalty,', 'mahindra-owned', 'secs,', 'delhi-chandigarh', \"jlr's\", 'stacyc', '11k', 'e-bus', 'ex-fiat', '₹383', 'bentayga', '$57,000', \"lamborghini's\", '₹3.73', 'km:', '“the', 'suv\"', '₹26,993', 'supercar:', 'plot,', 'mitsubishi,', \"table':\", \"electric'\", \"gt500'\", '₹171', \"toyota's\", '21yrs', 'directors:', '74.65%', 'fever,', 'motors-owned', \"suv'\", \"'maruti'\", 'premier,', 'padmini,', \"'unjust\", \"enrichment'\", 'schot', 'e-vehicles:', \"'unfinished\", \"story':\", 'quadricycles', 'dismay,', 'electric-only', '₹6.95', '$15.9', 'l&k', 'd,', '₹84.70', 'ertiga', '₹7.44l', 'firm’s', 'use,', 'polo,', 'ameo', 'gurpratap', 'boparai', 'two-wheels:', \"'dbx'\", '#experiencechange', 'go+', 'explore,', '₹1,049', \"chance'\", '35-tonne', '$3.4mn', '800%', \"honda's\", 'sajeev', 'suvs,', \"newman's\", '280zx', '₹1.19', \"audi's\", '₹9.75', 'sales;', '\"sportiest', 'dynamic\"', 'sunra', '₹11.95', '₹2.95', 'yamaha,', '$325,000', \"'ghibli\", \"ribelle'\", 'panigale', '₹15.2', '$90mn', '$6.7bn', 'supercars,', 'superbike,', 'cena-owned', \"jaguar's\", 'gt,', 'vento,', 'ferrari:', 'electric,', 'permit-free', '₹2.99', \"daimler's\", 'ciaz', '₹338', '$242', \"'supercar'\", '1500th', \"'divo'\", \"'virtual\", 'flying-car', 'army-inspired', '₹1.62l', '₹1.4l', '0-100kmph', \"fun'\", \"fiat's\", 'bikemaker', 'tata-fiat', \"'shul'\", 'alto,', '₹3.88', 'swift,', 'dzire', '₹1,975', 'cr;', \"before':\", 'india-assembled', 'zx-10r', '₹12.8l', '$304,995', '600lt', '$243,000', '2.1s', \"gm's\", '₹1,059', '₹3.78', 'dhivya', 'suryadevara,', 'cfo?', 'suryadevara', \"stadler's\", '₹469', '₹12.2l', '₹12.2', '$3.4bn,', '$784mn', '$9.85', 'volatility,', 'ktm:', 'milaze', 'emission,', '1.23l', 'warnings:', 'value:', 'diess', \"critical'\", 'merge,', '$25-billion', 's-class,', 'sr125', '‘find', 'funtwin’', 'wheel,', 'second-gen', '₹53.25', '#strongertogether', '500h', '₹1.77', 'lf-1', 'hybrids,', 'celeriox', 'etios,', \"'biggest\", 'bonanza’', '643-km', 'renault-nissan-mitsubishi', 'viable:', 'two-wheelers:', \"'cat-shaped'\", 'app-based', \"detroit's\", 'nano:', \"future's\", 'agera', '8000-km', 'drivesmart', 'airbags,', 'robot,', '$499,', '$135,000', \"'concept-i\", \"walk'\", \"'way\", \"hype'\", '1979:', '£10', 'redi-go', '1.0l', 'km-trip', 'toolbox-like', \"'structurally\", \"unprofitable':\", '$2.72', 'one-inspired', '105%', 'carts,', 'safeguards:', '‘beast', \"hell'\", '₹1.57', 'horiba', 'ducati:', '₹5.8l', 'unfortunate,', '₹3,860cr', '#happyroads', 'nissanconnect', '20-foot-long', '₹80,000', 'sexual,', 'car-leasing', '$1.16', '₹162cr', 'battery:', 'gm-owned', \"investor's\", 'york-dc', 'hyperloop:', 'electric:', 'accelerate,', \"peugeot's\", '$1.46', \"'circle\", \"five'\", '20-year-long', '30l', '₹5,700', 'dashcam', '₹36.8', '₹730', 'cafes,', '360°', '₹18.3', '₹6.4', '₹30.65', \"baidu's\", '₹114', 'terrafugia', 'ex-engineer', 'jeyachandran', \"'vahana'\", 'tesla’s', \"'nicest'\", 'ceat’s', '‘the', 'party’', '₹5.99', \"'aeroboat'\", 'bio-composite', '₹84', 'deserve,', \"presley's\", 'moonshot:', 'cyclists:', \"'otto'\", 'anti-collision', 'ex-ford', '₹370', '‘protect', 'precious’', 'tunnels?', 'car?', \"that'll\", '200kmph', '₹9.6', 'air-free', 'belts:', 'salesman:', 'ex-gm', 'ex-autopilot', '₹10.2', 'unexplainable:', \"mayweather's\", 'sphere-wheeled', 'bs-iii', '$1.78', 'norms,', 'sc?', '₹3400cr', \"gang's\", 'bogus:', \"yellow'\", 'under-hood', 'over-speeding', '‘drive', 'dad’', 'alnac', \"'half\", \"car',\", 'imprsionment', 'billion-pixel', 'auto,', \"'s3x'\", '₹25.5', 'mobileye', '$15.3', '₹15,300', 'supercar-themed', 'steer,', 'unsubstantiated:', \"3's\", 'uber?', '₹95', 'competitor:', 'sexism,', 'head-rest', '320kmph', 'gigafactories', '₹2.67', '-18°f', 'olx,', \"'mad\", '‘night', 'edition’', \"'motors'\", '₹3.45', '₹8l', 'ex-uber,', 'summer:', 'dell,', 'ex-hyperloop', 'cartrade', \"'tamo'\", \"'cheetah',\", \"'penguin'\", \"'morally\", \"outrageous'\", '0-300', '13.61s', 'react,', 'own?', 'imports,', '₹43,700', '₹1.12', 'mexico-built', 'ex-harley-davidson', 'ex-rolls-royce', 'sofas,', \"choudhury's\", '8-seater', '16-year-low', '600km', 'mexican-made', \"nissan's\", '₹1.46l', \"maruti's\", '$256', 'six-door', '₹37.90', \"'waymo'\", 'curvy?', 'bentley,', 'laferrari', 'moia', '₹3,627', 'anywhere,', '₹31.99', 'rolls-royce’s', 'standard,', 'uber-owned', \"'instant'\", \"mclaren's\", '₹76.84', '₹22k', '₹3.16', \"'defeat\", '₹406-cr', 'mercedes-maybach', 'fix,', '21.78%', '₹13.75', \"efficient'\", \"'cars\", \"fisker's\", '₹6.4k', '₹53.5', '2.2%', '₹39.90', \"motor's\", '$935', 'apr-sep', \"'volkswagen's\", '$14.7', \"'bullies'\", '103.6%', '6.68%', '₹1,122', 'leeco', '‘shadow', 'mode’', 'x’s', \"bike'\", 'atieva', '$8,000', \"vehicle's\", '₹10.22', 'self-charging', 'cross’', '₹6.85', '₹7.78', 'bike-hailing', \"swift'\", '₹38.51l', 'torq', '18.67%', '$114', 'carplay', \"'parts\", 'genovation', 'corvette-based', \"leno's\", 'db11', '₹4.27', 'z800', \"'passenger\", \"fy17'\", 'baleno', 'mahindra’s', '5.35%', '₹1.88', '₹4.69', 'f-pace', '₹68.40', '‘e2oplus’', '₹39.78', \"glm's\", 'e-buses', 'myškoda', 'india-bound', \"'dieselgate'\", '₹2.82', '₹61,800', 'cloud-connected', '₹47.90l', '$1.2bn', 'mirzya-themed', 'centuro', '₹46,750', '₹3.71', '₹49.5', '$1.08', \"'insane\", '16l', '15l', 'xdiavel', '₹15.87', 'v90', \"'smiles'\", 'e-hybrid', 'verito', 'vibe:', 'non-hp', '41k', 'packed,', 'mariyappan', '₹5.24', 'power+', '₹6.59', 'bike-sharing,', '4.3mn', '134k', 'maxima,', '₹38.10', '1-seater', 'brezza,', 'yachts,', 'fiat,', 'wrangler,', '₹71.59l', 'cheap,', '$600k', \"'vehicle\", '₹14k', \"crore'\", '379.4', '₹52.75', \"'mercedes\", \"autopilot'\", '12.2%', 'toyota’s', '15-min', '£395', '₹17.44l', 'gle400', '₹74.9', 'autoblog', \"'remote\", \"3d'\", '91k', '₹12.99', '570gt', '₹3.82', \"s'\", 'disruptor:', '$13.75', 'roborace', '$12mn', 'braking:', 'delphi,', '$21.78', '₹4.95l', \"pilot's\", '$38mn', '12.36%', 'brezza', 'i8,', 'grey-market', 'bladeglider', 'wars-themed', '9.62%', '₹13.72', '₹4.07', 'chiron,', \"beast'\", \"enfield's\", 'gt350', 'wasn’t', '₹77.50l', \"50'\", '911r', 'sonic-themed', 'lodgy', '₹9.74l', '₹1,486', 'super-rare', \"bus'\", '6,076', 'warplane-inspired', 'intelli-hybrid', 'gun-loaded', 'softbank-honda', \"'talking\", \"geneva's\", 'driver-assist', 'propilot', '£250,000', '₹1.06', 'masterplan:', \"'tesla\", \"crash'\", 'autopilot:', '₹65l', 'muscle,', 'wwii-themed', '820-hp', '₹11.99', '1.9l', \"'tesla's\", 'kabali-themed', 'twelve-seater', '$74,000', 'aeromobil', 'xkss', 'one-tonne', \"'alaskan'\", \"'roewe\", \"rx5'\", '₹7.82', 'park-themed', 'yzf-r3', '$18,900', \"'peel\", \"p50'\", 'multistrada', 'am-rb', 'hanergy', '₹6.25', '3-wheel', '$15b', 'bugatti,', 'hypercars', 'zagatos', '₹1.39', '0–100', '1.5s', 'gt12', 'a-class,', \"'sport\", '100-tonne', '1.45%', '₹5.1l', '22.4l', \"'12:\", 'k50', '$106k', '₹2.38', 'gt8', '₹5,177', 'ecosport', 'xg750r', 'baleno,', 'scorpio,', 'kwid,', '20,427', 's-cross', 'activa-i,', '₹50,255', '₹2.49l', '₹80.40', 'br-v', 'air-injection', '$2.2bn', '50,000th', '$45k', '₹16.78l', '₹8.58', \"next'\", '₹13.84', \"chrysler's\", '₹36.9', 'tuv300', 'mhawk100', '₹8.87', '₹3.89', '₹3.29cr', '20-feet-long,', '6-door', '₹13.07', '₹3.85cr', '₹3.20', 'keys,', 'ride-booking', 'bicycle-car', '37.5%', 'fy16', \"'regera'\", 'my17', '₹1.31', 'under-10s', 'spotify,', '250d', '₹34.9', 'nuvosport', '₹7.35', '₹53,887', 'martin,', \"'bajaj\", 'sq7', \"'vitara\", \"brezza'\", 'driveguard', 'lazareth', 'z125', '1.99-litre', 'xuv500', '₹38.9', 'siv-2', '₹8.47', '₹6.99', 'zica', 'hatchbacks,', '‘edition', 'e’', 'gtc4lusso', '₹3,507', '₹5.29', '14.1%', '₹8.9', 'mid-2016', \"'auto\", '₹98', '₹14.68l', \"'zica'\", '\"cars', 'heads\"', \"2015's\", 'motorscribes', 'kuv100', 'versys', 'klx110', '14th-straight', \"hyundai's\", 'msil', 'geete', 'minismart', '10.39%', '\"defeat', 'device\"', '250,', 'quadsport', 'z400', '₹72l', '₹29l', 'eyes-free', 'f-sleigh', 'two-wheelers,', 'lp580-2', \"gear'\"]\n"
          ],
          "name": "stdout"
        }
      ]
    },
    {
      "cell_type": "code",
      "metadata": {
        "id": "GOx3GCnqR7jj",
        "colab_type": "code",
        "colab": {}
      },
      "source": [
        "import numpy as np\n",
        "num_words = len(source_vocab.word2index)\n",
        "out_of_vocab = []\n",
        "source_embedding_matrix = np.zeros((num_words, 100))\n",
        "for j,k in source_vocab.word2index.items():\n",
        "  if k < num_words:\n",
        "    embedding_vector = word2Vec.get(j)\n",
        "    if embedding_vector is not None:\n",
        "      source_embedding_matrix[k] = embedding_vector\n",
        "    else:\n",
        "      out_of_vocab.append(j)"
      ],
      "execution_count": 0,
      "outputs": []
    },
    {
      "cell_type": "code",
      "metadata": {
        "id": "6cXC-S7fR7mG",
        "colab_type": "code",
        "colab": {}
      },
      "source": [
        ""
      ],
      "execution_count": 0,
      "outputs": []
    },
    {
      "cell_type": "code",
      "metadata": {
        "id": "_GvPdx8cR7o9",
        "colab_type": "code",
        "colab": {}
      },
      "source": [
        "RANDOM_SEED = 10\n",
        "np.random.seed(RANDOM_SEED)\n",
        "\n",
        "source_length = len(source_sequences)\n",
        "indices = np.random.permutation(source_length)\n",
        "\n",
        "\n",
        "training_indices = indices[:int(source_length)]\n",
        "val_indices = indices[int(source_length):]\n",
        "\n",
        "training_source = [source_sequences[i] for i in training_indices]\n",
        "\n",
        "\n",
        "training_target = [target_sequences[i] for i in training_indices]\n"
      ],
      "execution_count": 0,
      "outputs": []
    },
    {
      "cell_type": "code",
      "metadata": {
        "id": "gSV9ZIZ4R7rp",
        "colab_type": "code",
        "colab": {}
      },
      "source": [
        "def indexed_from_setence(vocab, sent):\n",
        "  return [vocab.word2index[w] for w in sent]"
      ],
      "execution_count": 0,
      "outputs": []
    },
    {
      "cell_type": "code",
      "metadata": {
        "id": "WT4SZsZhR7uU",
        "colab_type": "code",
        "colab": {}
      },
      "source": [
        "def tensor_from_sentence(vocab, sent, max_seq_length):\n",
        "  indexes = indexed_from_setence(vocab, sent)\n",
        "  indexes.append(EOS_idx)\n",
        "  indexes.insert(0,SOS_idx)\n",
        "  if len(indexes) < max_seq_length:\n",
        "    indexes += [PAD_idx] * (max_seq_length - len(indexes))\n",
        "  tensor = torch.LongTensor(indexes)\n",
        "  return tensor"
      ],
      "execution_count": 0,
      "outputs": []
    },
    {
      "cell_type": "code",
      "metadata": {
        "id": "ozl0ACJrR7es",
        "colab_type": "code",
        "colab": {}
      },
      "source": [
        "def tensor_from_pair(source_sequences, target_sequences, max_source_seq_length, max_target_seq_length):\n",
        "  source_tensor = tensor_from_sentence(source_vocab, source_sequences, max_source_seq_length).unsqueeze(1)\n",
        "  target_tensor = tensor_from_sentence(target_vocab, target_sequences, max_target_seq_length).unsqueeze(1)\n",
        "  return (source_tensor, target_tensor)"
      ],
      "execution_count": 0,
      "outputs": []
    },
    {
      "cell_type": "code",
      "metadata": {
        "id": "fHPPlWGPR7XV",
        "colab_type": "code",
        "outputId": "413902e8-db43-4d3a-c9bc-19edd7c49270",
        "colab": {
          "base_uri": "https://localhost:8080/",
          "height": 51
        }
      },
      "source": [
        "max_source_seq_length = max(len(s) for s in source_sequences) + 2\n",
        "max_target_seq_length = max(len(s) for s in target_sequences) + 2\n",
        "\n",
        "print(max_source_seq_length)\n",
        "print(max_target_seq_length)"
      ],
      "execution_count": 25,
      "outputs": [
        {
          "output_type": "stream",
          "text": [
            "83\n",
            "22\n"
          ],
          "name": "stdout"
        }
      ]
    },
    {
      "cell_type": "code",
      "metadata": {
        "id": "1Y4mNWFreMvN",
        "colab_type": "code",
        "colab": {}
      },
      "source": [
        "training_set = []\n",
        "for source, target in zip(training_source, training_target):\n",
        "  # print(source)\n",
        "  training_set.append(tensor_from_pair(source, target, max_source_seq_length, max_target_seq_length))\n",
        "\n",
        "X,y = zip(*training_set)\n",
        "X = torch.transpose(torch.cat(X, dim=-1), 1, 0)\n",
        "y = torch.transpose(torch.cat(y, dim=-1), 1, 0)"
      ],
      "execution_count": 0,
      "outputs": []
    },
    {
      "cell_type": "code",
      "metadata": {
        "id": "E2_kA3GaeM0W",
        "colab_type": "code",
        "outputId": "906881c6-6d25-4ead-b497-676ee97c2161",
        "colab": {
          "base_uri": "https://localhost:8080/",
          "height": 34
        }
      },
      "source": [
        "X.size()"
      ],
      "execution_count": 29,
      "outputs": [
        {
          "output_type": "execute_result",
          "data": {
            "text/plain": [
              "torch.Size([64094, 83])"
            ]
          },
          "metadata": {
            "tags": []
          },
          "execution_count": 29
        }
      ]
    },
    {
      "cell_type": "code",
      "metadata": {
        "id": "hXNHY2GYeM3m",
        "colab_type": "code",
        "outputId": "dcc32a4f-1b89-45a9-e48e-5d1f4dd0c3a7",
        "colab": {
          "base_uri": "https://localhost:8080/",
          "height": 68
        }
      },
      "source": [
        "y[0]"
      ],
      "execution_count": 30,
      "outputs": [
        {
          "output_type": "execute_result",
          "data": {
            "text/plain": [
              "tensor([    0,   296,   163,  1281,  1954,    16, 10438, 40905,    11,  2397,\n",
              "           74,  3643,     1,     2,     2,     2,     2,     2,     2,     2,\n",
              "            2,     2])"
            ]
          },
          "metadata": {
            "tags": []
          },
          "execution_count": 30
        }
      ]
    },
    {
      "cell_type": "code",
      "metadata": {
        "id": "uyjHYmoSeM7T",
        "colab_type": "code",
        "colab": {}
      },
      "source": [
        "import math\n",
        "def batch_generator(batch_indices, batch_size):\n",
        "    batches = math.ceil(len(batch_indices)/batch_size)\n",
        "    for i in range(batches):\n",
        "        batch_start = i*batch_size\n",
        "        batch_end = (i+1)*batch_size\n",
        "        if batch_end > len(batch_indices):\n",
        "            yield batch_indices[batch_start:]\n",
        "        else:\n",
        "            yield batch_indices[batch_start:batch_end]"
      ],
      "execution_count": 0,
      "outputs": []
    },
    {
      "cell_type": "code",
      "metadata": {
        "id": "h7qFP43_eM94",
        "colab_type": "code",
        "colab": {}
      },
      "source": [
        ""
      ],
      "execution_count": 0,
      "outputs": []
    },
    {
      "cell_type": "code",
      "metadata": {
        "id": "_q85shpOeMyr",
        "colab_type": "code",
        "colab": {}
      },
      "source": [
        ""
      ],
      "execution_count": 0,
      "outputs": []
    },
    {
      "cell_type": "code",
      "metadata": {
        "id": "JRfMNakG8jhJ",
        "colab_type": "code",
        "colab": {}
      },
      "source": [
        "import torch\n",
        "import torch.nn as nn\n",
        "import torch.nn.functional as F "
      ],
      "execution_count": 0,
      "outputs": []
    },
    {
      "cell_type": "code",
      "metadata": {
        "id": "jEM6X6hK8XlX",
        "colab_type": "code",
        "colab": {}
      },
      "source": [
        "class EncoderModel(nn.Module):\n",
        "  def __init__(self, dimension, encoder_lstm_units, num_layers, input_vocab_size):\n",
        "    super(EncoderModel, self).__init__()\n",
        "    self.encoder_lstm_units = encoder_lstm_units\n",
        "    self.num_layers = num_layers\n",
        "    self.dimension = dimension\n",
        "    self.embedding = nn.Embedding(input_vocab_size, dimension)\n",
        "    self.embedding.weights = torch.nn.Parameter(torch.from_numpy(source_embedding_matrix).to(device))\n",
        "    self.embedding.weight.requires_grad = True \n",
        "    # print(\"Encoder lstm\")\n",
        "    self.lstm = nn.LSTM(dimension, self.encoder_lstm_units, num_layers=num_layers, batch_first = True,bidirectional = True)\n",
        "    # print(\"Encoder lstm cleared\")\n",
        "    # print(self.lstm)\n",
        "  \n",
        "  def forward(self, x, hidden):\n",
        "    # print(\"i m here in forward\")\n",
        "    # print(\"initial_hidden_state \",hidden.size())\n",
        "    # print(x.size())\n",
        "    x = self.embedding(x)\n",
        "    # print(\"Embedding size in encoder \", x.size())\n",
        "    enoder_outputs, enoder_states = self.lstm(x, hidden)\n",
        "    # print(\"i m exiting forward\")\n",
        "    # print(\"enoder_outputs size in encoder \", enoder_outputs.size())\n",
        "    return enoder_outputs, enoder_states\n",
        "    \n",
        "  \n",
        "\n",
        "  def init_hidden(self, batch_size):\n",
        "    hidden = torch.zeros(self.num_layers*2, batch_size, self.encoder_lstm_units).to(device)\n",
        "    c = torch.zeros(self.num_layers*2, batch_size, self.encoder_lstm_units).to(device)\n",
        "\n",
        "    # print(\"hidden_states_in_size in encoder\",hidden.size())\n",
        "    return (hidden,c)"
      ],
      "execution_count": 0,
      "outputs": []
    },
    {
      "cell_type": "code",
      "metadata": {
        "id": "QlJ_yp9I-e8E",
        "colab_type": "code",
        "colab": {}
      },
      "source": [
        "# Birectional - lstm_units/2\n",
        "class AttentionModel(nn.Module):\n",
        "  def __init__(self, lstm_unit):\n",
        "    super(AttentionModel, self).__init__()\n",
        "    self.dense1 = nn.Linear(4*lstm_unit, lstm_unit)\n",
        "    self.tanh = nn.Tanh()\n",
        "    self.dense2 = nn.Linear(lstm_unit, 1)\n",
        "    self.softmax = nn.Softmax(dim=1)\n",
        "  def forward(self, encoder_outputs, decoder_input):\n",
        "    # encoder_outputs   # batch,input_seq_len,lstm_unit\n",
        "    # decoder_input     # batch,1,lstm_unit\n",
        "    # print(\"decoder_input \", decoder_input.size())\n",
        "    decoder_input = decoder_input.reshape(decoder_input.size(1), decoder_input.size(0), decoder_input.size(2))\n",
        "    # print(\"decoder_input \", decoder_input.size())\n",
        "    decoder_input = decoder_input.view(decoder_input.size(0),1,-1)\n",
        "    # print(\"new decoder_input \", decoder_input.size())\n",
        "    # print(\"encoder_outputs \",encoder_outputs.size())\n",
        "    modified_decoder_input = decoder_input.repeat(1, (encoder_outputs.size(1)), 1)\n",
        "    # print(\"modified_decoder_input \",modified_decoder_input.size())\n",
        "    concatenated = torch.cat((encoder_outputs,modified_decoder_input),dim=2) #batch,input_seq_len,2*lstm_unit\n",
        "    # print(\"concatenated \",concatenated.size())\n",
        "    # print(\"concatenated\")\n",
        "    dense1 = self.dense1(concatenated)               # batch,input_seq_len, lstm_unit\n",
        "    dense1 = self.tanh(dense1)\n",
        "    # print(\"dense1\")\n",
        "\n",
        "    dense2 = self.dense2(dense1)      #batch, input_seq_len, 1\n",
        "    # print(\"dense2 \", dense2.size())\n",
        "    # print(\"\")\n",
        "    alphas = self.softmax(dense2)\n",
        "    # print(\"alphas \",alphas.size())\n",
        "    # print(\"alphas\")\n",
        "    alphas = alphas.reshape(alphas.size(0), alphas.size(2), alphas.size(1))\n",
        "    context = torch.bmm(alphas, encoder_outputs)  # batch, input_seq_len, 1 * batch,input_seq_len,lstm_unit = batch, 1, lstm_unit\n",
        "    return context, alphas\n",
        "  "
      ],
      "execution_count": 0,
      "outputs": []
    },
    {
      "cell_type": "code",
      "metadata": {
        "id": "uh7OFYrDGL-B",
        "colab_type": "code",
        "colab": {}
      },
      "source": [
        "class DecoderModel(nn.Module):\n",
        "  def __init__(self, dimension, decoder_lstm_units, num_layers, output_vocab_size, attentionModel):\n",
        "    super(DecoderModel, self).__init__()\n",
        "    self.decoder_lstm_units = decoder_lstm_units\n",
        "    self.num_layers = num_layers\n",
        "    self.dimension = dimension\n",
        "    self.attentionModel = attentionModel\n",
        "    self.embedding = nn.Embedding(output_vocab_size, dimension)\n",
        "    self.embedding.weights = torch.nn.Parameter(torch.from_numpy(target_embedding_matrix).to(device))\n",
        "    self.embedding.weight.requires_grad = True \n",
        "\n",
        "    self.lstm = nn.LSTM((dimension+decoder_lstm_units*2), decoder_lstm_units, num_layers = num_layers,batch_first = True)\n",
        "    # print(\"decoder lstm cleared\")\n",
        "\n",
        "  def train(self, x, initial_hidden_state, encoder_output):\n",
        "    # print(\"Yes boy i m trying attention\")\n",
        "    context, alphas = self.attentionModel(encoder_output, initial_hidden_state[0]) #context -> batch,1,lstm_units\n",
        "    # print(\"alphas have been calculated anf even context has been returned\")\n",
        "    x = self.embedding(x).unsqueeze(1) #batch, 1, dimensions\n",
        "    context_concatenated = torch.cat((x, context), dim=2) #batch,1,dimensions+lstm_units\n",
        "    \n",
        "    decoder_output, decoder_states = self.lstm(context_concatenated, initial_hidden_state)\n",
        "    return decoder_output, decoder_states\n",
        "  \n",
        "\n",
        "  def init_hidden(self,batch_size):\n",
        "    hidden = torch.zeros(self.num_layers*1, batch_size, self.decoder_lstm_units).to(device)\n",
        "    c = torch.zeros(self.num_layers*1, batch_size, self.decoder_lstm_units).to(device)\n",
        "    # print(type(hidden))\n",
        "    return (hidden,c)   "
      ],
      "execution_count": 0,
      "outputs": []
    },
    {
      "cell_type": "code",
      "metadata": {
        "id": "eX8KdjegMJEX",
        "colab_type": "code",
        "colab": {}
      },
      "source": [
        "class Seq2Seq(nn.Module):\n",
        "  \n",
        "  def __init__(self, dimension, lstm_units, num_layers, output_vocab_size, input_vocab_size):\n",
        "    super(Seq2Seq, self).__init__()\n",
        "    self.encoder = EncoderModel(dimension, lstm_units, num_layers, input_vocab_size)\n",
        "    self.attention = AttentionModel(lstm_units)\n",
        "    self.decoder = DecoderModel(dimension, lstm_units, num_layers, output_vocab_size, self.attention)\n",
        "    self.dense = nn.Linear(lstm_units, output_vocab_size)\n",
        "    self.softmax = nn.Softmax()\n",
        "  \n",
        "  def encoder_forward(self, x):\n",
        "    batch_size = x.shape[0]\n",
        "    encoder_initial_state = self.encoder.init_hidden(batch_size)\n",
        "    # print(\"encoder_initial_state \",encoder_initial_state.size())\n",
        "    encoder_output, enoder_hidden_states = self.encoder(x, encoder_initial_state)\n",
        "    # print(\"Exiting encoder_forward\")\n",
        "    return encoder_output\n",
        "  \n",
        "  def forward_train(self, x, y):\n",
        "    # print(\"do i even exist?\")\n",
        "    batch_size = x.shape[0]\n",
        "    encoder_output = self.encoder_forward(x)\n",
        "    # print(\"do i even exist? part 2\")\n",
        "    decoder_states = self.decoder.init_hidden(batch_size)\n",
        "    H = []\n",
        "    for i in range(y.shape[1]):\n",
        "      decoder_input_single = y[:,i]\n",
        "      # print(decoder_input_single.size())\n",
        "      if i != 0:\n",
        "        z = random.random()\n",
        "        # print(z)\n",
        "        if z > 0.0:\n",
        "          decoder_input_single = y_predicted\n",
        "          # print(\"Second\",decoder_input_single.size())\n",
        "\n",
        "        else :\n",
        "          decoder_input_single = y[:,i]\n",
        "      decoder_output, decoder_states = self.decoder.train(decoder_input_single, decoder_states, encoder_output) #batch, 1, lstm_units\n",
        "      h = self.dense(decoder_output.squeeze(1)) #batch,output_vocab_size\n",
        "      H.append(h.unsqueeze(2))\n",
        "      y_predicted = self.softmax(h)\n",
        "      _, y_predicted = torch.max(y_predicted, dim=1)\n",
        "    return torch.cat(H, dim=2)\n",
        "  \n",
        "\n",
        "  def predict(self, x):\n",
        "    batch_size = x.shape[0]\n",
        "    encoder_output = self.encoder_forward(x)\n",
        "    # print(\"got encoder_output\")\n",
        "    decoder_states = self.decoder.init_hidden(batch_size)\n",
        "    # print(\"Got decoder_states\")\n",
        "    current_y = SOS_idx\n",
        "    result = [current_y]\n",
        "    counter = 0\n",
        "    while current_y != EOS_idx and counter<=20:\n",
        "      # print(\"I m hee boys \",counter)\n",
        "      inpu = torch.tensor([current_y]).to(device)\n",
        "      # print(inpu)\n",
        "      decoder_output, decoder_hidden_states = self.decoder.train(inpu, decoder_states, encoder_output)\n",
        "      \n",
        "      # print(\"Before passing to dense wile testing \",decoder_output.size())\n",
        "      h = self.dense(decoder_output.squeeze(1))\n",
        "      # print(\"h before squeezing \",h.size())\n",
        "      h = h.squeeze(0)\n",
        "      # print(\"After passing to dense wile testing \",h.size())\n",
        "      y = self.softmax(h)\n",
        "      _, current_y = torch.max(y, dim=0)\n",
        "      # print(current_y)\n",
        "      # print(type(current_y))\n",
        "      current_y = current_y.item()\n",
        "      result.append(current_y)\n",
        "      counter += 1\n",
        "    return result"
      ],
      "execution_count": 0,
      "outputs": []
    },
    {
      "cell_type": "code",
      "metadata": {
        "id": "dfBvmuFSgB7W",
        "colab_type": "code",
        "outputId": "c13106b8-be46-4f9b-e5b5-16b33b0877b3",
        "colab": {
          "base_uri": "https://localhost:8080/",
          "height": 425
        }
      },
      "source": [
        "from torch.optim import Adam\n",
        "model = Seq2Seq(dimension=100, lstm_units=256, num_layers=2, output_vocab_size=len(target_vocab.word2index), input_vocab_size=len(source_vocab.word2index))\n",
        "optim = Adam(model.parameters(), lr=0.001)\n",
        "cross_entropy = nn.CrossEntropyLoss()\n",
        "model.to(device)"
      ],
      "execution_count": 146,
      "outputs": [
        {
          "output_type": "execute_result",
          "data": {
            "text/plain": [
              "Seq2Seq(\n",
              "  (encoder): EncoderModel(\n",
              "    (embedding): Embedding(189207, 100)\n",
              "    (lstm): LSTM(100, 256, num_layers=2, batch_first=True, bidirectional=True)\n",
              "  )\n",
              "  (attention): AttentionModel(\n",
              "    (dense1): Linear(in_features=1024, out_features=256, bias=True)\n",
              "    (tanh): Tanh()\n",
              "    (dense2): Linear(in_features=256, out_features=1, bias=True)\n",
              "    (softmax): Softmax(dim=1)\n",
              "  )\n",
              "  (decoder): DecoderModel(\n",
              "    (attentionModel): AttentionModel(\n",
              "      (dense1): Linear(in_features=1024, out_features=256, bias=True)\n",
              "      (tanh): Tanh()\n",
              "      (dense2): Linear(in_features=256, out_features=1, bias=True)\n",
              "      (softmax): Softmax(dim=1)\n",
              "    )\n",
              "    (embedding): Embedding(57772, 100)\n",
              "    (lstm): LSTM(612, 256, num_layers=2, batch_first=True)\n",
              "  )\n",
              "  (dense): Linear(in_features=256, out_features=57772, bias=True)\n",
              "  (softmax): Softmax(dim=None)\n",
              ")"
            ]
          },
          "metadata": {
            "tags": []
          },
          "execution_count": 146
        }
      ]
    },
    {
      "cell_type": "code",
      "metadata": {
        "id": "sX42lb8QnQo7",
        "colab_type": "code",
        "colab": {
          "base_uri": "https://localhost:8080/",
          "height": 275
        },
        "outputId": "05ce725a-d108-4036-b7b1-ebb7c6db36fc"
      },
      "source": [
        "# model.load_state_dict(torch.load('final_model.pt'))\n",
        "# model.eval()\n",
        "dataset.count"
      ],
      "execution_count": 139,
      "outputs": [
        {
          "output_type": "execute_result",
          "data": {
            "text/plain": [
              "<bound method DataFrame.count of                                                headlines                                            article\n",
              "0      India reports more than 5,000 coronavirus case...  The total number of coronavirus cases in India...\n",
              "1      Because of few jokers, COVID-19 is spreading: ...  Salman Khan has condemned the attack on medica...\n",
              "2      45% districts without a COVID-19 case, 27 dist...  The government on Thursday announced that 45% ...\n",
              "3      68-yr-old UP man suffering from cold declared ...  A 68-year-old man from Uttar Pradesh's Amroha,...\n",
              "4      Lockdown is like pause button, will not defeat...  Addressing the media via video on Thursday, Co...\n",
              "...                                                  ...                                                ...\n",
              "64089   Lamborghini Huracan LP580-2 launched at ₹2.99 cr  Italian luxury car maker Lamborghini on Friday...\n",
              "64090           'Top Gear' set to return to BBC on May 8  Automobile TV series 'Top Gear' will return to...\n",
              "64091        Tata Motors set to launch all-new Zica soon  The all-new Tata Motors Zica is set to make it...\n",
              "64092         After BMW, Audi to hike prices by up to 5%  Citing pressure on its business due to economi...\n",
              "64093         Triumph launches motorcycle range in India  Almost two years after its appearance at the 2...\n",
              "\n",
              "[64094 rows x 2 columns]>"
            ]
          },
          "metadata": {
            "tags": []
          },
          "execution_count": 139
        }
      ]
    },
    {
      "cell_type": "code",
      "metadata": {
        "id": "3DWT97ojGUwS",
        "colab_type": "code",
        "outputId": "6032cc26-9c0d-4ee9-d2ea-74bd8d7fe898",
        "colab": {
          "base_uri": "https://localhost:8080/",
          "height": 269,
          "referenced_widgets": [
            "0a3b98bc25ff43ee935d8059e68f0c1c",
            "4c34a09c591c43c5a10ffecc3e789f22",
            "31967aab6dc244fba05a06239a3420db",
            "3963a4a8dcee4f2d8deb9a36feef6e3e",
            "1422e8958c734022979dece0364fba49",
            "83413e99f6044df6897d3269cae7dfc8",
            "371f7e6c8c624a23a1ed4f7524b3dc9e",
            "351e88d2bf2f46b597c85bca51c13c61",
            "d3c796b65200458280a6f5252410853f",
            "080b0334587746db9e0517e7d6587c85",
            "2842fc16448c4d2bb948f585e407d778",
            "6b8e539d17964906a9fb48850c2e846e",
            "c8e2c1cbeb6440429a84b878aea5fa8c",
            "2d803eccc18a468dada7ff09f3741e18",
            "95aa630de4f44e8e89c63d1b1c2bbdec",
            "7230d28d19ab47d788cc1b16e82a25ce",
            "6dd0c6493ee6452da13589cd09501b5a",
            "6282fe7dd35b4b21a32dc99066e84ab8",
            "815e9928732b4f6caa2241a907ed8e06",
            "0cbba9a3937e418cab6cda856c68eb00",
            "b4a1d3b1c36340cdb9ba0e776ad1958e",
            "e6e08973d4344b9a91c55a1b0c82e5c5",
            "9316779e49884298a038f426dcf78923",
            "0257b796f33c442298b8235b3888ac63"
          ]
        }
      },
      "source": [
        "from tqdm import tqdm_notebook as tqdm\n",
        "\n",
        "BATCH_SIZE = 64\n",
        "total_batches = int(len(X)/BATCH_SIZE) + 1\n",
        "indices = list(range(len(X)))\n",
        "\n",
        "for epoch in range(35):\n",
        "    # Training\n",
        "    total_loss = 0.0\n",
        "    for step, batch in tqdm(enumerate(batch_generator(indices, BATCH_SIZE)),\n",
        "                            desc='Training epoch {}'.format(epoch+1),\n",
        "                            total=total_batches):\n",
        "      \n",
        "        x = X[batch, :].to(device)\n",
        "        # y for teacher forcing is all sequence without a last element\n",
        "        y_tf = y[batch, :-1].to(device)\n",
        "        # y for loss calculation is all sequence without a last element\n",
        "        y_true = y[batch, 1:].to(device)\n",
        "        # (batch_size, vocab_size, seq_length)\n",
        "        H = model.forward_train(x, y_tf)\n",
        "        # print(H.shape)\n",
        "        # print(y_true.size())\n",
        "        loss = cross_entropy(H, y_true)\n",
        "\n",
        "        assert loss.item() > 0\n",
        "\n",
        "        optim.zero_grad()\n",
        "        loss.backward()\n",
        "        optim.step()\n",
        "        total_loss += loss.item()\n",
        "        \n",
        "\n",
        "    print('Epoch {} training is finished, loss: {:.4f}'.format(epoch+1, total_loss/total_batches))"
      ],
      "execution_count": 0,
      "outputs": [
        {
          "output_type": "stream",
          "text": [
            "/usr/local/lib/python3.6/dist-packages/ipykernel_launcher.py:12: TqdmDeprecationWarning: This function will be removed in tqdm==5.0.0\n",
            "Please use `tqdm.notebook.tqdm` instead of `tqdm.tqdm_notebook`\n",
            "  if sys.path[0] == '':\n"
          ],
          "name": "stderr"
        },
        {
          "output_type": "display_data",
          "data": {
            "application/vnd.jupyter.widget-view+json": {
              "model_id": "0a3b98bc25ff43ee935d8059e68f0c1c",
              "version_minor": 0,
              "version_major": 2
            },
            "text/plain": [
              "HBox(children=(IntProgress(value=0, description='Training epoch 1', max=1002, style=ProgressStyle(description_…"
            ]
          },
          "metadata": {
            "tags": []
          }
        },
        {
          "output_type": "stream",
          "text": [
            "/usr/local/lib/python3.6/dist-packages/ipykernel_launcher.py:41: UserWarning: Implicit dimension choice for softmax has been deprecated. Change the call to include dim=X as an argument.\n"
          ],
          "name": "stderr"
        },
        {
          "output_type": "stream",
          "text": [
            "\n",
            "Epoch 1 training is finished, loss: 4.5758\n"
          ],
          "name": "stdout"
        },
        {
          "output_type": "display_data",
          "data": {
            "application/vnd.jupyter.widget-view+json": {
              "model_id": "d3c796b65200458280a6f5252410853f",
              "version_minor": 0,
              "version_major": 2
            },
            "text/plain": [
              "HBox(children=(IntProgress(value=0, description='Training epoch 2', max=1002, style=ProgressStyle(description_…"
            ]
          },
          "metadata": {
            "tags": []
          }
        },
        {
          "output_type": "stream",
          "text": [
            "\n",
            "Epoch 2 training is finished, loss: 4.2988\n"
          ],
          "name": "stdout"
        },
        {
          "output_type": "display_data",
          "data": {
            "application/vnd.jupyter.widget-view+json": {
              "model_id": "6dd0c6493ee6452da13589cd09501b5a",
              "version_minor": 0,
              "version_major": 2
            },
            "text/plain": [
              "HBox(children=(IntProgress(value=0, description='Training epoch 3', max=1002, style=ProgressStyle(description_…"
            ]
          },
          "metadata": {
            "tags": []
          }
        }
      ]
    },
    {
      "cell_type": "code",
      "metadata": {
        "id": "azfPfxbhEnzj",
        "colab_type": "code",
        "colab": {
          "base_uri": "https://localhost:8080/",
          "height": 34
        },
        "outputId": "37669615-8e58-459b-c1fd-98fb94d069a9"
      },
      "source": [
        "alphas = torch.zeros(64, 83, 1)\n",
        "alphas = F.softmax(alphas, dim=1)\n",
        "print(alphas.size())"
      ],
      "execution_count": 100,
      "outputs": [
        {
          "output_type": "stream",
          "text": [
            "torch.Size([64, 83, 1])\n"
          ],
          "name": "stdout"
        }
      ]
    },
    {
      "cell_type": "code",
      "metadata": {
        "id": "2HBfvyqIHFKt",
        "colab_type": "code",
        "outputId": "e0b1ce27-246e-4cec-908c-97b9546947d7",
        "colab": {
          "base_uri": "https://localhost:8080/",
          "height": 425
        }
      },
      "source": [
        "model.parameters"
      ],
      "execution_count": 123,
      "outputs": [
        {
          "output_type": "execute_result",
          "data": {
            "text/plain": [
              "<bound method Module.parameters of Seq2Seq(\n",
              "  (encoder): EncoderModel(\n",
              "    (embedding): Embedding(189207, 100)\n",
              "    (lstm): LSTM(100, 256, num_layers=2, batch_first=True, bidirectional=True)\n",
              "  )\n",
              "  (attention): AttentionModel(\n",
              "    (dense1): Linear(in_features=1024, out_features=256, bias=True)\n",
              "    (tanh): Tanh()\n",
              "    (dense2): Linear(in_features=256, out_features=1, bias=True)\n",
              "    (softmax): Softmax(dim=None)\n",
              "  )\n",
              "  (decoder): DecoderModel(\n",
              "    (attentionModel): AttentionModel(\n",
              "      (dense1): Linear(in_features=1024, out_features=256, bias=True)\n",
              "      (tanh): Tanh()\n",
              "      (dense2): Linear(in_features=256, out_features=1, bias=True)\n",
              "      (softmax): Softmax(dim=None)\n",
              "    )\n",
              "    (embedding): Embedding(57772, 100)\n",
              "    (lstm): LSTM(612, 256, num_layers=2, batch_first=True)\n",
              "  )\n",
              "  (dense): Linear(in_features=256, out_features=57772, bias=True)\n",
              "  (softmax): Softmax(dim=None)\n",
              ")>"
            ]
          },
          "metadata": {
            "tags": []
          },
          "execution_count": 123
        }
      ]
    },
    {
      "cell_type": "code",
      "metadata": {
        "id": "px8gUX1sNRTU",
        "colab_type": "code",
        "colab": {}
      },
      "source": [
        "import random"
      ],
      "execution_count": 0,
      "outputs": []
    },
    {
      "cell_type": "code",
      "metadata": {
        "id": "1x4ODKuEcyAB",
        "colab_type": "code",
        "colab": {}
      },
      "source": [
        "# torch.save(model.state_dict(),'finalmodel.pt')"
      ],
      "execution_count": 0,
      "outputs": []
    },
    {
      "cell_type": "code",
      "metadata": {
        "id": "wW7DdRYLdb45",
        "colab_type": "code",
        "colab": {}
      },
      "source": [
        "# from google.colab import files\n",
        "# files.download('finalmodel.pt')"
      ],
      "execution_count": 0,
      "outputs": []
    },
    {
      "cell_type": "code",
      "metadata": {
        "id": "BKmwfqNqYEyf",
        "colab_type": "code",
        "outputId": "6eae7fd2-ca00-4846-9270-10049d336756",
        "colab": {
          "base_uri": "https://localhost:8080/",
          "height": 122
        }
      },
      "source": [
        "# from google.colab import drive\n",
        "# drive.mount('/content/gdrive')"
      ],
      "execution_count": 0,
      "outputs": [
        {
          "output_type": "stream",
          "text": [
            "Go to this URL in a browser: https://accounts.google.com/o/oauth2/auth?client_id=947318989803-6bn6qk8qdgf4n4g3pfee6491hc0brc4i.apps.googleusercontent.com&redirect_uri=urn%3aietf%3awg%3aoauth%3a2.0%3aoob&response_type=code&scope=email%20https%3a%2f%2fwww.googleapis.com%2fauth%2fdocs.test%20https%3a%2f%2fwww.googleapis.com%2fauth%2fdrive%20https%3a%2f%2fwww.googleapis.com%2fauth%2fdrive.photos.readonly%20https%3a%2f%2fwww.googleapis.com%2fauth%2fpeopleapi.readonly\n",
            "\n",
            "Enter your authorization code:\n",
            "··········\n",
            "Mounted at /content/gdrive\n"
          ],
          "name": "stdout"
        }
      ]
    },
    {
      "cell_type": "code",
      "metadata": {
        "id": "SsKtHtN9ZbfA",
        "colab_type": "code",
        "colab": {}
      },
      "source": [
        "# model_save_name = 'final_model.pt'\n",
        "# path = F\"/content/gdrive/My Drive/{model_save_name}\" \n",
        "# torch.save(model.state_dict(), path)"
      ],
      "execution_count": 0,
      "outputs": []
    },
    {
      "cell_type": "code",
      "metadata": {
        "id": "gABJDmC8ZmmG",
        "colab_type": "code",
        "outputId": "62fdf478-df2b-4574-973a-813c3e0438ed",
        "colab": {
          "base_uri": "https://localhost:8080/",
          "height": 425
        }
      },
      "source": [
        "model"
      ],
      "execution_count": 0,
      "outputs": [
        {
          "output_type": "execute_result",
          "data": {
            "text/plain": [
              "Seq2Seq(\n",
              "  (encoder): EncoderModel(\n",
              "    (embedding): Embedding(189207, 100)\n",
              "    (lstm): LSTM(100, 128, batch_first=True, bidirectional=True)\n",
              "  )\n",
              "  (attention): AttentionModel(\n",
              "    (dense1): Linear(in_features=512, out_features=256, bias=True)\n",
              "    (tanh): Tanh()\n",
              "    (dense2): Linear(in_features=256, out_features=1, bias=True)\n",
              "    (softmax): Softmax(dim=None)\n",
              "  )\n",
              "  (decoder): DecoderModel(\n",
              "    (attentionModel): AttentionModel(\n",
              "      (dense1): Linear(in_features=512, out_features=256, bias=True)\n",
              "      (tanh): Tanh()\n",
              "      (dense2): Linear(in_features=256, out_features=1, bias=True)\n",
              "      (softmax): Softmax(dim=None)\n",
              "    )\n",
              "    (embedding): Embedding(57772, 100)\n",
              "    (lstm): LSTM(356, 256, batch_first=True)\n",
              "  )\n",
              "  (dense): Linear(in_features=256, out_features=57772, bias=True)\n",
              "  (softmax): Softmax(dim=None)\n",
              ")"
            ]
          },
          "metadata": {
            "tags": []
          },
          "execution_count": 43
        }
      ]
    },
    {
      "cell_type": "code",
      "metadata": {
        "id": "pHRxn7fJnvZ7",
        "colab_type": "code",
        "outputId": "015ecae3-7bd9-403b-8f75-d8049bd222a6",
        "colab": {
          "base_uri": "https://localhost:8080/",
          "height": 530
        }
      },
      "source": [
        "for i,x in enumerate(source_sequences):\n",
        "  if i<50005 and i > 50000:\n",
        "    print(\"Article is : \")\n",
        "    # print(' '.join(x))\n",
        "    print(\"----------------------------------------\")\n",
        "    a = tensor_from_sentence(source_vocab, x, max_source_seq_length)\n",
        "    # print(a.size())\n",
        "    y = model.predict(a.to(device).unsqueeze(0))\n",
        "    headline = ' '.join(target_vocab.unidex_words(y[1:-1]))\n",
        "    print(\"Original headline : \")\n",
        "    print(dataset['article'][i])\n",
        "    print(\"My headline : \")\n",
        "    print(headline)\n",
        "    print(\"----------------------------------------\")"
      ],
      "execution_count": 0,
      "outputs": [
        {
          "output_type": "stream",
          "text": [
            "Article is : \n",
            "----------------------------------------\n",
            "Original headline : \n",
            "As per a study by the University of British Columbia, if unchecked, global warming will cause irreversible damage to marine life in the oceans. This, in turn, will force fish to search for cooler waters, destroying valuable coral reefs. These adverse effects of global warming can be prevented by keeping global average temperatures within 2 degrees Celsius above pre-industrial temperatures. \n",
            "My headline : \n",
            "marine countries: 2018, 29,000 2018, 29,000 2018, 29,000 2018, 29,000 2018, 29,000 2018, 29,000 2018, 29,000 2018, 29,000 2018, 29,000\n",
            "----------------------------------------\n",
            "Article is : \n",
            "----------------------------------------\n",
            "Original headline : \n",
            "European Space Agency's spacecraft Philae that landed on a comet has found some organic material on its surface, indicating an abundance of alien microbial life. As per reports, the organic-rich black crust of the comet, named 67P/Churyumov-Gerasimenko, was likely caused by microorganisms living beneath an icy surface. Philae had landed on the comet in November last year. \n",
            "My headline : \n",
            "philae goa equally escaping goa equally escaping goa equally escaping goa equally escaping goa equally escaping goa equally escaping goa\n",
            "----------------------------------------\n",
            "Article is : \n",
            "----------------------------------------\n",
            "Original headline : \n",
            "Aravind P, a foreign language teacher from Coimbatore, has got into the Guinness Book of World Records for learning the longest binary sequence of 270 digits. Aravind was given one minute to observe the binary sequence, and was then asked to shut his eyes and recall the sequence. There was no time limit set for recalling the sequence.\n",
            "My headline : \n",
            "man man man man man man man man man man man man man man man man man man man man\n",
            "----------------------------------------\n",
            "Article is : \n",
            "----------------------------------------\n"
          ],
          "name": "stdout"
        },
        {
          "output_type": "stream",
          "text": [
            "/usr/local/lib/python3.6/dist-packages/ipykernel_launcher.py:66: UserWarning: Implicit dimension choice for softmax has been deprecated. Change the call to include dim=X as an argument.\n"
          ],
          "name": "stderr"
        },
        {
          "output_type": "stream",
          "text": [
            "Original headline : \n",
            "The trailer of 'He Named Me Malala', a documentary on Nobel Peace Prize winner Malala Yousafzai, has been unveiled on YouTube. The documentary, directed by Davis Guggenheim, offers a look into Malala's life before and after the Taliban attack wherein she was severely wounded by a gunshot. The film underscores the importance and influence of Malala's family throughout her journey.\n",
            "My headline : \n",
            "trailer world world world world world world world world world world world world world world world world world world world\n",
            "----------------------------------------\n"
          ],
          "name": "stdout"
        }
      ]
    },
    {
      "cell_type": "code",
      "metadata": {
        "id": "HObgCmD4oapD",
        "colab_type": "code",
        "outputId": "6712fc5b-6adc-463c-d6a2-f7b97abc2a73",
        "colab": {
          "base_uri": "https://localhost:8080/",
          "height": 34
        }
      },
      "source": [
        "max_source_seq_length"
      ],
      "execution_count": 0,
      "outputs": [
        {
          "output_type": "execute_result",
          "data": {
            "text/plain": [
              "83"
            ]
          },
          "metadata": {
            "tags": []
          },
          "execution_count": 51
        }
      ]
    },
    {
      "cell_type": "code",
      "metadata": {
        "id": "RONe8y_sq_0a",
        "colab_type": "code",
        "outputId": "4796839b-e614-4eed-d1ab-dbe9a53e2567",
        "colab": {
          "base_uri": "https://localhost:8080/",
          "height": 34
        }
      },
      "source": [
        "import random\n",
        "random.random()"
      ],
      "execution_count": 0,
      "outputs": [
        {
          "output_type": "execute_result",
          "data": {
            "text/plain": [
              "0.2478203541027495"
            ]
          },
          "metadata": {
            "tags": []
          },
          "execution_count": 119
        }
      ]
    },
    {
      "cell_type": "code",
      "metadata": {
        "id": "6YqXPIS-yRzu",
        "colab_type": "code",
        "colab": {}
      },
      "source": [
        "a = torch.zeros(2,2,12)"
      ],
      "execution_count": 0,
      "outputs": []
    },
    {
      "cell_type": "code",
      "metadata": {
        "id": "sFCP4bzdB0_E",
        "colab_type": "code",
        "colab": {
          "base_uri": "https://localhost:8080/",
          "height": 34
        },
        "outputId": "5f5562b2-39a8-4318-eec7-e94935d03590"
      },
      "source": [
        "a.view(2,1,-1).size()"
      ],
      "execution_count": 60,
      "outputs": [
        {
          "output_type": "execute_result",
          "data": {
            "text/plain": [
              "torch.Size([2, 1, 24])"
            ]
          },
          "metadata": {
            "tags": []
          },
          "execution_count": 60
        }
      ]
    },
    {
      "cell_type": "code",
      "metadata": {
        "id": "RNhdlq6TCBmr",
        "colab_type": "code",
        "colab": {}
      },
      "source": [
        ""
      ],
      "execution_count": 0,
      "outputs": []
    }
  ]
}